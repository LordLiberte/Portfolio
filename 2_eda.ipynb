{
 "cells": [
  {
   "cell_type": "markdown",
   "metadata": {},
   "source": [
    "# Objetivos de la práctica\n",
    "\n",
    "En esta actividad propone desarrollar un proyecto de Ciencia de Datos respecto a el uso de bicicletas por parte de una empresa."
   ]
  },
  {
   "cell_type": "code",
   "execution_count": null,
   "metadata": {},
   "outputs": [],
   "source": [
    "import pandas as pd\n",
    "import sqlite3\n",
    "import os\n",
    "print(os.getcwd())\n",
    "os.chdir('./../')\n",
    "print(os.getcwd())\n",
    "import matplotlib.pyplot as plt"
   ]
  },
  {
   "cell_type": "markdown",
   "metadata": {},
   "source": [
    "# Carga y análisis de datos\n",
    "\n",
    "Lo primero es comprender el problema desde la fuente de datos original\n"
   ]
  },
  {
   "cell_type": "markdown",
   "metadata": {},
   "source": [
    "## Descarga de uso de bicis\n",
    "\n",
    "https://valencia.opendatasoft.com/pages/home/\n",
    "\n",
    "https://valencia.opendatasoft.com/explore/dataset/valenbisi-disponibilitat-valenbisi-dsiponibilidad/table/?flg=es-es\n"
   ]
  },
  {
   "cell_type": "code",
   "execution_count": null,
   "metadata": {},
   "outputs": [],
   "source": [
    "dfb = pd.read_csv('./data/raw/usobici_raw.csv')\n",
    "dfb.tail()"
   ]
  },
  {
   "cell_type": "code",
   "execution_count": null,
   "metadata": {},
   "outputs": [],
   "source": [
    "dfb.shape"
   ]
  },
  {
   "cell_type": "code",
   "execution_count": null,
   "metadata": {},
   "outputs": [],
   "source": [
    "dfb.describe(include='all')"
   ]
  },
  {
   "cell_type": "code",
   "execution_count": null,
   "metadata": {},
   "outputs": [],
   "source": [
    "# Tipos de datos en pandas\n",
    "dfb.dtypes"
   ]
  },
  {
   "cell_type": "code",
   "execution_count": null,
   "metadata": {},
   "outputs": [],
   "source": [
    "# Conversión de la columna fecha\n",
    "dfb[\"updated\"] = pd.to_datetime(dfb.updated)\n",
    "# Rango temporal de la muestra\n",
    "print(dfb[\"updated\"].min(), dfb[\"updated\"].max())"
   ]
  },
  {
   "cell_type": "code",
   "execution_count": null,
   "metadata": {},
   "outputs": [],
   "source": [
    "dfb[\"address\"].unique().shape[0]"
   ]
  },
  {
   "cell_type": "markdown",
   "metadata": {},
   "source": [
    "## Datos de estaciones"
   ]
  },
  {
   "cell_type": "code",
   "execution_count": null,
   "metadata": {},
   "outputs": [],
   "source": [
    "dfe = pd.read_csv('./data/interim/estaciones.csv')\n",
    "dfe.tail()"
   ]
  },
  {
   "cell_type": "markdown",
   "metadata": {},
   "source": [
    "## Descarga de AEMET\n",
    "\n",
    "https://opendata.aemet.es/centrodedescargas/inicio\n",
    "\n",
    "https://opendata.aemet.es/opendata/api/observacion/convencional/todas\n",
    "\n",
    "aemet_metadata.json\n"
   ]
  },
  {
   "cell_type": "code",
   "execution_count": null,
   "metadata": {},
   "outputs": [],
   "source": [
    "dfm = pd.read_csv('./data/raw/aemet.csv')\n",
    "dfm.tail()"
   ]
  },
  {
   "cell_type": "code",
   "execution_count": null,
   "metadata": {},
   "outputs": [],
   "source": [
    "dfm.shape"
   ]
  },
  {
   "cell_type": "code",
   "execution_count": null,
   "metadata": {},
   "outputs": [],
   "source": [
    "dfm.describe(include='all')"
   ]
  },
  {
   "cell_type": "code",
   "execution_count": null,
   "metadata": {},
   "outputs": [],
   "source": [
    "dfm.dtypes"
   ]
  },
  {
   "cell_type": "code",
   "execution_count": null,
   "metadata": {},
   "outputs": [],
   "source": [
    "# Conversión de la columna updated\n",
    "dfm[\"fecha\"] = pd.to_datetime(dfm.fecha)\n",
    "# Rango temporal de la muestra\n",
    "print(dfm[\"fecha\"].min(), dfm[\"fecha\"].max())"
   ]
  },
  {
   "cell_type": "code",
   "execution_count": null,
   "metadata": {},
   "outputs": [],
   "source": [
    "dfm[\"ubi\"].unique().shape[0]"
   ]
  },
  {
   "cell_type": "code",
   "execution_count": null,
   "metadata": {},
   "outputs": [],
   "source": [
    "# Búsqueda de datos faltantes\n",
    "sert = pd.date_range(start=dfm['fecha'].min(), \n",
    "                     end=dfm['fecha'].max(), freq='h')\n",
    "data = {\n",
    "    'datetime': sert,\n",
    "    'value': range(len(sert))\n",
    "}\n",
    "df = pd.DataFrame(data)\n",
    "full_range_df = pd.DataFrame(sert, columns=['fecha'])\n",
    "merged_df = full_range_df.merge(dfm, on='fecha', how='left')\n",
    "missing_data = merged_df[merged_df['tamin'].isna()]\n",
    "print(\"Registros faltantes:\")\n",
    "print(missing_data)"
   ]
  },
  {
   "cell_type": "markdown",
   "metadata": {},
   "source": [
    "# Integración de datos\n",
    "\n",
    "Los datos tienen una muestra que es una selección de estaciones del barrio de Ruzafa."
   ]
  },
  {
   "cell_type": "code",
   "execution_count": null,
   "metadata": {},
   "outputs": [],
   "source": [
    "dfb = pd.read_csv('./data/interim/usoestameteo.csv')\n",
    "dfb.tail()"
   ]
  },
  {
   "cell_type": "code",
   "execution_count": null,
   "metadata": {},
   "outputs": [],
   "source": [
    "# Estructura del DF\n",
    "dfb.shape, dfb.columns"
   ]
  },
  {
   "cell_type": "code",
   "execution_count": null,
   "metadata": {},
   "outputs": [],
   "source": [
    "dfb.head()"
   ]
  },
  {
   "cell_type": "code",
   "execution_count": null,
   "metadata": {},
   "outputs": [],
   "source": [
    "# Conversión de la columna updated\n",
    "dfb[\"fecha\"] = pd.to_datetime(dfb.fecha)\n",
    "# Rango temporal de la muestra\n",
    "print(dfb[\"fecha\"].min(), dfb[\"fecha\"].max())"
   ]
  },
  {
   "cell_type": "code",
   "execution_count": null,
   "metadata": {},
   "outputs": [],
   "source": [
    "dfb.sort_values(\"fecha\", ascending=True, inplace=True)\n",
    "dfb.tail()"
   ]
  },
  {
   "cell_type": "code",
   "execution_count": null,
   "metadata": {},
   "outputs": [],
   "source": [
    "# Visualizar datos nulos por columnas\n",
    "dfb.isna().sum()"
   ]
  },
  {
   "cell_type": "code",
   "execution_count": null,
   "metadata": {},
   "outputs": [],
   "source": [
    "# Identificar las filas que tienen valores nulos \n",
    "# y conocer su distribución en la serie revisar variables: \n",
    "# count_out, address\n",
    "dfb.loc[dfb['nombre'].isna(), ['fecha', 'count_out', 'nombre']]"
   ]
  },
  {
   "cell_type": "markdown",
   "metadata": {},
   "source": [
    "# Eliminar valores nulos"
   ]
  },
  {
   "cell_type": "code",
   "execution_count": null,
   "metadata": {},
   "outputs": [],
   "source": [
    "# No lo hacemos persistente el cambio, \n",
    "# solo muestra el df total resultado tras eliminar\n",
    "dfb.dropna(how='any')['nombre'].value_counts().sort_index()"
   ]
  },
  {
   "cell_type": "code",
   "execution_count": null,
   "metadata": {},
   "outputs": [],
   "source": [
    "# en caso de haber nulos eliminaría los registros\n",
    "df2 = dfb.dropna(how='any').copy()\n",
    "df2.shape"
   ]
  },
  {
   "cell_type": "code",
   "execution_count": null,
   "metadata": {},
   "outputs": [],
   "source": [
    "df2.isna().sum()"
   ]
  },
  {
   "cell_type": "markdown",
   "metadata": {},
   "source": [
    "# Análisis exploratorio"
   ]
  },
  {
   "cell_type": "code",
   "execution_count": null,
   "metadata": {},
   "outputs": [],
   "source": [
    "df2 = pd.read_csv('./data/interim/usobarriosmeteo.csv')\n",
    "df2.tail()"
   ]
  },
  {
   "cell_type": "code",
   "execution_count": null,
   "metadata": {},
   "outputs": [],
   "source": [
    "var_analisis = \"name\""
   ]
  },
  {
   "cell_type": "code",
   "execution_count": null,
   "metadata": {},
   "outputs": [],
   "source": [
    "# Número de estaciones disponibles\n",
    "# Estaciones únicas\n",
    "df2[var_analisis].unique()\n",
    "# Número de estaciones disponibles\n",
    "# df2[var_analisis].unique().shape[0]"
   ]
  },
  {
   "cell_type": "code",
   "execution_count": null,
   "metadata": {},
   "outputs": [],
   "source": [
    "# Recuento de registros por estación\n",
    "df2[var_analisis].value_counts()\n",
    "# Vemos si hay variaciones en toda la muestra\n",
    "df2[var_analisis].value_counts().describe()"
   ]
  },
  {
   "cell_type": "code",
   "execution_count": null,
   "metadata": {},
   "outputs": [],
   "source": [
    "# Conversión de la columna updated\n",
    "df2[\"fecha\"] = pd.to_datetime(df2.fecha)\n",
    "# Rango temporal de la muestra\n",
    "print(df2[\"fecha\"].min(), df2[\"fecha\"].max())"
   ]
  },
  {
   "cell_type": "code",
   "execution_count": null,
   "metadata": {},
   "outputs": [],
   "source": [
    "# Descripción de todas las variables disponibles\n",
    "df2.describe(include=\"all\")"
   ]
  },
  {
   "cell_type": "code",
   "execution_count": null,
   "metadata": {},
   "outputs": [],
   "source": [
    "# Muestra por barrios el uso de bicicleta medio y desviación\n",
    "df2.groupby(by=var_analisis).agg(av_mean=pd.NamedAgg(column=\"uso_bici\", aggfunc=\"mean\"),\n",
    "                            av_std=pd.NamedAgg(column=\"uso_bici\", aggfunc=\"std\"))\\\n",
    "                            .sort_values(\"av_std\", ascending=False)"
   ]
  },
  {
   "cell_type": "code",
   "execution_count": null,
   "metadata": {},
   "outputs": [],
   "source": [
    "# Pivot table es útil para hacer agrupaciones con distintas variables categóricas\n",
    "df2.pivot_table(index='name', columns=df2.fecha.dt.hour, values='uso_bici')"
   ]
  },
  {
   "cell_type": "code",
   "execution_count": null,
   "metadata": {},
   "outputs": [],
   "source": [
    "# Estilos para visualización de tablas\n",
    "headers = {\n",
    "    'selector': 'th.col_heading',\n",
    "    'props': 'background-color: #5E17EB; color: white;'\n",
    "}\n",
    "\n",
    "index_style = {\n",
    "    'selector': 'th.index_name',\n",
    "    'props': 'background-color: #5E17EB; color: white;'\n",
    "}"
   ]
  },
  {
   "cell_type": "code",
   "execution_count": null,
   "metadata": {},
   "outputs": [],
   "source": [
    "df2.pivot_table(index=df2.fecha.dt.hour, columns='name', values='uso_bici').round(2)\\\n",
    ".style.set_table_styles([headers, index_style])\\\n",
    ".background_gradient(cmap='viridis')"
   ]
  },
  {
   "cell_type": "code",
   "execution_count": null,
   "metadata": {},
   "outputs": [],
   "source": [
    "# Combinación de tablas con visualizaciones para resaltar tendencias\n",
    "df2.pivot_table(index=df2.fecha.dt.hour, columns='name', values='uso_bici').round(2).abs()\\\n",
    "    .style.set_table_styles([headers, index_style])\\\n",
    "    .set_properties(**{'background-color': 'green', 'color': 'green'})\\\n",
    "    .bar(color='#BEEAE5')"
   ]
  },
  {
   "cell_type": "markdown",
   "metadata": {},
   "source": [
    "## Estudio por barrio"
   ]
  },
  {
   "cell_type": "code",
   "execution_count": null,
   "metadata": {},
   "outputs": [],
   "source": [
    "# Filtrado de datos usando .loc\n",
    "df2.loc[df2['name']=='RUSSAFA', :]"
   ]
  },
  {
   "cell_type": "code",
   "execution_count": null,
   "metadata": {},
   "outputs": [],
   "source": [
    "df2.loc[df2['name']=='RUSSAFA', :]\\\n",
    "    .pivot_table(index=df2.fecha.dt.hour, columns='name', values='uso_bici').round(2).abs()\\\n",
    "    .style.set_table_styles([headers, index_style])\\\n",
    "    .set_properties(**{'background-color': 'green', 'color': 'green'})\\\n",
    "    .bar(color='#BEEAE5')"
   ]
  },
  {
   "cell_type": "code",
   "execution_count": null,
   "metadata": {},
   "outputs": [],
   "source": [
    "# Filtra para comparar algunos de los barrios \n",
    "lista_filtro = [\"RUSSAFA\", \"PATRAIX\"]\n",
    "df2.loc[df2['name'].isin(lista_filtro), :]\\\n",
    "    .pivot_table(index=df2.fecha.dt.hour, columns='name', values=['uso_bici', 'tamax'], aggfunc='mean')\\\n",
    "    .round(2).abs()\\\n",
    "    .style.set_table_styles([headers, index_style])\\\n",
    "    .set_properties(**{'background-color': 'green', 'color': 'green'})\\\n",
    "    .bar(color='#BEEAE5')"
   ]
  },
  {
   "cell_type": "markdown",
   "metadata": {},
   "source": [
    "# Mejorar procesos de análisis\n",
    "\n",
    "Importante ver la actividad de github:\n",
    "\n",
    "https://github.com/ydataai/ydata-profiling\n",
    "```\n",
    "pip install ydata-profiling\n",
    "```\n",
    "[Documentación profiling](https://docs.profiling.ydata.ai/latest/)\n",
    "```\n",
    "pip install dtale\n",
    "```\n",
    "\n",
    "Alternativas:\n",
    "- https://github.com/fbdesignpro/sweetviz\n",
    "- https://github.com/AutoViML/AutoViz"
   ]
  },
  {
   "cell_type": "code",
   "execution_count": null,
   "metadata": {},
   "outputs": [],
   "source": [
    "# Se pueden ver los datos desde el cuaderno, como muestras...\n",
    "df2.sample()"
   ]
  },
  {
   "cell_type": "code",
   "execution_count": null,
   "metadata": {},
   "outputs": [],
   "source": [
    "import dtale\n",
    "from ydata_profiling import ProfileReport"
   ]
  },
  {
   "cell_type": "code",
   "execution_count": null,
   "metadata": {},
   "outputs": [],
   "source": [
    "profile = ProfileReport(df2, title=\"Profiling Report\")\n",
    "\n",
    "profile.to_file(\"./documentos/informe_bicis.html\")"
   ]
  },
  {
   "cell_type": "markdown",
   "metadata": {},
   "source": [
    "## Dtale\n",
    "\n",
    "Crear el fichero en csv:\n",
    "```\n",
    "df2.to_csv('./data/usobici.csv', index=False)\n",
    "```\n",
    "Error en versiones de python 3.12\n",
    "\n",
    "En terminal:\n",
    "```\n",
    "df = pd.read_csv('./data/usobici.csv')\n",
    "df[\"fecha\"] = pd.to_datetime(df.fecha)\n",
    "d = dtale.show(df)\n",
    "d.open_browser()\n",
    "```"
   ]
  },
  {
   "cell_type": "markdown",
   "metadata": {},
   "source": [
    "# Conclusiones\n",
    "- Se ha analizado el dataset"
   ]
  }
 ],
 "metadata": {
  "kernelspec": {
   "display_name": "mientorno",
   "language": "python",
   "name": "python3"
  },
  "language_info": {
   "codemirror_mode": {
    "name": "ipython",
    "version": 3
   },
   "file_extension": ".py",
   "mimetype": "text/x-python",
   "name": "python",
   "nbconvert_exporter": "python",
   "pygments_lexer": "ipython3",
   "version": "3.12.3"
  }
 },
 "nbformat": 4,
 "nbformat_minor": 2
}
