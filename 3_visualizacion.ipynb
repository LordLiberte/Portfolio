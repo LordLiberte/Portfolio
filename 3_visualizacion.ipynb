{
 "cells": [
  {
   "cell_type": "code",
   "execution_count": null,
   "metadata": {},
   "outputs": [],
   "source": [
    "import pandas as pd\n",
    "import numpy as np\n",
    "import seaborn as sns\n",
    "import sqlite3\n",
    "import os\n",
    "print(os.getcwd())\n",
    "os.chdir('./../')\n",
    "print(os.getcwd())\n",
    "import matplotlib.pyplot as plt"
   ]
  },
  {
   "cell_type": "markdown",
   "metadata": {},
   "source": [
    "# La visualización\n",
    "\n",
    "¿Cuál es el objetivo de visualizar datos?\n",
    "\n",
    "- [Sorolla](https://es.wikipedia.org/wiki/El_regreso_de_la_pesca:_remolcando_el_barco)\n",
    "- [Juan Gris](https://www.museoreinasofia.es/en/collection/artwork/guitare-guitar)\n",
    "\n",
    "La representación para conocer el mundo\n",
    "\n",
    "- [Ptolomeo](https://blogcatedranaval.com/2017/12/01/los-mares-en-la-cosmografia-de-ptolomeo/)\n",
    "\n",
    "Entendimiento del problema con visualización\n",
    "\n",
    "- [John Snow](https://www.bbc.com/mundo/noticias-53328313)\n",
    "- [Mapa Cólera](https://www.scielo.cl/scielo.php?pid=S0716-10182007000400014&script=sci_arttext)\n",
    "\n",
    "Visualizaciones avanzadas y adaptadas a un problema:\n",
    "\n",
    "- [Campaña Rusa de Napoleón](https://raona.com/que-tienen-comun-napoleon-y-visualizacion-de-datos/)"
   ]
  },
  {
   "cell_type": "markdown",
   "metadata": {},
   "source": [
    "## Objetivo de la visualización\n",
    "\n",
    "1. Aglutinar todo conocimiento para representarlo de la forma más sencilla posible.\n",
    "2. Derivar comlejidad en simplicidad.\n",
    "\n",
    "EJEMPLOS: zen de python"
   ]
  },
  {
   "cell_type": "code",
   "execution_count": null,
   "metadata": {},
   "outputs": [],
   "source": [
    "import this"
   ]
  },
  {
   "cell_type": "markdown",
   "metadata": {},
   "source": [
    "## Errores de visualización\n",
    "- Uso de colores [Ejemplo UNESCO](https://www.unesco.org/en/heratlas)\n",
    "- Usar un gráfico circular (pie chart) con demasiadas categorías [Tarta](https://medium.com/@Infogram/the-dos-and-donts-of-pie-charts-a21a57437cab)\n",
    "- Usar un gráfico de líneas para datos categóricos, para comparar valores entre diferentes categorías no secuenciales, usa un gráfico de barras.\n",
    "- [Catálogo de buenas visualizaciones con ejemplos](https://datavizcatalogue.com/index.html)\n",
    "- Usar demasiados colores\n",
    "- Usar colores no intuitivos o culturalmente inapropiados\n",
    "- No considerar el daltonismo"
   ]
  },
  {
   "cell_type": "markdown",
   "metadata": {},
   "source": [
    "# Matplotlib\n",
    "\n",
    "## Representacion grafica\n",
    "- Librería estándar de representación gráfica\n",
    "- Low level: fácil de usar, difícil de dominar\n",
    "- Gráficos y diagramas\n",
    "- matplotlib basico (plot, legend, decoradores y anotaciones, grabar)\n",
    "- dibujo con pandas (tipos de graficos)\n",
    "- Intro a seaborn https://seaborn.pydata.org/tutorial.html\n",
    "\n",
    "## Referencias\n",
    "- https://plotdb.com/\n",
    "- https://d3js.org/\n",
    "- https://plot.ly/python/\n",
    "- https://bokeh.org/\n",
    "- https://shiny.rstudio.com/gallery/\n",
    "- https://www.tableau.com/es-es\n",
    "- https://powerbi.microsoft.com\n",
    "\n",
    "## Auto EDA\n",
    "- https://pypi.org/project/pandas-profiling/\n",
    "- https://pypi.org/project/dtale/\n",
    "\n",
    "## Elementos de visualización\n",
    "- Figura. Marco donde se representan de manera conjunta una visualización. Se caracterizan por tener un título general y suele tener una descripción así como una fuente o referencia\n",
    "- Subfigura. Representación dentro de una figura.\n",
    "- Gráfico. Tipo de representación dentro de una subfigura o figura. Existen gran cantidad de tipos de gráficos: barras, líneas, tarta..."
   ]
  },
  {
   "cell_type": "code",
   "execution_count": null,
   "metadata": {},
   "outputs": [],
   "source": [
    "from matplotlib.patches import Circle\n",
    "from matplotlib.patheffects import withStroke\n",
    "from matplotlib.ticker import AutoMinorLocator, MultipleLocator\n",
    "\n",
    "royal_blue = [0, 20/256, 82/256]\n",
    "\n",
    "\n",
    "# make the figure\n",
    "\n",
    "np.random.seed(19680801)\n",
    "\n",
    "X = np.linspace(0.5, 3.5, 100)\n",
    "Y1 = 3+np.cos(X)\n",
    "Y2 = 1+np.cos(1+X/0.75)/2\n",
    "Y3 = np.random.uniform(Y1, Y2, len(X))\n",
    "\n",
    "fig = plt.figure(figsize=(7.5, 7.5))\n",
    "ax = fig.add_axes([0.2, 0.17, 0.68, 0.7], aspect=1)\n",
    "\n",
    "ax.xaxis.set_major_locator(MultipleLocator(1.000))\n",
    "ax.xaxis.set_minor_locator(AutoMinorLocator(4))\n",
    "ax.yaxis.set_major_locator(MultipleLocator(1.000))\n",
    "ax.yaxis.set_minor_locator(AutoMinorLocator(4))\n",
    "ax.xaxis.set_minor_formatter(\"{x:.2f}\")\n",
    "\n",
    "ax.set_xlim(0, 4)\n",
    "ax.set_ylim(0, 4)\n",
    "\n",
    "ax.tick_params(which='major', width=1.0, length=10, labelsize=14)\n",
    "ax.tick_params(which='minor', width=1.0, length=5, labelsize=10,\n",
    "               labelcolor='0.25')\n",
    "\n",
    "ax.grid(linestyle=\"--\", linewidth=0.5, color='.25', zorder=-10)\n",
    "\n",
    "ax.plot(X, Y1, c='C0', lw=2.5, label=\"Blue signal\", zorder=10)\n",
    "ax.plot(X, Y2, c='C1', lw=2.5, label=\"Orange signal\")\n",
    "ax.plot(X[::3], Y3[::3], linewidth=0, markersize=9,\n",
    "        marker='s', markerfacecolor='none', markeredgecolor='C4',\n",
    "        markeredgewidth=2.5)\n",
    "\n",
    "ax.set_title(\"Anatomy of a figure\", fontsize=20, verticalalignment='bottom')\n",
    "ax.set_xlabel(\"x Axis label\", fontsize=14)\n",
    "ax.set_ylabel(\"y Axis label\", fontsize=14)\n",
    "ax.legend(loc=\"upper right\", fontsize=14)\n",
    "\n",
    "\n",
    "# Annotate the figure\n",
    "\n",
    "def annotate(x, y, text, code):\n",
    "    # Circle marker\n",
    "    c = Circle((x, y), radius=0.15, clip_on=False, zorder=10, linewidth=2.5,\n",
    "               edgecolor=royal_blue + [0.6], facecolor='none',\n",
    "               path_effects=[withStroke(linewidth=7, foreground='white')])\n",
    "    ax.add_artist(c)\n",
    "\n",
    "    # use path_effects as a background for the texts\n",
    "    # draw the path_effects and the colored text separately so that the\n",
    "    # path_effects cannot clip other texts\n",
    "    for path_effects in [[withStroke(linewidth=7, foreground='white')], []]:\n",
    "        color = 'white' if path_effects else royal_blue\n",
    "        ax.text(x, y-0.2, text, zorder=100,\n",
    "                ha='center', va='top', weight='bold', color=color,\n",
    "                style='italic', fontfamily='monospace',\n",
    "                path_effects=path_effects)\n",
    "\n",
    "        color = 'white' if path_effects else 'black'\n",
    "        ax.text(x, y-0.33, code, zorder=100,\n",
    "                ha='center', va='top', weight='normal', color=color,\n",
    "                fontfamily='monospace', fontsize='medium',\n",
    "                path_effects=path_effects)\n",
    "\n",
    "\n",
    "annotate(3.5, -0.13, \"Minor tick label\", \"ax.xaxis.set_minor_formatter\")\n",
    "annotate(-0.03, 1.0, \"Major tick\", \"ax.yaxis.set_major_locator\")\n",
    "annotate(0.00, 3.75, \"Minor tick\", \"ax.yaxis.set_minor_locator\")\n",
    "annotate(-0.15, 3.00, \"Major tick label\", \"ax.yaxis.set_major_formatter\")\n",
    "annotate(1.68, -0.39, \"xlabel\", \"ax.set_xlabel\")\n",
    "annotate(-0.38, 1.67, \"ylabel\", \"ax.set_ylabel\")\n",
    "annotate(1.52, 4.15, \"Title\", \"ax.set_title\")\n",
    "annotate(1.75, 2.80, \"Line\", \"ax.plot\")\n",
    "annotate(2.25, 1.54, \"Markers\", \"ax.scatter\")\n",
    "annotate(3.00, 3.00, \"Grid\", \"ax.grid\")\n",
    "annotate(3.60, 3.58, \"Legend\", \"ax.legend\")\n",
    "annotate(2.5, 0.55, \"Axes\", \"fig.subplots\")\n",
    "annotate(4, 4.5, \"Figure\", \"plt.figure\")\n",
    "annotate(0.65, 0.01, \"x Axis\", \"ax.xaxis\")\n",
    "annotate(0, 0.36, \"y Axis\", \"ax.yaxis\")\n",
    "annotate(4.0, 0.7, \"Spine\", \"ax.spines\")\n",
    "\n",
    "# frame around figure\n",
    "fig.patch.set(linewidth=4, edgecolor='0.5')\n",
    "plt.show()"
   ]
  },
  {
   "cell_type": "code",
   "execution_count": null,
   "metadata": {},
   "outputs": [],
   "source": [
    "# backends disponibles para notebook\n",
    "%matplotlib --list"
   ]
  },
  {
   "cell_type": "code",
   "execution_count": null,
   "metadata": {},
   "outputs": [],
   "source": [
    "# Grafico de lineas\n",
    "data = np.random.randint(100,size=(3,3))\n",
    "display(data)\n",
    "plt.plot(data) # creación del gráfico\n",
    "plt.show()"
   ]
  },
  {
   "cell_type": "code",
   "execution_count": null,
   "metadata": {},
   "outputs": [],
   "source": [
    "data = np.random.randint(100,size=(4,2))\n",
    "display(data)\n",
    "plt.scatter(data[:, 0], data[:, 1]) # creación del gráfico\n",
    "plt.show() # comando que muestra los gráficos creados hasta el momento"
   ]
  },
  {
   "cell_type": "code",
   "execution_count": null,
   "metadata": {},
   "outputs": [],
   "source": [
    "X = np.random.randn(200, 2)\n",
    "X[:50] += 4\n",
    "Y = np.zeros(200)\n",
    "Y[:50] = 1\n",
    "plt.scatter(X[:, 0], X[:, 1], c=Y)"
   ]
  },
  {
   "cell_type": "code",
   "execution_count": null,
   "metadata": {},
   "outputs": [],
   "source": [
    "# activar modo interactivo\n",
    "# %matplotlib notebook\n",
    "plt.ioff() # evitar que se sobreescriban los gráficos\n",
    "%matplotlib inline\n",
    "# para tener ventanas e interactivo\n",
    "# %matplotlib tk"
   ]
  },
  {
   "cell_type": "markdown",
   "metadata": {},
   "source": [
    "### Mosaico"
   ]
  },
  {
   "cell_type": "code",
   "execution_count": null,
   "metadata": {},
   "outputs": [],
   "source": [
    "# crea subplots como axes\n",
    "plt.subplot_mosaic('aabc\\naadd')"
   ]
  },
  {
   "cell_type": "markdown",
   "metadata": {},
   "source": [
    "### Crear una figura"
   ]
  },
  {
   "cell_type": "code",
   "execution_count": null,
   "metadata": {},
   "outputs": [],
   "source": [
    "fig, axes = plt.subplots(1, 2, figsize=(5, 4)) # crea una ndarray de 1x2 axes (o subplots)\n",
    "print(type(axes))\n",
    "print(axes)\n",
    "fig.suptitle(\"Ejemplo de subplots\")\n",
    "plt.show()"
   ]
  },
  {
   "cell_type": "markdown",
   "metadata": {},
   "source": [
    "### .plot()\n",
    "\n",
    "Múltiples parámetros\n",
    "\n",
    "```python\n",
    "plt.plot(x, y, style, label, linewidth=1, alpha=1)\n",
    "```\n",
    "\n",
    "- 'style': cadena de texto con formato (color, tipo...) \\[color\\]\\[marker\\]\\[line\\]\n",
    "- 'label': referencia para leyenda\n",
    "- 'linewidth': brocha\n",
    "- 'alpha': transparencia\n",
    "\n",
    "Otros: https://matplotlib.org/stable/api/_as_gen/matplotlib.pyplot.plot.html"
   ]
  },
  {
   "cell_type": "markdown",
   "metadata": {},
   "source": [
    "### Parámetros estándar\n",
    "\n",
    "| Color | Descripción |\n",
    "|:------|:------------|\n",
    "| b | blue |\n",
    "| g | green |\n",
    "| r | red |\n",
    "| c | cyan |\n",
    "| m | magenta |\n",
    "| y | yellow |\n",
    "| k | black |\n",
    "| w | white |\n",
    "\n",
    "| Marcador | Descripción |\n",
    "|:------|:------------|\n",
    "| . | point marker |\n",
    "| , | pixel marker |\n",
    "| o | circle marker |\n",
    "| v | triangle_down marker |\n",
    "| ^ | triangle_up marker |\n",
    "| < | triangle_left marker |\n",
    "| > | triangle_right marker |\n",
    "| 1 | tri_down marker |\n",
    "| 2 | tri_up marker |\n",
    "| 3 | tri_left marker |\n",
    "| 4 | tri_right marker |\n",
    "| s | square marker |\n",
    "| p | pentagon marker |\n",
    "| * | star marker |\n",
    "| h | hexagon1 marker |\n",
    "| H | hexagon2 marker |\n",
    "| + | plus marker |\n",
    "| x | x marker |\n",
    "| D | diamond marker |\n",
    "| d | thin_diamond marker |\n",
    "| | | vline marker |\n",
    "| _ | hline marker |\n",
    "\n",
    "| Línea | Descripción |\n",
    "|:------|:------------|\n",
    "| - | solid line style |\n",
    "| -- | dashed line style |\n",
    "| -. | dash-dot line style |\n",
    "| : | dotted line style |\n",
    "\n"
   ]
  },
  {
   "cell_type": "markdown",
   "metadata": {},
   "source": [
    "# Ejemplos con matplotlib"
   ]
  },
  {
   "cell_type": "code",
   "execution_count": null,
   "metadata": {},
   "outputs": [],
   "source": [
    "img = np.random.randint(0, 255, (5, 20))\n",
    "plt.imshow(img)"
   ]
  },
  {
   "cell_type": "code",
   "execution_count": null,
   "metadata": {},
   "outputs": [],
   "source": [
    "(np.linalg.inv(x @ x.T) @ x).T.shape, y.shape\n",
    "(np.linalg.inv(x.T @ x) @ x.T) @ y"
   ]
  },
  {
   "cell_type": "code",
   "execution_count": null,
   "metadata": {},
   "outputs": [],
   "source": [
    "\n",
    "# Datos de ejemplo\n",
    "# x = np.array([[1, 2], [2, 3], [3, 4], [4, 5], [5, 6]])\n",
    "# y = np.array([2, 3, 5, 7, 11])\n",
    "x = np.random.randint(0, 100, (50, 2))\n",
    "y = np.random.randint(0, 200, (50, 1))\n",
    "\n",
    "X = np.hstack([x, np.ones((x.shape[0], 1))])\n",
    "coeficientes = np.linalg.lstsq(X, y, rcond=None)[0]\n",
    "pendiente1, pendiente2, interseccion = coeficientes\n",
    "\n",
    "print(f\"Pendiente 1: {pendiente1}\")\n",
    "print(f\"Pendiente 2: {pendiente2}\")\n",
    "print(f\"Intersección: {interseccion}\")\n",
    "print((np.linalg.inv(X.T @ X) @ X.T) @ y)\n",
    "\n",
    "x1 = np.linspace(x[:, 0].min(), x[:, 0].max(), 100)\n",
    "y_rec = x1*pendiente1 + x1*pendiente2 + interseccion\n",
    "fig, ax = plt.subplots(1, 1, figsize=(7, 4)) # crea una ndarray de 1x2 axes (o subplots)\n",
    "# ax.scatter(x[:, 0], x[:, 1])\n",
    "ax.scatter(x[:, 0], y, c='gray')\n",
    "ax.scatter(x1, y_rec, c='blue', s=8)\n",
    "fig.suptitle(\"Ejemplo de regresion lineal\")\n",
    "plt.show()"
   ]
  },
  {
   "cell_type": "code",
   "execution_count": null,
   "metadata": {},
   "outputs": [],
   "source": [
    "x1 = np.linspace(x[:, 0].min(), x[:, 0].max(), 50)\n",
    "y_rec = x1*pendiente1 + x1*pendiente2 + interseccion\n",
    "# np.linspace?"
   ]
  },
  {
   "cell_type": "markdown",
   "metadata": {},
   "source": [
    "# Seaborn\n",
    "\n",
    "- Abstracción de matplotlib\n",
    "- Facilidad de uso y personalización\n",
    "- Excelente para exploración y visualización de relaciones entre variables\n",
    "\n",
    "Viene con varios datasets predefinidos\n",
    "https://github.com/mwaskom/seaborn-data\n",
    "\n",
    "Documentación [oficial](https://seaborn.pydata.org/api.html)"
   ]
  },
  {
   "cell_type": "markdown",
   "metadata": {},
   "source": [
    "## Ejemplos de uso de Seaborn\n",
    "\n",
    "\n"
   ]
  },
  {
   "cell_type": "code",
   "execution_count": null,
   "metadata": {},
   "outputs": [],
   "source": [
    "tips = sns.load_dataset(\"tips\")"
   ]
  },
  {
   "cell_type": "code",
   "execution_count": null,
   "metadata": {},
   "outputs": [],
   "source": [
    "fig, axs = plt.subplots(1, 1, figsize=(5, 5))\n",
    "ax = sns.boxplot(x='day', y='tip', data=tips, ax=axs)\n",
    "ax = sns.swarmplot(x=\"day\", y=\"tip\", data=tips, ax=ax)\n",
    "plt.show()"
   ]
  },
  {
   "cell_type": "code",
   "execution_count": null,
   "metadata": {},
   "outputs": [],
   "source": [
    "# Distribución bi-variable\n",
    "sns.jointplot(x='total_bill', y='tip', hue='day', data=tips)\n",
    "plt.show()"
   ]
  },
  {
   "cell_type": "code",
   "execution_count": null,
   "metadata": {},
   "outputs": [],
   "source": [
    "axd = plt.figure(layout=\"constrained\").subplot_mosaic(\n",
    "    \"\"\"\n",
    "    AB\n",
    "    CC\n",
    "    \"\"\"\n",
    ")\n",
    "axd['A'].scatter(tips['total_bill'], tips['tip'], s=10, \n",
    "           facecolors='none', edgecolors='b')\n",
    "axd['A'].set_xlabel('bill')\n",
    "axd['A'].set_ylabel('tip')\n",
    "axd['C'].boxplot(tips['tip'], vert=False, labels=['day'])\n",
    "axd['B'].boxplot(tips['total_bill'], vert=True, labels=['day'])\n",
    "plt.show()"
   ]
  },
  {
   "cell_type": "markdown",
   "metadata": {},
   "source": [
    "# Selección del barrio y aplicación de EDA\n",
    "\n",
    "- Barrio: ARRANCAPINS; 9 estaciones\n",
    "- Variable objetivo: count_out"
   ]
  },
  {
   "cell_type": "markdown",
   "metadata": {},
   "source": [
    "## Distribución de las estaciones"
   ]
  },
  {
   "cell_type": "code",
   "execution_count": null,
   "metadata": {},
   "outputs": [],
   "source": [
    "dfe = pd.read_csv('./data/interim/estaciones.csv')\n",
    "dfe.tail()"
   ]
  },
  {
   "cell_type": "code",
   "execution_count": null,
   "metadata": {},
   "outputs": [],
   "source": [
    "# Hacemos un plot de todo y analizamos problemas de la gráfica\n",
    "# Uso de bicicletas por estación\n",
    "fig, ax = plt.subplots(1, 1, figsize=(7, 4))\n",
    "ax.plot(dfe['lon'], dfe['lat'])\n",
    "# ax.scatter(dfe['lon'], dfe['lat'])\n",
    "fig.suptitle(\"Uso de bicicletas por estación\")\n",
    "plt.show()"
   ]
  },
  {
   "cell_type": "markdown",
   "metadata": {},
   "source": [
    "> ¿es adecuada la representación aplicada?"
   ]
  },
  {
   "cell_type": "markdown",
   "metadata": {},
   "source": [
    "## Uso de bicis por estaciones"
   ]
  },
  {
   "cell_type": "code",
   "execution_count": null,
   "metadata": {},
   "outputs": [],
   "source": [
    "dfe = pd.read_csv('./data/interim/usoestameteo.csv')\n",
    "dfe.tail()"
   ]
  },
  {
   "cell_type": "code",
   "execution_count": null,
   "metadata": {},
   "outputs": [],
   "source": [
    "# Hacemos un plot de todo y analizamos problemas de la gráfica\n",
    "# Uso de bicicletas por estación\n",
    "fig, ax = plt.subplots(1, 1, figsize=(7, 4))\n",
    "ax.plot(dfe['fecha'], dfe['count_out'].abs())\n",
    "fig.suptitle(\"Uso de bicicletas por estación\")\n",
    "plt.show()"
   ]
  },
  {
   "cell_type": "markdown",
   "metadata": {},
   "source": [
    "> ¿Nos ayuda a conocer los datos la gráfica?"
   ]
  },
  {
   "cell_type": "code",
   "execution_count": null,
   "metadata": {},
   "outputs": [],
   "source": [
    "# Seleccionamos para que haya una estación\n",
    "dfe['fecha'] = pd.to_datetime(dfe['fecha'])\n",
    "dfe.sort_values('fecha', ascending=True)\n",
    "mask = dfe['address'] == 'Reina Doña María - Cádiz'\n",
    "dfsel = dfe.loc[mask, :]\n",
    "fig, ax = plt.subplots(1, 1, figsize=(7, 4))\n",
    "ax.plot(dfsel['fecha'], dfsel['count_out'].abs()) # abs\n",
    "fig.suptitle(\"Uso de bicicletas por estación\")\n",
    "plt.xticks(rotation=70)\n",
    "plt.show()"
   ]
  },
  {
   "cell_type": "markdown",
   "metadata": {},
   "source": [
    "## Uso de bicicletas por estación"
   ]
  },
  {
   "cell_type": "code",
   "execution_count": null,
   "metadata": {},
   "outputs": [],
   "source": [
    "# Hacemos un plot de\n",
    "# Uso de bicicletas por estación\n",
    "fig, ax = plt.subplots(1, 1, figsize=(7, 4))\n",
    "ax.plot(dfsel['fecha'], dfsel['count_out'])\n",
    "fig.suptitle(\"Uso de bicicletas por estación\")\n",
    "plt.show()"
   ]
  },
  {
   "cell_type": "code",
   "execution_count": null,
   "metadata": {},
   "outputs": [],
   "source": [
    "# uso de seaborn para ver distribución usando atributos categóricos\n",
    "fig, ax = plt.subplots(1, 1, figsize=(10, 4))\n",
    "sns.lineplot(data=dfe, x='fecha', y='count_out', hue='address', ax=ax)\n",
    "fig.suptitle(\"Uso de bicicletas por estación\")\n",
    "plt.show()"
   ]
  },
  {
   "cell_type": "markdown",
   "metadata": {},
   "source": [
    "> ¿La gráfica representa la demanda? ¿hay que aplicar alguna transformación a los datos?"
   ]
  },
  {
   "cell_type": "code",
   "execution_count": null,
   "metadata": {},
   "outputs": [],
   "source": [
    "dfe['count_out'] = dfe['count_out'].abs()\n",
    "fig, ax = plt.subplots(1, 1, figsize=(10, 4))\n",
    "sns.lineplot(data=dfe, x='fecha', y='count_out', hue='address', ax=ax)\n",
    "fig.suptitle(\"Uso de bicicletas por estación\")\n",
    "plt.show()"
   ]
  },
  {
   "cell_type": "markdown",
   "metadata": {},
   "source": [
    "## Uso de bicis por Barrios"
   ]
  },
  {
   "cell_type": "code",
   "execution_count": null,
   "metadata": {},
   "outputs": [],
   "source": [
    "dfb = pd.read_csv('./data/interim/usobarriosmeteo.csv')\n",
    "dfb.fecha = pd.to_datetime(dfb.fecha)\n",
    "dfb.sort_values('fecha', ascending=True)\n",
    "dfb.tail()"
   ]
  },
  {
   "cell_type": "code",
   "execution_count": null,
   "metadata": {},
   "outputs": [],
   "source": [
    "# Barrios\n",
    "dfb['name'].value_counts(), dfb.shape\n",
    "# dfb.shape, dfb.isna().sum()"
   ]
  },
  {
   "cell_type": "code",
   "execution_count": null,
   "metadata": {},
   "outputs": [],
   "source": [
    "fig, ax = plt.subplots(1, 1, figsize=(10, 4))\n",
    "sns.lineplot(data=dfb, x='fecha', y='uso_bici', hue='name', ax=ax)\n",
    "fig.suptitle(\"Uso de bicicletas por estación\")\n",
    "plt.show()"
   ]
  },
  {
   "cell_type": "markdown",
   "metadata": {},
   "source": [
    "## Distribución espacial de las estaciones en el barrio\n",
    "\n",
    "```sh\n",
    "pip install geopandas\n",
    "pip install pandas plotly\n",
    "```"
   ]
  },
  {
   "cell_type": "code",
   "execution_count": null,
   "metadata": {},
   "outputs": [],
   "source": [
    "import geopandas as gpd"
   ]
  },
  {
   "cell_type": "code",
   "execution_count": null,
   "metadata": {},
   "outputs": [],
   "source": [
    "dfe = pd.read_csv('./data/interim/estaciones.csv')\n",
    "dfe.tail()"
   ]
  },
  {
   "cell_type": "code",
   "execution_count": null,
   "metadata": {},
   "outputs": [],
   "source": [
    "bar_df = gpd.read_file('./data/external/barris-barrios/barris-barrios.shp')\n",
    "# Transformamos a un df de geopandas\n",
    "gd_bike = gpd.GeoDataFrame(\n",
    "    dfe, geometry=gpd.points_from_xy(dfe.lon, dfe.lat), crs=\"EPSG:4326\"\n",
    ")"
   ]
  },
  {
   "cell_type": "code",
   "execution_count": null,
   "metadata": {},
   "outputs": [],
   "source": [
    "bar_df.loc[bar_df.coddistrit=='16', :]\n",
    "bar_df.loc[bar_df['nombre']=='ARRANCAPINS']"
   ]
  },
  {
   "cell_type": "markdown",
   "metadata": {},
   "source": [
    "> ¿se puede merjorar la visualización aplicando selección de los datos?"
   ]
  },
  {
   "cell_type": "code",
   "execution_count": null,
   "metadata": {},
   "outputs": [],
   "source": [
    "fig, ax = plt.subplots(1, 1, figsize=(15, 7))\n",
    "# .loc[~bar_df['coddistrit'].isin(['19', '17'])]\n",
    "# ax = bar_df.loc[bar_df['nombre']=='ARRANCAPINS'].boundary.plot(ax=ax, color=\"green\", linewidth=0.5)\n",
    "# ax = bar_df.loc[bar_df['coddistrit']=='3'].boundary.plot(ax=ax, color=\"green\", linewidth=0.5)\n",
    "# ax = bar_df.boundary.plot(ax=ax, color=\"green\", linewidth=0.5)\n",
    "ax = bar_df.loc[~bar_df['coddistrit'].isin(['19', '17'])]\\\n",
    "            .boundary.plot(ax=ax, color=\"green\", linewidth=0.5)\n",
    "gd_bike.loc[gd_bike['coddistrit'] == 3, :]\\\n",
    "    .plot(ax=ax, color=\"blue\", marker=\"P\", \n",
    "          edgecolor='k', markersize=5, alpha= 0.5)\n",
    "plt.show()"
   ]
  },
  {
   "cell_type": "code",
   "execution_count": null,
   "metadata": {},
   "outputs": [],
   "source": [
    "import plotly.express as px"
   ]
  },
  {
   "cell_type": "code",
   "execution_count": null,
   "metadata": {},
   "outputs": [],
   "source": [
    "# Crear el gráfico con Plotly Express\n",
    "fig = px.scatter_geo(dfe,\n",
    "                     lat='lat',\n",
    "                     lon='lon',\n",
    "                     hover_name='address', \n",
    "                     color='nombre',\n",
    "                     hover_data=['nombre'],\n",
    "                     projection='natural earth') #tipo de mapa\n",
    "\n",
    "# Mostrar el gráfico\n",
    "fig.show()\n"
   ]
  },
  {
   "cell_type": "code",
   "execution_count": null,
   "metadata": {},
   "outputs": [],
   "source": [
    "x_feat, y_feat, size = 'lon', 'lat', 'uso_bici'\n",
    "fig, ax = plt.subplots(1, 1, figsize=(5, 4))\n",
    "ax = ax.scatter(dfe[x_feat], dfe[y_feat], \n",
    "                s=(dfe[size]*0.05), c=dfe[size], cmap='viridis')\n",
    "plt.ylabel(y_feat)\n",
    "plt.xlabel(x_feat)\n",
    "fig.tight_layout()\n",
    "cbar = plt.colorbar(ax)\n",
    "cbar.set_label(size)\n",
    "plt.show()"
   ]
  },
  {
   "cell_type": "markdown",
   "metadata": {},
   "source": [
    "# Uso de bicis por horas "
   ]
  },
  {
   "cell_type": "markdown",
   "metadata": {},
   "source": [
    "## Uso Promedio de Bicicletas por hora del Día"
   ]
  },
  {
   "cell_type": "code",
   "execution_count": null,
   "metadata": {},
   "outputs": [],
   "source": [
    "dfsel = dfb.loc[dfb['name']=='RUSSAFA', :].copy()\n",
    "dfsel['hora'] = dfsel['fecha'].dt.hour"
   ]
  },
  {
   "cell_type": "code",
   "execution_count": null,
   "metadata": {},
   "outputs": [],
   "source": [
    "# distribución del uso de bicicletas por horas\n",
    "fig, ax = plt.subplots(1, 1, figsize=(15, 7))\n",
    "sns.barplot(dfsel, x='hora', y='uso_bici')\n",
    "plt.show()"
   ]
  },
  {
   "cell_type": "markdown",
   "metadata": {},
   "source": [
    "## Uso de Bicicletas horas según si es fin de semana o no"
   ]
  },
  {
   "cell_type": "code",
   "execution_count": null,
   "metadata": {},
   "outputs": [],
   "source": [
    "# Monday=0, Sunday=6\n",
    "dfsel['dia_semana'] = dfsel['fecha'].dt.day_of_week\n",
    "dfsel['findesemana'] = np.where(dfsel['dia_semana']>4, 1, 0)"
   ]
  },
  {
   "cell_type": "code",
   "execution_count": null,
   "metadata": {},
   "outputs": [],
   "source": [
    "fig, ax = plt.subplots(1, 1, figsize=(15, 7))\n",
    "sns.barplot(dfsel, x='hora', y='uso_bici', hue='findesemana')\n",
    "plt.show()"
   ]
  },
  {
   "cell_type": "markdown",
   "metadata": {},
   "source": [
    "## Uso de Bicicletas por estación en función de si es fin de semana"
   ]
  },
  {
   "cell_type": "code",
   "execution_count": null,
   "metadata": {},
   "outputs": [],
   "source": [
    "fig, ax = plt.subplots(1, 1, figsize=(15, 7))\n",
    "sns.boxplot(data=dfsel, x=\"findesemana\", y='uso_bici', hue='name')\n",
    "plt.show()"
   ]
  },
  {
   "cell_type": "markdown",
   "metadata": {},
   "source": [
    "## Exploración de variables meteorológicas con el uso de bicis"
   ]
  },
  {
   "cell_type": "code",
   "execution_count": null,
   "metadata": {},
   "outputs": [],
   "source": [
    "dfb.columns"
   ]
  },
  {
   "cell_type": "code",
   "execution_count": null,
   "metadata": {},
   "outputs": [],
   "source": [
    "sns.lineplot(data=dfsel, x=\"hr\", y=\"uso_bici\")\n",
    "# sns.lineplot(data=dfb, x=\"tamax\", y=\"uso_bici\")"
   ]
  },
  {
   "cell_type": "markdown",
   "metadata": {},
   "source": [
    "## Correlación entre variables"
   ]
  },
  {
   "cell_type": "code",
   "execution_count": null,
   "metadata": {},
   "outputs": [],
   "source": [
    "ls_col = ['prec', 'vmax', 'vv', 'hr', 'ta', 'tpr', 'tamin', 'tamax', 'uso_bici']\n",
    "correlation_matrix = dfb.loc[:, ls_col].corr()"
   ]
  },
  {
   "cell_type": "code",
   "execution_count": null,
   "metadata": {},
   "outputs": [],
   "source": [
    "plt.figure(figsize=(10, 8))  # Ajusta el tamaño de la figura si es necesario\n",
    "sns.heatmap(correlation_matrix, annot=True, cmap='coolwarm', fmt=\".2f\", linewidths=.5)\n",
    "plt.title('Gráfica de Correlación')\n",
    "plt.show()"
   ]
  },
  {
   "cell_type": "markdown",
   "metadata": {},
   "source": [
    "# Conclusiones\n",
    "\n",
    "- Se ha hecho un análisis de datos utilizado con diferentes técnicas de visualización de datos\n",
    "\n"
   ]
  }
 ],
 "metadata": {
  "kernelspec": {
   "display_name": "mientorno",
   "language": "python",
   "name": "python3"
  },
  "language_info": {
   "codemirror_mode": {
    "name": "ipython",
    "version": 3
   },
   "file_extension": ".py",
   "mimetype": "text/x-python",
   "name": "python",
   "nbconvert_exporter": "python",
   "pygments_lexer": "ipython3",
   "version": "3.12.3"
  }
 },
 "nbformat": 4,
 "nbformat_minor": 2
}
