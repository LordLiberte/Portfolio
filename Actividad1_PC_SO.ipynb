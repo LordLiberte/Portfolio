{
 "cells": [
  {
   "cell_type": "markdown",
   "metadata": {},
   "source": [
    "Creador: Carlos González Rubio\n",
    "\n",
    "Materia: Arquitectura de Computadores y Sistemas Operativos\n",
    "\n",
    "Fecha: 06/03/2025"
   ]
  },
  {
   "cell_type": "markdown",
   "metadata": {},
   "source": [
    "# Conversiones entre Decimal, Octal, Binario y Hexadecimal"
   ]
  },
  {
   "cell_type": "markdown",
   "metadata": {},
   "source": [
    "## Conversión de Decimal a Binario\n",
    "\n",
    "En este apartado convertiremos números decimales a binarios. El proceso para obtener el número binario se basa en una iteración donde dividimos el número original entre 2, posteriormente el resultado de esa operación se divide entre 2 y así hasta llegar a 0 (inclusive).\n",
    "\n",
    "Por ejemplo, el resultado de las operaciones para 100 sería: 100 - 50 - 25 - 12 - 6 - 3 - 1 \n",
    "\n",
    "Posteriormente a esto se determina si estos números tienen residuo o no, es decir, si los originales son pares el residuo (r) es 0 y si son impares es 1.\n",
    "\n",
    "Siguiendo el ejemplo anterior, los residuos quedan como: 0, 0, 1, 0, 0, 1, 1\n",
    "Ahora leemos estos residuos a la inversa y obtenemos: 1100100\n",
    "\n",
    "Para determinar si este valor es cierto que representa al 100, se realiza la suma de los productos de cada valor del número binario por 2 elevado al número de elementos - 1, -2, -3... hasta 0.\n",
    "\n",
    "En este caso, 1100100 tiene 7 elementos, por lo que: 1x2^6 + 1x2^5 + 0x2^4 + 0x2^3 + 1x2^2 + 0x2^1 + 0x2^0.\n",
    "\n",
    "De esta operación se obtiene que: 64 + 32 + 0 + 0 + 4 + 0 + 0 = 64 + 32 + 4 = 96 + 4 = 100\n",
    "\n",
    "Obtenemos el número decimal inicial. Por lo que esta secuencia es correcta. \n",
    "Ahora pasemoslo a código."
   ]
  },
  {
   "cell_type": "code",
   "execution_count": 9,
   "metadata": {},
   "outputs": [
    {
     "name": "stdout",
     "output_type": "stream",
     "text": [
      "El número decimal es:  1024\n",
      "La lista de decimales es:  [1024, 512.0, 256.0, 128.0, 64.0, 32.0, 16.0, 8.0, 4.0, 2.0, 1.0]\n",
      "El número binario es:  10000000000\n"
     ]
    }
   ],
   "source": [
    "# Definimos las variables que usaremos e inputs al sistema\n",
    "decimal = int(input(\"Ingrese un número decimal: \"))\n",
    "binario = \"\"\n",
    "lista_decimales = []\n",
    "\n",
    "print(\"El número decimal es: \", decimal)\n",
    "\n",
    "# Definimos la iteración para definir los productos de la división\n",
    "while decimal >= 1:\n",
    "    lista_decimales.append(decimal)\n",
    "    decimal = decimal/2\n",
    "\n",
    "# Mostramos por pantalla los números decimales\n",
    "print(\"La lista de decimales es: \", lista_decimales)\n",
    "\n",
    "# Tras almacenar sus resultados, procedemos a determinar si los números son pares o impares\n",
    "for numero in lista_decimales:\n",
    "    numero = int(numero) # Convertimos el número a entero para evitar problemas entre tipos de datos\n",
    "    if numero % 2 == 0:\n",
    "        binario = \"0\" + binario  # Concatenamos el 0 a la cadena\n",
    "    else:\n",
    "        binario = \"1\" + binario # Concatenamos el 1 a la cadena\n",
    "\n",
    "# Mostramos por pantalla el número binario\n",
    "print(\"El número binario es: \", binario)"
   ]
  },
  {
   "cell_type": "markdown",
   "metadata": {},
   "source": []
  },
  {
   "cell_type": "markdown",
   "metadata": {},
   "source": [
    "## Conversión de Binario a Decimal\n",
    "\n",
    "La conversión de binario a decimal consiste en coger cada bit del binario y multiplicarlo por 2 que estará elevado a longitud -1, -2, ... hasta 0."
   ]
  },
  {
   "cell_type": "code",
   "execution_count": 12,
   "metadata": {},
   "outputs": [
    {
     "ename": "KeyboardInterrupt",
     "evalue": "Interrupted by user",
     "output_type": "error",
     "traceback": [
      "\u001b[1;31m---------------------------------------------------------------------------\u001b[0m",
      "\u001b[1;31mKeyboardInterrupt\u001b[0m                         Traceback (most recent call last)",
      "Cell \u001b[1;32mIn[12], line 2\u001b[0m\n\u001b[0;32m      1\u001b[0m \u001b[38;5;66;03m# Definimos inputs al sistema\u001b[39;00m\n\u001b[1;32m----> 2\u001b[0m binario \u001b[38;5;241m=\u001b[39m \u001b[38;5;28;43minput\u001b[39;49m\u001b[43m(\u001b[49m\u001b[38;5;124;43m\"\u001b[39;49m\u001b[38;5;124;43mIngrese un número binario: \u001b[39;49m\u001b[38;5;124;43m\"\u001b[39;49m\u001b[43m)\u001b[49m\n\u001b[0;32m      4\u001b[0m \u001b[38;5;66;03m# Mostramos por pantalla el número binario\u001b[39;00m\n\u001b[0;32m      5\u001b[0m \u001b[38;5;28mprint\u001b[39m(\u001b[38;5;124m\"\u001b[39m\u001b[38;5;124mEl número binario es: \u001b[39m\u001b[38;5;124m\"\u001b[39m, binario)\n",
      "File \u001b[1;32mc:\\Users\\ghost\\OneDrive\\Escritorio\\Escritorio\\Carrera_DtSc\\2024-2025\\2n Cuatri\\Introducción a la Ciencia de Datos\\Actividades\\Portfolio\\.venv\\Lib\\site-packages\\ipykernel\\kernelbase.py:1282\u001b[0m, in \u001b[0;36mKernel.raw_input\u001b[1;34m(self, prompt)\u001b[0m\n\u001b[0;32m   1280\u001b[0m     msg \u001b[38;5;241m=\u001b[39m \u001b[38;5;124m\"\u001b[39m\u001b[38;5;124mraw_input was called, but this frontend does not support input requests.\u001b[39m\u001b[38;5;124m\"\u001b[39m\n\u001b[0;32m   1281\u001b[0m     \u001b[38;5;28;01mraise\u001b[39;00m StdinNotImplementedError(msg)\n\u001b[1;32m-> 1282\u001b[0m \u001b[38;5;28;01mreturn\u001b[39;00m \u001b[38;5;28;43mself\u001b[39;49m\u001b[38;5;241;43m.\u001b[39;49m\u001b[43m_input_request\u001b[49m\u001b[43m(\u001b[49m\n\u001b[0;32m   1283\u001b[0m \u001b[43m    \u001b[49m\u001b[38;5;28;43mstr\u001b[39;49m\u001b[43m(\u001b[49m\u001b[43mprompt\u001b[49m\u001b[43m)\u001b[49m\u001b[43m,\u001b[49m\n\u001b[0;32m   1284\u001b[0m \u001b[43m    \u001b[49m\u001b[38;5;28;43mself\u001b[39;49m\u001b[38;5;241;43m.\u001b[39;49m\u001b[43m_parent_ident\u001b[49m\u001b[43m[\u001b[49m\u001b[38;5;124;43m\"\u001b[39;49m\u001b[38;5;124;43mshell\u001b[39;49m\u001b[38;5;124;43m\"\u001b[39;49m\u001b[43m]\u001b[49m\u001b[43m,\u001b[49m\n\u001b[0;32m   1285\u001b[0m \u001b[43m    \u001b[49m\u001b[38;5;28;43mself\u001b[39;49m\u001b[38;5;241;43m.\u001b[39;49m\u001b[43mget_parent\u001b[49m\u001b[43m(\u001b[49m\u001b[38;5;124;43m\"\u001b[39;49m\u001b[38;5;124;43mshell\u001b[39;49m\u001b[38;5;124;43m\"\u001b[39;49m\u001b[43m)\u001b[49m\u001b[43m,\u001b[49m\n\u001b[0;32m   1286\u001b[0m \u001b[43m    \u001b[49m\u001b[43mpassword\u001b[49m\u001b[38;5;241;43m=\u001b[39;49m\u001b[38;5;28;43;01mFalse\u001b[39;49;00m\u001b[43m,\u001b[49m\n\u001b[0;32m   1287\u001b[0m \u001b[43m\u001b[49m\u001b[43m)\u001b[49m\n",
      "File \u001b[1;32mc:\\Users\\ghost\\OneDrive\\Escritorio\\Escritorio\\Carrera_DtSc\\2024-2025\\2n Cuatri\\Introducción a la Ciencia de Datos\\Actividades\\Portfolio\\.venv\\Lib\\site-packages\\ipykernel\\kernelbase.py:1325\u001b[0m, in \u001b[0;36mKernel._input_request\u001b[1;34m(self, prompt, ident, parent, password)\u001b[0m\n\u001b[0;32m   1322\u001b[0m \u001b[38;5;28;01mexcept\u001b[39;00m \u001b[38;5;167;01mKeyboardInterrupt\u001b[39;00m:\n\u001b[0;32m   1323\u001b[0m     \u001b[38;5;66;03m# re-raise KeyboardInterrupt, to truncate traceback\u001b[39;00m\n\u001b[0;32m   1324\u001b[0m     msg \u001b[38;5;241m=\u001b[39m \u001b[38;5;124m\"\u001b[39m\u001b[38;5;124mInterrupted by user\u001b[39m\u001b[38;5;124m\"\u001b[39m\n\u001b[1;32m-> 1325\u001b[0m     \u001b[38;5;28;01mraise\u001b[39;00m \u001b[38;5;167;01mKeyboardInterrupt\u001b[39;00m(msg) \u001b[38;5;28;01mfrom\u001b[39;00m\u001b[38;5;250m \u001b[39m\u001b[38;5;28;01mNone\u001b[39;00m\n\u001b[0;32m   1326\u001b[0m \u001b[38;5;28;01mexcept\u001b[39;00m \u001b[38;5;167;01mException\u001b[39;00m:\n\u001b[0;32m   1327\u001b[0m     \u001b[38;5;28mself\u001b[39m\u001b[38;5;241m.\u001b[39mlog\u001b[38;5;241m.\u001b[39mwarning(\u001b[38;5;124m\"\u001b[39m\u001b[38;5;124mInvalid Message:\u001b[39m\u001b[38;5;124m\"\u001b[39m, exc_info\u001b[38;5;241m=\u001b[39m\u001b[38;5;28;01mTrue\u001b[39;00m)\n",
      "\u001b[1;31mKeyboardInterrupt\u001b[0m: Interrupted by user"
     ]
    }
   ],
   "source": [
    "# Definimos inputs al sistema\n",
    "binario = input(\"Ingrese un número binario: \")\n",
    "\n",
    "# Mostramos por pantalla el número binario\n",
    "print(\"El número binario es: \", binario)\n",
    "\n",
    "\n",
    "suma_binario = 0\n",
    "longitud_binario = len(binario)\n",
    "# Iteración para calcular el valor del binario\n",
    "for bit in binario:\n",
    "    # Solo miramos si es igual a 1 porque si es 0 no suma nada, tenemos cuidado para que en cada elemento, aunque sea 0, se reste 1 a la longitud\n",
    "    if bit == \"1\":\n",
    "        suma_binario = suma_binario + 2**(longitud_binario-1)\n",
    "    longitud_binario = longitud_binario - 1\n",
    "\n",
    "# Mostramos por pantalla el valor del binario\n",
    "print(\"El valor del binario es: \", suma_binario)"
   ]
  },
  {
   "cell_type": "markdown",
   "metadata": {},
   "source": []
  },
  {
   "cell_type": "markdown",
   "metadata": {},
   "source": [
    "## Conversión de Decimal a Octal\n",
    "\n",
    "En el caso de la transformación a Octal es parecido a lo anterior, sin embargo debemos realizar divisiones sobre 8, y el resto se cálcula como la diferencia que hay entre el valor original y la multiplicación del resultado de la división por 8.\n",
    "\n",
    "Pongamos el ejemplo del número 45: 45 - 5\n",
    "\n",
    "Para calcular los residuos tenemos que:\n",
    "45 - (5x8) = 5; 5 - (0x8) = 5\n",
    "\n",
    "Obtenemos entonces que 45 en Octal es 55.\n",
    "Llevemoslo al código."
   ]
  },
  {
   "cell_type": "code",
   "execution_count": 16,
   "metadata": {},
   "outputs": [
    {
     "name": "stdout",
     "output_type": "stream",
     "text": [
      "El número decimal es:  1024\n",
      "La lista de decimales es:  [1024, 128.0, 16.0, 2.0]\n",
      "El número octal es:  2000\n"
     ]
    }
   ],
   "source": [
    "# Definimos las variables a usar e inputs al sistema\n",
    "decimal = int(input(\"Ingrese un número decimal: \"))\n",
    "octal = \"\"\n",
    "lista_decimales = []\n",
    "\n",
    "print(\"El número decimal es: \", decimal)\n",
    "\n",
    "# Definimos la iteración para definir los productos de la división\n",
    "while decimal >= 1:\n",
    "    lista_decimales.append(decimal)\n",
    "    decimal = decimal/8\n",
    "\n",
    "# Mostramos por pantalla los números decimales\n",
    "print(\"La lista de decimales es: \", lista_decimales)\n",
    "\n",
    "# Calcularemos ahora los residuos y los concatenaremos para obtener el número octal\n",
    "for numero in lista_decimales:\n",
    "    numero = int(numero) # Convertimos el número a entero para evitar problemas entre tipos de datos\n",
    "    residuo = numero % 8\n",
    "    octal = str(residuo) + octal\n",
    "    \n",
    "# Mostramos por pantalla el número octal\n",
    "print(\"El número octal es: \", octal) \n"
   ]
  },
  {
   "cell_type": "markdown",
   "metadata": {},
   "source": []
  },
  {
   "cell_type": "markdown",
   "metadata": {},
   "source": [
    "## Conversión de Octal a Decimal\n",
    "\n",
    "La conversión de Octal a Decimal consiste en coger cada valor de los números que lo componen y multiplicarlo por 8 elevado a la longitud del número -1, -2, ... hasta 0."
   ]
  },
  {
   "cell_type": "code",
   "execution_count": 18,
   "metadata": {},
   "outputs": [
    {
     "name": "stdout",
     "output_type": "stream",
     "text": [
      "El número octal es:  144\n",
      "El valor del octal es:  100\n"
     ]
    }
   ],
   "source": [
    "# Definimos inputs al sistema\n",
    "octal = input(\"Ingrese un número octal: \")\n",
    "\n",
    "# Mostramos por pantalla el número octal\n",
    "print(\"El número octal es: \", octal)\n",
    "\n",
    "# Verificaremos si el número octal es correcto\n",
    "suma_octal = 0\n",
    "longitud_octal = len(octal)\n",
    "# Iteración para calcular el valor del octal\n",
    "for numero_octal in octal:\n",
    "    suma_octal += int(numero_octal) * 8**(longitud_octal-1)\n",
    "    longitud_octal -= 1\n",
    "\n",
    "# Mostramos por pantalla el valor del octal\n",
    "print(\"El valor del octal es: \", suma_octal)"
   ]
  },
  {
   "cell_type": "markdown",
   "metadata": {},
   "source": []
  },
  {
   "cell_type": "markdown",
   "metadata": {},
   "source": [
    "## Conversión de Decimal a Hexadecimal\n",
    "\n",
    "En este caso es exactamente igual que para los octales pero dividiendo entre 16 y al final multiplicar por 16, aunque cuando un valor supera el número 9 se usan letras: \n",
    "\n",
    "A = 10, B = 11, C = 12, D = 13, E = 14, F = 15\n",
    "\n",
    "Pasemoslo a código."
   ]
  },
  {
   "cell_type": "code",
   "execution_count": 28,
   "metadata": {},
   "outputs": [
    {
     "name": "stdout",
     "output_type": "stream",
     "text": [
      "El número decimal es:  419\n",
      "La lista de decimales es:  [419, 26.1875, 1.63671875]\n",
      "El número hexadecimal es:  1A3\n"
     ]
    }
   ],
   "source": [
    "# Definimos las variables a usar e inputs al sistema\n",
    "decimal = int(input(\"Ingrese un número decimal: \"))\n",
    "hexadecimal = \"\"\n",
    "lista_decimales = []\n",
    "alfanumerico = {10: \"A\", 11: \"B\", 12: \"C\", 13: \"D\", 14: \"E\", 15: \"F\"}\n",
    "\n",
    "# Mostramos al usuario el número decimal\n",
    "print(\"El número decimal es: \", decimal)\n",
    "\n",
    "# Definimos la iteración para definir los productos de la división\n",
    "while decimal >= 1:\n",
    "    lista_decimales.append(decimal)\n",
    "    decimal = decimal/16\n",
    "\n",
    "# Mostramos por pantalla los números decimales\n",
    "print(\"La lista de decimales es: \", lista_decimales)\n",
    "\n",
    "# Calcularemos ahora los residuos y los concatenaremos para obtener el número hexadecimal\n",
    "for numero in lista_decimales:\n",
    "    numero = int(numero) # Convertimos el número a entero para evitar problemas entre tipos de datos\n",
    "    residuo = numero % 16\n",
    "    if residuo in alfanumerico:\n",
    "        hexadecimal = alfanumerico[residuo] + hexadecimal\n",
    "    else:\n",
    "        hexadecimal = str(residuo) + hexadecimal\n",
    "\n",
    "# Mostramos por pantalla el número hexadecimal\n",
    "print(\"El número hexadecimal es: \", hexadecimal)"
   ]
  },
  {
   "cell_type": "markdown",
   "metadata": {},
   "source": []
  },
  {
   "cell_type": "markdown",
   "metadata": {},
   "source": [
    "## Conversión de Hexadecimal a Decimal\n",
    "\n",
    "En este caso es lo mismo que en octal, pero teniendo en cuenta los alfanumericos y multiplicando por 16."
   ]
  },
  {
   "cell_type": "code",
   "execution_count": 24,
   "metadata": {},
   "outputs": [
    {
     "name": "stdout",
     "output_type": "stream",
     "text": [
      "El número hexadecimal es:  7F\n",
      "El valor del hexadecimal es:  127\n"
     ]
    }
   ],
   "source": [
    "# Definimos inputs al sistema\n",
    "hexadecimal = input(\"Ingrese un número hexadecimal: \")\n",
    "alfanumerico = {10: \"A\", 11: \"B\", 12: \"C\", 13: \"D\", 14: \"E\", 15: \"F\"}\n",
    "\n",
    "# Mostamos por pantalla el número hexadecimal\n",
    "print(\"El número hexadecimal es: \", hexadecimal)\n",
    "\n",
    "# Verificaremos si el número hexadecimal es correcto\n",
    "suma_hexadecimal = 0\n",
    "longitud_hexadecimal = len(hexadecimal)\n",
    "# Iteración para calcular el valor del hexadecimal\n",
    "for numero_hexadecimal in hexadecimal:\n",
    "    if numero_hexadecimal in alfanumerico.values():\n",
    "        suma_hexadecimal += (ord(numero_hexadecimal) - 55) * 16**(longitud_hexadecimal-1)\n",
    "    else:\n",
    "        suma_hexadecimal += int(numero_hexadecimal) * 16**(longitud_hexadecimal-1)\n",
    "    longitud_hexadecimal -= 1\n",
    "\n",
    "# Mostramos por pantalla el valor del hexadecimal\n",
    "print(\"El valor del hexadecimal es: \", suma_hexadecimal)"
   ]
  }
 ],
 "metadata": {
  "kernelspec": {
   "display_name": ".venv",
   "language": "python",
   "name": "python3"
  },
  "language_info": {
   "codemirror_mode": {
    "name": "ipython",
    "version": 3
   },
   "file_extension": ".py",
   "mimetype": "text/x-python",
   "name": "python",
   "nbconvert_exporter": "python",
   "pygments_lexer": "ipython3",
   "version": "3.13.1"
  }
 },
 "nbformat": 4,
 "nbformat_minor": 2
}
