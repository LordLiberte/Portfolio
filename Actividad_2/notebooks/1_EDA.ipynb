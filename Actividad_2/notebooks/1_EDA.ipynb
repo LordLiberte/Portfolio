{
 "cells": [
  {
   "cell_type": "markdown",
   "metadata": {},
   "source": [
    "# 1. ANÁLISIS EXPLORATORIO DE DATOS"
   ]
  },
  {
   "cell_type": "markdown",
   "metadata": {},
   "source": [
    "En esta sección de la actividad realizaremos un análisis previo de los datos basandonos en lo propuesto por el profesor en el correo recibido:\n",
    "- Barrio de estudio: CAMPANAR\n",
    "- Barrio de comparación: ALBORS"
   ]
  },
  {
   "cell_type": "markdown",
   "metadata": {},
   "source": [
    "Para comenzar deberemos importar nuestros datos y seccionarlos para cada uno de los barrios a analizar y comparar. Para ello importaremos las librerías necesarias para esto:"
   ]
  },
  {
   "cell_type": "code",
   "execution_count": 38,
   "metadata": {},
   "outputs": [],
   "source": [
    "import pandas as pd  # Importamos librería para manejo de datos\n",
    "import seaborn as sns # Importamos librería para visualización de datos\n",
    "from sklearn.preprocessing import MinMaxScaler # Importamos librería para normalización de datos\n",
    "from sklearn.cluster import KMeans # Importamos librería para agrupamiento\n",
    "from sklearn.linear_model import LinearRegression # Importamos librería para regresión lineal\n",
    "\n",
    "import os # Importamos librería para manejo de archivos y rutas"
   ]
  },
  {
   "cell_type": "markdown",
   "metadata": {},
   "source": [
    "Una vez importadas podemos traer los datos que exploraremos:"
   ]
  },
  {
   "cell_type": "code",
   "execution_count": null,
   "metadata": {},
   "outputs": [
    {
     "name": "stdout",
     "output_type": "stream",
     "text": [
      "                      updated                  address  number  available  \\\n",
      "0  2025-02-03 00:01:42.000000  Alameda - Pintor Maella      53         23   \n",
      "1  2025-02-03 00:09:53.000000  Alameda - Pintor Maella      53         25   \n",
      "2  2025-02-03 00:20:14.000000  Alameda - Pintor Maella      53         23   \n",
      "3  2025-02-03 00:30:36.000000  Alameda - Pintor Maella      53         23   \n",
      "4  2025-02-03 00:39:44.000000  Alameda - Pintor Maella      53         23   \n",
      "\n",
      "         lat       lon  total open  free  \n",
      "0  39.456764 -0.348139     25    T     2  \n",
      "1  39.456764 -0.348139     25    T     0  \n",
      "2  39.456764 -0.348139     25    T     2  \n",
      "3  39.456764 -0.348139     25    T     2  \n",
      "4  39.456764 -0.348139     25    T     2  \n"
     ]
    }
   ],
   "source": [
    "ruta = os.path.join(\"..\", \"data\", \"raw\", \"usobici_raw.csv\") # Definimos la ruta con los datos de trabajo\n",
    "\n",
    "dataframe = pd.read_csv(ruta) # Cargamos el archivo CSV\n",
    "print(dataframe.head()) # Mostramos los primeros registros del archivo"
   ]
  },
  {
   "cell_type": "markdown",
   "metadata": {},
   "source": [
    "Primero de todo, ¿que tipos de datos tenemos? Es probable que los numeros sean cadenas, por lo que realizar cálculos con ellos sería problematico. Para ello podemos usar un método de pandas que nos devuelve el tipo de dato por columna:"
   ]
  },
  {
   "cell_type": "code",
   "execution_count": 40,
   "metadata": {},
   "outputs": [
    {
     "name": "stdout",
     "output_type": "stream",
     "text": [
      "updated       object\n",
      "address       object\n",
      "number         int64\n",
      "available      int64\n",
      "lat          float64\n",
      "lon          float64\n",
      "total          int64\n",
      "open          object\n",
      "free           int64\n",
      "dtype: object\n"
     ]
    }
   ],
   "source": [
    "print(dataframe.dtypes) # Mostramos un resumen de los datos"
   ]
  },
  {
   "cell_type": "markdown",
   "metadata": {},
   "source": [
    "Podemos observar que por ejemplo aunque la columna *free* (el número de bicis librespor estación) es un número entero, pero *open* sin embargo es un \"object\" lo cual nos dará problemas en el futuro.\n",
    "Otra pregunta importante que debemos responder es sobre la naturaleza de los datos generales, como por ejemplo si contienen datos nulos y otras caracteristicas de la muestra:"
   ]
  },
  {
   "cell_type": "code",
   "execution_count": 42,
   "metadata": {},
   "outputs": [
    {
     "name": "stdout",
     "output_type": "stream",
     "text": [
      "-------------------  INFO -------------------\n",
      "\n",
      "<class 'pandas.core.frame.DataFrame'>\n",
      "RangeIndex: 4068 entries, 0 to 4067\n",
      "Data columns (total 9 columns):\n",
      " #   Column     Non-Null Count  Dtype  \n",
      "---  ------     --------------  -----  \n",
      " 0   updated    4068 non-null   object \n",
      " 1   address    4068 non-null   object \n",
      " 2   number     4068 non-null   int64  \n",
      " 3   available  4068 non-null   int64  \n",
      " 4   lat        4068 non-null   float64\n",
      " 5   lon        4068 non-null   float64\n",
      " 6   total      4068 non-null   int64  \n",
      " 7   open       4068 non-null   object \n",
      " 8   free       4068 non-null   int64  \n",
      "dtypes: float64(2), int64(4), object(3)\n",
      "memory usage: 286.2+ KB\n",
      "None\n",
      "\n",
      "-------------------  DESCRIPCIÓN -------------------\n",
      "\n",
      "       number    available           lat           lon   total         free\n",
      "count  4068.0  4068.000000  4.068000e+03  4.068000e+03  4068.0  4068.000000\n",
      "mean     53.0    17.118240  3.945676e+01 -3.481393e-01    25.0     7.855457\n",
      "std       0.0     7.428375  7.106301e-15  5.551798e-17     0.0     7.442906\n",
      "min      53.0     0.000000  3.945676e+01 -3.481393e-01    25.0     0.000000\n",
      "25%      53.0    11.000000  3.945676e+01 -3.481393e-01    25.0     2.000000\n",
      "50%      53.0    20.000000  3.945676e+01 -3.481393e-01    25.0     5.000000\n",
      "75%      53.0    23.000000  3.945676e+01 -3.481393e-01    25.0    14.000000\n",
      "max      53.0    25.000000  3.945676e+01 -3.481393e-01    25.0    25.000000\n"
     ]
    }
   ],
   "source": [
    "print(\"-------------------  INFO -------------------\\n\")\n",
    "print(dataframe.info()) # Mostramos un resumen de los datos\n",
    "\n",
    "print(\"\\n-------------------  DESCRIPCIÓN -------------------\\n\")\n",
    "print(dataframe.describe()) # Mostramos un resumen de los datos"
   ]
  },
  {
   "cell_type": "markdown",
   "metadata": {},
   "source": [
    "Podemos confirmar que no tenemos registros nulos, ya que ambos métodos nos dan un conteo de 4068 y el info nos dice que esos son no nulos. Además, podemos ver también que existe una media de 17 bicicletas en cada estación. ¿Los datos que debemos escoger, ¿se parecen a la muestra general o son una excepción?"
   ]
  },
  {
   "cell_type": "code",
   "execution_count": 55,
   "metadata": {},
   "outputs": [
    {
     "name": "stdout",
     "output_type": "stream",
     "text": [
      "Empty DataFrame\n",
      "Columns: [updated, address, number, available, lat, lon, total, open, free]\n",
      "Index: []\n",
      "-------------------  INFO -------------------\n",
      "\n",
      "<class 'pandas.core.frame.DataFrame'>\n",
      "Index: 0 entries\n",
      "Data columns (total 9 columns):\n",
      " #   Column     Non-Null Count  Dtype  \n",
      "---  ------     --------------  -----  \n",
      " 0   updated    0 non-null      object \n",
      " 1   address    0 non-null      object \n",
      " 2   number     0 non-null      int64  \n",
      " 3   available  0 non-null      int64  \n",
      " 4   lat        0 non-null      float64\n",
      " 5   lon        0 non-null      float64\n",
      " 6   total      0 non-null      int64  \n",
      " 7   open       0 non-null      object \n",
      " 8   free       0 non-null      int64  \n",
      "dtypes: float64(2), int64(4), object(3)\n",
      "memory usage: 0.0+ bytes\n",
      "None\n",
      "\n",
      "-------------------  DESCRIPCIÓN -------------------\n",
      "\n",
      "       number  available  lat  lon  total  free\n",
      "count     0.0        0.0  0.0  0.0    0.0   0.0\n",
      "mean      NaN        NaN  NaN  NaN    NaN   NaN\n",
      "std       NaN        NaN  NaN  NaN    NaN   NaN\n",
      "min       NaN        NaN  NaN  NaN    NaN   NaN\n",
      "25%       NaN        NaN  NaN  NaN    NaN   NaN\n",
      "50%       NaN        NaN  NaN  NaN    NaN   NaN\n",
      "75%       NaN        NaN  NaN  NaN    NaN   NaN\n",
      "max       NaN        NaN  NaN  NaN    NaN   NaN\n"
     ]
    }
   ],
   "source": [
    "data_campanar = dataframe[dataframe[\"address\"] == \"Campanar\"] # Seleccionamos los datos de la estación Campanar\n",
    "data_albors = dataframe[dataframe[\"address\"] == \"Albors\"] # Seleccionamos los datos de la estación Albors\n",
    "\n",
    "print(data_campanar.head()) # Mostramos los primeros registros de la estación Campanar\n",
    "\n",
    "print(\"-------------------  INFO -------------------\\n\")\n",
    "print(data_campanar.info()) # Mostramos un resumen de los datos de la estación Campanar\n",
    "\n",
    "print(\"\\n-------------------  DESCRIPCIÓN -------------------\\n\")\n",
    "print(data_campanar.describe()) # Mostramos un resumen de los datos de la estación Campanar"
   ]
  }
 ],
 "metadata": {
  "kernelspec": {
   "display_name": ".venv",
   "language": "python",
   "name": "python3"
  },
  "language_info": {
   "codemirror_mode": {
    "name": "ipython",
    "version": 3
   },
   "file_extension": ".py",
   "mimetype": "text/x-python",
   "name": "python",
   "nbconvert_exporter": "python",
   "pygments_lexer": "ipython3",
   "version": "3.13.1"
  }
 },
 "nbformat": 4,
 "nbformat_minor": 2
}
