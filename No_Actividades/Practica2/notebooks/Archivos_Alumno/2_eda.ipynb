{
 "cells": [
  {
   "cell_type": "markdown",
   "metadata": {},
   "source": [
    "# Práctica 2\n",
    "En esta práctica buscamos desarrollar un proyecto de Ciencia de Datos inicial para hacernos a la idea de las librerías que usaremos más adelante."
   ]
  },
  {
   "cell_type": "markdown",
   "metadata": {},
   "source": [
    "Para ello cargaremos librerías que necesitaremos en nuestro caso antes de comenzar con nuestro proyecto."
   ]
  },
  {
   "cell_type": "code",
   "execution_count": 12,
   "metadata": {},
   "outputs": [],
   "source": [
    "import pandas as pd\n",
    "import sqlite3\n",
    "import os\n",
    "import pathlib as path"
   ]
  },
  {
   "cell_type": "markdown",
   "metadata": {},
   "source": [
    "Los datos que usaremos provienen del portal de datasets del ayuntamiento de Valencia: https://valencia.opendatasoft.com/pages/home/, sobre el uso de las bicicletas."
   ]
  },
  {
   "cell_type": "markdown",
   "metadata": {},
   "source": [
    "Para ello descargaremos el dataset que en nuestro caso estará dentro de la carpeta data/raw."
   ]
  },
  {
   "cell_type": "code",
   "execution_count": 13,
   "metadata": {},
   "outputs": [
    {
     "name": "stdout",
     "output_type": "stream",
     "text": [
      "Archivo leido\n"
     ]
    }
   ],
   "source": [
    "# Creamos la ruta al archivo\n",
    "# os.chdir(\"./../\")  # --- USAR SOLO DOS VECES\n",
    "ruta = os.getcwd()  # Devuelve la ruta actual \n",
    "# print(ruta)\n",
    "archivo = \"/data/raw/usobici_raw.csv\"\n",
    "ruta_archivo = path.Path(ruta + archivo)  # Añade a la ruta la ruta del archivo\n",
    "\n",
    "# Comprobamos si se ha encontrado el archivo y se avisa a usuario\n",
    "if os.path.exists(ruta_archivo):\n",
    "    df = pd.read_csv(ruta_archivo)  # Creación de DataFrame\n",
    "    print(\"Archivo leido\")\n",
    "else:\n",
    "    print(\"Archivo no encontrado\")"
   ]
  },
  {
   "cell_type": "code",
   "execution_count": 14,
   "metadata": {},
   "outputs": [
    {
     "name": "stdout",
     "output_type": "stream",
     "text": [
      "                         updated                  address  number  available  \\\n",
      "0     2025-02-03 00:01:42.000000  Alameda - Pintor Maella      53         23   \n",
      "1     2025-02-03 00:09:53.000000  Alameda - Pintor Maella      53         25   \n",
      "2     2025-02-03 00:20:14.000000  Alameda - Pintor Maella      53         23   \n",
      "3     2025-02-03 00:30:36.000000  Alameda - Pintor Maella      53         23   \n",
      "4     2025-02-03 00:39:44.000000  Alameda - Pintor Maella      53         23   \n",
      "...                          ...                      ...     ...        ...   \n",
      "4063  2025-03-03 14:39:32.000000  Alameda - Pintor Maella      53         24   \n",
      "4064  2025-03-03 14:49:38.000000  Alameda - Pintor Maella      53         24   \n",
      "4065  2025-03-03 15:00:44.000000  Alameda - Pintor Maella      53         24   \n",
      "4066  2025-03-03 15:09:50.000000  Alameda - Pintor Maella      53         23   \n",
      "4067  2025-03-03 15:19:57.000000  Alameda - Pintor Maella      53         23   \n",
      "\n",
      "            lat       lon  total open  free  \n",
      "0     39.456764 -0.348139     25    T     2  \n",
      "1     39.456764 -0.348139     25    T     0  \n",
      "2     39.456764 -0.348139     25    T     2  \n",
      "3     39.456764 -0.348139     25    T     2  \n",
      "4     39.456764 -0.348139     25    T     2  \n",
      "...         ...       ...    ...  ...   ...  \n",
      "4063  39.456764 -0.348139     25    T     1  \n",
      "4064  39.456764 -0.348139     25    T     1  \n",
      "4065  39.456764 -0.348139     25    T     1  \n",
      "4066  39.456764 -0.348139     25    T     2  \n",
      "4067  39.456764 -0.348139     25    T     2  \n",
      "\n",
      "[4068 rows x 9 columns]\n"
     ]
    }
   ],
   "source": [
    "print(df)"
   ]
  },
  {
   "cell_type": "markdown",
   "metadata": {},
   "source": [
    "Gracias a Pandas podemos realizar ciertas acciones preliminares rápidas que nos permiten determinar ciertas características generales de los datos:"
   ]
  },
  {
   "cell_type": "code",
   "execution_count": 15,
   "metadata": {},
   "outputs": [
    {
     "data": {
      "text/plain": [
       "(4068, 9)"
      ]
     },
     "execution_count": 15,
     "metadata": {},
     "output_type": "execute_result"
    }
   ],
   "source": [
    "df.shape  # Devuelve el tamaño de la tabla en una tupla"
   ]
  },
  {
   "cell_type": "code",
   "execution_count": 16,
   "metadata": {},
   "outputs": [
    {
     "data": {
      "application/vnd.microsoft.datawrangler.viewer.v0+json": {
       "columns": [
        {
         "name": "index",
         "rawType": "object",
         "type": "string"
        },
        {
         "name": "updated",
         "rawType": "object",
         "type": "unknown"
        },
        {
         "name": "address",
         "rawType": "object",
         "type": "unknown"
        },
        {
         "name": "number",
         "rawType": "float64",
         "type": "float"
        },
        {
         "name": "available",
         "rawType": "float64",
         "type": "float"
        },
        {
         "name": "lat",
         "rawType": "float64",
         "type": "float"
        },
        {
         "name": "lon",
         "rawType": "float64",
         "type": "float"
        },
        {
         "name": "total",
         "rawType": "float64",
         "type": "float"
        },
        {
         "name": "open",
         "rawType": "object",
         "type": "unknown"
        },
        {
         "name": "free",
         "rawType": "float64",
         "type": "float"
        }
       ],
       "conversionMethod": "pd.DataFrame",
       "ref": "ecb309dc-4367-4f6b-b91c-f8e815d9f801",
       "rows": [
        [
         "count",
         "4068",
         "4068",
         "4068.0",
         "4068.0",
         "4068.0",
         "4068.0",
         "4068.0",
         "4068",
         "4068.0"
        ],
        [
         "unique",
         "4068",
         "1",
         null,
         null,
         null,
         null,
         null,
         "1",
         null
        ],
        [
         "top",
         "2025-03-03 15:19:57.000000",
         "Alameda - Pintor Maella",
         null,
         null,
         null,
         null,
         null,
         "T",
         null
        ],
        [
         "freq",
         "1",
         "4068",
         null,
         null,
         null,
         null,
         null,
         "4068",
         null
        ],
        [
         "mean",
         null,
         null,
         "53.0",
         "17.118239921337267",
         "39.45676426141677",
         "-0.34813930400480075",
         "25.0",
         null,
         "7.855457227138643"
        ],
        [
         "std",
         null,
         null,
         "0.0",
         "7.428374924546444",
         "7.106300850425939e-15",
         "5.551797539395264e-17",
         "0.0",
         null,
         "7.442906347182716"
        ],
        [
         "min",
         null,
         null,
         "53.0",
         "0.0",
         "39.45676426141678",
         "-0.3481393040048007",
         "25.0",
         null,
         "0.0"
        ],
        [
         "25%",
         null,
         null,
         "53.0",
         "11.0",
         "39.45676426141678",
         "-0.3481393040048007",
         "25.0",
         null,
         "2.0"
        ],
        [
         "50%",
         null,
         null,
         "53.0",
         "20.0",
         "39.45676426141678",
         "-0.3481393040048007",
         "25.0",
         null,
         "5.0"
        ],
        [
         "75%",
         null,
         null,
         "53.0",
         "23.0",
         "39.45676426141678",
         "-0.3481393040048007",
         "25.0",
         null,
         "14.0"
        ],
        [
         "max",
         null,
         null,
         "53.0",
         "25.0",
         "39.45676426141678",
         "-0.3481393040048007",
         "25.0",
         null,
         "25.0"
        ]
       ],
       "shape": {
        "columns": 9,
        "rows": 11
       }
      },
      "text/html": [
       "<div>\n",
       "<style scoped>\n",
       "    .dataframe tbody tr th:only-of-type {\n",
       "        vertical-align: middle;\n",
       "    }\n",
       "\n",
       "    .dataframe tbody tr th {\n",
       "        vertical-align: top;\n",
       "    }\n",
       "\n",
       "    .dataframe thead th {\n",
       "        text-align: right;\n",
       "    }\n",
       "</style>\n",
       "<table border=\"1\" class=\"dataframe\">\n",
       "  <thead>\n",
       "    <tr style=\"text-align: right;\">\n",
       "      <th></th>\n",
       "      <th>updated</th>\n",
       "      <th>address</th>\n",
       "      <th>number</th>\n",
       "      <th>available</th>\n",
       "      <th>lat</th>\n",
       "      <th>lon</th>\n",
       "      <th>total</th>\n",
       "      <th>open</th>\n",
       "      <th>free</th>\n",
       "    </tr>\n",
       "  </thead>\n",
       "  <tbody>\n",
       "    <tr>\n",
       "      <th>count</th>\n",
       "      <td>4068</td>\n",
       "      <td>4068</td>\n",
       "      <td>4068.0</td>\n",
       "      <td>4068.000000</td>\n",
       "      <td>4.068000e+03</td>\n",
       "      <td>4.068000e+03</td>\n",
       "      <td>4068.0</td>\n",
       "      <td>4068</td>\n",
       "      <td>4068.000000</td>\n",
       "    </tr>\n",
       "    <tr>\n",
       "      <th>unique</th>\n",
       "      <td>4068</td>\n",
       "      <td>1</td>\n",
       "      <td>NaN</td>\n",
       "      <td>NaN</td>\n",
       "      <td>NaN</td>\n",
       "      <td>NaN</td>\n",
       "      <td>NaN</td>\n",
       "      <td>1</td>\n",
       "      <td>NaN</td>\n",
       "    </tr>\n",
       "    <tr>\n",
       "      <th>top</th>\n",
       "      <td>2025-03-03 15:19:57.000000</td>\n",
       "      <td>Alameda - Pintor Maella</td>\n",
       "      <td>NaN</td>\n",
       "      <td>NaN</td>\n",
       "      <td>NaN</td>\n",
       "      <td>NaN</td>\n",
       "      <td>NaN</td>\n",
       "      <td>T</td>\n",
       "      <td>NaN</td>\n",
       "    </tr>\n",
       "    <tr>\n",
       "      <th>freq</th>\n",
       "      <td>1</td>\n",
       "      <td>4068</td>\n",
       "      <td>NaN</td>\n",
       "      <td>NaN</td>\n",
       "      <td>NaN</td>\n",
       "      <td>NaN</td>\n",
       "      <td>NaN</td>\n",
       "      <td>4068</td>\n",
       "      <td>NaN</td>\n",
       "    </tr>\n",
       "    <tr>\n",
       "      <th>mean</th>\n",
       "      <td>NaN</td>\n",
       "      <td>NaN</td>\n",
       "      <td>53.0</td>\n",
       "      <td>17.118240</td>\n",
       "      <td>3.945676e+01</td>\n",
       "      <td>-3.481393e-01</td>\n",
       "      <td>25.0</td>\n",
       "      <td>NaN</td>\n",
       "      <td>7.855457</td>\n",
       "    </tr>\n",
       "    <tr>\n",
       "      <th>std</th>\n",
       "      <td>NaN</td>\n",
       "      <td>NaN</td>\n",
       "      <td>0.0</td>\n",
       "      <td>7.428375</td>\n",
       "      <td>7.106301e-15</td>\n",
       "      <td>5.551798e-17</td>\n",
       "      <td>0.0</td>\n",
       "      <td>NaN</td>\n",
       "      <td>7.442906</td>\n",
       "    </tr>\n",
       "    <tr>\n",
       "      <th>min</th>\n",
       "      <td>NaN</td>\n",
       "      <td>NaN</td>\n",
       "      <td>53.0</td>\n",
       "      <td>0.000000</td>\n",
       "      <td>3.945676e+01</td>\n",
       "      <td>-3.481393e-01</td>\n",
       "      <td>25.0</td>\n",
       "      <td>NaN</td>\n",
       "      <td>0.000000</td>\n",
       "    </tr>\n",
       "    <tr>\n",
       "      <th>25%</th>\n",
       "      <td>NaN</td>\n",
       "      <td>NaN</td>\n",
       "      <td>53.0</td>\n",
       "      <td>11.000000</td>\n",
       "      <td>3.945676e+01</td>\n",
       "      <td>-3.481393e-01</td>\n",
       "      <td>25.0</td>\n",
       "      <td>NaN</td>\n",
       "      <td>2.000000</td>\n",
       "    </tr>\n",
       "    <tr>\n",
       "      <th>50%</th>\n",
       "      <td>NaN</td>\n",
       "      <td>NaN</td>\n",
       "      <td>53.0</td>\n",
       "      <td>20.000000</td>\n",
       "      <td>3.945676e+01</td>\n",
       "      <td>-3.481393e-01</td>\n",
       "      <td>25.0</td>\n",
       "      <td>NaN</td>\n",
       "      <td>5.000000</td>\n",
       "    </tr>\n",
       "    <tr>\n",
       "      <th>75%</th>\n",
       "      <td>NaN</td>\n",
       "      <td>NaN</td>\n",
       "      <td>53.0</td>\n",
       "      <td>23.000000</td>\n",
       "      <td>3.945676e+01</td>\n",
       "      <td>-3.481393e-01</td>\n",
       "      <td>25.0</td>\n",
       "      <td>NaN</td>\n",
       "      <td>14.000000</td>\n",
       "    </tr>\n",
       "    <tr>\n",
       "      <th>max</th>\n",
       "      <td>NaN</td>\n",
       "      <td>NaN</td>\n",
       "      <td>53.0</td>\n",
       "      <td>25.000000</td>\n",
       "      <td>3.945676e+01</td>\n",
       "      <td>-3.481393e-01</td>\n",
       "      <td>25.0</td>\n",
       "      <td>NaN</td>\n",
       "      <td>25.000000</td>\n",
       "    </tr>\n",
       "  </tbody>\n",
       "</table>\n",
       "</div>"
      ],
      "text/plain": [
       "                           updated                  address  number  \\\n",
       "count                         4068                     4068  4068.0   \n",
       "unique                        4068                        1     NaN   \n",
       "top     2025-03-03 15:19:57.000000  Alameda - Pintor Maella     NaN   \n",
       "freq                             1                     4068     NaN   \n",
       "mean                           NaN                      NaN    53.0   \n",
       "std                            NaN                      NaN     0.0   \n",
       "min                            NaN                      NaN    53.0   \n",
       "25%                            NaN                      NaN    53.0   \n",
       "50%                            NaN                      NaN    53.0   \n",
       "75%                            NaN                      NaN    53.0   \n",
       "max                            NaN                      NaN    53.0   \n",
       "\n",
       "          available           lat           lon   total  open         free  \n",
       "count   4068.000000  4.068000e+03  4.068000e+03  4068.0  4068  4068.000000  \n",
       "unique          NaN           NaN           NaN     NaN     1          NaN  \n",
       "top             NaN           NaN           NaN     NaN     T          NaN  \n",
       "freq            NaN           NaN           NaN     NaN  4068          NaN  \n",
       "mean      17.118240  3.945676e+01 -3.481393e-01    25.0   NaN     7.855457  \n",
       "std        7.428375  7.106301e-15  5.551798e-17     0.0   NaN     7.442906  \n",
       "min        0.000000  3.945676e+01 -3.481393e-01    25.0   NaN     0.000000  \n",
       "25%       11.000000  3.945676e+01 -3.481393e-01    25.0   NaN     2.000000  \n",
       "50%       20.000000  3.945676e+01 -3.481393e-01    25.0   NaN     5.000000  \n",
       "75%       23.000000  3.945676e+01 -3.481393e-01    25.0   NaN    14.000000  \n",
       "max       25.000000  3.945676e+01 -3.481393e-01    25.0   NaN    25.000000  "
      ]
     },
     "execution_count": 16,
     "metadata": {},
     "output_type": "execute_result"
    }
   ],
   "source": [
    "df.describe(include=\"all\")  # Nos da información básica sobre las columnas del dataset"
   ]
  },
  {
   "cell_type": "code",
   "execution_count": 18,
   "metadata": {},
   "outputs": [
    {
     "data": {
      "text/plain": [
       "updated       object\n",
       "address       object\n",
       "number         int64\n",
       "available      int64\n",
       "lat          float64\n",
       "lon          float64\n",
       "total          int64\n",
       "open          object\n",
       "free           int64\n",
       "dtype: object"
      ]
     },
     "execution_count": 18,
     "metadata": {},
     "output_type": "execute_result"
    }
   ],
   "source": [
    "df.dtypes # Devuelve el tipo de los valores del dataset"
   ]
  },
  {
   "cell_type": "markdown",
   "metadata": {},
   "source": [
    "Cuando tenemos datos de tipo fecha, muchas veces estos estan en formato string, lo cual no nos permite usarlos para realizar gráficos o cálculos. Pandas nos permite modificarlos a un formato de fecha llamado DateTime."
   ]
  },
  {
   "cell_type": "code",
   "execution_count": 21,
   "metadata": {},
   "outputs": [
    {
     "name": "stdout",
     "output_type": "stream",
     "text": [
      "2025-02-03 00:01:42 +++ 2025-03-03 15:19:57\n"
     ]
    }
   ],
   "source": [
    "df[\"updated\"] = pd.to_datetime(df.updated) # Conversión de la columna a fecha\n",
    "\n",
    "# Con esto, obtendremos el rango temporal de la fecha (fecha minima - fecha máxima)\n",
    "print(df[\"updated\"].min(), \"+++\", df[\"updated\"].max())"
   ]
  },
  {
   "cell_type": "markdown",
   "metadata": {},
   "source": [
    "Podemos obtener los valores únicos que tenga una columna usando el método unique():"
   ]
  },
  {
   "cell_type": "code",
   "execution_count": 28,
   "metadata": {},
   "outputs": [
    {
     "name": "stdout",
     "output_type": "stream",
     "text": [
      "['Alameda - Pintor Maella']\n"
     ]
    }
   ],
   "source": [
    "print(df[\"address\"].unique()) "
   ]
  },
  {
   "cell_type": "code",
   "execution_count": 51,
   "metadata": {},
   "outputs": [
    {
     "name": "stdout",
     "output_type": "stream",
     "text": [
      "                 updated                  address  number  available  \\\n",
      "0    2025-02-03 00:01:42  Alameda - Pintor Maella      53         23   \n",
      "1    2025-02-03 00:09:53  Alameda - Pintor Maella      53         25   \n",
      "2    2025-02-03 00:20:14  Alameda - Pintor Maella      53         23   \n",
      "3    2025-02-03 00:30:36  Alameda - Pintor Maella      53         23   \n",
      "4    2025-02-03 00:39:44  Alameda - Pintor Maella      53         23   \n",
      "...                  ...                      ...     ...        ...   \n",
      "4063 2025-03-03 14:39:32  Alameda - Pintor Maella      53         24   \n",
      "4064 2025-03-03 14:49:38  Alameda - Pintor Maella      53         24   \n",
      "4065 2025-03-03 15:00:44  Alameda - Pintor Maella      53         24   \n",
      "4066 2025-03-03 15:09:50  Alameda - Pintor Maella      53         23   \n",
      "4067 2025-03-03 15:19:57  Alameda - Pintor Maella      53         23   \n",
      "\n",
      "            lat       lon  total open  free  \n",
      "0     39.456764 -0.348139     25    T     2  \n",
      "1     39.456764 -0.348139     25    T     0  \n",
      "2     39.456764 -0.348139     25    T     2  \n",
      "3     39.456764 -0.348139     25    T     2  \n",
      "4     39.456764 -0.348139     25    T     2  \n",
      "...         ...       ...    ...  ...   ...  \n",
      "4063  39.456764 -0.348139     25    T     1  \n",
      "4064  39.456764 -0.348139     25    T     1  \n",
      "4065  39.456764 -0.348139     25    T     1  \n",
      "4066  39.456764 -0.348139     25    T     2  \n",
      "4067  39.456764 -0.348139     25    T     2  \n",
      "\n",
      "[4068 rows x 9 columns]\n"
     ]
    },
    {
     "data": {
      "text/plain": [
       "<Axes: xlabel='available', ylabel='Count'>"
      ]
     },
     "execution_count": 51,
     "metadata": {},
     "output_type": "execute_result"
    },
    {
     "data": {
      "image/png": "[encoded data removed]",
      "text/plain": [
       "<Figure size 2000x1200 with 1 Axes>"
      ]
     },
     "metadata": {},
     "output_type": "display_data"
    }
   ],
   "source": [
    "# Importaremos seaborn para gráficos\n",
    "import seaborn as sns\n",
    "import matplotlib.pyplot as plt\n",
    "# Imprimiremos la tabla para ver los datos\n",
    "print(df)\n",
    "\n",
    "plt.figure(figsize=(20,12))\n",
    "sns.histplot(data=df, x=\"available\", bins=\"fd\")"
   ]
  },
  {
   "cell_type": "code",
   "execution_count": null,
   "metadata": {},
   "outputs": [],
   "source": []
  }
 ],
 "metadata": {
  "kernelspec": {
   "display_name": ".venv",
   "language": "python",
   "name": "python3"
  },
  "language_info": {
   "codemirror_mode": {
    "name": "ipython",
    "version": 3
   },
   "file_extension": ".py",
   "mimetype": "text/x-python",
   "name": "python",
   "nbconvert_exporter": "python",
   "pygments_lexer": "ipython3",
   "version": "3.13.1"
  }
 },
 "nbformat": 4,
 "nbformat_minor": 2
}
