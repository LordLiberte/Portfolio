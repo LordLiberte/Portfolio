{
 "cells": [
  {
   "cell_type": "markdown",
   "metadata": {},
   "source": []
  },
  {
   "cell_type": "code",
   "execution_count": 2,
   "metadata": {},
   "outputs": [
    {
     "name": "stdout",
     "output_type": "stream",
     "text": [
      "el valor de 1293939 para la variable a\n"
     ]
    }
   ],
   "source": [
    "# Hello World!\n",
    "a = 1293939\n",
    "print(f\"el valor de {a} para la variable a\")"
   ]
  },
  {
   "cell_type": "code",
   "execution_count": 4,
   "metadata": {},
   "outputs": [
    {
     "name": "stdout",
     "output_type": "stream",
     "text": [
      "Hola\n"
     ]
    }
   ],
   "source": [
    "print(\"Hola\")"
   ]
  },
  {
   "cell_type": "markdown",
   "metadata": {},
   "source": [
    "Creación de Matrices en Python"
   ]
  },
  {
   "cell_type": "code",
   "execution_count": 8,
   "metadata": {},
   "outputs": [],
   "source": [
    "# Importamos librerío random\n",
    "import random"
   ]
  },
  {
   "cell_type": "code",
   "execution_count": 13,
   "metadata": {},
   "outputs": [
    {
     "name": "stdout",
     "output_type": "stream",
     "text": [
      "[[280, 581, 279], [582, 698, 935], [657, 417, 843]]\n"
     ]
    }
   ],
   "source": [
    "matriz = 3, 3  # Tupla Matriz 3x3\n",
    "ls_data = [] \n",
    "ls_range = list(range(1000))\n",
    "\n",
    "for fila in range(matriz[0]):\n",
    "    ls_fila = []\n",
    "    for columna in range(matriz[1]):\n",
    "        ls_fila.append(random.choice(ls_range))\n",
    "    ls_data.append(ls_fila)\n",
    "\n",
    "print(ls_data)"
   ]
  },
  {
   "cell_type": "markdown",
   "metadata": {},
   "source": [
    "Explicación del código:\n",
    "\n",
    "Tenemos una matriz 3x3, creamos una lista vacía donde almacenar los datos que generemos con la librería random y una lista de valores desde 0 hasta 1000.\n",
    "\n",
    "Crearemos una iteración para cada fila de nuestra matriz (en este caso 3 filas), ya que accedemos al indice 0 de la variable matriz, para cada iteración se creará una lista vacía a la que añadiremos valores aleatorios de nuestro rango. La adición de 3 valores aleatorios se debe a la iteración sobre el número de columnas que queremos, accediendo al indice 1 del tamaño de matriz. Así el proceso es:\n",
    "\n",
    "iteración 1 filas -> lista vacía 1 -> iteración 1 columnas -> selección valor 1 -> iteración 2 columnas -> selección valor 2 -> iteración 3 columnas -> selección valor 3\n",
    "\n",
    "iteración 2 filas -> lista vacía 2 -> iteración 1 columnas -> selección valor 1 -> iteración 2 columnas -> selección valor 2 -> iteración 3 columnas -> selección valor 3\n",
    "\n",
    "iteración 3 filas -> lista vacía 2 -> iteración 1 columnas -> selección valor 1 -> iteración 2 columnas -> selección valor 2 -> iteración 3 columnas -> selección valor 3\n",
    "\n",
    "El resultado es una lista con 3 sublistas de 3 elementos cada una. \n",
    "Lo que llamamos una matriz 3x3"
   ]
  }
 ],
 "metadata": {
  "kernelspec": {
   "display_name": ".venv",
   "language": "python",
   "name": "python3"
  },
  "language_info": {
   "codemirror_mode": {
    "name": "ipython",
    "version": 3
   },
   "file_extension": ".py",
   "mimetype": "text/x-python",
   "name": "python",
   "nbconvert_exporter": "python",
   "pygments_lexer": "ipython3",
   "version": "3.13.1"
  }
 },
 "nbformat": 4,
 "nbformat_minor": 2
}
