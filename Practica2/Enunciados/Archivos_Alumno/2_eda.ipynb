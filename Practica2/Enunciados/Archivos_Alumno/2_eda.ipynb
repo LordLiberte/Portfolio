{
 "cells": [
  {
   "cell_type": "markdown",
   "metadata": {},
   "source": [
    "# Práctica 2\n",
    "En esta práctica buscamos desarrollar un proyecto de Ciencia de Datos inicial para hacernos a la idea de las librerías que usaremos más adelante."
   ]
  },
  {
   "cell_type": "markdown",
   "metadata": {},
   "source": [
    "Para ello cargaremos librerías que necesitaremos en nuestro caso antes de comenzar con nuestro proyecto."
   ]
  },
  {
   "cell_type": "code",
   "execution_count": 1,
   "metadata": {},
   "outputs": [],
   "source": [
    "import pandas as pd\n",
    "import sqlite3\n",
    "import os\n",
    "import pathlib as path"
   ]
  },
  {
   "cell_type": "markdown",
   "metadata": {},
   "source": [
    "Los datos que usaremos provienen del portal de datasets del ayuntamiento de Valencia: https://valencia.opendatasoft.com/pages/home/, sobre el uso de las bicicletas."
   ]
  },
  {
   "cell_type": "markdown",
   "metadata": {},
   "source": [
    "Para ello descargaremos el dataset que en nuestro caso estará dentro de la carpeta data/raw."
   ]
  },
  {
   "cell_type": "code",
   "execution_count": 14,
   "metadata": {},
   "outputs": [
    {
     "name": "stdout",
     "output_type": "stream",
     "text": [
      "Archivo leido\n"
     ]
    }
   ],
   "source": [
    "# Creamos la ruta al archivo\n",
    "# os.chdir(\"./../\")  --- USAR SOLO UNA VEZ\n",
    "ruta = os.getcwd()\n",
    "archivo = \"/data/raw/usobici_raw.csv\"\n",
    "ruta_archivo = path.Path(ruta + archivo)\n",
    "\n",
    "# Comprobamos si se ha encontrado el archivo y se avisa a usuario\n",
    "if os.path.exists(ruta_archivo):\n",
    "    df = pd.read_csv(ruta_archivo)  # Creación de DataFrame\n",
    "    print(\"Archivo leido\")\n",
    "else:\n",
    "    print(\"Archivo no encontrado\")"
   ]
  },
  {
   "cell_type": "code",
   "execution_count": 15,
   "metadata": {},
   "outputs": [
    {
     "name": "stdout",
     "output_type": "stream",
     "text": [
      "                         updated                  address  number  available  \\\n",
      "0     2025-02-03 00:01:42.000000  Alameda - Pintor Maella      53         23   \n",
      "1     2025-02-03 00:09:53.000000  Alameda - Pintor Maella      53         25   \n",
      "2     2025-02-03 00:20:14.000000  Alameda - Pintor Maella      53         23   \n",
      "3     2025-02-03 00:30:36.000000  Alameda - Pintor Maella      53         23   \n",
      "4     2025-02-03 00:39:44.000000  Alameda - Pintor Maella      53         23   \n",
      "...                          ...                      ...     ...        ...   \n",
      "4063  2025-03-03 14:39:32.000000  Alameda - Pintor Maella      53         24   \n",
      "4064  2025-03-03 14:49:38.000000  Alameda - Pintor Maella      53         24   \n",
      "4065  2025-03-03 15:00:44.000000  Alameda - Pintor Maella      53         24   \n",
      "4066  2025-03-03 15:09:50.000000  Alameda - Pintor Maella      53         23   \n",
      "4067  2025-03-03 15:19:57.000000  Alameda - Pintor Maella      53         23   \n",
      "\n",
      "            lat       lon  total open  free  \n",
      "0     39.456764 -0.348139     25    T     2  \n",
      "1     39.456764 -0.348139     25    T     0  \n",
      "2     39.456764 -0.348139     25    T     2  \n",
      "3     39.456764 -0.348139     25    T     2  \n",
      "4     39.456764 -0.348139     25    T     2  \n",
      "...         ...       ...    ...  ...   ...  \n",
      "4063  39.456764 -0.348139     25    T     1  \n",
      "4064  39.456764 -0.348139     25    T     1  \n",
      "4065  39.456764 -0.348139     25    T     1  \n",
      "4066  39.456764 -0.348139     25    T     2  \n",
      "4067  39.456764 -0.348139     25    T     2  \n",
      "\n",
      "[4068 rows x 9 columns]\n"
     ]
    }
   ],
   "source": [
    "print(df)"
   ]
  }
 ],
 "metadata": {
  "kernelspec": {
   "display_name": ".venv",
   "language": "python",
   "name": "python3"
  },
  "language_info": {
   "codemirror_mode": {
    "name": "ipython",
    "version": 3
   },
   "file_extension": ".py",
   "mimetype": "text/x-python",
   "name": "python",
   "nbconvert_exporter": "python",
   "pygments_lexer": "ipython3",
   "version": "3.13.1"
  }
 },
 "nbformat": 4,
 "nbformat_minor": 2
}
