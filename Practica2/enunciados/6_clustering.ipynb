{
 "cells": [
  {
   "cell_type": "code",
   "execution_count": null,
   "metadata": {},
   "outputs": [],
   "source": [
    "import pandas as pd\n",
    "import os\n",
    "from sklearn.cluster import KMeans\n",
    "from scipy.cluster.hierarchy import fcluster \n",
    "import numpy as np\n",
    "import matplotlib.pyplot as plt\n",
    "import seaborn as sns\n",
    "from sklearn.metrics import silhouette_score\n",
    "from scipy.cluster.hierarchy import dendrogram, linkage, fcluster\n",
    "from sklearn import preprocessing\n",
    "import numpy as np\n",
    "print(os.getcwd())\n",
    "os.chdir('./../')\n",
    "print(os.getcwd())"
   ]
  },
  {
   "cell_type": "markdown",
   "metadata": {},
   "source": [
    "# Aprendizaje no supervisado\n",
    "\n",
    "NO se dispone de una variable objetivo.\n",
    "\n",
    "El objetivo es etiquetar a los datos con las características disponibles en el propio dataset.\n",
    "\n",
    "## Algoritmos de agrupación o clustering\n",
    "- K-means\n",
    "- DBSCAN\n",
    "- Jerárquico\n",
    "- Muchos más: [Algoritmos implementados Scikit learn](https://scikit-learn.org/stable/modules/clustering.html)\n",
    "\n",
    "\n",
    "## Funciones de comparación\n",
    "- Distancia euclídea\n",
    "- Distancia Manhattan\n",
    "- Distancia de Chebychev\n",
    "\n",
    "## Validación\n",
    "Mucha complejidad en la validación de las agrupaciones.\n",
    "\n",
    "Se necesita una validación del resultado haciendo uso de métricas y visualización.\n",
    "\n",
    "# Objetivo en la práctica\n",
    "\n",
    "1. Analizar la distribución de las estaciones buscando agrupaciones según su posición en la ciudad y la demanda que tienen en uso de bicicletas.\n",
    "2. Aplicar técnicas de transformación de datos y búsqueda de parámetros óptimos para obtener agrupaciones de estaciones.\n"
   ]
  },
  {
   "cell_type": "code",
   "execution_count": null,
   "metadata": {},
   "outputs": [],
   "source": [
    "df = pd.read_csv('./data/interim/estaciones.csv')\n",
    "df.tail()\n",
    "print(df.shape)\n",
    "df.head()"
   ]
  },
  {
   "cell_type": "code",
   "execution_count": null,
   "metadata": {},
   "outputs": [],
   "source": [
    "x_feat, y_feat = 'lon', 'lat'\n",
    "fig, ax = plt.subplots(1, 1, figsize=(5, 4))\n",
    "ax.scatter(df[x_feat], df[y_feat], s=2)\n",
    "plt.ylabel(y_feat)\n",
    "plt.xlabel(x_feat)\n",
    "fig.tight_layout()\n",
    "plt.show()"
   ]
  },
  {
   "cell_type": "code",
   "execution_count": null,
   "metadata": {},
   "outputs": [],
   "source": [
    "lscol = ['uso_bici', 'lat', 'lon']\n",
    "df.loc[:, lscol]\n",
    "df.columns"
   ]
  },
  {
   "cell_type": "code",
   "execution_count": null,
   "metadata": {},
   "outputs": [],
   "source": [
    "lscol = ['uso_bici', 'lat', 'lon']\n",
    "min_max_scaler = preprocessing.MinMaxScaler()\n",
    "minmx = min_max_scaler.fit(df.loc[:, lscol])\n",
    "df2gm = pd.DataFrame(minmx.transform(df.loc[:, lscol]), columns=lscol)\n",
    "df2gm"
   ]
  },
  {
   "cell_type": "code",
   "execution_count": null,
   "metadata": {},
   "outputs": [],
   "source": [
    "x_feat, y_feat, size = 'lon', 'lat', 'uso_bici'\n",
    "fig, ax = plt.subplots(1, 1, figsize=(5, 4))\n",
    "ax = ax.scatter(df2gm[x_feat], df2gm[y_feat], s=(df2gm[size]+1)**8, c=df2gm[size], cmap='viridis')\n",
    "plt.ylabel(y_feat)\n",
    "plt.xlabel(x_feat)\n",
    "fig.tight_layout()\n",
    "cbar = plt.colorbar(ax)\n",
    "cbar.set_label(size)\n",
    "plt.show()"
   ]
  },
  {
   "cell_type": "markdown",
   "metadata": {},
   "source": [
    "# Agrupación jerárquica\n",
    "- Dendogramas, ordenación por distancias de las instancias y agrupación\n",
    "- Calculo de matriz de similitud en función distancia\n",
    "- Uso de variables numéricas\n",
    "- No se define a priori un número de agrupaciones o k\n",
    "- Se puede generar agrupaciones teniendo en cuenta diferentes parámetros\n",
    "- Con el método single se pueden detectar outliers \n",
    "\n",
    "[Ejemplo visual de clustering](https://dashee87.github.io/data%20science/general/Clustering-with-Scikit-with-GIFs/)\n",
    "\n",
    "[Explicación de clustering jerárquico](https://joernhees.de/blog/2015/08/26/scipy-hierarchical-clustering-and-dendrogram-tutorial/)\n",
    "\n"
   ]
  },
  {
   "cell_type": "code",
   "execution_count": null,
   "metadata": {},
   "outputs": [],
   "source": [
    "def agrupacion_jerarquica(df, ls_cols, dist=3, method='ward',\n",
    "                          metric='euclidean', optimal_ordering=False):\n",
    "    mosaicstr=\"\"\"\n",
    "    ab\n",
    "    ab\n",
    "    cb\n",
    "    \"\"\"\n",
    "    fig, ax = plt.subplot_mosaic(mosaic=mosaicstr, figsize=(10, 6))\n",
    "    # relacion entre pares de instancias, distancia y acumulado\n",
    "    # Metodo aglomerativo, no divisivo\n",
    "    # https://docs.scipy.org/doc/scipy/reference/generated/scipy.cluster.hierarchy.linkage.html\n",
    "    Z = linkage(df.loc[:, ls_cols].values, method, \n",
    "                metric, optimal_ordering=optimal_ordering)\n",
    "    dendrogram(Z, ax=ax['a'], color_threshold=dist)\n",
    "    ax['a'].axhline(y=dist, color='r', linestyle='--')\n",
    "    ax['a'].set_title(f\"Dendograma - método {method}\")\n",
    "    ax['a'].set(xlabel='Estación', ylabel='Distancia')\n",
    "    agglo_clusters = fcluster(Z, t=dist,criterion='distance')\n",
    "    print(\"Nº Clusters: \", np.unique(agglo_clusters).shape[0])\n",
    "    ax['b'].set_title(f\"Clustering distribution k={np.unique(agglo_clusters).shape[0]}\")\n",
    "    ax['b'].set(xlabel=ls_cols[0], ylabel=ls_cols[1])\n",
    "    axb = ax['b'].scatter(df[ls_cols[0]], df[ls_cols[1]], \n",
    "                          c=agglo_clusters, cmap='Dark2', s=6)\n",
    "    cbar = plt.colorbar(axb)\n",
    "    cbar.set_label('k-clusters')\n",
    "    ax['c'].plot(Z[:, 2])\n",
    "    ax['c'].axhline(y=dist, color='r', linestyle='--')\n",
    "    # ax['c'].set_title(f\"Distancia en la aglomeración\")\n",
    "    ax['c'].set(xlabel='Nº estaciones acumuladas', ylabel='Distancia')\n",
    "    fig.tight_layout()\n",
    "    plt.show()"
   ]
  },
  {
   "cell_type": "markdown",
   "metadata": {},
   "source": [
    "Se pide buscar los mejores parámetros en:\n",
    "- method: single, complete, average o ward\n",
    "- metric: euclidean, mahalanobis o cityblock\n",
    "\n",
    "method: https://docs.scipy.org/doc/scipy/reference/generated/scipy.cluster.hierarchy.linkage.html\n",
    "\n",
    "metric: https://docs.scipy.org/doc/scipy/reference/generated/scipy.spatial.distance.pdist.html"
   ]
  },
  {
   "cell_type": "code",
   "execution_count": null,
   "metadata": {},
   "outputs": [],
   "source": [
    "# Se busca ajustar por distancias la mejor agrupación\n",
    "# metodos: single (minima distancia), complete (maxima distancia), average, ward\n",
    "ag = agrupacion_jerarquica(df=df2gm, dist=0.2, ls_cols=['lon', 'lat'], \n",
    "                           method='single', metric='mahalanobis', \n",
    "                           optimal_ordering=True)"
   ]
  },
  {
   "cell_type": "code",
   "execution_count": null,
   "metadata": {},
   "outputs": [],
   "source": [
    "agrupacion_jerarquica(df=df2gm, ls_cols=['lon', 'lat'], \n",
    "                      method='ward', \n",
    "                      dist=1, metric='euclidean', optimal_ordering=True)"
   ]
  },
  {
   "cell_type": "code",
   "execution_count": null,
   "metadata": {},
   "outputs": [],
   "source": [
    "# Incluimos la variable de uso de bicis\n",
    "agrupacion_jerarquica(df=df2gm, dist=0.1, \n",
    "                      ls_cols=['lon', 'lat', 'uso_bici'], \n",
    "                      method='single', metric='euclidean', optimal_ordering=True)"
   ]
  },
  {
   "cell_type": "code",
   "execution_count": null,
   "metadata": {},
   "outputs": [],
   "source": [
    "# Comparamos sin aplicar escalado\n",
    "agrupacion_jerarquica(df=df, dist=1000, ls_cols=['lon', 'lat', 'uso_bici'], \n",
    "                      method='ward', metric='euclidean', optimal_ordering=True)"
   ]
  },
  {
   "cell_type": "markdown",
   "metadata": {},
   "source": [
    "# Kmeans\n",
    "## Parametrización\n",
    "- La inicialización es importante, pero la implementación en SKlearn\n",
    "- Se define un número de agrupaciones objetivo antes del cálculo\n",
    "- Es iterativo y tiene una complejidad de cáculo alta\n",
    "\n",
    "## Evaluación\n",
    "Existen diferentes métricas aplicables como en el clustering jerárquico:\n",
    "- Coeficiente de silueta\n",
    "- Davies-Bouldin\n",
    "- Inercia o distorsión\n"
   ]
  },
  {
   "cell_type": "code",
   "execution_count": null,
   "metadata": {},
   "outputs": [],
   "source": [
    "df2gm"
   ]
  },
  {
   "cell_type": "code",
   "execution_count": null,
   "metadata": {},
   "outputs": [],
   "source": [
    "def plot_kmeans(df, max_k=10):\n",
    "    \"\"\"\n",
    "    Plots KMeans clustering and the elbow method for determining the optimal k.\n",
    "\n",
    "    Args:\n",
    "        df (pd.DataFrame): DataFrame containing the data.\n",
    "        max_k (int): Maximum number of clusters to test.\n",
    "    \"\"\"\n",
    "    ls_cols = ['lon', 'lat', 'uso_bici']\n",
    "    X = df.loc[:, ls_cols].values\n",
    "\n",
    "    # Calculate inertia for different values of k\n",
    "    inertia = []\n",
    "    silhouette_scores = []\n",
    "    for k in range(2, max_k + 1):\n",
    "        kmeans = KMeans(n_clusters=k, random_state=22, n_init=\"auto\").fit(X)\n",
    "        inertia.append(kmeans.inertia_)\n",
    "        silhouette_scores.append(silhouette_score(X, kmeans.labels_))\n",
    "\n",
    "    # Plotting\n",
    "    mosaicstr = \"\"\"\n",
    "    ab\n",
    "    \"\"\"\n",
    "    fig, ax = plt.subplot_mosaic(mosaic=mosaicstr, figsize=(10, 5))\n",
    "\n",
    "    # Plot KMeans clustering for the last k\n",
    "    kn = max_k #using the max_k for the final plot.\n",
    "    kmeans = KMeans(n_clusters=kn, random_state=22, n_init=\"auto\").fit(X)\n",
    "    labels1 = kmeans.labels_\n",
    "    centroids1 = kmeans.cluster_centers_\n",
    "\n",
    "    ax['b'].set_title(f\"Clustering distribution k={kn}\")\n",
    "    ax['b'].set(xlabel=ls_cols[0], ylabel=ls_cols[1])\n",
    "    axb = ax['b'].scatter(X[:, 0], X[:, 1], c=labels1, cmap='Dark2', s=10)\n",
    "    cbar = plt.colorbar(axb)\n",
    "    cbar.set_label('k-clusters')\n",
    "    ax['b'].scatter(centroids1[:, 0], centroids1[:, 1], marker='x',\n",
    "                    s=200, c='black')\n",
    "\n",
    "    # Codo\n",
    "    ax['a'].plot(range(2, max_k + 1), inertia, marker='o')\n",
    "    ax['a'].set_title('Elbow Method')\n",
    "    ax['a'].set_xlabel('Number of clusters (k)')\n",
    "    ax['a'].set_ylabel('Inertia')\n",
    "\n",
    "    fig.tight_layout()\n",
    "    plt.show()\n",
    "    return kmeans.get_params()\n"
   ]
  },
  {
   "cell_type": "code",
   "execution_count": null,
   "metadata": {},
   "outputs": [],
   "source": [
    "params = plot_kmeans(df2gm, 2)"
   ]
  },
  {
   "cell_type": "code",
   "execution_count": null,
   "metadata": {},
   "outputs": [],
   "source": [
    "ls_cols = ['lon', 'lat', 'uso_bici']\n",
    "X = df2gm.loc[:, ls_cols].values\n",
    "params['n_clusters'] = 15\n",
    "kmeans = KMeans(**params).fit(X)\n",
    "silhouette_score(X, kmeans.labels_), kmeans.inertia_"
   ]
  },
  {
   "cell_type": "markdown",
   "metadata": {},
   "source": [
    "# Conclusiones\n",
    "- Se prueba el uso de transformaciones para obtener conocimiento \n",
    "- Se obtiene agrupaciones que puen ajustarse mejor a las delimitaciones de barrio"
   ]
  }
 ],
 "metadata": {
  "kernelspec": {
   "display_name": "mientorno",
   "language": "python",
   "name": "python3"
  },
  "language_info": {
   "codemirror_mode": {
    "name": "ipython",
    "version": 3
   },
   "file_extension": ".py",
   "mimetype": "text/x-python",
   "name": "python",
   "nbconvert_exporter": "python",
   "pygments_lexer": "ipython3",
   "version": "3.12.3"
  }
 },
 "nbformat": 4,
 "nbformat_minor": 2
}
