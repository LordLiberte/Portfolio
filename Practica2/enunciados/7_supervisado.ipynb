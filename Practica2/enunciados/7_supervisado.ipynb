{
 "cells": [
  {
   "cell_type": "code",
   "execution_count": 1,
   "metadata": {},
   "outputs": [],
   "source": [
    "import pandas as pd\n",
    "import numpy as np\n",
    "import seaborn as sns\n",
    "import sqlite3\n",
    "import os\n",
    "import matplotlib.pyplot as plt\n",
    "from sklearn.tree import DecisionTreeRegressor, plot_tree\n",
    "from sklearn import linear_model\n",
    "from sklearn.model_selection import train_test_split\n",
    "from sklearn import metrics\n",
    "import statsmodels.api as sm\n",
    "import dtreeviz\n",
    "import matplotlib.font_manager\n",
    "import scipy as sp\n",
    "import warnings"
   ]
  },
  {
   "cell_type": "code",
   "execution_count": 2,
   "metadata": {},
   "outputs": [
    {
     "name": "stdout",
     "output_type": "stream",
     "text": [
      "c:\\Users\\ghost\\OneDrive\\PC_Casa\\Ciencia_Datos_IA\\2024-2025\\2n Cuatri\\Introducción a la Ciencia de Datos\\Actividades\\Portfolio\\Practica2\\enunciados\n",
      "c:\\Users\\ghost\\OneDrive\\PC_Casa\\Ciencia_Datos_IA\\2024-2025\\2n Cuatri\\Introducción a la Ciencia de Datos\\Actividades\\Portfolio\\Practica2\n"
     ]
    }
   ],
   "source": [
    "print(os.getcwd())\n",
    "os.chdir('./../')\n",
    "print(os.getcwd())"
   ]
  },
  {
   "cell_type": "code",
   "execution_count": 3,
   "metadata": {},
   "outputs": [
    {
     "data": {
      "text/plain": [
       "['Solarize_Light2',\n",
       " '_classic_test_patch',\n",
       " '_mpl-gallery',\n",
       " '_mpl-gallery-nogrid',\n",
       " 'bmh',\n",
       " 'classic',\n",
       " 'dark_background',\n",
       " 'fast',\n",
       " 'fivethirtyeight',\n",
       " 'ggplot',\n",
       " 'grayscale',\n",
       " 'seaborn-v0_8',\n",
       " 'seaborn-v0_8-bright',\n",
       " 'seaborn-v0_8-colorblind',\n",
       " 'seaborn-v0_8-dark',\n",
       " 'seaborn-v0_8-dark-palette',\n",
       " 'seaborn-v0_8-darkgrid',\n",
       " 'seaborn-v0_8-deep',\n",
       " 'seaborn-v0_8-muted',\n",
       " 'seaborn-v0_8-notebook',\n",
       " 'seaborn-v0_8-paper',\n",
       " 'seaborn-v0_8-pastel',\n",
       " 'seaborn-v0_8-poster',\n",
       " 'seaborn-v0_8-talk',\n",
       " 'seaborn-v0_8-ticks',\n",
       " 'seaborn-v0_8-white',\n",
       " 'seaborn-v0_8-whitegrid',\n",
       " 'tableau-colorblind10']"
      ]
     },
     "execution_count": 3,
     "metadata": {},
     "output_type": "execute_result"
    }
   ],
   "source": [
    "plt.style.available"
   ]
  },
  {
   "cell_type": "code",
   "execution_count": 4,
   "metadata": {},
   "outputs": [],
   "source": [
    "# Configuraciones\n",
    "# ------------------------------------------------------\n",
    "pd.set_option('display.max_columns', None)\n",
    "pd.options.display.float_format = '{:.2f}'.format\n",
    "warnings.filterwarnings('ignore')\n",
    "\n",
    "plt.style.use(\"seaborn-v0_8-talk\")\n",
    "plt.rc(\"figure\", autolayout=True, figsize=(11, 5))\n",
    "plt.rc(\n",
    "    \"axes\",\n",
    "    labelweight=\"bold\",\n",
    "    labelsize=\"large\",\n",
    "    titleweight=\"bold\",\n",
    "    titlesize=14,\n",
    "    titlepad=10,\n",
    ")\n",
    "plot_params = dict(\n",
    "    markeredgecolor=\"0.25\",\n",
    "    markerfacecolor=\"0.25\",\n",
    "    legend=True,\n",
    ")"
   ]
  },
  {
   "cell_type": "markdown",
   "metadata": {},
   "source": [
    "# Funciones"
   ]
  },
  {
   "cell_type": "code",
   "execution_count": 5,
   "metadata": {},
   "outputs": [],
   "source": [
    "def metricas_evaluacion(y_test, y_pred, printed=True):\n",
    "    if printed:\n",
    "        print('Mean Absolute Error:', metrics.mean_absolute_error(y_test,y_pred))\n",
    "        print('Mean Squared Error:', metrics.mean_squared_error(y_test, y_pred))\n",
    "        print('Root Mean Squared Error:', np.sqrt(metrics.mean_squared_error(y_test,y_pred)))\n",
    "        print('r2_score:', metrics.r2_score(y_test,y_pred))\n",
    "        print('MAPE:', metrics.mean_absolute_percentage_error(y_test,y_pred))\n",
    "        return None\n",
    "    else:\n",
    "        return metrics.mean_absolute_error(y_test,y_pred)"
   ]
  },
  {
   "cell_type": "code",
   "execution_count": 6,
   "metadata": {},
   "outputs": [],
   "source": [
    "def plot_train_test_predict(y_train, y_test, y_pred):\n",
    "    fig, ax = plt.subplots(1, 1, figsize=(7, 4))\n",
    "    y_train.plot(**plot_params, ax=ax, color='blue', alpha=0.5, label='Train')\n",
    "    y_test.plot(**plot_params, ax=ax, color='grey', alpha=0.5, label='Test')\n",
    "    y_pred = pd.Series(y_pred, index=y_test.index)\n",
    "    y_pred.plot(**plot_params, ax=ax, color='r', label='Predict')\n",
    "    mae = metricas_evaluacion(y_test, y_pred, printed=False)\n",
    "    fig.suptitle(f\"Predicción de uso de bicicletas, MAE {mae:.2f}\")\n",
    "    plt.legend(loc=0)\n",
    "    plt.xticks(rotation=70)\n",
    "    plt.show()"
   ]
  },
  {
   "cell_type": "markdown",
   "metadata": {},
   "source": [
    "# Carga de datos"
   ]
  },
  {
   "cell_type": "code",
   "execution_count": 7,
   "metadata": {},
   "outputs": [
    {
     "data": {
      "application/vnd.microsoft.datawrangler.viewer.v0+json": {
       "columns": [
        {
         "name": "index",
         "rawType": "int64",
         "type": "integer"
        },
        {
         "name": "prec",
         "rawType": "float64",
         "type": "float"
        },
        {
         "name": "vmax",
         "rawType": "float64",
         "type": "float"
        },
        {
         "name": "vv",
         "rawType": "float64",
         "type": "float"
        },
        {
         "name": "hr",
         "rawType": "float64",
         "type": "float"
        },
        {
         "name": "ta",
         "rawType": "float64",
         "type": "float"
        },
        {
         "name": "tpr",
         "rawType": "float64",
         "type": "float"
        },
        {
         "name": "tamin",
         "rawType": "float64",
         "type": "float"
        },
        {
         "name": "tamax",
         "rawType": "float64",
         "type": "float"
        },
        {
         "name": "fecha",
         "rawType": "object",
         "type": "string"
        },
        {
         "name": "uso_bici",
         "rawType": "float64",
         "type": "float"
        },
        {
         "name": "name",
         "rawType": "object",
         "type": "string"
        },
        {
         "name": "hora",
         "rawType": "int64",
         "type": "integer"
        },
        {
         "name": "dia",
         "rawType": "int64",
         "type": "integer"
        },
        {
         "name": "mes",
         "rawType": "int64",
         "type": "integer"
        },
        {
         "name": "anio",
         "rawType": "int64",
         "type": "integer"
        },
        {
         "name": "dia_nombre",
         "rawType": "object",
         "type": "string"
        },
        {
         "name": "dia_semana",
         "rawType": "int64",
         "type": "integer"
        },
        {
         "name": "findesemana",
         "rawType": "int64",
         "type": "integer"
        }
       ],
       "conversionMethod": "pd.DataFrame",
       "ref": "74038047-d479-43e7-8c75-812a34f888d4",
       "rows": [
        [
         "668",
         "0.0",
         "8.6",
         "2.0",
         "81.0",
         "14.1",
         "10.9",
         "13.7",
         "14.1",
         "2025-03-03 06:00:00+00:00",
         "2.0",
         "CAMPANAR",
         "6",
         "3",
         "3",
         "2025",
         "Monday",
         "0",
         "0"
        ],
        [
         "669",
         "0.0",
         "9.2",
         "2.1",
         "81.0",
         "14.3",
         "11.1",
         "14.1",
         "14.4",
         "2025-03-03 07:00:00+00:00",
         "5.0",
         "CAMPANAR",
         "7",
         "3",
         "3",
         "2025",
         "Monday",
         "0",
         "0"
        ],
        [
         "670",
         "0.6",
         "9.3",
         "2.2",
         "81.0",
         "14.1",
         "10.9",
         "14.1",
         "14.4",
         "2025-03-03 08:00:00+00:00",
         "10.0",
         "CAMPANAR",
         "8",
         "3",
         "3",
         "2025",
         "Monday",
         "0",
         "0"
        ],
        [
         "671",
         "1.5",
         "8.0",
         "2.3",
         "81.0",
         "14.3",
         "11.1",
         "14.0",
         "14.4",
         "2025-03-03 09:00:00+00:00",
         "8.0",
         "CAMPANAR",
         "9",
         "3",
         "3",
         "2025",
         "Monday",
         "0",
         "0"
        ],
        [
         "672",
         "1.2",
         "9.7",
         "2.9",
         "81.0",
         "14.4",
         "11.2",
         "14.2",
         "14.4",
         "2025-03-03 10:00:00+00:00",
         "3.0",
         "CAMPANAR",
         "10",
         "3",
         "3",
         "2025",
         "Monday",
         "0",
         "0"
        ]
       ],
       "shape": {
        "columns": 18,
        "rows": 5
       }
      },
      "text/html": [
       "<div>\n",
       "<style scoped>\n",
       "    .dataframe tbody tr th:only-of-type {\n",
       "        vertical-align: middle;\n",
       "    }\n",
       "\n",
       "    .dataframe tbody tr th {\n",
       "        vertical-align: top;\n",
       "    }\n",
       "\n",
       "    .dataframe thead th {\n",
       "        text-align: right;\n",
       "    }\n",
       "</style>\n",
       "<table border=\"1\" class=\"dataframe\">\n",
       "  <thead>\n",
       "    <tr style=\"text-align: right;\">\n",
       "      <th></th>\n",
       "      <th>prec</th>\n",
       "      <th>vmax</th>\n",
       "      <th>vv</th>\n",
       "      <th>hr</th>\n",
       "      <th>ta</th>\n",
       "      <th>tpr</th>\n",
       "      <th>tamin</th>\n",
       "      <th>tamax</th>\n",
       "      <th>fecha</th>\n",
       "      <th>uso_bici</th>\n",
       "      <th>name</th>\n",
       "      <th>hora</th>\n",
       "      <th>dia</th>\n",
       "      <th>mes</th>\n",
       "      <th>anio</th>\n",
       "      <th>dia_nombre</th>\n",
       "      <th>dia_semana</th>\n",
       "      <th>findesemana</th>\n",
       "    </tr>\n",
       "  </thead>\n",
       "  <tbody>\n",
       "    <tr>\n",
       "      <th>668</th>\n",
       "      <td>0.00</td>\n",
       "      <td>8.60</td>\n",
       "      <td>2.00</td>\n",
       "      <td>81.00</td>\n",
       "      <td>14.10</td>\n",
       "      <td>10.90</td>\n",
       "      <td>13.70</td>\n",
       "      <td>14.10</td>\n",
       "      <td>2025-03-03 06:00:00+00:00</td>\n",
       "      <td>2.00</td>\n",
       "      <td>CAMPANAR</td>\n",
       "      <td>6</td>\n",
       "      <td>3</td>\n",
       "      <td>3</td>\n",
       "      <td>2025</td>\n",
       "      <td>Monday</td>\n",
       "      <td>0</td>\n",
       "      <td>0</td>\n",
       "    </tr>\n",
       "    <tr>\n",
       "      <th>669</th>\n",
       "      <td>0.00</td>\n",
       "      <td>9.20</td>\n",
       "      <td>2.10</td>\n",
       "      <td>81.00</td>\n",
       "      <td>14.30</td>\n",
       "      <td>11.10</td>\n",
       "      <td>14.10</td>\n",
       "      <td>14.40</td>\n",
       "      <td>2025-03-03 07:00:00+00:00</td>\n",
       "      <td>5.00</td>\n",
       "      <td>CAMPANAR</td>\n",
       "      <td>7</td>\n",
       "      <td>3</td>\n",
       "      <td>3</td>\n",
       "      <td>2025</td>\n",
       "      <td>Monday</td>\n",
       "      <td>0</td>\n",
       "      <td>0</td>\n",
       "    </tr>\n",
       "    <tr>\n",
       "      <th>670</th>\n",
       "      <td>0.60</td>\n",
       "      <td>9.30</td>\n",
       "      <td>2.20</td>\n",
       "      <td>81.00</td>\n",
       "      <td>14.10</td>\n",
       "      <td>10.90</td>\n",
       "      <td>14.10</td>\n",
       "      <td>14.40</td>\n",
       "      <td>2025-03-03 08:00:00+00:00</td>\n",
       "      <td>10.00</td>\n",
       "      <td>CAMPANAR</td>\n",
       "      <td>8</td>\n",
       "      <td>3</td>\n",
       "      <td>3</td>\n",
       "      <td>2025</td>\n",
       "      <td>Monday</td>\n",
       "      <td>0</td>\n",
       "      <td>0</td>\n",
       "    </tr>\n",
       "    <tr>\n",
       "      <th>671</th>\n",
       "      <td>1.50</td>\n",
       "      <td>8.00</td>\n",
       "      <td>2.30</td>\n",
       "      <td>81.00</td>\n",
       "      <td>14.30</td>\n",
       "      <td>11.10</td>\n",
       "      <td>14.00</td>\n",
       "      <td>14.40</td>\n",
       "      <td>2025-03-03 09:00:00+00:00</td>\n",
       "      <td>8.00</td>\n",
       "      <td>CAMPANAR</td>\n",
       "      <td>9</td>\n",
       "      <td>3</td>\n",
       "      <td>3</td>\n",
       "      <td>2025</td>\n",
       "      <td>Monday</td>\n",
       "      <td>0</td>\n",
       "      <td>0</td>\n",
       "    </tr>\n",
       "    <tr>\n",
       "      <th>672</th>\n",
       "      <td>1.20</td>\n",
       "      <td>9.70</td>\n",
       "      <td>2.90</td>\n",
       "      <td>81.00</td>\n",
       "      <td>14.40</td>\n",
       "      <td>11.20</td>\n",
       "      <td>14.20</td>\n",
       "      <td>14.40</td>\n",
       "      <td>2025-03-03 10:00:00+00:00</td>\n",
       "      <td>3.00</td>\n",
       "      <td>CAMPANAR</td>\n",
       "      <td>10</td>\n",
       "      <td>3</td>\n",
       "      <td>3</td>\n",
       "      <td>2025</td>\n",
       "      <td>Monday</td>\n",
       "      <td>0</td>\n",
       "      <td>0</td>\n",
       "    </tr>\n",
       "  </tbody>\n",
       "</table>\n",
       "</div>"
      ],
      "text/plain": [
       "     prec  vmax   vv    hr    ta   tpr  tamin  tamax  \\\n",
       "668  0.00  8.60 2.00 81.00 14.10 10.90  13.70  14.10   \n",
       "669  0.00  9.20 2.10 81.00 14.30 11.10  14.10  14.40   \n",
       "670  0.60  9.30 2.20 81.00 14.10 10.90  14.10  14.40   \n",
       "671  1.50  8.00 2.30 81.00 14.30 11.10  14.00  14.40   \n",
       "672  1.20  9.70 2.90 81.00 14.40 11.20  14.20  14.40   \n",
       "\n",
       "                         fecha  uso_bici      name  hora  dia  mes  anio  \\\n",
       "668  2025-03-03 06:00:00+00:00      2.00  CAMPANAR     6    3    3  2025   \n",
       "669  2025-03-03 07:00:00+00:00      5.00  CAMPANAR     7    3    3  2025   \n",
       "670  2025-03-03 08:00:00+00:00     10.00  CAMPANAR     8    3    3  2025   \n",
       "671  2025-03-03 09:00:00+00:00      8.00  CAMPANAR     9    3    3  2025   \n",
       "672  2025-03-03 10:00:00+00:00      3.00  CAMPANAR    10    3    3  2025   \n",
       "\n",
       "    dia_nombre  dia_semana  findesemana  \n",
       "668     Monday           0            0  \n",
       "669     Monday           0            0  \n",
       "670     Monday           0            0  \n",
       "671     Monday           0            0  \n",
       "672     Monday           0            0  "
      ]
     },
     "execution_count": 7,
     "metadata": {},
     "output_type": "execute_result"
    }
   ],
   "source": [
    "df = pd.read_csv('./data/processed/usobarriosmeteo.csv')\n",
    "df.tail()"
   ]
  },
  {
   "cell_type": "code",
   "execution_count": 8,
   "metadata": {},
   "outputs": [
    {
     "data": {
      "application/vnd.microsoft.datawrangler.viewer.v0+json": {
       "columns": [
        {
         "name": "index",
         "rawType": "int64",
         "type": "integer"
        },
        {
         "name": "prec",
         "rawType": "float64",
         "type": "float"
        },
        {
         "name": "vmax",
         "rawType": "float64",
         "type": "float"
        },
        {
         "name": "vv",
         "rawType": "float64",
         "type": "float"
        },
        {
         "name": "hr",
         "rawType": "float64",
         "type": "float"
        },
        {
         "name": "ta",
         "rawType": "float64",
         "type": "float"
        },
        {
         "name": "tpr",
         "rawType": "float64",
         "type": "float"
        },
        {
         "name": "tamin",
         "rawType": "float64",
         "type": "float"
        },
        {
         "name": "tamax",
         "rawType": "float64",
         "type": "float"
        },
        {
         "name": "fecha",
         "rawType": "datetime64[ns, UTC]",
         "type": "unknown"
        },
        {
         "name": "uso_bici",
         "rawType": "float64",
         "type": "float"
        },
        {
         "name": "name",
         "rawType": "object",
         "type": "string"
        },
        {
         "name": "hora",
         "rawType": "int64",
         "type": "integer"
        },
        {
         "name": "dia",
         "rawType": "int64",
         "type": "integer"
        },
        {
         "name": "mes",
         "rawType": "int64",
         "type": "integer"
        },
        {
         "name": "anio",
         "rawType": "int64",
         "type": "integer"
        },
        {
         "name": "dia_nombre",
         "rawType": "object",
         "type": "string"
        },
        {
         "name": "dia_semana",
         "rawType": "int64",
         "type": "integer"
        },
        {
         "name": "findesemana",
         "rawType": "int64",
         "type": "integer"
        }
       ],
       "conversionMethod": "pd.DataFrame",
       "ref": "fbda4416-e10b-4d2f-899a-c7f0d38885e3",
       "rows": [
        [
         "668",
         "0.0",
         "8.6",
         "2.0",
         "81.0",
         "14.1",
         "10.9",
         "13.7",
         "14.1",
         "2025-03-03 06:00:00+00:00",
         "2.0",
         "CAMPANAR",
         "6",
         "3",
         "3",
         "2025",
         "Monday",
         "0",
         "0"
        ],
        [
         "669",
         "0.0",
         "9.2",
         "2.1",
         "81.0",
         "14.3",
         "11.1",
         "14.1",
         "14.4",
         "2025-03-03 07:00:00+00:00",
         "5.0",
         "CAMPANAR",
         "7",
         "3",
         "3",
         "2025",
         "Monday",
         "0",
         "0"
        ],
        [
         "670",
         "0.6",
         "9.3",
         "2.2",
         "81.0",
         "14.1",
         "10.9",
         "14.1",
         "14.4",
         "2025-03-03 08:00:00+00:00",
         "10.0",
         "CAMPANAR",
         "8",
         "3",
         "3",
         "2025",
         "Monday",
         "0",
         "0"
        ],
        [
         "671",
         "1.5",
         "8.0",
         "2.3",
         "81.0",
         "14.3",
         "11.1",
         "14.0",
         "14.4",
         "2025-03-03 09:00:00+00:00",
         "8.0",
         "CAMPANAR",
         "9",
         "3",
         "3",
         "2025",
         "Monday",
         "0",
         "0"
        ],
        [
         "672",
         "1.2",
         "9.7",
         "2.9",
         "81.0",
         "14.4",
         "11.2",
         "14.2",
         "14.4",
         "2025-03-03 10:00:00+00:00",
         "3.0",
         "CAMPANAR",
         "10",
         "3",
         "3",
         "2025",
         "Monday",
         "0",
         "0"
        ]
       ],
       "shape": {
        "columns": 18,
        "rows": 5
       }
      },
      "text/html": [
       "<div>\n",
       "<style scoped>\n",
       "    .dataframe tbody tr th:only-of-type {\n",
       "        vertical-align: middle;\n",
       "    }\n",
       "\n",
       "    .dataframe tbody tr th {\n",
       "        vertical-align: top;\n",
       "    }\n",
       "\n",
       "    .dataframe thead th {\n",
       "        text-align: right;\n",
       "    }\n",
       "</style>\n",
       "<table border=\"1\" class=\"dataframe\">\n",
       "  <thead>\n",
       "    <tr style=\"text-align: right;\">\n",
       "      <th></th>\n",
       "      <th>prec</th>\n",
       "      <th>vmax</th>\n",
       "      <th>vv</th>\n",
       "      <th>hr</th>\n",
       "      <th>ta</th>\n",
       "      <th>tpr</th>\n",
       "      <th>tamin</th>\n",
       "      <th>tamax</th>\n",
       "      <th>fecha</th>\n",
       "      <th>uso_bici</th>\n",
       "      <th>name</th>\n",
       "      <th>hora</th>\n",
       "      <th>dia</th>\n",
       "      <th>mes</th>\n",
       "      <th>anio</th>\n",
       "      <th>dia_nombre</th>\n",
       "      <th>dia_semana</th>\n",
       "      <th>findesemana</th>\n",
       "    </tr>\n",
       "  </thead>\n",
       "  <tbody>\n",
       "    <tr>\n",
       "      <th>668</th>\n",
       "      <td>0.00</td>\n",
       "      <td>8.60</td>\n",
       "      <td>2.00</td>\n",
       "      <td>81.00</td>\n",
       "      <td>14.10</td>\n",
       "      <td>10.90</td>\n",
       "      <td>13.70</td>\n",
       "      <td>14.10</td>\n",
       "      <td>2025-03-03 06:00:00+00:00</td>\n",
       "      <td>2.00</td>\n",
       "      <td>CAMPANAR</td>\n",
       "      <td>6</td>\n",
       "      <td>3</td>\n",
       "      <td>3</td>\n",
       "      <td>2025</td>\n",
       "      <td>Monday</td>\n",
       "      <td>0</td>\n",
       "      <td>0</td>\n",
       "    </tr>\n",
       "    <tr>\n",
       "      <th>669</th>\n",
       "      <td>0.00</td>\n",
       "      <td>9.20</td>\n",
       "      <td>2.10</td>\n",
       "      <td>81.00</td>\n",
       "      <td>14.30</td>\n",
       "      <td>11.10</td>\n",
       "      <td>14.10</td>\n",
       "      <td>14.40</td>\n",
       "      <td>2025-03-03 07:00:00+00:00</td>\n",
       "      <td>5.00</td>\n",
       "      <td>CAMPANAR</td>\n",
       "      <td>7</td>\n",
       "      <td>3</td>\n",
       "      <td>3</td>\n",
       "      <td>2025</td>\n",
       "      <td>Monday</td>\n",
       "      <td>0</td>\n",
       "      <td>0</td>\n",
       "    </tr>\n",
       "    <tr>\n",
       "      <th>670</th>\n",
       "      <td>0.60</td>\n",
       "      <td>9.30</td>\n",
       "      <td>2.20</td>\n",
       "      <td>81.00</td>\n",
       "      <td>14.10</td>\n",
       "      <td>10.90</td>\n",
       "      <td>14.10</td>\n",
       "      <td>14.40</td>\n",
       "      <td>2025-03-03 08:00:00+00:00</td>\n",
       "      <td>10.00</td>\n",
       "      <td>CAMPANAR</td>\n",
       "      <td>8</td>\n",
       "      <td>3</td>\n",
       "      <td>3</td>\n",
       "      <td>2025</td>\n",
       "      <td>Monday</td>\n",
       "      <td>0</td>\n",
       "      <td>0</td>\n",
       "    </tr>\n",
       "    <tr>\n",
       "      <th>671</th>\n",
       "      <td>1.50</td>\n",
       "      <td>8.00</td>\n",
       "      <td>2.30</td>\n",
       "      <td>81.00</td>\n",
       "      <td>14.30</td>\n",
       "      <td>11.10</td>\n",
       "      <td>14.00</td>\n",
       "      <td>14.40</td>\n",
       "      <td>2025-03-03 09:00:00+00:00</td>\n",
       "      <td>8.00</td>\n",
       "      <td>CAMPANAR</td>\n",
       "      <td>9</td>\n",
       "      <td>3</td>\n",
       "      <td>3</td>\n",
       "      <td>2025</td>\n",
       "      <td>Monday</td>\n",
       "      <td>0</td>\n",
       "      <td>0</td>\n",
       "    </tr>\n",
       "    <tr>\n",
       "      <th>672</th>\n",
       "      <td>1.20</td>\n",
       "      <td>9.70</td>\n",
       "      <td>2.90</td>\n",
       "      <td>81.00</td>\n",
       "      <td>14.40</td>\n",
       "      <td>11.20</td>\n",
       "      <td>14.20</td>\n",
       "      <td>14.40</td>\n",
       "      <td>2025-03-03 10:00:00+00:00</td>\n",
       "      <td>3.00</td>\n",
       "      <td>CAMPANAR</td>\n",
       "      <td>10</td>\n",
       "      <td>3</td>\n",
       "      <td>3</td>\n",
       "      <td>2025</td>\n",
       "      <td>Monday</td>\n",
       "      <td>0</td>\n",
       "      <td>0</td>\n",
       "    </tr>\n",
       "  </tbody>\n",
       "</table>\n",
       "</div>"
      ],
      "text/plain": [
       "     prec  vmax   vv    hr    ta   tpr  tamin  tamax  \\\n",
       "668  0.00  8.60 2.00 81.00 14.10 10.90  13.70  14.10   \n",
       "669  0.00  9.20 2.10 81.00 14.30 11.10  14.10  14.40   \n",
       "670  0.60  9.30 2.20 81.00 14.10 10.90  14.10  14.40   \n",
       "671  1.50  8.00 2.30 81.00 14.30 11.10  14.00  14.40   \n",
       "672  1.20  9.70 2.90 81.00 14.40 11.20  14.20  14.40   \n",
       "\n",
       "                        fecha  uso_bici      name  hora  dia  mes  anio  \\\n",
       "668 2025-03-03 06:00:00+00:00      2.00  CAMPANAR     6    3    3  2025   \n",
       "669 2025-03-03 07:00:00+00:00      5.00  CAMPANAR     7    3    3  2025   \n",
       "670 2025-03-03 08:00:00+00:00     10.00  CAMPANAR     8    3    3  2025   \n",
       "671 2025-03-03 09:00:00+00:00      8.00  CAMPANAR     9    3    3  2025   \n",
       "672 2025-03-03 10:00:00+00:00      3.00  CAMPANAR    10    3    3  2025   \n",
       "\n",
       "    dia_nombre  dia_semana  findesemana  \n",
       "668     Monday           0            0  \n",
       "669     Monday           0            0  \n",
       "670     Monday           0            0  \n",
       "671     Monday           0            0  \n",
       "672     Monday           0            0  "
      ]
     },
     "execution_count": 8,
     "metadata": {},
     "output_type": "execute_result"
    }
   ],
   "source": [
    "df['fecha'] = pd.to_datetime(df['fecha'])\n",
    "df.sort_values('fecha', inplace=True)\n",
    "df.tail()"
   ]
  },
  {
   "cell_type": "code",
   "execution_count": 9,
   "metadata": {},
   "outputs": [
    {
     "data": {
      "text/plain": [
       "Index(['prec', 'vmax', 'vv', 'hr', 'ta', 'tpr', 'tamin', 'tamax', 'fecha',\n",
       "       'uso_bici', 'name', 'hora', 'dia', 'mes', 'anio', 'dia_nombre',\n",
       "       'dia_semana', 'findesemana'],\n",
       "      dtype='object')"
      ]
     },
     "execution_count": 9,
     "metadata": {},
     "output_type": "execute_result"
    }
   ],
   "source": [
    "df.columns"
   ]
  },
  {
   "cell_type": "code",
   "execution_count": 10,
   "metadata": {},
   "outputs": [
    {
     "data": {
      "text/plain": [
       "(0, 18)"
      ]
     },
     "execution_count": 10,
     "metadata": {},
     "output_type": "execute_result"
    }
   ],
   "source": [
    "df = df.loc[df['name']=='EL CARME'].copy()\n",
    "df.sort_values('fecha', inplace=True)\n",
    "df.shape"
   ]
  },
  {
   "cell_type": "markdown",
   "metadata": {},
   "source": [
    "# Separar train test"
   ]
  },
  {
   "cell_type": "code",
   "execution_count": 11,
   "metadata": {},
   "outputs": [
    {
     "data": {
      "text/plain": [
       "((0, 2), (0,))"
      ]
     },
     "execution_count": 11,
     "metadata": {},
     "output_type": "execute_result"
    }
   ],
   "source": [
    "X = df.loc[:, ['hora', 'dia']]\n",
    "y = df['uso_bici']\n",
    "X.shape, y.shape"
   ]
  },
  {
   "cell_type": "code",
   "execution_count": 12,
   "metadata": {},
   "outputs": [
    {
     "ename": "ValueError",
     "evalue": "With n_samples=0, test_size=0.25 and train_size=None, the resulting train set will be empty. Adjust any of the aforementioned parameters.",
     "output_type": "error",
     "traceback": [
      "\u001b[31m---------------------------------------------------------------------------\u001b[39m",
      "\u001b[31mValueError\u001b[39m                                Traceback (most recent call last)",
      "\u001b[36mCell\u001b[39m\u001b[36m \u001b[39m\u001b[32mIn[12]\u001b[39m\u001b[32m, line 1\u001b[39m\n\u001b[32m----> \u001b[39m\u001b[32m1\u001b[39m res_split = \u001b[43mtrain_test_split\u001b[49m\u001b[43m(\u001b[49m\u001b[43mX\u001b[49m\u001b[43m,\u001b[49m\u001b[43m \u001b[49m\u001b[43my\u001b[49m\u001b[43m,\u001b[49m\u001b[43m \u001b[49m\u001b[43mrandom_state\u001b[49m\u001b[43m=\u001b[49m\u001b[32;43m22\u001b[39;49m\u001b[43m,\u001b[49m\u001b[43m \u001b[49m\u001b[43mshuffle\u001b[49m\u001b[43m=\u001b[49m\u001b[38;5;28;43;01mFalse\u001b[39;49;00m\u001b[43m)\u001b[49m\n\u001b[32m      2\u001b[39m X_train, X_test, y_train, y_test = res_split\n",
      "\u001b[36mFile \u001b[39m\u001b[32mc:\\Users\\ghost\\OneDrive\\PC_Casa\\Ciencia_Datos_IA\\2024-2025\\2n Cuatri\\Introducción a la Ciencia de Datos\\Actividades\\Portfolio\\.venv\\Lib\\site-packages\\sklearn\\utils\\_param_validation.py:216\u001b[39m, in \u001b[36mvalidate_params.<locals>.decorator.<locals>.wrapper\u001b[39m\u001b[34m(*args, **kwargs)\u001b[39m\n\u001b[32m    210\u001b[39m \u001b[38;5;28;01mtry\u001b[39;00m:\n\u001b[32m    211\u001b[39m     \u001b[38;5;28;01mwith\u001b[39;00m config_context(\n\u001b[32m    212\u001b[39m         skip_parameter_validation=(\n\u001b[32m    213\u001b[39m             prefer_skip_nested_validation \u001b[38;5;129;01mor\u001b[39;00m global_skip_validation\n\u001b[32m    214\u001b[39m         )\n\u001b[32m    215\u001b[39m     ):\n\u001b[32m--> \u001b[39m\u001b[32m216\u001b[39m         \u001b[38;5;28;01mreturn\u001b[39;00m \u001b[43mfunc\u001b[49m\u001b[43m(\u001b[49m\u001b[43m*\u001b[49m\u001b[43margs\u001b[49m\u001b[43m,\u001b[49m\u001b[43m \u001b[49m\u001b[43m*\u001b[49m\u001b[43m*\u001b[49m\u001b[43mkwargs\u001b[49m\u001b[43m)\u001b[49m\n\u001b[32m    217\u001b[39m \u001b[38;5;28;01mexcept\u001b[39;00m InvalidParameterError \u001b[38;5;28;01mas\u001b[39;00m e:\n\u001b[32m    218\u001b[39m     \u001b[38;5;66;03m# When the function is just a wrapper around an estimator, we allow\u001b[39;00m\n\u001b[32m    219\u001b[39m     \u001b[38;5;66;03m# the function to delegate validation to the estimator, but we replace\u001b[39;00m\n\u001b[32m    220\u001b[39m     \u001b[38;5;66;03m# the name of the estimator by the name of the function in the error\u001b[39;00m\n\u001b[32m    221\u001b[39m     \u001b[38;5;66;03m# message to avoid confusion.\u001b[39;00m\n\u001b[32m    222\u001b[39m     msg = re.sub(\n\u001b[32m    223\u001b[39m         \u001b[33mr\u001b[39m\u001b[33m\"\u001b[39m\u001b[33mparameter of \u001b[39m\u001b[33m\\\u001b[39m\u001b[33mw+ must be\u001b[39m\u001b[33m\"\u001b[39m,\n\u001b[32m    224\u001b[39m         \u001b[33mf\u001b[39m\u001b[33m\"\u001b[39m\u001b[33mparameter of \u001b[39m\u001b[38;5;132;01m{\u001b[39;00mfunc.\u001b[34m__qualname__\u001b[39m\u001b[38;5;132;01m}\u001b[39;00m\u001b[33m must be\u001b[39m\u001b[33m\"\u001b[39m,\n\u001b[32m    225\u001b[39m         \u001b[38;5;28mstr\u001b[39m(e),\n\u001b[32m    226\u001b[39m     )\n",
      "\u001b[36mFile \u001b[39m\u001b[32mc:\\Users\\ghost\\OneDrive\\PC_Casa\\Ciencia_Datos_IA\\2024-2025\\2n Cuatri\\Introducción a la Ciencia de Datos\\Actividades\\Portfolio\\.venv\\Lib\\site-packages\\sklearn\\model_selection\\_split.py:2851\u001b[39m, in \u001b[36mtrain_test_split\u001b[39m\u001b[34m(test_size, train_size, random_state, shuffle, stratify, *arrays)\u001b[39m\n\u001b[32m   2848\u001b[39m arrays = indexable(*arrays)\n\u001b[32m   2850\u001b[39m n_samples = _num_samples(arrays[\u001b[32m0\u001b[39m])\n\u001b[32m-> \u001b[39m\u001b[32m2851\u001b[39m n_train, n_test = \u001b[43m_validate_shuffle_split\u001b[49m\u001b[43m(\u001b[49m\n\u001b[32m   2852\u001b[39m \u001b[43m    \u001b[49m\u001b[43mn_samples\u001b[49m\u001b[43m,\u001b[49m\u001b[43m \u001b[49m\u001b[43mtest_size\u001b[49m\u001b[43m,\u001b[49m\u001b[43m \u001b[49m\u001b[43mtrain_size\u001b[49m\u001b[43m,\u001b[49m\u001b[43m \u001b[49m\u001b[43mdefault_test_size\u001b[49m\u001b[43m=\u001b[49m\u001b[32;43m0.25\u001b[39;49m\n\u001b[32m   2853\u001b[39m \u001b[43m\u001b[49m\u001b[43m)\u001b[49m\n\u001b[32m   2855\u001b[39m \u001b[38;5;28;01mif\u001b[39;00m shuffle \u001b[38;5;129;01mis\u001b[39;00m \u001b[38;5;28;01mFalse\u001b[39;00m:\n\u001b[32m   2856\u001b[39m     \u001b[38;5;28;01mif\u001b[39;00m stratify \u001b[38;5;129;01mis\u001b[39;00m \u001b[38;5;129;01mnot\u001b[39;00m \u001b[38;5;28;01mNone\u001b[39;00m:\n",
      "\u001b[36mFile \u001b[39m\u001b[32mc:\\Users\\ghost\\OneDrive\\PC_Casa\\Ciencia_Datos_IA\\2024-2025\\2n Cuatri\\Introducción a la Ciencia de Datos\\Actividades\\Portfolio\\.venv\\Lib\\site-packages\\sklearn\\model_selection\\_split.py:2481\u001b[39m, in \u001b[36m_validate_shuffle_split\u001b[39m\u001b[34m(n_samples, test_size, train_size, default_test_size)\u001b[39m\n\u001b[32m   2478\u001b[39m n_train, n_test = \u001b[38;5;28mint\u001b[39m(n_train), \u001b[38;5;28mint\u001b[39m(n_test)\n\u001b[32m   2480\u001b[39m \u001b[38;5;28;01mif\u001b[39;00m n_train == \u001b[32m0\u001b[39m:\n\u001b[32m-> \u001b[39m\u001b[32m2481\u001b[39m     \u001b[38;5;28;01mraise\u001b[39;00m \u001b[38;5;167;01mValueError\u001b[39;00m(\n\u001b[32m   2482\u001b[39m         \u001b[33m\"\u001b[39m\u001b[33mWith n_samples=\u001b[39m\u001b[38;5;132;01m{}\u001b[39;00m\u001b[33m, test_size=\u001b[39m\u001b[38;5;132;01m{}\u001b[39;00m\u001b[33m and train_size=\u001b[39m\u001b[38;5;132;01m{}\u001b[39;00m\u001b[33m, the \u001b[39m\u001b[33m\"\u001b[39m\n\u001b[32m   2483\u001b[39m         \u001b[33m\"\u001b[39m\u001b[33mresulting train set will be empty. Adjust any of the \u001b[39m\u001b[33m\"\u001b[39m\n\u001b[32m   2484\u001b[39m         \u001b[33m\"\u001b[39m\u001b[33maforementioned parameters.\u001b[39m\u001b[33m\"\u001b[39m.format(n_samples, test_size, train_size)\n\u001b[32m   2485\u001b[39m     )\n\u001b[32m   2487\u001b[39m \u001b[38;5;28;01mreturn\u001b[39;00m n_train, n_test\n",
      "\u001b[31mValueError\u001b[39m: With n_samples=0, test_size=0.25 and train_size=None, the resulting train set will be empty. Adjust any of the aforementioned parameters."
     ]
    }
   ],
   "source": [
    "res_split = train_test_split(X, y, random_state=22, shuffle=False)\n",
    "X_train, X_test, y_train, y_test = res_split"
   ]
  },
  {
   "cell_type": "code",
   "execution_count": null,
   "metadata": {},
   "outputs": [],
   "source": [
    "fig, ax = plt.subplots(1, 1, figsize=(7, 4))\n",
    "ax.plot(X_train.index, y_train)\n",
    "ax.plot(X_test.index, y_test)\n",
    "fig.suptitle(\"Uso de bicicletas por estación\")\n",
    "plt.xticks(rotation=70)\n",
    "plt.show()"
   ]
  },
  {
   "cell_type": "markdown",
   "metadata": {},
   "source": [
    "# Baseline"
   ]
  },
  {
   "cell_type": "code",
   "execution_count": null,
   "metadata": {},
   "outputs": [],
   "source": [
    "y_pred = np.ones_like(y_test)\n",
    "y_pred.fill(y_train.mean())\n",
    "y_pred"
   ]
  },
  {
   "cell_type": "code",
   "execution_count": null,
   "metadata": {},
   "outputs": [],
   "source": [
    "metricas_evaluacion(y_test, y_pred)"
   ]
  },
  {
   "cell_type": "code",
   "execution_count": null,
   "metadata": {},
   "outputs": [],
   "source": [
    "fig, ax = plt.subplots(1, 1, figsize=(7, 4))\n",
    "ax.plot(X_train.index, y_train)\n",
    "ax.plot(X_test.index, y_test)\n",
    "ax.axhline(y_train.mean(), color='r')\n",
    "fig.suptitle(\"Uso de bicicletas por estación\")\n",
    "plt.xticks(rotation=70)\n",
    "plt.show()"
   ]
  },
  {
   "cell_type": "markdown",
   "metadata": {},
   "source": [
    "# Aprendizaje supervisado para el modelado del uso de bicis\n",
    "\n",
    "Variable que queremos modelar el comportamiento se le denomina variable de salida, respuesta, endógena o y.\n",
    "\n",
    "Variable o conjunto de variables que se relacionan con la respuesta son variables de entrada, predictoras, explicativas, regresores, exógenas, o x_i\n",
    "\n"
   ]
  },
  {
   "cell_type": "markdown",
   "metadata": {},
   "source": [
    "## Árboles de decisión\n",
    "\n",
    "Son un conjunto de reglas ordenadas en forma de árbol jerárquico. Se aplica en aprendizaje supervisado.\n",
    "\n",
    "Este árbol puede construirse de forma automática como parte de un proceso de aprendizaje automático a partir de datos.\n",
    "\n",
    "El árbol está compuesto por la raíz, ramas, nodos y hojas:\n",
    "- Raíz: nodo inicio o condición incial de un árbol.\n",
    "- Nodo: condición establecida.\n",
    "- Rama: respuesta a la condición aplicada en el nodo antecedente.\n",
    "- Hoja: Fin del recorrido del árbol donde se define la decisión final\n",
    "\n",
    "Las reglas pueden describirse como condiciones simples en base a un atributo o característica:\n",
    "- Es fin de semana.\n",
    "- La lluvia es mayor o igual.\n",
    "- Hora es mayor de las 9 y menor o igual a 16 horas.\n",
    "\n",
    "El cumplimiento o no de la condición hará que para tomar una decisión se deba recorrer una u otra rama (exhaustivo).\n",
    "\n",
    "El recorrido de una rama completa concluye con el nodo hoja donde se toma la decisión final.\n",
    "\n",
    "Esta decisión puede ser de tipo clasificación, etiqueta o nominal (disjuntas); o puede ser regresión, numérica o continua.\n",
    "\n",
    "Existen varios algoritmos de partición para la creación de estos árboles: ID3, C4.5, CART, etc.\n",
    "\n",
    "El árbol sólo aporta una solución, por tanto, las particiones deben ser exhaustivas y excluyentes.\n",
    "\n",
    "El criterio de partición y el número de particiones son los parámetros a ajustar, en estos algoritmos, entre otros.\n",
    "\n",
    "Debemos de tener en cuenta, como criterios, la expresividad de nuesto árbol y la complejidad para evitar sobre ajustes.\n",
    "\n",
    "[Implementación en Scikit-Learn](https://scikit-learn.org/stable/modules/tree.html#tree-algorithms-id3-c4-5-c5-0-and-cart)\n"
   ]
  },
  {
   "cell_type": "code",
   "execution_count": null,
   "metadata": {},
   "outputs": [],
   "source": [
    "tree_reg = DecisionTreeRegressor(max_depth=2)\n",
    "tree_reg.fit(X_train[['hora']], y_train)\n",
    "fig, axes = plt.subplots(1,1,figsize = (3,2), dpi=300)\n",
    "plot_tree(tree_reg, feature_names=['hour'], filled=True)\n",
    "plt.show()\n"
   ]
  },
  {
   "cell_type": "code",
   "execution_count": null,
   "metadata": {},
   "outputs": [],
   "source": [
    "viz_rmodel = dtreeviz.model(model=tree_reg, tree_index=1,\n",
    "                            X_train=X_train[['hora']], \n",
    "                            y_train=y_train, \n",
    "                            feature_names=['hora'], \n",
    "                            target_name='uso_bicis')\n",
    "viz_rmodel.view(fontname='Loma')"
   ]
  },
  {
   "cell_type": "code",
   "execution_count": null,
   "metadata": {},
   "outputs": [],
   "source": [
    "# ver la fuente disponible, posibles problemas por fuente\n",
    "print([f.name for f in matplotlib.font_manager.fontManager.ttflist])"
   ]
  },
  {
   "cell_type": "code",
   "execution_count": null,
   "metadata": {},
   "outputs": [],
   "source": [
    "y_pred = tree_reg.predict(X_test[['hora']])\n",
    "metricas_evaluacion(y_test, y_pred)"
   ]
  },
  {
   "cell_type": "code",
   "execution_count": null,
   "metadata": {},
   "outputs": [],
   "source": [
    "plot_train_test_predict(y_train, y_test, y_pred)"
   ]
  },
  {
   "cell_type": "markdown",
   "metadata": {},
   "source": [
    "### Uso de todas las variables"
   ]
  },
  {
   "cell_type": "code",
   "execution_count": null,
   "metadata": {},
   "outputs": [],
   "source": [
    "df.columns"
   ]
  },
  {
   "cell_type": "code",
   "execution_count": null,
   "metadata": {},
   "outputs": [],
   "source": [
    "X = df.drop(labels=['fecha', 'uso_bici', 'name', 'dia_nombre'], axis=1)\n",
    "y = df['uso_bici']\n",
    "print(X.shape, y.shape)\n",
    "res_split = train_test_split(X, y, random_state=22, shuffle=False)\n",
    "X_train, X_test, y_train, y_test = res_split"
   ]
  },
  {
   "cell_type": "code",
   "execution_count": null,
   "metadata": {},
   "outputs": [],
   "source": [
    "tree_reg = DecisionTreeRegressor(max_depth=3)\n",
    "tree_reg.fit(X_train, y_train)\n",
    "fig, axes = plt.subplots(1,1,figsize = (5, 5), dpi=300)\n",
    "plot_tree(tree_reg, feature_names=X_train.columns, filled=True)\n",
    "plt.show()"
   ]
  },
  {
   "cell_type": "code",
   "execution_count": null,
   "metadata": {},
   "outputs": [],
   "source": [
    "viz_rmodel = dtreeviz.model(model=tree_reg, tree_index=1,\n",
    "                            X_train=X_train, \n",
    "                            y_train=y_train, \n",
    "                            feature_names=X_train.columns, \n",
    "                            target_name='uso_bicis')\n",
    "viz_rmodel.view(fontname='Loma')"
   ]
  },
  {
   "cell_type": "code",
   "execution_count": null,
   "metadata": {},
   "outputs": [],
   "source": [
    "y_pred = tree_reg.predict(X_test)\n",
    "metricas_evaluacion(y_test, y_pred)"
   ]
  },
  {
   "cell_type": "code",
   "execution_count": null,
   "metadata": {},
   "outputs": [],
   "source": [
    "fig, ax = plt.subplots(1, 1, figsize=(7, 4))\n",
    "ax.plot(X_train.index, y_train)\n",
    "ax.plot(X_test.index, y_test)\n",
    "ax.plot(X_test.index, y_pred)\n",
    "fig.suptitle(\"Uso de bicicletas por estación\")\n",
    "plt.xticks(rotation=70)\n",
    "plt.show()"
   ]
  },
  {
   "cell_type": "code",
   "execution_count": null,
   "metadata": {},
   "outputs": [],
   "source": [
    "tree_reg.feature_importances_"
   ]
  },
  {
   "cell_type": "code",
   "execution_count": null,
   "metadata": {},
   "outputs": [],
   "source": [
    "importances = pd.DataFrame(\n",
    "    tree_reg.feature_importances_, columns=[\"Importancias\"], index=X_train.columns\n",
    ")\n",
    "\n",
    "importances.sort_values('Importancias').plot(kind=\"barh\", figsize=(9, 7))\n",
    "plt.title(\"Importancias DT\")\n",
    "plt.axvline(x=0, color=\".5\")\n",
    "plt.subplots_adjust(left=0.3)"
   ]
  },
  {
   "cell_type": "markdown",
   "metadata": {},
   "source": [
    "## Regresión lineal\n",
    "\n",
    "Dividimos los tipos de modelo de regresión en simple o múltiple.\n",
    "\n",
    "Modelo de regresión lineal es aditivo en cuanto a las variables predictoras.\n",
    "\n",
    "En casos de tener pocos ejemplos puede ser buena opción para generalizar el conocimiento.\n",
    "\n",
    "Se puede hacer transformaciones sobre las variables originales mejorando los resultados.\n",
    "\n",
    "Una de las transformaciones es la numerización de variables categóricas, como puede ser los días de la semana.\n"
   ]
  },
  {
   "cell_type": "code",
   "execution_count": null,
   "metadata": {},
   "outputs": [],
   "source": [
    "df.columns"
   ]
  },
  {
   "cell_type": "code",
   "execution_count": null,
   "metadata": {},
   "outputs": [],
   "source": [
    "# Ejemplo con statsmodels, resultados con enfoque estadístico\n",
    "X_lm = sm.add_constant(X_train)\n",
    "# Ajuste MMCC\n",
    "model = sm.OLS(y_train, X_lm)\n",
    "results = model.fit()\n",
    "print(results.summary())\n",
    "\n",
    "# Predicción\n",
    "y_pred = results.predict(X_test)\n",
    "# Evaluación\n",
    "metricas_evaluacion(y_test, y_pred)"
   ]
  },
  {
   "cell_type": "code",
   "execution_count": null,
   "metadata": {},
   "outputs": [],
   "source": [
    "# Quantile-Quantile plot \n",
    "f,ax = plt.subplots(1,2,figsize=(14,6))\n",
    "_,(_,_,r)= sp.stats.probplot((y_test - y_pred),fit=True,plot=ax[0])\n",
    "ax[0].set_title('Check for Multivariate Normality: \\nQ-Q Plot')\n",
    "\n",
    "#Check for Homoscedasticity\n",
    "sns.scatterplot(y = (y_test - y_pred), x= y_pred, ax = ax[1],color='r') \n",
    "ax[1].set_title('Check for Homoscedasticity: \\nResidual Vs Predicted');"
   ]
  },
  {
   "cell_type": "markdown",
   "metadata": {},
   "source": [
    "### Regresión lineal con Scikit Learn"
   ]
  },
  {
   "cell_type": "code",
   "execution_count": null,
   "metadata": {},
   "outputs": [],
   "source": [
    "from sklearn.preprocessing import PolynomialFeatures"
   ]
  },
  {
   "cell_type": "code",
   "execution_count": null,
   "metadata": {},
   "outputs": [],
   "source": [
    "df.columns"
   ]
  },
  {
   "cell_type": "code",
   "execution_count": null,
   "metadata": {},
   "outputs": [],
   "source": [
    "X = df.drop(labels=['fecha', 'name', 'dia_nombre'], axis=1)\n",
    "X = df.loc[:, ['findesemana', 'prec', 'tamax', 'hora', 'Sunday']]\n",
    "y = df['uso_bici']\n",
    "# Transformaciones polinimicas en las variables predictoras\n",
    "# poly_features = PolynomialFeatures(degree=3, include_bias=False)\n",
    "# X = poly_features.fit_transform(X)\n",
    "print(X.shape, y.shape)\n",
    "res_split = train_test_split(X, y, random_state=22, shuffle=False)\n",
    "X_train, X_test, y_train, y_test = res_split"
   ]
  },
  {
   "cell_type": "code",
   "execution_count": null,
   "metadata": {},
   "outputs": [],
   "source": [
    "# Hay disponibles otros métodos de regresión lineal: ElasticNet, BayesianRidge...\n",
    "reg = linear_model.LinearRegression().fit(X_train, y_train)\n",
    "y_pred = reg.predict(X_test)\n",
    "metricas_evaluacion(y_test, y_pred)"
   ]
  },
  {
   "cell_type": "code",
   "execution_count": null,
   "metadata": {},
   "outputs": [],
   "source": [
    "fig, ax = plt.subplots(1, 1, figsize=(7, 4))\n",
    "ax.plot(X_train.index, y_train)\n",
    "ax.plot(X_test.index, y_test)\n",
    "ax.plot(X_test.index, y_pred)\n",
    "fig.suptitle(\"Uso de bicicletas por estación\")\n",
    "plt.xticks(rotation=70)\n",
    "plt.show()"
   ]
  },
  {
   "cell_type": "code",
   "execution_count": null,
   "metadata": {},
   "outputs": [],
   "source": [
    "coefs = pd.DataFrame(\n",
    "    reg.coef_, columns=[\"coeficientes\"], index=X_train.columns\n",
    ")\n",
    "\n",
    "coefs.plot(kind=\"barh\", figsize=(9, 7))\n",
    "plt.title(\"Ridge\")\n",
    "plt.axvline(x=0, color=\".5\")\n",
    "plt.subplots_adjust(left=0.3)"
   ]
  },
  {
   "cell_type": "markdown",
   "metadata": {},
   "source": [
    "# Conclusiones\n",
    "\n",
    "- Debe haber una experimentación buscando optimizar las métricas\n",
    "- La visualización es clave para entender el modelo y el comportamiento en la predicción"
   ]
  }
 ],
 "metadata": {
  "kernelspec": {
   "display_name": ".venv",
   "language": "python",
   "name": "python3"
  },
  "language_info": {
   "codemirror_mode": {
    "name": "ipython",
    "version": 3
   },
   "file_extension": ".py",
   "mimetype": "text/x-python",
   "name": "python",
   "nbconvert_exporter": "python",
   "pygments_lexer": "ipython3",
   "version": "3.13.1"
  }
 },
 "nbformat": 4,
 "nbformat_minor": 2
}
