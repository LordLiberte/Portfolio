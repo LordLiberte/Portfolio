{
 "cells": [
  {
   "cell_type": "markdown",
   "metadata": {},
   "source": [
    "# Carga y Análisis de datos\n"
   ]
  },
  {
   "cell_type": "markdown",
   "metadata": {},
   "source": [
    "Para realizar esta práctica necesitaremos cargar varias librerias que nos permitirán realizar los objetivos de la práctica."
   ]
  },
  {
   "cell_type": "code",
   "execution_count": 16,
   "metadata": {},
   "outputs": [],
   "source": [
    "import pandas as pd # Librería para manejar datos\n",
    "import sqlite3 # Librería para manejar bases de datos SQLite\n",
    "import os   # Librería para manejar el sistema operativo\n",
    "import matplotlib.pyplot as plt # Librería para graficar"
   ]
  },
  {
   "cell_type": "markdown",
   "metadata": {},
   "source": [
    "## Descarga de uso de bicis"
   ]
  },
  {
   "cell_type": "markdown",
   "metadata": {},
   "source": [
    "Usaremos datos del portal abierto de valencia sobre las estaciones de bicicletas:\n",
    "\n",
    "https://valencia.opendatasoft.com/pages/home/\n",
    "\n",
    "https://valencia.opendatasoft.com/explore/dataset/valenbisi-disponibilitat-valenbisi-dsiponibilidad/table/?flg=es-es\n",
    "\n",
    "Estos datos se encuentran dentro de la carpeta *data/raw/usobici_raw.csv*. Lo primero que se nos pide realizar es analizar una muestra de datos en crudo para entender el problema al que nos enfrentamos, explorando y describiendo los datos sin aplicar transformaciones."
   ]
  },
  {
   "cell_type": "code",
   "execution_count": null,
   "metadata": {},
   "outputs": [],
   "source": [
    "## Modificaremos la ruta de trabajo (USAR SOLO UNA VEZ)\n",
    "os.chdir('./../') # Cambiar el directorio de trabajo al directorio padre\n",
    "print(os.getcwd()) # Imprimir la ruta de trabajo actual"
   ]
  },
  {
   "cell_type": "code",
   "execution_count": 27,
   "metadata": {},
   "outputs": [
    {
     "name": "stdout",
     "output_type": "stream",
     "text": [
      "Archivo cargado\n"
     ]
    }
   ],
   "source": [
    "df_base = pd.read_csv('data/raw/usobici_raw.csv', sep=',') # Cargar el archivo CSV en un DataFrame de pandas\n",
    "print(\"Archivo cargado\")"
   ]
  },
  {
   "cell_type": "markdown",
   "metadata": {},
   "source": [
    "Una vez cargado el archivo, miraremos como se conforma tanto al principio como al final de este usando métodos de pandas."
   ]
  },
  {
   "cell_type": "code",
   "execution_count": 75,
   "metadata": {},
   "outputs": [
    {
     "data": {
      "application/vnd.microsoft.datawrangler.viewer.v0+json": {
       "columns": [
        {
         "name": "index",
         "rawType": "int64",
         "type": "integer"
        },
        {
         "name": "updated",
         "rawType": "object",
         "type": "string"
        },
        {
         "name": "address",
         "rawType": "object",
         "type": "string"
        },
        {
         "name": "number",
         "rawType": "int64",
         "type": "integer"
        },
        {
         "name": "available",
         "rawType": "int64",
         "type": "integer"
        },
        {
         "name": "lat",
         "rawType": "float64",
         "type": "float"
        },
        {
         "name": "lon",
         "rawType": "float64",
         "type": "float"
        },
        {
         "name": "total",
         "rawType": "int64",
         "type": "integer"
        },
        {
         "name": "open",
         "rawType": "object",
         "type": "string"
        },
        {
         "name": "free",
         "rawType": "int64",
         "type": "integer"
        }
       ],
       "conversionMethod": "pd.DataFrame",
       "ref": "b0a7262f-2278-4642-a33b-6bf9000d53d4",
       "rows": [
        [
         "0",
         "2025-02-03 00:01:42.000000",
         "Alameda - Pintor Maella",
         "53",
         "23",
         "39.45676426141678",
         "-0.3481393040048007",
         "25",
         "T",
         "2"
        ],
        [
         "1",
         "2025-02-03 00:09:53.000000",
         "Alameda - Pintor Maella",
         "53",
         "25",
         "39.45676426141678",
         "-0.3481393040048007",
         "25",
         "T",
         "0"
        ],
        [
         "2",
         "2025-02-03 00:20:14.000000",
         "Alameda - Pintor Maella",
         "53",
         "23",
         "39.45676426141678",
         "-0.3481393040048007",
         "25",
         "T",
         "2"
        ],
        [
         "3",
         "2025-02-03 00:30:36.000000",
         "Alameda - Pintor Maella",
         "53",
         "23",
         "39.45676426141678",
         "-0.3481393040048007",
         "25",
         "T",
         "2"
        ],
        [
         "4",
         "2025-02-03 00:39:44.000000",
         "Alameda - Pintor Maella",
         "53",
         "23",
         "39.45676426141678",
         "-0.3481393040048007",
         "25",
         "T",
         "2"
        ]
       ],
       "shape": {
        "columns": 9,
        "rows": 5
       }
      },
      "text/html": [
       "<div>\n",
       "<style scoped>\n",
       "    .dataframe tbody tr th:only-of-type {\n",
       "        vertical-align: middle;\n",
       "    }\n",
       "\n",
       "    .dataframe tbody tr th {\n",
       "        vertical-align: top;\n",
       "    }\n",
       "\n",
       "    .dataframe thead th {\n",
       "        text-align: right;\n",
       "    }\n",
       "</style>\n",
       "<table border=\"1\" class=\"dataframe\">\n",
       "  <thead>\n",
       "    <tr style=\"text-align: right;\">\n",
       "      <th></th>\n",
       "      <th>updated</th>\n",
       "      <th>address</th>\n",
       "      <th>number</th>\n",
       "      <th>available</th>\n",
       "      <th>lat</th>\n",
       "      <th>lon</th>\n",
       "      <th>total</th>\n",
       "      <th>open</th>\n",
       "      <th>free</th>\n",
       "    </tr>\n",
       "  </thead>\n",
       "  <tbody>\n",
       "    <tr>\n",
       "      <th>0</th>\n",
       "      <td>2025-02-03 00:01:42.000000</td>\n",
       "      <td>Alameda - Pintor Maella</td>\n",
       "      <td>53</td>\n",
       "      <td>23</td>\n",
       "      <td>39.456764</td>\n",
       "      <td>-0.348139</td>\n",
       "      <td>25</td>\n",
       "      <td>T</td>\n",
       "      <td>2</td>\n",
       "    </tr>\n",
       "    <tr>\n",
       "      <th>1</th>\n",
       "      <td>2025-02-03 00:09:53.000000</td>\n",
       "      <td>Alameda - Pintor Maella</td>\n",
       "      <td>53</td>\n",
       "      <td>25</td>\n",
       "      <td>39.456764</td>\n",
       "      <td>-0.348139</td>\n",
       "      <td>25</td>\n",
       "      <td>T</td>\n",
       "      <td>0</td>\n",
       "    </tr>\n",
       "    <tr>\n",
       "      <th>2</th>\n",
       "      <td>2025-02-03 00:20:14.000000</td>\n",
       "      <td>Alameda - Pintor Maella</td>\n",
       "      <td>53</td>\n",
       "      <td>23</td>\n",
       "      <td>39.456764</td>\n",
       "      <td>-0.348139</td>\n",
       "      <td>25</td>\n",
       "      <td>T</td>\n",
       "      <td>2</td>\n",
       "    </tr>\n",
       "    <tr>\n",
       "      <th>3</th>\n",
       "      <td>2025-02-03 00:30:36.000000</td>\n",
       "      <td>Alameda - Pintor Maella</td>\n",
       "      <td>53</td>\n",
       "      <td>23</td>\n",
       "      <td>39.456764</td>\n",
       "      <td>-0.348139</td>\n",
       "      <td>25</td>\n",
       "      <td>T</td>\n",
       "      <td>2</td>\n",
       "    </tr>\n",
       "    <tr>\n",
       "      <th>4</th>\n",
       "      <td>2025-02-03 00:39:44.000000</td>\n",
       "      <td>Alameda - Pintor Maella</td>\n",
       "      <td>53</td>\n",
       "      <td>23</td>\n",
       "      <td>39.456764</td>\n",
       "      <td>-0.348139</td>\n",
       "      <td>25</td>\n",
       "      <td>T</td>\n",
       "      <td>2</td>\n",
       "    </tr>\n",
       "  </tbody>\n",
       "</table>\n",
       "</div>"
      ],
      "text/plain": [
       "                      updated                  address  number  available  \\\n",
       "0  2025-02-03 00:01:42.000000  Alameda - Pintor Maella      53         23   \n",
       "1  2025-02-03 00:09:53.000000  Alameda - Pintor Maella      53         25   \n",
       "2  2025-02-03 00:20:14.000000  Alameda - Pintor Maella      53         23   \n",
       "3  2025-02-03 00:30:36.000000  Alameda - Pintor Maella      53         23   \n",
       "4  2025-02-03 00:39:44.000000  Alameda - Pintor Maella      53         23   \n",
       "\n",
       "         lat       lon  total open  free  \n",
       "0  39.456764 -0.348139     25    T     2  \n",
       "1  39.456764 -0.348139     25    T     0  \n",
       "2  39.456764 -0.348139     25    T     2  \n",
       "3  39.456764 -0.348139     25    T     2  \n",
       "4  39.456764 -0.348139     25    T     2  "
      ]
     },
     "execution_count": 75,
     "metadata": {},
     "output_type": "execute_result"
    }
   ],
   "source": [
    "df_base.head() # Imprimir las primeras filas del DataFrame"
   ]
  },
  {
   "cell_type": "code",
   "execution_count": 76,
   "metadata": {},
   "outputs": [
    {
     "data": {
      "application/vnd.microsoft.datawrangler.viewer.v0+json": {
       "columns": [
        {
         "name": "index",
         "rawType": "int64",
         "type": "integer"
        },
        {
         "name": "updated",
         "rawType": "object",
         "type": "string"
        },
        {
         "name": "address",
         "rawType": "object",
         "type": "string"
        },
        {
         "name": "number",
         "rawType": "int64",
         "type": "integer"
        },
        {
         "name": "available",
         "rawType": "int64",
         "type": "integer"
        },
        {
         "name": "lat",
         "rawType": "float64",
         "type": "float"
        },
        {
         "name": "lon",
         "rawType": "float64",
         "type": "float"
        },
        {
         "name": "total",
         "rawType": "int64",
         "type": "integer"
        },
        {
         "name": "open",
         "rawType": "object",
         "type": "string"
        },
        {
         "name": "free",
         "rawType": "int64",
         "type": "integer"
        }
       ],
       "conversionMethod": "pd.DataFrame",
       "ref": "f18a1c35-6a1d-488d-a9e6-8fa8776d8af9",
       "rows": [
        [
         "4063",
         "2025-03-03 14:39:32.000000",
         "Alameda - Pintor Maella",
         "53",
         "24",
         "39.45676426141678",
         "-0.3481393040048007",
         "25",
         "T",
         "1"
        ],
        [
         "4064",
         "2025-03-03 14:49:38.000000",
         "Alameda - Pintor Maella",
         "53",
         "24",
         "39.45676426141678",
         "-0.3481393040048007",
         "25",
         "T",
         "1"
        ],
        [
         "4065",
         "2025-03-03 15:00:44.000000",
         "Alameda - Pintor Maella",
         "53",
         "24",
         "39.45676426141678",
         "-0.3481393040048007",
         "25",
         "T",
         "1"
        ],
        [
         "4066",
         "2025-03-03 15:09:50.000000",
         "Alameda - Pintor Maella",
         "53",
         "23",
         "39.45676426141678",
         "-0.3481393040048007",
         "25",
         "T",
         "2"
        ],
        [
         "4067",
         "2025-03-03 15:19:57.000000",
         "Alameda - Pintor Maella",
         "53",
         "23",
         "39.45676426141678",
         "-0.3481393040048007",
         "25",
         "T",
         "2"
        ]
       ],
       "shape": {
        "columns": 9,
        "rows": 5
       }
      },
      "text/html": [
       "<div>\n",
       "<style scoped>\n",
       "    .dataframe tbody tr th:only-of-type {\n",
       "        vertical-align: middle;\n",
       "    }\n",
       "\n",
       "    .dataframe tbody tr th {\n",
       "        vertical-align: top;\n",
       "    }\n",
       "\n",
       "    .dataframe thead th {\n",
       "        text-align: right;\n",
       "    }\n",
       "</style>\n",
       "<table border=\"1\" class=\"dataframe\">\n",
       "  <thead>\n",
       "    <tr style=\"text-align: right;\">\n",
       "      <th></th>\n",
       "      <th>updated</th>\n",
       "      <th>address</th>\n",
       "      <th>number</th>\n",
       "      <th>available</th>\n",
       "      <th>lat</th>\n",
       "      <th>lon</th>\n",
       "      <th>total</th>\n",
       "      <th>open</th>\n",
       "      <th>free</th>\n",
       "    </tr>\n",
       "  </thead>\n",
       "  <tbody>\n",
       "    <tr>\n",
       "      <th>4063</th>\n",
       "      <td>2025-03-03 14:39:32.000000</td>\n",
       "      <td>Alameda - Pintor Maella</td>\n",
       "      <td>53</td>\n",
       "      <td>24</td>\n",
       "      <td>39.456764</td>\n",
       "      <td>-0.348139</td>\n",
       "      <td>25</td>\n",
       "      <td>T</td>\n",
       "      <td>1</td>\n",
       "    </tr>\n",
       "    <tr>\n",
       "      <th>4064</th>\n",
       "      <td>2025-03-03 14:49:38.000000</td>\n",
       "      <td>Alameda - Pintor Maella</td>\n",
       "      <td>53</td>\n",
       "      <td>24</td>\n",
       "      <td>39.456764</td>\n",
       "      <td>-0.348139</td>\n",
       "      <td>25</td>\n",
       "      <td>T</td>\n",
       "      <td>1</td>\n",
       "    </tr>\n",
       "    <tr>\n",
       "      <th>4065</th>\n",
       "      <td>2025-03-03 15:00:44.000000</td>\n",
       "      <td>Alameda - Pintor Maella</td>\n",
       "      <td>53</td>\n",
       "      <td>24</td>\n",
       "      <td>39.456764</td>\n",
       "      <td>-0.348139</td>\n",
       "      <td>25</td>\n",
       "      <td>T</td>\n",
       "      <td>1</td>\n",
       "    </tr>\n",
       "    <tr>\n",
       "      <th>4066</th>\n",
       "      <td>2025-03-03 15:09:50.000000</td>\n",
       "      <td>Alameda - Pintor Maella</td>\n",
       "      <td>53</td>\n",
       "      <td>23</td>\n",
       "      <td>39.456764</td>\n",
       "      <td>-0.348139</td>\n",
       "      <td>25</td>\n",
       "      <td>T</td>\n",
       "      <td>2</td>\n",
       "    </tr>\n",
       "    <tr>\n",
       "      <th>4067</th>\n",
       "      <td>2025-03-03 15:19:57.000000</td>\n",
       "      <td>Alameda - Pintor Maella</td>\n",
       "      <td>53</td>\n",
       "      <td>23</td>\n",
       "      <td>39.456764</td>\n",
       "      <td>-0.348139</td>\n",
       "      <td>25</td>\n",
       "      <td>T</td>\n",
       "      <td>2</td>\n",
       "    </tr>\n",
       "  </tbody>\n",
       "</table>\n",
       "</div>"
      ],
      "text/plain": [
       "                         updated                  address  number  available  \\\n",
       "4063  2025-03-03 14:39:32.000000  Alameda - Pintor Maella      53         24   \n",
       "4064  2025-03-03 14:49:38.000000  Alameda - Pintor Maella      53         24   \n",
       "4065  2025-03-03 15:00:44.000000  Alameda - Pintor Maella      53         24   \n",
       "4066  2025-03-03 15:09:50.000000  Alameda - Pintor Maella      53         23   \n",
       "4067  2025-03-03 15:19:57.000000  Alameda - Pintor Maella      53         23   \n",
       "\n",
       "            lat       lon  total open  free  \n",
       "4063  39.456764 -0.348139     25    T     1  \n",
       "4064  39.456764 -0.348139     25    T     1  \n",
       "4065  39.456764 -0.348139     25    T     1  \n",
       "4066  39.456764 -0.348139     25    T     2  \n",
       "4067  39.456764 -0.348139     25    T     2  "
      ]
     },
     "execution_count": 76,
     "metadata": {},
     "output_type": "execute_result"
    }
   ],
   "source": [
    "df_base.tail()"
   ]
  },
  {
   "cell_type": "markdown",
   "metadata": {},
   "source": [
    "En este caso vemos que la muestra se basa en la estación de Alameda - Pintor Maella y son datos de este año (2025) en marzo. Para confirmar que solo se está visualizando esa estación, existen varios métodos como unique, pero también podemos usar la ordenación de datos y si al principio y final del dataframe está el mismo, significa que ocupa todo el DataFrame."
   ]
  },
  {
   "cell_type": "code",
   "execution_count": 30,
   "metadata": {},
   "outputs": [],
   "source": [
    "df_b_sort = df_base.sort_values(by=\"address\", ascending=True) # Ordenar el DataFrame por la columna \"address\" en orden ascendente"
   ]
  },
  {
   "cell_type": "markdown",
   "metadata": {},
   "source": [
    "Visualizaremos el principio y final de este:"
   ]
  },
  {
   "cell_type": "code",
   "execution_count": 31,
   "metadata": {},
   "outputs": [
    {
     "data": {
      "application/vnd.microsoft.datawrangler.viewer.v0+json": {
       "columns": [
        {
         "name": "index",
         "rawType": "int64",
         "type": "integer"
        },
        {
         "name": "updated",
         "rawType": "object",
         "type": "string"
        },
        {
         "name": "address",
         "rawType": "object",
         "type": "string"
        },
        {
         "name": "number",
         "rawType": "int64",
         "type": "integer"
        },
        {
         "name": "available",
         "rawType": "int64",
         "type": "integer"
        },
        {
         "name": "lat",
         "rawType": "float64",
         "type": "float"
        },
        {
         "name": "lon",
         "rawType": "float64",
         "type": "float"
        },
        {
         "name": "total",
         "rawType": "int64",
         "type": "integer"
        },
        {
         "name": "open",
         "rawType": "object",
         "type": "string"
        },
        {
         "name": "free",
         "rawType": "int64",
         "type": "integer"
        }
       ],
       "conversionMethod": "pd.DataFrame",
       "ref": "56b73741-a13b-4db2-bc17-eb108eaeef24",
       "rows": [
        [
         "0",
         "2025-02-03 00:01:42.000000",
         "Alameda - Pintor Maella",
         "53",
         "23",
         "39.45676426141678",
         "-0.3481393040048007",
         "25",
         "T",
         "2"
        ],
        [
         "2704",
         "2025-02-22 03:29:43.000000",
         "Alameda - Pintor Maella",
         "53",
         "20",
         "39.45676426141678",
         "-0.3481393040048007",
         "25",
         "T",
         "5"
        ],
        [
         "2705",
         "2025-02-22 03:39:50.000000",
         "Alameda - Pintor Maella",
         "53",
         "20",
         "39.45676426141678",
         "-0.3481393040048007",
         "25",
         "T",
         "5"
        ],
        [
         "2706",
         "2025-02-22 03:49:57.000000",
         "Alameda - Pintor Maella",
         "53",
         "20",
         "39.45676426141678",
         "-0.3481393040048007",
         "25",
         "T",
         "5"
        ],
        [
         "2707",
         "2025-02-22 04:00:04.000000",
         "Alameda - Pintor Maella",
         "53",
         "21",
         "39.45676426141678",
         "-0.3481393040048007",
         "25",
         "T",
         "4"
        ]
       ],
       "shape": {
        "columns": 9,
        "rows": 5
       }
      },
      "text/html": [
       "<div>\n",
       "<style scoped>\n",
       "    .dataframe tbody tr th:only-of-type {\n",
       "        vertical-align: middle;\n",
       "    }\n",
       "\n",
       "    .dataframe tbody tr th {\n",
       "        vertical-align: top;\n",
       "    }\n",
       "\n",
       "    .dataframe thead th {\n",
       "        text-align: right;\n",
       "    }\n",
       "</style>\n",
       "<table border=\"1\" class=\"dataframe\">\n",
       "  <thead>\n",
       "    <tr style=\"text-align: right;\">\n",
       "      <th></th>\n",
       "      <th>updated</th>\n",
       "      <th>address</th>\n",
       "      <th>number</th>\n",
       "      <th>available</th>\n",
       "      <th>lat</th>\n",
       "      <th>lon</th>\n",
       "      <th>total</th>\n",
       "      <th>open</th>\n",
       "      <th>free</th>\n",
       "    </tr>\n",
       "  </thead>\n",
       "  <tbody>\n",
       "    <tr>\n",
       "      <th>0</th>\n",
       "      <td>2025-02-03 00:01:42.000000</td>\n",
       "      <td>Alameda - Pintor Maella</td>\n",
       "      <td>53</td>\n",
       "      <td>23</td>\n",
       "      <td>39.456764</td>\n",
       "      <td>-0.348139</td>\n",
       "      <td>25</td>\n",
       "      <td>T</td>\n",
       "      <td>2</td>\n",
       "    </tr>\n",
       "    <tr>\n",
       "      <th>2704</th>\n",
       "      <td>2025-02-22 03:29:43.000000</td>\n",
       "      <td>Alameda - Pintor Maella</td>\n",
       "      <td>53</td>\n",
       "      <td>20</td>\n",
       "      <td>39.456764</td>\n",
       "      <td>-0.348139</td>\n",
       "      <td>25</td>\n",
       "      <td>T</td>\n",
       "      <td>5</td>\n",
       "    </tr>\n",
       "    <tr>\n",
       "      <th>2705</th>\n",
       "      <td>2025-02-22 03:39:50.000000</td>\n",
       "      <td>Alameda - Pintor Maella</td>\n",
       "      <td>53</td>\n",
       "      <td>20</td>\n",
       "      <td>39.456764</td>\n",
       "      <td>-0.348139</td>\n",
       "      <td>25</td>\n",
       "      <td>T</td>\n",
       "      <td>5</td>\n",
       "    </tr>\n",
       "    <tr>\n",
       "      <th>2706</th>\n",
       "      <td>2025-02-22 03:49:57.000000</td>\n",
       "      <td>Alameda - Pintor Maella</td>\n",
       "      <td>53</td>\n",
       "      <td>20</td>\n",
       "      <td>39.456764</td>\n",
       "      <td>-0.348139</td>\n",
       "      <td>25</td>\n",
       "      <td>T</td>\n",
       "      <td>5</td>\n",
       "    </tr>\n",
       "    <tr>\n",
       "      <th>2707</th>\n",
       "      <td>2025-02-22 04:00:04.000000</td>\n",
       "      <td>Alameda - Pintor Maella</td>\n",
       "      <td>53</td>\n",
       "      <td>21</td>\n",
       "      <td>39.456764</td>\n",
       "      <td>-0.348139</td>\n",
       "      <td>25</td>\n",
       "      <td>T</td>\n",
       "      <td>4</td>\n",
       "    </tr>\n",
       "  </tbody>\n",
       "</table>\n",
       "</div>"
      ],
      "text/plain": [
       "                         updated                  address  number  available  \\\n",
       "0     2025-02-03 00:01:42.000000  Alameda - Pintor Maella      53         23   \n",
       "2704  2025-02-22 03:29:43.000000  Alameda - Pintor Maella      53         20   \n",
       "2705  2025-02-22 03:39:50.000000  Alameda - Pintor Maella      53         20   \n",
       "2706  2025-02-22 03:49:57.000000  Alameda - Pintor Maella      53         20   \n",
       "2707  2025-02-22 04:00:04.000000  Alameda - Pintor Maella      53         21   \n",
       "\n",
       "            lat       lon  total open  free  \n",
       "0     39.456764 -0.348139     25    T     2  \n",
       "2704  39.456764 -0.348139     25    T     5  \n",
       "2705  39.456764 -0.348139     25    T     5  \n",
       "2706  39.456764 -0.348139     25    T     5  \n",
       "2707  39.456764 -0.348139     25    T     4  "
      ]
     },
     "execution_count": 31,
     "metadata": {},
     "output_type": "execute_result"
    }
   ],
   "source": [
    "df_b_sort.head()"
   ]
  },
  {
   "cell_type": "code",
   "execution_count": 32,
   "metadata": {},
   "outputs": [
    {
     "data": {
      "application/vnd.microsoft.datawrangler.viewer.v0+json": {
       "columns": [
        {
         "name": "index",
         "rawType": "int64",
         "type": "integer"
        },
        {
         "name": "updated",
         "rawType": "object",
         "type": "string"
        },
        {
         "name": "address",
         "rawType": "object",
         "type": "string"
        },
        {
         "name": "number",
         "rawType": "int64",
         "type": "integer"
        },
        {
         "name": "available",
         "rawType": "int64",
         "type": "integer"
        },
        {
         "name": "lat",
         "rawType": "float64",
         "type": "float"
        },
        {
         "name": "lon",
         "rawType": "float64",
         "type": "float"
        },
        {
         "name": "total",
         "rawType": "int64",
         "type": "integer"
        },
        {
         "name": "open",
         "rawType": "object",
         "type": "string"
        },
        {
         "name": "free",
         "rawType": "int64",
         "type": "integer"
        }
       ],
       "conversionMethod": "pd.DataFrame",
       "ref": "23029c56-758f-44b7-be7a-a9b86e4c3c69",
       "rows": [
        [
         "1361",
         "2025-02-12 13:30:00.000000",
         "Alameda - Pintor Maella",
         "53",
         "23",
         "39.45676426141678",
         "-0.3481393040048007",
         "25",
         "T",
         "2"
        ],
        [
         "1362",
         "2025-02-12 13:40:07.000000",
         "Alameda - Pintor Maella",
         "53",
         "24",
         "39.45676426141678",
         "-0.3481393040048007",
         "25",
         "T",
         "1"
        ],
        [
         "1363",
         "2025-02-12 13:49:12.000000",
         "Alameda - Pintor Maella",
         "53",
         "23",
         "39.45676426141678",
         "-0.3481393040048007",
         "25",
         "T",
         "2"
        ],
        [
         "1350",
         "2025-02-12 11:39:56.000000",
         "Alameda - Pintor Maella",
         "53",
         "17",
         "39.45676426141678",
         "-0.3481393040048007",
         "25",
         "T",
         "8"
        ],
        [
         "4067",
         "2025-03-03 15:19:57.000000",
         "Alameda - Pintor Maella",
         "53",
         "23",
         "39.45676426141678",
         "-0.3481393040048007",
         "25",
         "T",
         "2"
        ]
       ],
       "shape": {
        "columns": 9,
        "rows": 5
       }
      },
      "text/html": [
       "<div>\n",
       "<style scoped>\n",
       "    .dataframe tbody tr th:only-of-type {\n",
       "        vertical-align: middle;\n",
       "    }\n",
       "\n",
       "    .dataframe tbody tr th {\n",
       "        vertical-align: top;\n",
       "    }\n",
       "\n",
       "    .dataframe thead th {\n",
       "        text-align: right;\n",
       "    }\n",
       "</style>\n",
       "<table border=\"1\" class=\"dataframe\">\n",
       "  <thead>\n",
       "    <tr style=\"text-align: right;\">\n",
       "      <th></th>\n",
       "      <th>updated</th>\n",
       "      <th>address</th>\n",
       "      <th>number</th>\n",
       "      <th>available</th>\n",
       "      <th>lat</th>\n",
       "      <th>lon</th>\n",
       "      <th>total</th>\n",
       "      <th>open</th>\n",
       "      <th>free</th>\n",
       "    </tr>\n",
       "  </thead>\n",
       "  <tbody>\n",
       "    <tr>\n",
       "      <th>1361</th>\n",
       "      <td>2025-02-12 13:30:00.000000</td>\n",
       "      <td>Alameda - Pintor Maella</td>\n",
       "      <td>53</td>\n",
       "      <td>23</td>\n",
       "      <td>39.456764</td>\n",
       "      <td>-0.348139</td>\n",
       "      <td>25</td>\n",
       "      <td>T</td>\n",
       "      <td>2</td>\n",
       "    </tr>\n",
       "    <tr>\n",
       "      <th>1362</th>\n",
       "      <td>2025-02-12 13:40:07.000000</td>\n",
       "      <td>Alameda - Pintor Maella</td>\n",
       "      <td>53</td>\n",
       "      <td>24</td>\n",
       "      <td>39.456764</td>\n",
       "      <td>-0.348139</td>\n",
       "      <td>25</td>\n",
       "      <td>T</td>\n",
       "      <td>1</td>\n",
       "    </tr>\n",
       "    <tr>\n",
       "      <th>1363</th>\n",
       "      <td>2025-02-12 13:49:12.000000</td>\n",
       "      <td>Alameda - Pintor Maella</td>\n",
       "      <td>53</td>\n",
       "      <td>23</td>\n",
       "      <td>39.456764</td>\n",
       "      <td>-0.348139</td>\n",
       "      <td>25</td>\n",
       "      <td>T</td>\n",
       "      <td>2</td>\n",
       "    </tr>\n",
       "    <tr>\n",
       "      <th>1350</th>\n",
       "      <td>2025-02-12 11:39:56.000000</td>\n",
       "      <td>Alameda - Pintor Maella</td>\n",
       "      <td>53</td>\n",
       "      <td>17</td>\n",
       "      <td>39.456764</td>\n",
       "      <td>-0.348139</td>\n",
       "      <td>25</td>\n",
       "      <td>T</td>\n",
       "      <td>8</td>\n",
       "    </tr>\n",
       "    <tr>\n",
       "      <th>4067</th>\n",
       "      <td>2025-03-03 15:19:57.000000</td>\n",
       "      <td>Alameda - Pintor Maella</td>\n",
       "      <td>53</td>\n",
       "      <td>23</td>\n",
       "      <td>39.456764</td>\n",
       "      <td>-0.348139</td>\n",
       "      <td>25</td>\n",
       "      <td>T</td>\n",
       "      <td>2</td>\n",
       "    </tr>\n",
       "  </tbody>\n",
       "</table>\n",
       "</div>"
      ],
      "text/plain": [
       "                         updated                  address  number  available  \\\n",
       "1361  2025-02-12 13:30:00.000000  Alameda - Pintor Maella      53         23   \n",
       "1362  2025-02-12 13:40:07.000000  Alameda - Pintor Maella      53         24   \n",
       "1363  2025-02-12 13:49:12.000000  Alameda - Pintor Maella      53         23   \n",
       "1350  2025-02-12 11:39:56.000000  Alameda - Pintor Maella      53         17   \n",
       "4067  2025-03-03 15:19:57.000000  Alameda - Pintor Maella      53         23   \n",
       "\n",
       "            lat       lon  total open  free  \n",
       "1361  39.456764 -0.348139     25    T     2  \n",
       "1362  39.456764 -0.348139     25    T     1  \n",
       "1363  39.456764 -0.348139     25    T     2  \n",
       "1350  39.456764 -0.348139     25    T     8  \n",
       "4067  39.456764 -0.348139     25    T     2  "
      ]
     },
     "execution_count": 32,
     "metadata": {},
     "output_type": "execute_result"
    }
   ],
   "source": [
    "df_b_sort.tail()"
   ]
  },
  {
   "cell_type": "markdown",
   "metadata": {},
   "source": [
    "Describiremos los datos usando otro método de pandas que nos permite visualizar el número de valores por columna númerica, su media, desviación estandar, etc."
   ]
  },
  {
   "cell_type": "code",
   "execution_count": 33,
   "metadata": {},
   "outputs": [
    {
     "data": {
      "application/vnd.microsoft.datawrangler.viewer.v0+json": {
       "columns": [
        {
         "name": "index",
         "rawType": "object",
         "type": "string"
        },
        {
         "name": "number",
         "rawType": "float64",
         "type": "float"
        },
        {
         "name": "available",
         "rawType": "float64",
         "type": "float"
        },
        {
         "name": "lat",
         "rawType": "float64",
         "type": "float"
        },
        {
         "name": "lon",
         "rawType": "float64",
         "type": "float"
        },
        {
         "name": "total",
         "rawType": "float64",
         "type": "float"
        },
        {
         "name": "free",
         "rawType": "float64",
         "type": "float"
        }
       ],
       "conversionMethod": "pd.DataFrame",
       "ref": "22388db0-a08b-4f0c-a0be-83dedc13430e",
       "rows": [
        [
         "count",
         "4068.0",
         "4068.0",
         "4068.0",
         "4068.0",
         "4068.0",
         "4068.0"
        ],
        [
         "mean",
         "53.0",
         "17.118239921337267",
         "39.45676426141677",
         "-0.34813930400480075",
         "25.0",
         "7.855457227138643"
        ],
        [
         "std",
         "0.0",
         "7.428374924546444",
         "7.106300850425939e-15",
         "5.551797539395264e-17",
         "0.0",
         "7.442906347182716"
        ],
        [
         "min",
         "53.0",
         "0.0",
         "39.45676426141678",
         "-0.3481393040048007",
         "25.0",
         "0.0"
        ],
        [
         "25%",
         "53.0",
         "11.0",
         "39.45676426141678",
         "-0.3481393040048007",
         "25.0",
         "2.0"
        ],
        [
         "50%",
         "53.0",
         "20.0",
         "39.45676426141678",
         "-0.3481393040048007",
         "25.0",
         "5.0"
        ],
        [
         "75%",
         "53.0",
         "23.0",
         "39.45676426141678",
         "-0.3481393040048007",
         "25.0",
         "14.0"
        ],
        [
         "max",
         "53.0",
         "25.0",
         "39.45676426141678",
         "-0.3481393040048007",
         "25.0",
         "25.0"
        ]
       ],
       "shape": {
        "columns": 6,
        "rows": 8
       }
      },
      "text/html": [
       "<div>\n",
       "<style scoped>\n",
       "    .dataframe tbody tr th:only-of-type {\n",
       "        vertical-align: middle;\n",
       "    }\n",
       "\n",
       "    .dataframe tbody tr th {\n",
       "        vertical-align: top;\n",
       "    }\n",
       "\n",
       "    .dataframe thead th {\n",
       "        text-align: right;\n",
       "    }\n",
       "</style>\n",
       "<table border=\"1\" class=\"dataframe\">\n",
       "  <thead>\n",
       "    <tr style=\"text-align: right;\">\n",
       "      <th></th>\n",
       "      <th>number</th>\n",
       "      <th>available</th>\n",
       "      <th>lat</th>\n",
       "      <th>lon</th>\n",
       "      <th>total</th>\n",
       "      <th>free</th>\n",
       "    </tr>\n",
       "  </thead>\n",
       "  <tbody>\n",
       "    <tr>\n",
       "      <th>count</th>\n",
       "      <td>4068.0</td>\n",
       "      <td>4068.000000</td>\n",
       "      <td>4.068000e+03</td>\n",
       "      <td>4.068000e+03</td>\n",
       "      <td>4068.0</td>\n",
       "      <td>4068.000000</td>\n",
       "    </tr>\n",
       "    <tr>\n",
       "      <th>mean</th>\n",
       "      <td>53.0</td>\n",
       "      <td>17.118240</td>\n",
       "      <td>3.945676e+01</td>\n",
       "      <td>-3.481393e-01</td>\n",
       "      <td>25.0</td>\n",
       "      <td>7.855457</td>\n",
       "    </tr>\n",
       "    <tr>\n",
       "      <th>std</th>\n",
       "      <td>0.0</td>\n",
       "      <td>7.428375</td>\n",
       "      <td>7.106301e-15</td>\n",
       "      <td>5.551798e-17</td>\n",
       "      <td>0.0</td>\n",
       "      <td>7.442906</td>\n",
       "    </tr>\n",
       "    <tr>\n",
       "      <th>min</th>\n",
       "      <td>53.0</td>\n",
       "      <td>0.000000</td>\n",
       "      <td>3.945676e+01</td>\n",
       "      <td>-3.481393e-01</td>\n",
       "      <td>25.0</td>\n",
       "      <td>0.000000</td>\n",
       "    </tr>\n",
       "    <tr>\n",
       "      <th>25%</th>\n",
       "      <td>53.0</td>\n",
       "      <td>11.000000</td>\n",
       "      <td>3.945676e+01</td>\n",
       "      <td>-3.481393e-01</td>\n",
       "      <td>25.0</td>\n",
       "      <td>2.000000</td>\n",
       "    </tr>\n",
       "    <tr>\n",
       "      <th>50%</th>\n",
       "      <td>53.0</td>\n",
       "      <td>20.000000</td>\n",
       "      <td>3.945676e+01</td>\n",
       "      <td>-3.481393e-01</td>\n",
       "      <td>25.0</td>\n",
       "      <td>5.000000</td>\n",
       "    </tr>\n",
       "    <tr>\n",
       "      <th>75%</th>\n",
       "      <td>53.0</td>\n",
       "      <td>23.000000</td>\n",
       "      <td>3.945676e+01</td>\n",
       "      <td>-3.481393e-01</td>\n",
       "      <td>25.0</td>\n",
       "      <td>14.000000</td>\n",
       "    </tr>\n",
       "    <tr>\n",
       "      <th>max</th>\n",
       "      <td>53.0</td>\n",
       "      <td>25.000000</td>\n",
       "      <td>3.945676e+01</td>\n",
       "      <td>-3.481393e-01</td>\n",
       "      <td>25.0</td>\n",
       "      <td>25.000000</td>\n",
       "    </tr>\n",
       "  </tbody>\n",
       "</table>\n",
       "</div>"
      ],
      "text/plain": [
       "       number    available           lat           lon   total         free\n",
       "count  4068.0  4068.000000  4.068000e+03  4.068000e+03  4068.0  4068.000000\n",
       "mean     53.0    17.118240  3.945676e+01 -3.481393e-01    25.0     7.855457\n",
       "std       0.0     7.428375  7.106301e-15  5.551798e-17     0.0     7.442906\n",
       "min      53.0     0.000000  3.945676e+01 -3.481393e-01    25.0     0.000000\n",
       "25%      53.0    11.000000  3.945676e+01 -3.481393e-01    25.0     2.000000\n",
       "50%      53.0    20.000000  3.945676e+01 -3.481393e-01    25.0     5.000000\n",
       "75%      53.0    23.000000  3.945676e+01 -3.481393e-01    25.0    14.000000\n",
       "max      53.0    25.000000  3.945676e+01 -3.481393e-01    25.0    25.000000"
      ]
     },
     "execution_count": 33,
     "metadata": {},
     "output_type": "execute_result"
    }
   ],
   "source": [
    "df_base.describe() # Imprimir estadísticas descriptivas del DataFrame"
   ]
  },
  {
   "cell_type": "markdown",
   "metadata": {},
   "source": [
    "Gracias a esto vemos que, al menos, las columnas númericas no tienen datos nulos y que la longitud de estas es la misma (4068). Con el método dtypes podemos visualizar el tipo de dato que hay en cada columna, tal y como pandas los visualiza y procesa."
   ]
  },
  {
   "cell_type": "code",
   "execution_count": 34,
   "metadata": {},
   "outputs": [
    {
     "data": {
      "text/plain": [
       "updated       object\n",
       "address       object\n",
       "number         int64\n",
       "available      int64\n",
       "lat          float64\n",
       "lon          float64\n",
       "total          int64\n",
       "open          object\n",
       "free           int64\n",
       "dtype: object"
      ]
     },
     "execution_count": 34,
     "metadata": {},
     "output_type": "execute_result"
    }
   ],
   "source": [
    "df_base.dtypes # Imprimir los tipos de datos de cada columna"
   ]
  },
  {
   "cell_type": "markdown",
   "metadata": {},
   "source": [
    "Vemos que la columna updated, que son fechas, tienen un formato object que es como decir que son una cadena de texto, por lo que en caso de querer operar con estos, deberemos transformarlos a DateTime."
   ]
  },
  {
   "cell_type": "markdown",
   "metadata": {},
   "source": [
    "# Datos de estaciones para analizar"
   ]
  },
  {
   "cell_type": "markdown",
   "metadata": {},
   "source": [
    "Ahora en vez de usar solo una muestra, usaremos los datos completos. Para ello, accederemos a *data/interim/estaciones.csv*, de igual forma que hicimos antes. Además, queremos responder a la pregunta de como afecta la meterología en el uso de las bicicletas, por lo que traeremos datos de la AEMET (Agencia Española de Metereologia), que se encuentran en *data/external/aemet.csv*."
   ]
  },
  {
   "cell_type": "code",
   "execution_count": 35,
   "metadata": {},
   "outputs": [
    {
     "name": "stdout",
     "output_type": "stream",
     "text": [
      "Archivo estaciones cargado\n",
      "Archivo AEMET cargado\n"
     ]
    }
   ],
   "source": [
    "df_estations = pd.read_csv('./data/interim/estaciones.csv', sep=\",\") # Cargar el archivo CSV de estaciones en un DataFrame de pandas\n",
    "print(\"Archivo estaciones cargado\")\n",
    "\n",
    "df_aemet = pd.read_csv('./data/external/aemet.csv', sep=\",\") # Cargar el archivo CSV de AEMET en un DataFrame de pandas\n",
    "print(\"Archivo AEMET cargado\")"
   ]
  },
  {
   "cell_type": "markdown",
   "metadata": {},
   "source": [
    "Visualizaremos información básica sobre los datos de AEMET usando lo anteriormente visto."
   ]
  },
  {
   "cell_type": "code",
   "execution_count": 36,
   "metadata": {},
   "outputs": [
    {
     "data": {
      "application/vnd.microsoft.datawrangler.viewer.v0+json": {
       "columns": [
        {
         "name": "index",
         "rawType": "int64",
         "type": "integer"
        },
        {
         "name": "ubi",
         "rawType": "object",
         "type": "string"
        },
        {
         "name": "prec",
         "rawType": "float64",
         "type": "float"
        },
        {
         "name": "vmax",
         "rawType": "float64",
         "type": "float"
        },
        {
         "name": "vv",
         "rawType": "float64",
         "type": "float"
        },
        {
         "name": "hr",
         "rawType": "float64",
         "type": "float"
        },
        {
         "name": "ta",
         "rawType": "float64",
         "type": "float"
        },
        {
         "name": "tpr",
         "rawType": "float64",
         "type": "float"
        },
        {
         "name": "tamin",
         "rawType": "float64",
         "type": "float"
        },
        {
         "name": "tamax",
         "rawType": "float64",
         "type": "float"
        },
        {
         "name": "fecha",
         "rawType": "object",
         "type": "string"
        }
       ],
       "conversionMethod": "pd.DataFrame",
       "ref": "6a3d81bf-f9b8-466b-a3d5-865eb482f784",
       "rows": [
        [
         "0",
         "VALENCIA DT",
         "0.0",
         "4.9",
         "2.0",
         "42.0",
         "13.0",
         "0.4",
         "11.4",
         "13.7",
         "2025-02-02 10:00:00+00:00"
        ],
        [
         "1",
         "VALENCIA DT",
         "0.0",
         "6.5",
         "2.2",
         "38.0",
         "14.3",
         "0.2",
         "12.8",
         "14.5",
         "2025-02-02 11:00:00+00:00"
        ],
        [
         "2",
         "VALENCIA DT",
         "0.0",
         "4.9",
         "1.4",
         "37.0",
         "14.7",
         "0.2",
         "13.8",
         "15.2",
         "2025-02-02 12:00:00+00:00"
        ],
        [
         "3",
         "VALENCIA DT",
         "0.0",
         "4.9",
         "1.1",
         "40.0",
         "14.6",
         "1.1",
         "14.2",
         "15.1",
         "2025-02-02 13:00:00+00:00"
        ],
        [
         "4",
         "VALENCIA DT",
         "0.0",
         "4.8",
         "1.9",
         "40.0",
         "13.7",
         "0.4",
         "13.5",
         "14.8",
         "2025-02-02 14:00:00+00:00"
        ]
       ],
       "shape": {
        "columns": 10,
        "rows": 5
       }
      },
      "text/html": [
       "<div>\n",
       "<style scoped>\n",
       "    .dataframe tbody tr th:only-of-type {\n",
       "        vertical-align: middle;\n",
       "    }\n",
       "\n",
       "    .dataframe tbody tr th {\n",
       "        vertical-align: top;\n",
       "    }\n",
       "\n",
       "    .dataframe thead th {\n",
       "        text-align: right;\n",
       "    }\n",
       "</style>\n",
       "<table border=\"1\" class=\"dataframe\">\n",
       "  <thead>\n",
       "    <tr style=\"text-align: right;\">\n",
       "      <th></th>\n",
       "      <th>ubi</th>\n",
       "      <th>prec</th>\n",
       "      <th>vmax</th>\n",
       "      <th>vv</th>\n",
       "      <th>hr</th>\n",
       "      <th>ta</th>\n",
       "      <th>tpr</th>\n",
       "      <th>tamin</th>\n",
       "      <th>tamax</th>\n",
       "      <th>fecha</th>\n",
       "    </tr>\n",
       "  </thead>\n",
       "  <tbody>\n",
       "    <tr>\n",
       "      <th>0</th>\n",
       "      <td>VALENCIA DT</td>\n",
       "      <td>0.0</td>\n",
       "      <td>4.9</td>\n",
       "      <td>2.0</td>\n",
       "      <td>42.0</td>\n",
       "      <td>13.0</td>\n",
       "      <td>0.4</td>\n",
       "      <td>11.4</td>\n",
       "      <td>13.7</td>\n",
       "      <td>2025-02-02 10:00:00+00:00</td>\n",
       "    </tr>\n",
       "    <tr>\n",
       "      <th>1</th>\n",
       "      <td>VALENCIA DT</td>\n",
       "      <td>0.0</td>\n",
       "      <td>6.5</td>\n",
       "      <td>2.2</td>\n",
       "      <td>38.0</td>\n",
       "      <td>14.3</td>\n",
       "      <td>0.2</td>\n",
       "      <td>12.8</td>\n",
       "      <td>14.5</td>\n",
       "      <td>2025-02-02 11:00:00+00:00</td>\n",
       "    </tr>\n",
       "    <tr>\n",
       "      <th>2</th>\n",
       "      <td>VALENCIA DT</td>\n",
       "      <td>0.0</td>\n",
       "      <td>4.9</td>\n",
       "      <td>1.4</td>\n",
       "      <td>37.0</td>\n",
       "      <td>14.7</td>\n",
       "      <td>0.2</td>\n",
       "      <td>13.8</td>\n",
       "      <td>15.2</td>\n",
       "      <td>2025-02-02 12:00:00+00:00</td>\n",
       "    </tr>\n",
       "    <tr>\n",
       "      <th>3</th>\n",
       "      <td>VALENCIA DT</td>\n",
       "      <td>0.0</td>\n",
       "      <td>4.9</td>\n",
       "      <td>1.1</td>\n",
       "      <td>40.0</td>\n",
       "      <td>14.6</td>\n",
       "      <td>1.1</td>\n",
       "      <td>14.2</td>\n",
       "      <td>15.1</td>\n",
       "      <td>2025-02-02 13:00:00+00:00</td>\n",
       "    </tr>\n",
       "    <tr>\n",
       "      <th>4</th>\n",
       "      <td>VALENCIA DT</td>\n",
       "      <td>0.0</td>\n",
       "      <td>4.8</td>\n",
       "      <td>1.9</td>\n",
       "      <td>40.0</td>\n",
       "      <td>13.7</td>\n",
       "      <td>0.4</td>\n",
       "      <td>13.5</td>\n",
       "      <td>14.8</td>\n",
       "      <td>2025-02-02 14:00:00+00:00</td>\n",
       "    </tr>\n",
       "  </tbody>\n",
       "</table>\n",
       "</div>"
      ],
      "text/plain": [
       "           ubi  prec  vmax   vv    hr    ta  tpr  tamin  tamax  \\\n",
       "0  VALENCIA DT   0.0   4.9  2.0  42.0  13.0  0.4   11.4   13.7   \n",
       "1  VALENCIA DT   0.0   6.5  2.2  38.0  14.3  0.2   12.8   14.5   \n",
       "2  VALENCIA DT   0.0   4.9  1.4  37.0  14.7  0.2   13.8   15.2   \n",
       "3  VALENCIA DT   0.0   4.9  1.1  40.0  14.6  1.1   14.2   15.1   \n",
       "4  VALENCIA DT   0.0   4.8  1.9  40.0  13.7  0.4   13.5   14.8   \n",
       "\n",
       "                       fecha  \n",
       "0  2025-02-02 10:00:00+00:00  \n",
       "1  2025-02-02 11:00:00+00:00  \n",
       "2  2025-02-02 12:00:00+00:00  \n",
       "3  2025-02-02 13:00:00+00:00  \n",
       "4  2025-02-02 14:00:00+00:00  "
      ]
     },
     "execution_count": 36,
     "metadata": {},
     "output_type": "execute_result"
    }
   ],
   "source": [
    "df_aemet.head()"
   ]
  },
  {
   "cell_type": "code",
   "execution_count": 37,
   "metadata": {},
   "outputs": [
    {
     "data": {
      "application/vnd.microsoft.datawrangler.viewer.v0+json": {
       "columns": [
        {
         "name": "index",
         "rawType": "object",
         "type": "string"
        },
        {
         "name": "prec",
         "rawType": "float64",
         "type": "float"
        },
        {
         "name": "vmax",
         "rawType": "float64",
         "type": "float"
        },
        {
         "name": "vv",
         "rawType": "float64",
         "type": "float"
        },
        {
         "name": "hr",
         "rawType": "float64",
         "type": "float"
        },
        {
         "name": "ta",
         "rawType": "float64",
         "type": "float"
        },
        {
         "name": "tpr",
         "rawType": "float64",
         "type": "float"
        },
        {
         "name": "tamin",
         "rawType": "float64",
         "type": "float"
        },
        {
         "name": "tamax",
         "rawType": "float64",
         "type": "float"
        }
       ],
       "conversionMethod": "pd.DataFrame",
       "ref": "67162004-88c6-4d46-80d5-d55078fd6e40",
       "rows": [
        [
         "count",
         "615.0",
         "615.0",
         "615.0",
         "615.0",
         "615.0",
         "615.0",
         "615.0",
         "615.0"
        ],
        [
         "mean",
         "0.0334959349593496",
         "1.589756097560976",
         "0.5102439024390244",
         "62.49756097560976",
         "13.163739837398374",
         "5.6933333333333325",
         "12.686666666666667",
         "13.668780487804879"
        ],
        [
         "std",
         "0.6362425117659436",
         "2.1164877270423523",
         "0.7385890495146283",
         "14.682954860060656",
         "3.2352500163606424",
         "3.416415313441803",
         "3.1104873217770783",
         "3.358057203895571"
        ],
        [
         "min",
         "0.0",
         "0.0",
         "0.0",
         "26.0",
         "5.4",
         "-1.7",
         "5.3",
         "5.6"
        ],
        [
         "25%",
         "0.0",
         "0.0",
         "0.0",
         "52.0",
         "11.1",
         "2.9",
         "10.55",
         "11.6"
        ],
        [
         "50%",
         "0.0",
         "0.0",
         "0.0",
         "66.0",
         "13.3",
         "5.9",
         "12.9",
         "13.7"
        ],
        [
         "75%",
         "0.0",
         "3.1",
         "1.0",
         "75.0",
         "15.4",
         "8.850000000000001",
         "14.9",
         "15.9"
        ],
        [
         "max",
         "15.6",
         "19.6",
         "4.5",
         "81.0",
         "22.1",
         "11.3",
         "21.3",
         "22.7"
        ]
       ],
       "shape": {
        "columns": 8,
        "rows": 8
       }
      },
      "text/html": [
       "<div>\n",
       "<style scoped>\n",
       "    .dataframe tbody tr th:only-of-type {\n",
       "        vertical-align: middle;\n",
       "    }\n",
       "\n",
       "    .dataframe tbody tr th {\n",
       "        vertical-align: top;\n",
       "    }\n",
       "\n",
       "    .dataframe thead th {\n",
       "        text-align: right;\n",
       "    }\n",
       "</style>\n",
       "<table border=\"1\" class=\"dataframe\">\n",
       "  <thead>\n",
       "    <tr style=\"text-align: right;\">\n",
       "      <th></th>\n",
       "      <th>prec</th>\n",
       "      <th>vmax</th>\n",
       "      <th>vv</th>\n",
       "      <th>hr</th>\n",
       "      <th>ta</th>\n",
       "      <th>tpr</th>\n",
       "      <th>tamin</th>\n",
       "      <th>tamax</th>\n",
       "    </tr>\n",
       "  </thead>\n",
       "  <tbody>\n",
       "    <tr>\n",
       "      <th>count</th>\n",
       "      <td>615.000000</td>\n",
       "      <td>615.000000</td>\n",
       "      <td>615.000000</td>\n",
       "      <td>615.000000</td>\n",
       "      <td>615.00000</td>\n",
       "      <td>615.000000</td>\n",
       "      <td>615.000000</td>\n",
       "      <td>615.000000</td>\n",
       "    </tr>\n",
       "    <tr>\n",
       "      <th>mean</th>\n",
       "      <td>0.033496</td>\n",
       "      <td>1.589756</td>\n",
       "      <td>0.510244</td>\n",
       "      <td>62.497561</td>\n",
       "      <td>13.16374</td>\n",
       "      <td>5.693333</td>\n",
       "      <td>12.686667</td>\n",
       "      <td>13.668780</td>\n",
       "    </tr>\n",
       "    <tr>\n",
       "      <th>std</th>\n",
       "      <td>0.636243</td>\n",
       "      <td>2.116488</td>\n",
       "      <td>0.738589</td>\n",
       "      <td>14.682955</td>\n",
       "      <td>3.23525</td>\n",
       "      <td>3.416415</td>\n",
       "      <td>3.110487</td>\n",
       "      <td>3.358057</td>\n",
       "    </tr>\n",
       "    <tr>\n",
       "      <th>min</th>\n",
       "      <td>0.000000</td>\n",
       "      <td>0.000000</td>\n",
       "      <td>0.000000</td>\n",
       "      <td>26.000000</td>\n",
       "      <td>5.40000</td>\n",
       "      <td>-1.700000</td>\n",
       "      <td>5.300000</td>\n",
       "      <td>5.600000</td>\n",
       "    </tr>\n",
       "    <tr>\n",
       "      <th>25%</th>\n",
       "      <td>0.000000</td>\n",
       "      <td>0.000000</td>\n",
       "      <td>0.000000</td>\n",
       "      <td>52.000000</td>\n",
       "      <td>11.10000</td>\n",
       "      <td>2.900000</td>\n",
       "      <td>10.550000</td>\n",
       "      <td>11.600000</td>\n",
       "    </tr>\n",
       "    <tr>\n",
       "      <th>50%</th>\n",
       "      <td>0.000000</td>\n",
       "      <td>0.000000</td>\n",
       "      <td>0.000000</td>\n",
       "      <td>66.000000</td>\n",
       "      <td>13.30000</td>\n",
       "      <td>5.900000</td>\n",
       "      <td>12.900000</td>\n",
       "      <td>13.700000</td>\n",
       "    </tr>\n",
       "    <tr>\n",
       "      <th>75%</th>\n",
       "      <td>0.000000</td>\n",
       "      <td>3.100000</td>\n",
       "      <td>1.000000</td>\n",
       "      <td>75.000000</td>\n",
       "      <td>15.40000</td>\n",
       "      <td>8.850000</td>\n",
       "      <td>14.900000</td>\n",
       "      <td>15.900000</td>\n",
       "    </tr>\n",
       "    <tr>\n",
       "      <th>max</th>\n",
       "      <td>15.600000</td>\n",
       "      <td>19.600000</td>\n",
       "      <td>4.500000</td>\n",
       "      <td>81.000000</td>\n",
       "      <td>22.10000</td>\n",
       "      <td>11.300000</td>\n",
       "      <td>21.300000</td>\n",
       "      <td>22.700000</td>\n",
       "    </tr>\n",
       "  </tbody>\n",
       "</table>\n",
       "</div>"
      ],
      "text/plain": [
       "             prec        vmax          vv          hr         ta         tpr  \\\n",
       "count  615.000000  615.000000  615.000000  615.000000  615.00000  615.000000   \n",
       "mean     0.033496    1.589756    0.510244   62.497561   13.16374    5.693333   \n",
       "std      0.636243    2.116488    0.738589   14.682955    3.23525    3.416415   \n",
       "min      0.000000    0.000000    0.000000   26.000000    5.40000   -1.700000   \n",
       "25%      0.000000    0.000000    0.000000   52.000000   11.10000    2.900000   \n",
       "50%      0.000000    0.000000    0.000000   66.000000   13.30000    5.900000   \n",
       "75%      0.000000    3.100000    1.000000   75.000000   15.40000    8.850000   \n",
       "max     15.600000   19.600000    4.500000   81.000000   22.10000   11.300000   \n",
       "\n",
       "            tamin       tamax  \n",
       "count  615.000000  615.000000  \n",
       "mean    12.686667   13.668780  \n",
       "std      3.110487    3.358057  \n",
       "min      5.300000    5.600000  \n",
       "25%     10.550000   11.600000  \n",
       "50%     12.900000   13.700000  \n",
       "75%     14.900000   15.900000  \n",
       "max     21.300000   22.700000  "
      ]
     },
     "execution_count": 37,
     "metadata": {},
     "output_type": "execute_result"
    }
   ],
   "source": [
    "df_aemet.describe() # Imprimir estadísticas descriptivas del DataFrame de AEMET"
   ]
  },
  {
   "cell_type": "code",
   "execution_count": 38,
   "metadata": {},
   "outputs": [
    {
     "data": {
      "text/plain": [
       "ubi       object\n",
       "prec     float64\n",
       "vmax     float64\n",
       "vv       float64\n",
       "hr       float64\n",
       "ta       float64\n",
       "tpr      float64\n",
       "tamin    float64\n",
       "tamax    float64\n",
       "fecha     object\n",
       "dtype: object"
      ]
     },
     "execution_count": 38,
     "metadata": {},
     "output_type": "execute_result"
    }
   ],
   "source": [
    "df_aemet.dtypes # Imprimir los tipos de datos de cada columna del DataFrame de AEMET"
   ]
  },
  {
   "cell_type": "markdown",
   "metadata": {},
   "source": [
    "Puesto que sabemos que las fechas no están en el formato correcto, le modificaremos el tipo de dato para poder operar con ellas."
   ]
  },
  {
   "cell_type": "code",
   "execution_count": 39,
   "metadata": {},
   "outputs": [],
   "source": [
    "df_aemet[\"fecha\"] = pd.to_datetime(df_aemet[\"fecha\"]) # Convertir la columna \"fecha\" a tipo datetime"
   ]
  },
  {
   "cell_type": "markdown",
   "metadata": {},
   "source": [
    "# Integración de datos"
   ]
  },
  {
   "cell_type": "markdown",
   "metadata": {},
   "source": [
    "Cargaremos los datos a usar de AEMET ubicados en */data/interim/usoestameteo.csv*. "
   ]
  },
  {
   "cell_type": "code",
   "execution_count": 40,
   "metadata": {},
   "outputs": [],
   "source": [
    "df_aemet_usar = pd.read_csv(\"./data/interim/usoestameteo.csv\") # Cargar el archivo CSV de uso de estaciones meteorológicas en un DataFrame de pandas"
   ]
  },
  {
   "cell_type": "code",
   "execution_count": 41,
   "metadata": {},
   "outputs": [
    {
     "data": {
      "text/plain": [
       "((4711, 19),\n",
       " Index(['prec', 'vmax', 'vv', 'hr', 'ta', 'tpr', 'tamin', 'tamax', 'fecha',\n",
       "        'count_out', 'count_in', 'number', 'address', 'lat', 'lon', 'total',\n",
       "        'nombre', 'coddistrit', 'codbarrio'],\n",
       "       dtype='object'))"
      ]
     },
     "execution_count": 41,
     "metadata": {},
     "output_type": "execute_result"
    }
   ],
   "source": [
    "df_aemet_usar.shape, df_aemet_usar.columns"
   ]
  },
  {
   "cell_type": "code",
   "execution_count": 42,
   "metadata": {},
   "outputs": [
    {
     "name": "stdout",
     "output_type": "stream",
     "text": [
      "2025-02-03 00:00:00+00:00\n",
      "2025-03-03 10:00:00+00:00\n"
     ]
    }
   ],
   "source": [
    "df_aemet_usar[\"fecha\"] = pd.to_datetime(df_aemet_usar[\"fecha\"]) # Convertir la columna \"fecha\" a tipo datetime\n",
    "print(df_aemet_usar[\"fecha\"].min()) # Imprimir la fecha mínima del DataFrame de uso de estaciones meteorológicas\n",
    "print(df_aemet_usar[\"fecha\"].max()) # Imprimir la fecha máxima del DataFrame de uso de estaciones meteorológicas"
   ]
  },
  {
   "cell_type": "markdown",
   "metadata": {},
   "source": [
    "Ordenaremos el dataframe por fecha."
   ]
  },
  {
   "cell_type": "code",
   "execution_count": 43,
   "metadata": {},
   "outputs": [
    {
     "data": {
      "application/vnd.microsoft.datawrangler.viewer.v0+json": {
       "columns": [
        {
         "name": "index",
         "rawType": "int64",
         "type": "integer"
        },
        {
         "name": "prec",
         "rawType": "float64",
         "type": "float"
        },
        {
         "name": "vmax",
         "rawType": "float64",
         "type": "float"
        },
        {
         "name": "vv",
         "rawType": "float64",
         "type": "float"
        },
        {
         "name": "hr",
         "rawType": "float64",
         "type": "float"
        },
        {
         "name": "ta",
         "rawType": "float64",
         "type": "float"
        },
        {
         "name": "tpr",
         "rawType": "float64",
         "type": "float"
        },
        {
         "name": "tamin",
         "rawType": "float64",
         "type": "float"
        },
        {
         "name": "tamax",
         "rawType": "float64",
         "type": "float"
        },
        {
         "name": "fecha",
         "rawType": "datetime64[ns, UTC]",
         "type": "unknown"
        },
        {
         "name": "count_out",
         "rawType": "float64",
         "type": "float"
        },
        {
         "name": "count_in",
         "rawType": "float64",
         "type": "float"
        },
        {
         "name": "number",
         "rawType": "float64",
         "type": "float"
        },
        {
         "name": "address",
         "rawType": "object",
         "type": "string"
        },
        {
         "name": "lat",
         "rawType": "float64",
         "type": "float"
        },
        {
         "name": "lon",
         "rawType": "float64",
         "type": "float"
        },
        {
         "name": "total",
         "rawType": "float64",
         "type": "float"
        },
        {
         "name": "nombre",
         "rawType": "object",
         "type": "string"
        },
        {
         "name": "coddistrit",
         "rawType": "int64",
         "type": "integer"
        },
        {
         "name": "codbarrio",
         "rawType": "int64",
         "type": "integer"
        }
       ],
       "conversionMethod": "pd.DataFrame",
       "ref": "48f85ff7-67e0-487f-9436-f2f3da159d61",
       "rows": [
        [
         "1345",
         "1.2",
         "9.7",
         "2.9",
         "81.0",
         "14.4",
         "11.2",
         "14.2",
         "14.4",
         "2025-03-03 10:00:00+00:00",
         "-1.0",
         "4.0",
         "33.0",
         "Germanías - Ruzafa",
         "39.46481830023885",
         "-0.3739903856231028",
         "20.0",
         "RUSSAFA",
         "2",
         "1"
        ],
        [
         "2018",
         "1.2",
         "9.7",
         "2.9",
         "81.0",
         "14.4",
         "11.2",
         "14.2",
         "14.4",
         "2025-03-03 10:00:00+00:00",
         "0.0",
         "0.0",
         "38.0",
         "Peris y Valero - Cabo Jubi",
         "39.45940204927687",
         "-0.3702493773693626",
         "15.0",
         "RUSSAFA",
         "2",
         "1"
        ],
        [
         "2691",
         "1.2",
         "9.7",
         "2.9",
         "81.0",
         "14.4",
         "11.2",
         "14.2",
         "14.4",
         "2025-03-03 10:00:00+00:00",
         "-1.0",
         "0.0",
         "39.0",
         "Peris y Valero - Cuba",
         "39.457854277261184",
         "-0.3739313916673185",
         "19.0",
         "RUSSAFA",
         "2",
         "1"
        ],
        [
         "3364",
         "1.2",
         "9.7",
         "2.9",
         "81.0",
         "14.4",
         "11.2",
         "14.2",
         "14.4",
         "2025-03-03 10:00:00+00:00",
         "-3.0",
         "7.0",
         "37.0",
         "Peris y Valero - Luis Santángel",
         "39.460937800028375",
         "-0.3664406250017559",
         "20.0",
         "RUSSAFA",
         "2",
         "1"
        ],
        [
         "4710",
         "1.2",
         "9.7",
         "2.9",
         "81.0",
         "14.4",
         "11.2",
         "14.2",
         "14.4",
         "2025-03-03 10:00:00+00:00",
         "-1.0",
         "2.0",
         "152.0",
         "Reina Doña María - Cádiz",
         "39.460925286769694",
         "-0.3727053849231208",
         "15.0",
         "RUSSAFA",
         "2",
         "1"
        ]
       ],
       "shape": {
        "columns": 19,
        "rows": 5
       }
      },
      "text/html": [
       "<div>\n",
       "<style scoped>\n",
       "    .dataframe tbody tr th:only-of-type {\n",
       "        vertical-align: middle;\n",
       "    }\n",
       "\n",
       "    .dataframe tbody tr th {\n",
       "        vertical-align: top;\n",
       "    }\n",
       "\n",
       "    .dataframe thead th {\n",
       "        text-align: right;\n",
       "    }\n",
       "</style>\n",
       "<table border=\"1\" class=\"dataframe\">\n",
       "  <thead>\n",
       "    <tr style=\"text-align: right;\">\n",
       "      <th></th>\n",
       "      <th>prec</th>\n",
       "      <th>vmax</th>\n",
       "      <th>vv</th>\n",
       "      <th>hr</th>\n",
       "      <th>ta</th>\n",
       "      <th>tpr</th>\n",
       "      <th>tamin</th>\n",
       "      <th>tamax</th>\n",
       "      <th>fecha</th>\n",
       "      <th>count_out</th>\n",
       "      <th>count_in</th>\n",
       "      <th>number</th>\n",
       "      <th>address</th>\n",
       "      <th>lat</th>\n",
       "      <th>lon</th>\n",
       "      <th>total</th>\n",
       "      <th>nombre</th>\n",
       "      <th>coddistrit</th>\n",
       "      <th>codbarrio</th>\n",
       "    </tr>\n",
       "  </thead>\n",
       "  <tbody>\n",
       "    <tr>\n",
       "      <th>1345</th>\n",
       "      <td>1.2</td>\n",
       "      <td>9.7</td>\n",
       "      <td>2.9</td>\n",
       "      <td>81.0</td>\n",
       "      <td>14.4</td>\n",
       "      <td>11.2</td>\n",
       "      <td>14.2</td>\n",
       "      <td>14.4</td>\n",
       "      <td>2025-03-03 10:00:00+00:00</td>\n",
       "      <td>-1.0</td>\n",
       "      <td>4.0</td>\n",
       "      <td>33.0</td>\n",
       "      <td>Germanías - Ruzafa</td>\n",
       "      <td>39.464818</td>\n",
       "      <td>-0.373990</td>\n",
       "      <td>20.0</td>\n",
       "      <td>RUSSAFA</td>\n",
       "      <td>2</td>\n",
       "      <td>1</td>\n",
       "    </tr>\n",
       "    <tr>\n",
       "      <th>2018</th>\n",
       "      <td>1.2</td>\n",
       "      <td>9.7</td>\n",
       "      <td>2.9</td>\n",
       "      <td>81.0</td>\n",
       "      <td>14.4</td>\n",
       "      <td>11.2</td>\n",
       "      <td>14.2</td>\n",
       "      <td>14.4</td>\n",
       "      <td>2025-03-03 10:00:00+00:00</td>\n",
       "      <td>0.0</td>\n",
       "      <td>0.0</td>\n",
       "      <td>38.0</td>\n",
       "      <td>Peris y Valero - Cabo Jubi</td>\n",
       "      <td>39.459402</td>\n",
       "      <td>-0.370249</td>\n",
       "      <td>15.0</td>\n",
       "      <td>RUSSAFA</td>\n",
       "      <td>2</td>\n",
       "      <td>1</td>\n",
       "    </tr>\n",
       "    <tr>\n",
       "      <th>2691</th>\n",
       "      <td>1.2</td>\n",
       "      <td>9.7</td>\n",
       "      <td>2.9</td>\n",
       "      <td>81.0</td>\n",
       "      <td>14.4</td>\n",
       "      <td>11.2</td>\n",
       "      <td>14.2</td>\n",
       "      <td>14.4</td>\n",
       "      <td>2025-03-03 10:00:00+00:00</td>\n",
       "      <td>-1.0</td>\n",
       "      <td>0.0</td>\n",
       "      <td>39.0</td>\n",
       "      <td>Peris y Valero - Cuba</td>\n",
       "      <td>39.457854</td>\n",
       "      <td>-0.373931</td>\n",
       "      <td>19.0</td>\n",
       "      <td>RUSSAFA</td>\n",
       "      <td>2</td>\n",
       "      <td>1</td>\n",
       "    </tr>\n",
       "    <tr>\n",
       "      <th>3364</th>\n",
       "      <td>1.2</td>\n",
       "      <td>9.7</td>\n",
       "      <td>2.9</td>\n",
       "      <td>81.0</td>\n",
       "      <td>14.4</td>\n",
       "      <td>11.2</td>\n",
       "      <td>14.2</td>\n",
       "      <td>14.4</td>\n",
       "      <td>2025-03-03 10:00:00+00:00</td>\n",
       "      <td>-3.0</td>\n",
       "      <td>7.0</td>\n",
       "      <td>37.0</td>\n",
       "      <td>Peris y Valero - Luis Santángel</td>\n",
       "      <td>39.460938</td>\n",
       "      <td>-0.366441</td>\n",
       "      <td>20.0</td>\n",
       "      <td>RUSSAFA</td>\n",
       "      <td>2</td>\n",
       "      <td>1</td>\n",
       "    </tr>\n",
       "    <tr>\n",
       "      <th>4710</th>\n",
       "      <td>1.2</td>\n",
       "      <td>9.7</td>\n",
       "      <td>2.9</td>\n",
       "      <td>81.0</td>\n",
       "      <td>14.4</td>\n",
       "      <td>11.2</td>\n",
       "      <td>14.2</td>\n",
       "      <td>14.4</td>\n",
       "      <td>2025-03-03 10:00:00+00:00</td>\n",
       "      <td>-1.0</td>\n",
       "      <td>2.0</td>\n",
       "      <td>152.0</td>\n",
       "      <td>Reina Doña María - Cádiz</td>\n",
       "      <td>39.460925</td>\n",
       "      <td>-0.372705</td>\n",
       "      <td>15.0</td>\n",
       "      <td>RUSSAFA</td>\n",
       "      <td>2</td>\n",
       "      <td>1</td>\n",
       "    </tr>\n",
       "  </tbody>\n",
       "</table>\n",
       "</div>"
      ],
      "text/plain": [
       "      prec  vmax   vv    hr    ta   tpr  tamin  tamax  \\\n",
       "1345   1.2   9.7  2.9  81.0  14.4  11.2   14.2   14.4   \n",
       "2018   1.2   9.7  2.9  81.0  14.4  11.2   14.2   14.4   \n",
       "2691   1.2   9.7  2.9  81.0  14.4  11.2   14.2   14.4   \n",
       "3364   1.2   9.7  2.9  81.0  14.4  11.2   14.2   14.4   \n",
       "4710   1.2   9.7  2.9  81.0  14.4  11.2   14.2   14.4   \n",
       "\n",
       "                         fecha  count_out  count_in  number  \\\n",
       "1345 2025-03-03 10:00:00+00:00       -1.0       4.0    33.0   \n",
       "2018 2025-03-03 10:00:00+00:00        0.0       0.0    38.0   \n",
       "2691 2025-03-03 10:00:00+00:00       -1.0       0.0    39.0   \n",
       "3364 2025-03-03 10:00:00+00:00       -3.0       7.0    37.0   \n",
       "4710 2025-03-03 10:00:00+00:00       -1.0       2.0   152.0   \n",
       "\n",
       "                              address        lat       lon  total   nombre  \\\n",
       "1345               Germanías - Ruzafa  39.464818 -0.373990   20.0  RUSSAFA   \n",
       "2018       Peris y Valero - Cabo Jubi  39.459402 -0.370249   15.0  RUSSAFA   \n",
       "2691            Peris y Valero - Cuba  39.457854 -0.373931   19.0  RUSSAFA   \n",
       "3364  Peris y Valero - Luis Santángel  39.460938 -0.366441   20.0  RUSSAFA   \n",
       "4710         Reina Doña María - Cádiz  39.460925 -0.372705   15.0  RUSSAFA   \n",
       "\n",
       "      coddistrit  codbarrio  \n",
       "1345           2          1  \n",
       "2018           2          1  \n",
       "2691           2          1  \n",
       "3364           2          1  \n",
       "4710           2          1  "
      ]
     },
     "execution_count": 43,
     "metadata": {},
     "output_type": "execute_result"
    }
   ],
   "source": [
    "df_aemet_usar.sort_values(by=\"fecha\", ascending=True, inplace=True) # Ordenar el DataFrame de uso de estaciones meteorológicas por la columna \"fecha\" en orden ascendente\n",
    "df_aemet_usar.tail() # Imprimir las últimas filas del DataFrame de uso de estaciones meteorológicas"
   ]
  },
  {
   "cell_type": "markdown",
   "metadata": {},
   "source": [
    "A continuación miraremos si hay valores nulos en cada columna y sumaremos la cantidad que hay."
   ]
  },
  {
   "cell_type": "code",
   "execution_count": 44,
   "metadata": {},
   "outputs": [
    {
     "data": {
      "text/plain": [
       "prec          0\n",
       "vmax          0\n",
       "vv            0\n",
       "hr            0\n",
       "ta            0\n",
       "tpr           0\n",
       "tamin         0\n",
       "tamax         0\n",
       "fecha         0\n",
       "count_out     0\n",
       "count_in      0\n",
       "number        0\n",
       "address       0\n",
       "lat           0\n",
       "lon           0\n",
       "total         0\n",
       "nombre        0\n",
       "coddistrit    0\n",
       "codbarrio     0\n",
       "dtype: int64"
      ]
     },
     "execution_count": 44,
     "metadata": {},
     "output_type": "execute_result"
    }
   ],
   "source": [
    "# Visualizar datos nulos por columnas\n",
    "df_aemet_usar.isna().sum()"
   ]
  },
  {
   "cell_type": "code",
   "execution_count": 45,
   "metadata": {},
   "outputs": [
    {
     "data": {
      "application/vnd.microsoft.datawrangler.viewer.v0+json": {
       "columns": [
        {
         "name": "index",
         "rawType": "int64",
         "type": "integer"
        },
        {
         "name": "fecha",
         "rawType": "datetime64[ns, UTC]",
         "type": "unknown"
        },
        {
         "name": "count_out",
         "rawType": "float64",
         "type": "float"
        },
        {
         "name": "nombre",
         "rawType": "object",
         "type": "string"
        }
       ],
       "conversionMethod": "pd.DataFrame",
       "ref": "8864db9e-f261-423e-a3b6-32f107f3e3bf",
       "rows": [],
       "shape": {
        "columns": 3,
        "rows": 0
       }
      },
      "text/html": [
       "<div>\n",
       "<style scoped>\n",
       "    .dataframe tbody tr th:only-of-type {\n",
       "        vertical-align: middle;\n",
       "    }\n",
       "\n",
       "    .dataframe tbody tr th {\n",
       "        vertical-align: top;\n",
       "    }\n",
       "\n",
       "    .dataframe thead th {\n",
       "        text-align: right;\n",
       "    }\n",
       "</style>\n",
       "<table border=\"1\" class=\"dataframe\">\n",
       "  <thead>\n",
       "    <tr style=\"text-align: right;\">\n",
       "      <th></th>\n",
       "      <th>fecha</th>\n",
       "      <th>count_out</th>\n",
       "      <th>nombre</th>\n",
       "    </tr>\n",
       "  </thead>\n",
       "  <tbody>\n",
       "  </tbody>\n",
       "</table>\n",
       "</div>"
      ],
      "text/plain": [
       "Empty DataFrame\n",
       "Columns: [fecha, count_out, nombre]\n",
       "Index: []"
      ]
     },
     "execution_count": 45,
     "metadata": {},
     "output_type": "execute_result"
    }
   ],
   "source": [
    "df_aemet_usar.loc[df_aemet_usar['nombre'].isna(), ['fecha', 'count_out', 'nombre']]"
   ]
  },
  {
   "cell_type": "markdown",
   "metadata": {},
   "source": [
    "No tenemos valores nulos."
   ]
  },
  {
   "cell_type": "markdown",
   "metadata": {},
   "source": [
    "# Análisis Exploratorio de Datos (EDA)"
   ]
  },
  {
   "cell_type": "markdown",
   "metadata": {},
   "source": [
    "Cargaremos los datos de cada barrio para la meteorología y el uso de bicis."
   ]
  },
  {
   "cell_type": "code",
   "execution_count": 46,
   "metadata": {},
   "outputs": [
    {
     "name": "stdout",
     "output_type": "stream",
     "text": [
      "Archivo barrios AEMET cargado\n"
     ]
    },
    {
     "data": {
      "application/vnd.microsoft.datawrangler.viewer.v0+json": {
       "columns": [
        {
         "name": "index",
         "rawType": "int64",
         "type": "integer"
        },
        {
         "name": "prec",
         "rawType": "float64",
         "type": "float"
        },
        {
         "name": "vmax",
         "rawType": "float64",
         "type": "float"
        },
        {
         "name": "vv",
         "rawType": "float64",
         "type": "float"
        },
        {
         "name": "hr",
         "rawType": "float64",
         "type": "float"
        },
        {
         "name": "ta",
         "rawType": "float64",
         "type": "float"
        },
        {
         "name": "tpr",
         "rawType": "float64",
         "type": "float"
        },
        {
         "name": "tamin",
         "rawType": "float64",
         "type": "float"
        },
        {
         "name": "tamax",
         "rawType": "float64",
         "type": "float"
        },
        {
         "name": "fecha",
         "rawType": "object",
         "type": "string"
        },
        {
         "name": "uso_bici",
         "rawType": "float64",
         "type": "float"
        },
        {
         "name": "name",
         "rawType": "object",
         "type": "string"
        }
       ],
       "conversionMethod": "pd.DataFrame",
       "ref": "97a502da-b5b2-42d3-944c-30b6264b8a47",
       "rows": [
        [
         "0",
         "0.0",
         "2.5",
         "0.9",
         "72.0",
         "6.5",
         "1.9",
         "6.4",
         "7.1",
         "2025-02-03 00:00:00+00:00",
         "2.0",
         "LA CARRASCA"
        ],
        [
         "1",
         "0.0",
         "2.1",
         "0.5",
         "71.0",
         "6.3",
         "1.5",
         "6.2",
         "6.6",
         "2025-02-03 01:00:00+00:00",
         "3.0",
         "LA CARRASCA"
        ],
        [
         "2",
         "0.0",
         "2.5",
         "1.1",
         "71.0",
         "6.0",
         "1.1",
         "6.0",
         "6.3",
         "2025-02-03 02:00:00+00:00",
         "1.0",
         "LA CARRASCA"
        ],
        [
         "3",
         "0.0",
         "2.6",
         "0.4",
         "70.0",
         "5.8",
         "0.9",
         "5.8",
         "6.2",
         "2025-02-03 03:00:00+00:00",
         "0.0",
         "LA CARRASCA"
        ],
        [
         "4",
         "0.0",
         "2.1",
         "0.5",
         "70.0",
         "5.7",
         "0.6",
         "5.7",
         "5.9",
         "2025-02-03 04:00:00+00:00",
         "1.0",
         "LA CARRASCA"
        ]
       ],
       "shape": {
        "columns": 11,
        "rows": 5
       }
      },
      "text/html": [
       "<div>\n",
       "<style scoped>\n",
       "    .dataframe tbody tr th:only-of-type {\n",
       "        vertical-align: middle;\n",
       "    }\n",
       "\n",
       "    .dataframe tbody tr th {\n",
       "        vertical-align: top;\n",
       "    }\n",
       "\n",
       "    .dataframe thead th {\n",
       "        text-align: right;\n",
       "    }\n",
       "</style>\n",
       "<table border=\"1\" class=\"dataframe\">\n",
       "  <thead>\n",
       "    <tr style=\"text-align: right;\">\n",
       "      <th></th>\n",
       "      <th>prec</th>\n",
       "      <th>vmax</th>\n",
       "      <th>vv</th>\n",
       "      <th>hr</th>\n",
       "      <th>ta</th>\n",
       "      <th>tpr</th>\n",
       "      <th>tamin</th>\n",
       "      <th>tamax</th>\n",
       "      <th>fecha</th>\n",
       "      <th>uso_bici</th>\n",
       "      <th>name</th>\n",
       "    </tr>\n",
       "  </thead>\n",
       "  <tbody>\n",
       "    <tr>\n",
       "      <th>0</th>\n",
       "      <td>0.0</td>\n",
       "      <td>2.5</td>\n",
       "      <td>0.9</td>\n",
       "      <td>72.0</td>\n",
       "      <td>6.5</td>\n",
       "      <td>1.9</td>\n",
       "      <td>6.4</td>\n",
       "      <td>7.1</td>\n",
       "      <td>2025-02-03 00:00:00+00:00</td>\n",
       "      <td>2.0</td>\n",
       "      <td>LA CARRASCA</td>\n",
       "    </tr>\n",
       "    <tr>\n",
       "      <th>1</th>\n",
       "      <td>0.0</td>\n",
       "      <td>2.1</td>\n",
       "      <td>0.5</td>\n",
       "      <td>71.0</td>\n",
       "      <td>6.3</td>\n",
       "      <td>1.5</td>\n",
       "      <td>6.2</td>\n",
       "      <td>6.6</td>\n",
       "      <td>2025-02-03 01:00:00+00:00</td>\n",
       "      <td>3.0</td>\n",
       "      <td>LA CARRASCA</td>\n",
       "    </tr>\n",
       "    <tr>\n",
       "      <th>2</th>\n",
       "      <td>0.0</td>\n",
       "      <td>2.5</td>\n",
       "      <td>1.1</td>\n",
       "      <td>71.0</td>\n",
       "      <td>6.0</td>\n",
       "      <td>1.1</td>\n",
       "      <td>6.0</td>\n",
       "      <td>6.3</td>\n",
       "      <td>2025-02-03 02:00:00+00:00</td>\n",
       "      <td>1.0</td>\n",
       "      <td>LA CARRASCA</td>\n",
       "    </tr>\n",
       "    <tr>\n",
       "      <th>3</th>\n",
       "      <td>0.0</td>\n",
       "      <td>2.6</td>\n",
       "      <td>0.4</td>\n",
       "      <td>70.0</td>\n",
       "      <td>5.8</td>\n",
       "      <td>0.9</td>\n",
       "      <td>5.8</td>\n",
       "      <td>6.2</td>\n",
       "      <td>2025-02-03 03:00:00+00:00</td>\n",
       "      <td>0.0</td>\n",
       "      <td>LA CARRASCA</td>\n",
       "    </tr>\n",
       "    <tr>\n",
       "      <th>4</th>\n",
       "      <td>0.0</td>\n",
       "      <td>2.1</td>\n",
       "      <td>0.5</td>\n",
       "      <td>70.0</td>\n",
       "      <td>5.7</td>\n",
       "      <td>0.6</td>\n",
       "      <td>5.7</td>\n",
       "      <td>5.9</td>\n",
       "      <td>2025-02-03 04:00:00+00:00</td>\n",
       "      <td>1.0</td>\n",
       "      <td>LA CARRASCA</td>\n",
       "    </tr>\n",
       "  </tbody>\n",
       "</table>\n",
       "</div>"
      ],
      "text/plain": [
       "   prec  vmax   vv    hr   ta  tpr  tamin  tamax                      fecha  \\\n",
       "0   0.0   2.5  0.9  72.0  6.5  1.9    6.4    7.1  2025-02-03 00:00:00+00:00   \n",
       "1   0.0   2.1  0.5  71.0  6.3  1.5    6.2    6.6  2025-02-03 01:00:00+00:00   \n",
       "2   0.0   2.5  1.1  71.0  6.0  1.1    6.0    6.3  2025-02-03 02:00:00+00:00   \n",
       "3   0.0   2.6  0.4  70.0  5.8  0.9    5.8    6.2  2025-02-03 03:00:00+00:00   \n",
       "4   0.0   2.1  0.5  70.0  5.7  0.6    5.7    5.9  2025-02-03 04:00:00+00:00   \n",
       "\n",
       "   uso_bici         name  \n",
       "0       2.0  LA CARRASCA  \n",
       "1       3.0  LA CARRASCA  \n",
       "2       1.0  LA CARRASCA  \n",
       "3       0.0  LA CARRASCA  \n",
       "4       1.0  LA CARRASCA  "
      ]
     },
     "execution_count": 46,
     "metadata": {},
     "output_type": "execute_result"
    }
   ],
   "source": [
    "df_barrios_aemet = pd.read_csv('./data/interim/usobarriosmeteo.csv', sep=\",\") # Cargar el archivo CSV de barrios AEMET en un DataFrame de pandas\n",
    "\n",
    "print(\"Archivo barrios AEMET cargado\")\n",
    "df_barrios_aemet.head() # Imprimir las primeras filas del DataFrame de barrios AEMET"
   ]
  },
  {
   "cell_type": "code",
   "execution_count": 77,
   "metadata": {},
   "outputs": [
    {
     "data": {
      "application/vnd.microsoft.datawrangler.viewer.v0+json": {
       "columns": [
        {
         "name": "index",
         "rawType": "object",
         "type": "string"
        },
        {
         "name": "prec",
         "rawType": "float64",
         "type": "float"
        },
        {
         "name": "vmax",
         "rawType": "float64",
         "type": "float"
        },
        {
         "name": "vv",
         "rawType": "float64",
         "type": "float"
        },
        {
         "name": "hr",
         "rawType": "float64",
         "type": "float"
        },
        {
         "name": "ta",
         "rawType": "float64",
         "type": "float"
        },
        {
         "name": "tpr",
         "rawType": "float64",
         "type": "float"
        },
        {
         "name": "tamin",
         "rawType": "float64",
         "type": "float"
        },
        {
         "name": "tamax",
         "rawType": "float64",
         "type": "float"
        },
        {
         "name": "uso_bici",
         "rawType": "float64",
         "type": "float"
        }
       ],
       "conversionMethod": "pd.DataFrame",
       "ref": "c3c554da-0df7-40d4-b22c-e6dc0ed67421",
       "rows": [
        [
         "count",
         "47110.0",
         "47110.0",
         "47110.0",
         "47110.0",
         "47110.0",
         "47110.0",
         "47110.0",
         "47110.0",
         "47110.0"
        ],
        [
         "mean",
         "0.04353640416047548",
         "2.1432392273402674",
         "0.6805349182763745",
         "63.58395245170877",
         "13.174442793462108",
         "5.984249628528975",
         "12.719019316493313",
         "13.655423476968796",
         "5.284143493950329"
        ],
        [
         "std",
         "0.6216977007011176",
         "2.739979443829064",
         "0.9502700856539208",
         "14.358726761047535",
         "3.081024709955063",
         "3.328277534227936",
         "2.96501195662976",
         "3.2084930402359766",
         "7.593302908795476"
        ],
        [
         "min",
         "0.0",
         "0.0",
         "0.0",
         "26.0",
         "5.4",
         "-1.7",
         "5.3",
         "5.6",
         "0.0"
        ],
        [
         "25%",
         "0.0",
         "0.0",
         "0.0",
         "54.0",
         "11.3",
         "3.2",
         "10.9",
         "11.8",
         "1.0"
        ],
        [
         "50%",
         "0.0",
         "1.1",
         "0.0",
         "67.0",
         "13.3",
         "6.2",
         "12.9",
         "13.6",
         "3.0"
        ],
        [
         "75%",
         "0.0",
         "3.6",
         "1.2",
         "76.0",
         "15.2",
         "8.9",
         "14.8",
         "15.8",
         "7.0"
        ],
        [
         "max",
         "15.6",
         "19.6",
         "4.8",
         "81.0",
         "22.1",
         "11.3",
         "21.3",
         "22.7",
         "122.0"
        ]
       ],
       "shape": {
        "columns": 9,
        "rows": 8
       }
      },
      "text/html": [
       "<div>\n",
       "<style scoped>\n",
       "    .dataframe tbody tr th:only-of-type {\n",
       "        vertical-align: middle;\n",
       "    }\n",
       "\n",
       "    .dataframe tbody tr th {\n",
       "        vertical-align: top;\n",
       "    }\n",
       "\n",
       "    .dataframe thead th {\n",
       "        text-align: right;\n",
       "    }\n",
       "</style>\n",
       "<table border=\"1\" class=\"dataframe\">\n",
       "  <thead>\n",
       "    <tr style=\"text-align: right;\">\n",
       "      <th></th>\n",
       "      <th>prec</th>\n",
       "      <th>vmax</th>\n",
       "      <th>vv</th>\n",
       "      <th>hr</th>\n",
       "      <th>ta</th>\n",
       "      <th>tpr</th>\n",
       "      <th>tamin</th>\n",
       "      <th>tamax</th>\n",
       "      <th>uso_bici</th>\n",
       "    </tr>\n",
       "  </thead>\n",
       "  <tbody>\n",
       "    <tr>\n",
       "      <th>count</th>\n",
       "      <td>47110.000000</td>\n",
       "      <td>47110.000000</td>\n",
       "      <td>47110.000000</td>\n",
       "      <td>47110.000000</td>\n",
       "      <td>47110.000000</td>\n",
       "      <td>47110.000000</td>\n",
       "      <td>47110.000000</td>\n",
       "      <td>47110.000000</td>\n",
       "      <td>47110.000000</td>\n",
       "    </tr>\n",
       "    <tr>\n",
       "      <th>mean</th>\n",
       "      <td>0.043536</td>\n",
       "      <td>2.143239</td>\n",
       "      <td>0.680535</td>\n",
       "      <td>63.583952</td>\n",
       "      <td>13.174443</td>\n",
       "      <td>5.984250</td>\n",
       "      <td>12.719019</td>\n",
       "      <td>13.655423</td>\n",
       "      <td>5.284143</td>\n",
       "    </tr>\n",
       "    <tr>\n",
       "      <th>std</th>\n",
       "      <td>0.621698</td>\n",
       "      <td>2.739979</td>\n",
       "      <td>0.950270</td>\n",
       "      <td>14.358727</td>\n",
       "      <td>3.081025</td>\n",
       "      <td>3.328278</td>\n",
       "      <td>2.965012</td>\n",
       "      <td>3.208493</td>\n",
       "      <td>7.593303</td>\n",
       "    </tr>\n",
       "    <tr>\n",
       "      <th>min</th>\n",
       "      <td>0.000000</td>\n",
       "      <td>0.000000</td>\n",
       "      <td>0.000000</td>\n",
       "      <td>26.000000</td>\n",
       "      <td>5.400000</td>\n",
       "      <td>-1.700000</td>\n",
       "      <td>5.300000</td>\n",
       "      <td>5.600000</td>\n",
       "      <td>0.000000</td>\n",
       "    </tr>\n",
       "    <tr>\n",
       "      <th>25%</th>\n",
       "      <td>0.000000</td>\n",
       "      <td>0.000000</td>\n",
       "      <td>0.000000</td>\n",
       "      <td>54.000000</td>\n",
       "      <td>11.300000</td>\n",
       "      <td>3.200000</td>\n",
       "      <td>10.900000</td>\n",
       "      <td>11.800000</td>\n",
       "      <td>1.000000</td>\n",
       "    </tr>\n",
       "    <tr>\n",
       "      <th>50%</th>\n",
       "      <td>0.000000</td>\n",
       "      <td>1.100000</td>\n",
       "      <td>0.000000</td>\n",
       "      <td>67.000000</td>\n",
       "      <td>13.300000</td>\n",
       "      <td>6.200000</td>\n",
       "      <td>12.900000</td>\n",
       "      <td>13.600000</td>\n",
       "      <td>3.000000</td>\n",
       "    </tr>\n",
       "    <tr>\n",
       "      <th>75%</th>\n",
       "      <td>0.000000</td>\n",
       "      <td>3.600000</td>\n",
       "      <td>1.200000</td>\n",
       "      <td>76.000000</td>\n",
       "      <td>15.200000</td>\n",
       "      <td>8.900000</td>\n",
       "      <td>14.800000</td>\n",
       "      <td>15.800000</td>\n",
       "      <td>7.000000</td>\n",
       "    </tr>\n",
       "    <tr>\n",
       "      <th>max</th>\n",
       "      <td>15.600000</td>\n",
       "      <td>19.600000</td>\n",
       "      <td>4.800000</td>\n",
       "      <td>81.000000</td>\n",
       "      <td>22.100000</td>\n",
       "      <td>11.300000</td>\n",
       "      <td>21.300000</td>\n",
       "      <td>22.700000</td>\n",
       "      <td>122.000000</td>\n",
       "    </tr>\n",
       "  </tbody>\n",
       "</table>\n",
       "</div>"
      ],
      "text/plain": [
       "               prec          vmax            vv            hr            ta  \\\n",
       "count  47110.000000  47110.000000  47110.000000  47110.000000  47110.000000   \n",
       "mean       0.043536      2.143239      0.680535     63.583952     13.174443   \n",
       "std        0.621698      2.739979      0.950270     14.358727      3.081025   \n",
       "min        0.000000      0.000000      0.000000     26.000000      5.400000   \n",
       "25%        0.000000      0.000000      0.000000     54.000000     11.300000   \n",
       "50%        0.000000      1.100000      0.000000     67.000000     13.300000   \n",
       "75%        0.000000      3.600000      1.200000     76.000000     15.200000   \n",
       "max       15.600000     19.600000      4.800000     81.000000     22.100000   \n",
       "\n",
       "                tpr         tamin         tamax      uso_bici  \n",
       "count  47110.000000  47110.000000  47110.000000  47110.000000  \n",
       "mean       5.984250     12.719019     13.655423      5.284143  \n",
       "std        3.328278      2.965012      3.208493      7.593303  \n",
       "min       -1.700000      5.300000      5.600000      0.000000  \n",
       "25%        3.200000     10.900000     11.800000      1.000000  \n",
       "50%        6.200000     12.900000     13.600000      3.000000  \n",
       "75%        8.900000     14.800000     15.800000      7.000000  \n",
       "max       11.300000     21.300000     22.700000    122.000000  "
      ]
     },
     "execution_count": 77,
     "metadata": {},
     "output_type": "execute_result"
    }
   ],
   "source": [
    "df_barrios_aemet.describe()"
   ]
  },
  {
   "cell_type": "markdown",
   "metadata": {},
   "source": [
    "Definiremos nuestra variable de analisis para el barrio, que en nuestro caso es Campanar para name."
   ]
  },
  {
   "cell_type": "code",
   "execution_count": 51,
   "metadata": {},
   "outputs": [],
   "source": [
    "var_analisis = \"name\" # Variable de análisis"
   ]
  },
  {
   "cell_type": "markdown",
   "metadata": {},
   "source": [
    "Y entonces en base a esta variable, analizaremos nuestros datos. En este caso obtenemos todos los barrios del dataset."
   ]
  },
  {
   "cell_type": "code",
   "execution_count": 54,
   "metadata": {},
   "outputs": [
    {
     "data": {
      "text/plain": [
       "array(['LA CARRASCA', 'SANT PAU', 'CABANYAL-CANYAMELAR', 'BENICALAP',\n",
       "       'ARRANCAPINS', 'NOU MOLES', 'RUSSAFA', 'AIORA', 'CAMPANAR',\n",
       "       'MALILLA', 'CIUTAT DE LES ARTS I DE LES CIENCIES', 'LA GRAN VIA',\n",
       "       'TORREFIEL', 'PENYA-ROJA', 'EL PLA DEL REMEI', 'SANT FRANCESC',\n",
       "       'MESTALLA', 'BENIMACLET', 'EL CARME', 'MONTOLIVET',\n",
       "       'CIUTAT UNIVERSITARIA', 'LA MALVA-ROSA', 'EXPOSICIO', 'ALBORS',\n",
       "       'SANT LLORENS', 'MARXALENES', 'VARA DE QUART', 'SANT ISIDRE',\n",
       "       'TRINITAT', 'LA RAIOSA', 'PATRAIX', 'LA PETXINA', 'TRES FORQUES',\n",
       "       'LA FONTSANTA', \"L'ILLA PERDUDA\", 'ELS ORRIOLS', 'EL GRAU',\n",
       "       'LA XEREA', 'NA ROVELLA', 'SAFRANAR', 'CIUTAT JARDI',\n",
       "       'LA FONTETA S.LLUIS', 'SANT MARCEL.LI', 'NATZARET', 'EN CORTS',\n",
       "       'CIUTAT FALLERA', 'LA SEU', 'EL MERCAT', 'LA VEGA BAIXA',\n",
       "       'BENIFERRI', \"L'AMISTAT\", 'FAVARA', \"L'HORT DE SENABRE\",\n",
       "       'BENIMAMET', 'CAMI REAL', 'MORVEDRE', 'EL BOTANIC', 'TORMOS',\n",
       "       'CAMI DE VERA', 'LA CREU DEL GRAU', 'LA ROQUETA', 'LA LLUM',\n",
       "       'CAMI FONDO', 'EL CALVARI', 'LA CREU COBERTA', 'LES TENDETES',\n",
       "       'SANT ANTONI', 'JAUME ROIG', 'LA PUNTA', 'SOTERNES'], dtype=object)"
      ]
     },
     "execution_count": 54,
     "metadata": {},
     "output_type": "execute_result"
    }
   ],
   "source": [
    "df_barrios_aemet[var_analisis].unique() # Imprimir los valores únicos de la columna \"name\" del DataFrame de barrios AEMET"
   ]
  },
  {
   "cell_type": "markdown",
   "metadata": {},
   "source": [
    "Contaremos el numero de registros por estación."
   ]
  },
  {
   "cell_type": "code",
   "execution_count": 55,
   "metadata": {},
   "outputs": [
    {
     "data": {
      "text/plain": [
       "name\n",
       "LA CARRASCA            673\n",
       "SANT PAU               673\n",
       "CABANYAL-CANYAMELAR    673\n",
       "BENICALAP              673\n",
       "ARRANCAPINS            673\n",
       "                      ... \n",
       "LES TENDETES           673\n",
       "SANT ANTONI            673\n",
       "JAUME ROIG             673\n",
       "LA PUNTA               673\n",
       "SOTERNES               673\n",
       "Name: count, Length: 70, dtype: int64"
      ]
     },
     "execution_count": 55,
     "metadata": {},
     "output_type": "execute_result"
    }
   ],
   "source": [
    "df_barrios_aemet[var_analisis].value_counts() # Contar la cantidad de ocurrencias de cada valor único en la columna \"name\" del DataFrame de barrios AEMET"
   ]
  },
  {
   "cell_type": "markdown",
   "metadata": {},
   "source": [
    "Y los describiremos usando el metodo describe."
   ]
  },
  {
   "cell_type": "code",
   "execution_count": 56,
   "metadata": {},
   "outputs": [
    {
     "data": {
      "text/plain": [
       "count     70.0\n",
       "mean     673.0\n",
       "std        0.0\n",
       "min      673.0\n",
       "25%      673.0\n",
       "50%      673.0\n",
       "75%      673.0\n",
       "max      673.0\n",
       "Name: count, dtype: float64"
      ]
     },
     "execution_count": 56,
     "metadata": {},
     "output_type": "execute_result"
    }
   ],
   "source": [
    "df_barrios_aemet[var_analisis].value_counts().describe() # Imprimir estadísticas descriptivas de la columna \"name\" del DataFrame de barrios AEMET"
   ]
  },
  {
   "cell_type": "markdown",
   "metadata": {},
   "source": [
    "Como ya sabemos y hemos observado en los datos, debemos modificar la columna con fechas a formato DateTime."
   ]
  },
  {
   "cell_type": "code",
   "execution_count": 60,
   "metadata": {},
   "outputs": [
    {
     "name": "stdout",
     "output_type": "stream",
     "text": [
      "2025-02-03 00:00:00+00:00\n",
      "2025-03-03 10:00:00+00:00\n"
     ]
    }
   ],
   "source": [
    "df_barrios_aemet[\"fecha\"] = pd.to_datetime(df_barrios_aemet[\"fecha\"]) # Convertir la columna \"name\" a tipo datetime\n",
    "print(df_barrios_aemet[\"fecha\"].min()) # Imprimir la fecha mínima de la columna \"name\" del DataFrame de barrios AEMET\n",
    "print(df_barrios_aemet[\"fecha\"].max()) # Imprimir la fecha máxima de la columna \"name\" del DataFrame de barrios AEMET"
   ]
  },
  {
   "cell_type": "markdown",
   "metadata": {},
   "source": [
    "Realizaremos una descripción general de los datos:"
   ]
  },
  {
   "cell_type": "code",
   "execution_count": 62,
   "metadata": {},
   "outputs": [
    {
     "data": {
      "application/vnd.microsoft.datawrangler.viewer.v0+json": {
       "columns": [
        {
         "name": "index",
         "rawType": "object",
         "type": "string"
        },
        {
         "name": "prec",
         "rawType": "float64",
         "type": "float"
        },
        {
         "name": "vmax",
         "rawType": "float64",
         "type": "float"
        },
        {
         "name": "vv",
         "rawType": "float64",
         "type": "float"
        },
        {
         "name": "hr",
         "rawType": "float64",
         "type": "float"
        },
        {
         "name": "ta",
         "rawType": "float64",
         "type": "float"
        },
        {
         "name": "tpr",
         "rawType": "float64",
         "type": "float"
        },
        {
         "name": "tamin",
         "rawType": "float64",
         "type": "float"
        },
        {
         "name": "tamax",
         "rawType": "float64",
         "type": "float"
        },
        {
         "name": "fecha",
         "rawType": "object",
         "type": "unknown"
        },
        {
         "name": "uso_bici",
         "rawType": "float64",
         "type": "float"
        },
        {
         "name": "name",
         "rawType": "object",
         "type": "unknown"
        }
       ],
       "conversionMethod": "pd.DataFrame",
       "ref": "d983abc6-73a7-45d8-8968-9692ea9e918c",
       "rows": [
        [
         "count",
         "47110.0",
         "47110.0",
         "47110.0",
         "47110.0",
         "47110.0",
         "47110.0",
         "47110.0",
         "47110.0",
         "47110",
         "47110.0",
         "47110"
        ],
        [
         "unique",
         null,
         null,
         null,
         null,
         null,
         null,
         null,
         null,
         null,
         null,
         "70"
        ],
        [
         "top",
         null,
         null,
         null,
         null,
         null,
         null,
         null,
         null,
         null,
         null,
         "LA CARRASCA"
        ],
        [
         "freq",
         null,
         null,
         null,
         null,
         null,
         null,
         null,
         null,
         null,
         null,
         "673"
        ],
        [
         "mean",
         "0.04353640416047548",
         "2.1432392273402674",
         "0.6805349182763745",
         "63.58395245170877",
         "13.174442793462108",
         "5.984249628528975",
         "12.719019316493313",
         "13.655423476968796",
         "2025-02-17 01:33:36.641902080+00:00",
         "5.284143493950329",
         null
        ],
        [
         "min",
         "0.0",
         "0.0",
         "0.0",
         "26.0",
         "5.4",
         "-1.7",
         "5.3",
         "5.6",
         "2025-02-03 00:00:00+00:00",
         "0.0",
         null
        ],
        [
         "25%",
         "0.0",
         "0.0",
         "0.0",
         "54.0",
         "11.3",
         "3.2",
         "10.9",
         "11.8",
         "2025-02-10 00:00:00+00:00",
         "1.0",
         null
        ],
        [
         "50%",
         "0.0",
         "1.1",
         "0.0",
         "67.0",
         "13.3",
         "6.2",
         "12.9",
         "13.6",
         "2025-02-17 00:00:00+00:00",
         "3.0",
         null
        ],
        [
         "75%",
         "0.0",
         "3.6",
         "1.2",
         "76.0",
         "15.2",
         "8.9",
         "14.8",
         "15.8",
         "2025-02-24 00:00:00+00:00",
         "7.0",
         null
        ],
        [
         "max",
         "15.6",
         "19.6",
         "4.8",
         "81.0",
         "22.1",
         "11.3",
         "21.3",
         "22.7",
         "2025-03-03 10:00:00+00:00",
         "122.0",
         null
        ],
        [
         "std",
         "0.6216977007011176",
         "2.739979443829064",
         "0.9502700856539208",
         "14.358726761047535",
         "3.081024709955063",
         "3.328277534227936",
         "2.96501195662976",
         "3.2084930402359766",
         null,
         "7.593302908795476",
         null
        ]
       ],
       "shape": {
        "columns": 11,
        "rows": 11
       }
      },
      "text/html": [
       "<div>\n",
       "<style scoped>\n",
       "    .dataframe tbody tr th:only-of-type {\n",
       "        vertical-align: middle;\n",
       "    }\n",
       "\n",
       "    .dataframe tbody tr th {\n",
       "        vertical-align: top;\n",
       "    }\n",
       "\n",
       "    .dataframe thead th {\n",
       "        text-align: right;\n",
       "    }\n",
       "</style>\n",
       "<table border=\"1\" class=\"dataframe\">\n",
       "  <thead>\n",
       "    <tr style=\"text-align: right;\">\n",
       "      <th></th>\n",
       "      <th>prec</th>\n",
       "      <th>vmax</th>\n",
       "      <th>vv</th>\n",
       "      <th>hr</th>\n",
       "      <th>ta</th>\n",
       "      <th>tpr</th>\n",
       "      <th>tamin</th>\n",
       "      <th>tamax</th>\n",
       "      <th>fecha</th>\n",
       "      <th>uso_bici</th>\n",
       "      <th>name</th>\n",
       "    </tr>\n",
       "  </thead>\n",
       "  <tbody>\n",
       "    <tr>\n",
       "      <th>count</th>\n",
       "      <td>47110.000000</td>\n",
       "      <td>47110.000000</td>\n",
       "      <td>47110.000000</td>\n",
       "      <td>47110.000000</td>\n",
       "      <td>47110.000000</td>\n",
       "      <td>47110.000000</td>\n",
       "      <td>47110.000000</td>\n",
       "      <td>47110.000000</td>\n",
       "      <td>47110</td>\n",
       "      <td>47110.000000</td>\n",
       "      <td>47110</td>\n",
       "    </tr>\n",
       "    <tr>\n",
       "      <th>unique</th>\n",
       "      <td>NaN</td>\n",
       "      <td>NaN</td>\n",
       "      <td>NaN</td>\n",
       "      <td>NaN</td>\n",
       "      <td>NaN</td>\n",
       "      <td>NaN</td>\n",
       "      <td>NaN</td>\n",
       "      <td>NaN</td>\n",
       "      <td>NaN</td>\n",
       "      <td>NaN</td>\n",
       "      <td>70</td>\n",
       "    </tr>\n",
       "    <tr>\n",
       "      <th>top</th>\n",
       "      <td>NaN</td>\n",
       "      <td>NaN</td>\n",
       "      <td>NaN</td>\n",
       "      <td>NaN</td>\n",
       "      <td>NaN</td>\n",
       "      <td>NaN</td>\n",
       "      <td>NaN</td>\n",
       "      <td>NaN</td>\n",
       "      <td>NaN</td>\n",
       "      <td>NaN</td>\n",
       "      <td>LA CARRASCA</td>\n",
       "    </tr>\n",
       "    <tr>\n",
       "      <th>freq</th>\n",
       "      <td>NaN</td>\n",
       "      <td>NaN</td>\n",
       "      <td>NaN</td>\n",
       "      <td>NaN</td>\n",
       "      <td>NaN</td>\n",
       "      <td>NaN</td>\n",
       "      <td>NaN</td>\n",
       "      <td>NaN</td>\n",
       "      <td>NaN</td>\n",
       "      <td>NaN</td>\n",
       "      <td>673</td>\n",
       "    </tr>\n",
       "    <tr>\n",
       "      <th>mean</th>\n",
       "      <td>0.043536</td>\n",
       "      <td>2.143239</td>\n",
       "      <td>0.680535</td>\n",
       "      <td>63.583952</td>\n",
       "      <td>13.174443</td>\n",
       "      <td>5.984250</td>\n",
       "      <td>12.719019</td>\n",
       "      <td>13.655423</td>\n",
       "      <td>2025-02-17 01:33:36.641902080+00:00</td>\n",
       "      <td>5.284143</td>\n",
       "      <td>NaN</td>\n",
       "    </tr>\n",
       "    <tr>\n",
       "      <th>min</th>\n",
       "      <td>0.000000</td>\n",
       "      <td>0.000000</td>\n",
       "      <td>0.000000</td>\n",
       "      <td>26.000000</td>\n",
       "      <td>5.400000</td>\n",
       "      <td>-1.700000</td>\n",
       "      <td>5.300000</td>\n",
       "      <td>5.600000</td>\n",
       "      <td>2025-02-03 00:00:00+00:00</td>\n",
       "      <td>0.000000</td>\n",
       "      <td>NaN</td>\n",
       "    </tr>\n",
       "    <tr>\n",
       "      <th>25%</th>\n",
       "      <td>0.000000</td>\n",
       "      <td>0.000000</td>\n",
       "      <td>0.000000</td>\n",
       "      <td>54.000000</td>\n",
       "      <td>11.300000</td>\n",
       "      <td>3.200000</td>\n",
       "      <td>10.900000</td>\n",
       "      <td>11.800000</td>\n",
       "      <td>2025-02-10 00:00:00+00:00</td>\n",
       "      <td>1.000000</td>\n",
       "      <td>NaN</td>\n",
       "    </tr>\n",
       "    <tr>\n",
       "      <th>50%</th>\n",
       "      <td>0.000000</td>\n",
       "      <td>1.100000</td>\n",
       "      <td>0.000000</td>\n",
       "      <td>67.000000</td>\n",
       "      <td>13.300000</td>\n",
       "      <td>6.200000</td>\n",
       "      <td>12.900000</td>\n",
       "      <td>13.600000</td>\n",
       "      <td>2025-02-17 00:00:00+00:00</td>\n",
       "      <td>3.000000</td>\n",
       "      <td>NaN</td>\n",
       "    </tr>\n",
       "    <tr>\n",
       "      <th>75%</th>\n",
       "      <td>0.000000</td>\n",
       "      <td>3.600000</td>\n",
       "      <td>1.200000</td>\n",
       "      <td>76.000000</td>\n",
       "      <td>15.200000</td>\n",
       "      <td>8.900000</td>\n",
       "      <td>14.800000</td>\n",
       "      <td>15.800000</td>\n",
       "      <td>2025-02-24 00:00:00+00:00</td>\n",
       "      <td>7.000000</td>\n",
       "      <td>NaN</td>\n",
       "    </tr>\n",
       "    <tr>\n",
       "      <th>max</th>\n",
       "      <td>15.600000</td>\n",
       "      <td>19.600000</td>\n",
       "      <td>4.800000</td>\n",
       "      <td>81.000000</td>\n",
       "      <td>22.100000</td>\n",
       "      <td>11.300000</td>\n",
       "      <td>21.300000</td>\n",
       "      <td>22.700000</td>\n",
       "      <td>2025-03-03 10:00:00+00:00</td>\n",
       "      <td>122.000000</td>\n",
       "      <td>NaN</td>\n",
       "    </tr>\n",
       "    <tr>\n",
       "      <th>std</th>\n",
       "      <td>0.621698</td>\n",
       "      <td>2.739979</td>\n",
       "      <td>0.950270</td>\n",
       "      <td>14.358727</td>\n",
       "      <td>3.081025</td>\n",
       "      <td>3.328278</td>\n",
       "      <td>2.965012</td>\n",
       "      <td>3.208493</td>\n",
       "      <td>NaN</td>\n",
       "      <td>7.593303</td>\n",
       "      <td>NaN</td>\n",
       "    </tr>\n",
       "  </tbody>\n",
       "</table>\n",
       "</div>"
      ],
      "text/plain": [
       "                prec          vmax            vv            hr            ta  \\\n",
       "count   47110.000000  47110.000000  47110.000000  47110.000000  47110.000000   \n",
       "unique           NaN           NaN           NaN           NaN           NaN   \n",
       "top              NaN           NaN           NaN           NaN           NaN   \n",
       "freq             NaN           NaN           NaN           NaN           NaN   \n",
       "mean        0.043536      2.143239      0.680535     63.583952     13.174443   \n",
       "min         0.000000      0.000000      0.000000     26.000000      5.400000   \n",
       "25%         0.000000      0.000000      0.000000     54.000000     11.300000   \n",
       "50%         0.000000      1.100000      0.000000     67.000000     13.300000   \n",
       "75%         0.000000      3.600000      1.200000     76.000000     15.200000   \n",
       "max        15.600000     19.600000      4.800000     81.000000     22.100000   \n",
       "std         0.621698      2.739979      0.950270     14.358727      3.081025   \n",
       "\n",
       "                 tpr         tamin         tamax  \\\n",
       "count   47110.000000  47110.000000  47110.000000   \n",
       "unique           NaN           NaN           NaN   \n",
       "top              NaN           NaN           NaN   \n",
       "freq             NaN           NaN           NaN   \n",
       "mean        5.984250     12.719019     13.655423   \n",
       "min        -1.700000      5.300000      5.600000   \n",
       "25%         3.200000     10.900000     11.800000   \n",
       "50%         6.200000     12.900000     13.600000   \n",
       "75%         8.900000     14.800000     15.800000   \n",
       "max        11.300000     21.300000     22.700000   \n",
       "std         3.328278      2.965012      3.208493   \n",
       "\n",
       "                                      fecha      uso_bici         name  \n",
       "count                                 47110  47110.000000        47110  \n",
       "unique                                  NaN           NaN           70  \n",
       "top                                     NaN           NaN  LA CARRASCA  \n",
       "freq                                    NaN           NaN          673  \n",
       "mean    2025-02-17 01:33:36.641902080+00:00      5.284143          NaN  \n",
       "min               2025-02-03 00:00:00+00:00      0.000000          NaN  \n",
       "25%               2025-02-10 00:00:00+00:00      1.000000          NaN  \n",
       "50%               2025-02-17 00:00:00+00:00      3.000000          NaN  \n",
       "75%               2025-02-24 00:00:00+00:00      7.000000          NaN  \n",
       "max               2025-03-03 10:00:00+00:00    122.000000          NaN  \n",
       "std                                     NaN      7.593303          NaN  "
      ]
     },
     "execution_count": 62,
     "metadata": {},
     "output_type": "execute_result"
    }
   ],
   "source": [
    "df_barrios_aemet.describe(include='all') # Imprimir estadísticas descriptivas del DataFrame de barrios AEMET"
   ]
  },
  {
   "cell_type": "markdown",
   "metadata": {},
   "source": [
    "## Estudio por barrio"
   ]
  },
  {
   "cell_type": "markdown",
   "metadata": {},
   "source": [
    "Como se nos pide en el documento, debemos usar la función Pivot Table para poder comparar los barrios, teniendo en las filas las horas, el uso de bici y otra variable meteorologica. Pero debe ser entre las variables de estudioy comparación, por lo que primero filtraremos el dataframe para tener solo estas dos."
   ]
  },
  {
   "cell_type": "code",
   "execution_count": 66,
   "metadata": {},
   "outputs": [],
   "source": [
    "# Estilos para visualización de tablas\n",
    "headers = {\n",
    "    'selector': 'th.col_heading',\n",
    "    'props': 'background-color: #5E17EB; color: white;'\n",
    "}\n",
    "\n",
    "index_style = {\n",
    "    'selector': 'th.index_name',\n",
    "    'props': 'background-color: #5E17EB; color: white;'\n",
    "}"
   ]
  },
  {
   "cell_type": "code",
   "execution_count": 86,
   "metadata": {},
   "outputs": [
    {
     "data": {
      "text/html": [
       "<style type=\"text/css\">\n",
       "#T_044c6 th.col_heading {\n",
       "  background-color: #5E17EB;\n",
       "  color: white;\n",
       "}\n",
       "#T_044c6 th.index_name {\n",
       "  background-color: #5E17EB;\n",
       "  color: white;\n",
       "}\n",
       "#T_044c6_row0_col0, #T_044c6_row0_col1 {\n",
       "  background-color: green;\n",
       "  color: green;\n",
       "  width: 10em;\n",
       "  background: linear-gradient(90deg, #BEEAE5 64.8%, transparent 64.8%);\n",
       "}\n",
       "#T_044c6_row0_col2 {\n",
       "  background-color: green;\n",
       "  color: green;\n",
       "  width: 10em;\n",
       "  background: linear-gradient(90deg, #BEEAE5 21.6%, transparent 21.6%);\n",
       "}\n",
       "#T_044c6_row0_col3 {\n",
       "  background-color: green;\n",
       "  color: green;\n",
       "  width: 10em;\n",
       "  background: linear-gradient(90deg, #BEEAE5 33.3%, transparent 33.3%);\n",
       "}\n",
       "#T_044c6_row1_col0, #T_044c6_row1_col1 {\n",
       "  background-color: green;\n",
       "  color: green;\n",
       "  width: 10em;\n",
       "  background: linear-gradient(90deg, #BEEAE5 63.2%, transparent 63.2%);\n",
       "}\n",
       "#T_044c6_row1_col2 {\n",
       "  background-color: green;\n",
       "  color: green;\n",
       "  width: 10em;\n",
       "  background: linear-gradient(90deg, #BEEAE5 11.9%, transparent 11.9%);\n",
       "}\n",
       "#T_044c6_row1_col3 {\n",
       "  background-color: green;\n",
       "  color: green;\n",
       "  width: 10em;\n",
       "  background: linear-gradient(90deg, #BEEAE5 12.7%, transparent 12.7%);\n",
       "}\n",
       "#T_044c6_row2_col0, #T_044c6_row2_col1 {\n",
       "  background-color: green;\n",
       "  color: green;\n",
       "  width: 10em;\n",
       "  background: linear-gradient(90deg, #BEEAE5 61.9%, transparent 61.9%);\n",
       "}\n",
       "#T_044c6_row2_col2, #T_044c6_row2_col3 {\n",
       "  background-color: green;\n",
       "  color: green;\n",
       "  width: 10em;\n",
       "  background: linear-gradient(90deg, #BEEAE5 7.1%, transparent 7.1%);\n",
       "}\n",
       "#T_044c6_row3_col0, #T_044c6_row3_col1 {\n",
       "  background-color: green;\n",
       "  color: green;\n",
       "  width: 10em;\n",
       "  background: linear-gradient(90deg, #BEEAE5 60.8%, transparent 60.8%);\n",
       "}\n",
       "#T_044c6_row3_col2 {\n",
       "  background-color: green;\n",
       "  color: green;\n",
       "  width: 10em;\n",
       "  background: linear-gradient(90deg, #BEEAE5 7.6%, transparent 7.6%);\n",
       "}\n",
       "#T_044c6_row3_col3 {\n",
       "  background-color: green;\n",
       "  color: green;\n",
       "  width: 10em;\n",
       "  background: linear-gradient(90deg, #BEEAE5 3.9%, transparent 3.9%);\n",
       "}\n",
       "#T_044c6_row4_col0, #T_044c6_row4_col1 {\n",
       "  background-color: green;\n",
       "  color: green;\n",
       "  width: 10em;\n",
       "  background: linear-gradient(90deg, #BEEAE5 59.8%, transparent 59.8%);\n",
       "}\n",
       "#T_044c6_row4_col2 {\n",
       "  background-color: green;\n",
       "  color: green;\n",
       "  width: 10em;\n",
       "  background: linear-gradient(90deg, #BEEAE5 3.7%, transparent 3.7%);\n",
       "}\n",
       "#T_044c6_row4_col3 {\n",
       "  background-color: green;\n",
       "  color: green;\n",
       "  width: 10em;\n",
       "  background: linear-gradient(90deg, #BEEAE5 3.2%, transparent 3.2%);\n",
       "}\n",
       "#T_044c6_row5_col0, #T_044c6_row5_col1 {\n",
       "  background-color: green;\n",
       "  color: green;\n",
       "  width: 10em;\n",
       "  background: linear-gradient(90deg, #BEEAE5 59.1%, transparent 59.1%);\n",
       "}\n",
       "#T_044c6_row5_col2 {\n",
       "  background-color: green;\n",
       "  color: green;\n",
       "  width: 10em;\n",
       "  background: linear-gradient(90deg, #BEEAE5 4.4%, transparent 4.4%);\n",
       "}\n",
       "#T_044c6_row5_col3 {\n",
       "  background-color: green;\n",
       "  color: green;\n",
       "  width: 10em;\n",
       "  background: linear-gradient(90deg, #BEEAE5 10.3%, transparent 10.3%);\n",
       "}\n",
       "#T_044c6_row6_col0, #T_044c6_row6_col1 {\n",
       "  background-color: green;\n",
       "  color: green;\n",
       "  width: 10em;\n",
       "  background: linear-gradient(90deg, #BEEAE5 58.6%, transparent 58.6%);\n",
       "}\n",
       "#T_044c6_row6_col2 {\n",
       "  background-color: green;\n",
       "  color: green;\n",
       "  width: 10em;\n",
       "  background: linear-gradient(90deg, #BEEAE5 9.4%, transparent 9.4%);\n",
       "}\n",
       "#T_044c6_row6_col3 {\n",
       "  background-color: green;\n",
       "  color: green;\n",
       "  width: 10em;\n",
       "  background: linear-gradient(90deg, #BEEAE5 8.5%, transparent 8.5%);\n",
       "}\n",
       "#T_044c6_row7_col0, #T_044c6_row7_col1 {\n",
       "  background-color: green;\n",
       "  color: green;\n",
       "  width: 10em;\n",
       "  background: linear-gradient(90deg, #BEEAE5 60.6%, transparent 60.6%);\n",
       "}\n",
       "#T_044c6_row7_col2 {\n",
       "  background-color: green;\n",
       "  color: green;\n",
       "  width: 10em;\n",
       "  background: linear-gradient(90deg, #BEEAE5 43.6%, transparent 43.6%);\n",
       "}\n",
       "#T_044c6_row7_col3 {\n",
       "  background-color: green;\n",
       "  color: green;\n",
       "  width: 10em;\n",
       "  background: linear-gradient(90deg, #BEEAE5 53.4%, transparent 53.4%);\n",
       "}\n",
       "#T_044c6_row8_col0, #T_044c6_row8_col1 {\n",
       "  background-color: green;\n",
       "  color: green;\n",
       "  width: 10em;\n",
       "  background: linear-gradient(90deg, #BEEAE5 69.2%, transparent 69.2%);\n",
       "}\n",
       "#T_044c6_row8_col2, #T_044c6_row13_col0, #T_044c6_row13_col1, #T_044c6_row15_col3 {\n",
       "  background-color: green;\n",
       "  color: green;\n",
       "  width: 10em;\n",
       "  background: linear-gradient(90deg, #BEEAE5 100.0%, transparent 100.0%);\n",
       "}\n",
       "#T_044c6_row8_col3 {\n",
       "  background-color: green;\n",
       "  color: green;\n",
       "  width: 10em;\n",
       "  background: linear-gradient(90deg, #BEEAE5 63.8%, transparent 63.8%);\n",
       "}\n",
       "#T_044c6_row9_col0, #T_044c6_row9_col1 {\n",
       "  background-color: green;\n",
       "  color: green;\n",
       "  width: 10em;\n",
       "  background: linear-gradient(90deg, #BEEAE5 79.1%, transparent 79.1%);\n",
       "}\n",
       "#T_044c6_row9_col2 {\n",
       "  background-color: green;\n",
       "  color: green;\n",
       "  width: 10em;\n",
       "  background: linear-gradient(90deg, #BEEAE5 57.4%, transparent 57.4%);\n",
       "}\n",
       "#T_044c6_row9_col3 {\n",
       "  background-color: green;\n",
       "  color: green;\n",
       "  width: 10em;\n",
       "  background: linear-gradient(90deg, #BEEAE5 64.7%, transparent 64.7%);\n",
       "}\n",
       "#T_044c6_row10_col0, #T_044c6_row10_col1 {\n",
       "  background-color: green;\n",
       "  color: green;\n",
       "  width: 10em;\n",
       "  background: linear-gradient(90deg, #BEEAE5 89.1%, transparent 89.1%);\n",
       "}\n",
       "#T_044c6_row10_col2 {\n",
       "  background-color: green;\n",
       "  color: green;\n",
       "  width: 10em;\n",
       "  background: linear-gradient(90deg, #BEEAE5 36.8%, transparent 36.8%);\n",
       "}\n",
       "#T_044c6_row10_col3 {\n",
       "  background-color: green;\n",
       "  color: green;\n",
       "  width: 10em;\n",
       "  background: linear-gradient(90deg, #BEEAE5 62.3%, transparent 62.3%);\n",
       "}\n",
       "#T_044c6_row11_col0, #T_044c6_row11_col1 {\n",
       "  background-color: green;\n",
       "  color: green;\n",
       "  width: 10em;\n",
       "  background: linear-gradient(90deg, #BEEAE5 96.3%, transparent 96.3%);\n",
       "}\n",
       "#T_044c6_row11_col2 {\n",
       "  background-color: green;\n",
       "  color: green;\n",
       "  width: 10em;\n",
       "  background: linear-gradient(90deg, #BEEAE5 38.1%, transparent 38.1%);\n",
       "}\n",
       "#T_044c6_row11_col3 {\n",
       "  background-color: green;\n",
       "  color: green;\n",
       "  width: 10em;\n",
       "  background: linear-gradient(90deg, #BEEAE5 65.0%, transparent 65.0%);\n",
       "}\n",
       "#T_044c6_row12_col0, #T_044c6_row12_col1 {\n",
       "  background-color: green;\n",
       "  color: green;\n",
       "  width: 10em;\n",
       "  background: linear-gradient(90deg, #BEEAE5 99.6%, transparent 99.6%);\n",
       "}\n",
       "#T_044c6_row12_col2 {\n",
       "  background-color: green;\n",
       "  color: green;\n",
       "  width: 10em;\n",
       "  background: linear-gradient(90deg, #BEEAE5 41.7%, transparent 41.7%);\n",
       "}\n",
       "#T_044c6_row12_col3 {\n",
       "  background-color: green;\n",
       "  color: green;\n",
       "  width: 10em;\n",
       "  background: linear-gradient(90deg, #BEEAE5 84.2%, transparent 84.2%);\n",
       "}\n",
       "#T_044c6_row13_col2 {\n",
       "  background-color: green;\n",
       "  color: green;\n",
       "  width: 10em;\n",
       "  background: linear-gradient(90deg, #BEEAE5 33.8%, transparent 33.8%);\n",
       "}\n",
       "#T_044c6_row13_col3 {\n",
       "  background-color: green;\n",
       "  color: green;\n",
       "  width: 10em;\n",
       "  background: linear-gradient(90deg, #BEEAE5 80.0%, transparent 80.0%);\n",
       "}\n",
       "#T_044c6_row14_col0, #T_044c6_row14_col1 {\n",
       "  background-color: green;\n",
       "  color: green;\n",
       "  width: 10em;\n",
       "  background: linear-gradient(90deg, #BEEAE5 98.2%, transparent 98.2%);\n",
       "}\n",
       "#T_044c6_row14_col2 {\n",
       "  background-color: green;\n",
       "  color: green;\n",
       "  width: 10em;\n",
       "  background: linear-gradient(90deg, #BEEAE5 42.8%, transparent 42.8%);\n",
       "}\n",
       "#T_044c6_row14_col3 {\n",
       "  background-color: green;\n",
       "  color: green;\n",
       "  width: 10em;\n",
       "  background: linear-gradient(90deg, #BEEAE5 90.0%, transparent 90.0%);\n",
       "}\n",
       "#T_044c6_row15_col0, #T_044c6_row15_col1 {\n",
       "  background-color: green;\n",
       "  color: green;\n",
       "  width: 10em;\n",
       "  background: linear-gradient(90deg, #BEEAE5 93.6%, transparent 93.6%);\n",
       "}\n",
       "#T_044c6_row15_col2 {\n",
       "  background-color: green;\n",
       "  color: green;\n",
       "  width: 10em;\n",
       "  background: linear-gradient(90deg, #BEEAE5 39.4%, transparent 39.4%);\n",
       "}\n",
       "#T_044c6_row16_col0, #T_044c6_row16_col1 {\n",
       "  background-color: green;\n",
       "  color: green;\n",
       "  width: 10em;\n",
       "  background: linear-gradient(90deg, #BEEAE5 88.2%, transparent 88.2%);\n",
       "}\n",
       "#T_044c6_row16_col2 {\n",
       "  background-color: green;\n",
       "  color: green;\n",
       "  width: 10em;\n",
       "  background: linear-gradient(90deg, #BEEAE5 38.7%, transparent 38.7%);\n",
       "}\n",
       "#T_044c6_row16_col3 {\n",
       "  background-color: green;\n",
       "  color: green;\n",
       "  width: 10em;\n",
       "  background: linear-gradient(90deg, #BEEAE5 79.7%, transparent 79.7%);\n",
       "}\n",
       "#T_044c6_row17_col0, #T_044c6_row17_col1 {\n",
       "  background-color: green;\n",
       "  color: green;\n",
       "  width: 10em;\n",
       "  background: linear-gradient(90deg, #BEEAE5 84.4%, transparent 84.4%);\n",
       "}\n",
       "#T_044c6_row17_col2 {\n",
       "  background-color: green;\n",
       "  color: green;\n",
       "  width: 10em;\n",
       "  background: linear-gradient(90deg, #BEEAE5 40.4%, transparent 40.4%);\n",
       "}\n",
       "#T_044c6_row17_col3 {\n",
       "  background-color: green;\n",
       "  color: green;\n",
       "  width: 10em;\n",
       "  background: linear-gradient(90deg, #BEEAE5 99.5%, transparent 99.5%);\n",
       "}\n",
       "#T_044c6_row18_col0, #T_044c6_row18_col1 {\n",
       "  background-color: green;\n",
       "  color: green;\n",
       "  width: 10em;\n",
       "  background: linear-gradient(90deg, #BEEAE5 80.4%, transparent 80.4%);\n",
       "}\n",
       "#T_044c6_row18_col2 {\n",
       "  background-color: green;\n",
       "  color: green;\n",
       "  width: 10em;\n",
       "  background: linear-gradient(90deg, #BEEAE5 42.9%, transparent 42.9%);\n",
       "}\n",
       "#T_044c6_row18_col3 {\n",
       "  background-color: green;\n",
       "  color: green;\n",
       "  width: 10em;\n",
       "  background: linear-gradient(90deg, #BEEAE5 82.2%, transparent 82.2%);\n",
       "}\n",
       "#T_044c6_row19_col0, #T_044c6_row19_col1 {\n",
       "  background-color: green;\n",
       "  color: green;\n",
       "  width: 10em;\n",
       "  background: linear-gradient(90deg, #BEEAE5 76.6%, transparent 76.6%);\n",
       "}\n",
       "#T_044c6_row19_col2 {\n",
       "  background-color: green;\n",
       "  color: green;\n",
       "  width: 10em;\n",
       "  background: linear-gradient(90deg, #BEEAE5 38.9%, transparent 38.9%);\n",
       "}\n",
       "#T_044c6_row19_col3 {\n",
       "  background-color: green;\n",
       "  color: green;\n",
       "  width: 10em;\n",
       "  background: linear-gradient(90deg, #BEEAE5 80.2%, transparent 80.2%);\n",
       "}\n",
       "#T_044c6_row20_col0, #T_044c6_row20_col1 {\n",
       "  background-color: green;\n",
       "  color: green;\n",
       "  width: 10em;\n",
       "  background: linear-gradient(90deg, #BEEAE5 73.8%, transparent 73.8%);\n",
       "}\n",
       "#T_044c6_row20_col2 {\n",
       "  background-color: green;\n",
       "  color: green;\n",
       "  width: 10em;\n",
       "  background: linear-gradient(90deg, #BEEAE5 34.2%, transparent 34.2%);\n",
       "}\n",
       "#T_044c6_row20_col3 {\n",
       "  background-color: green;\n",
       "  color: green;\n",
       "  width: 10em;\n",
       "  background: linear-gradient(90deg, #BEEAE5 85.1%, transparent 85.1%);\n",
       "}\n",
       "#T_044c6_row21_col0, #T_044c6_row21_col1 {\n",
       "  background-color: green;\n",
       "  color: green;\n",
       "  width: 10em;\n",
       "  background: linear-gradient(90deg, #BEEAE5 71.4%, transparent 71.4%);\n",
       "}\n",
       "#T_044c6_row21_col2 {\n",
       "  background-color: green;\n",
       "  color: green;\n",
       "  width: 10em;\n",
       "  background: linear-gradient(90deg, #BEEAE5 23.7%, transparent 23.7%);\n",
       "}\n",
       "#T_044c6_row21_col3 {\n",
       "  background-color: green;\n",
       "  color: green;\n",
       "  width: 10em;\n",
       "  background: linear-gradient(90deg, #BEEAE5 74.8%, transparent 74.8%);\n",
       "}\n",
       "#T_044c6_row22_col0, #T_044c6_row22_col1 {\n",
       "  background-color: green;\n",
       "  color: green;\n",
       "  width: 10em;\n",
       "  background: linear-gradient(90deg, #BEEAE5 69.1%, transparent 69.1%);\n",
       "}\n",
       "#T_044c6_row22_col2 {\n",
       "  background-color: green;\n",
       "  color: green;\n",
       "  width: 10em;\n",
       "  background: linear-gradient(90deg, #BEEAE5 20.8%, transparent 20.8%);\n",
       "}\n",
       "#T_044c6_row22_col3 {\n",
       "  background-color: green;\n",
       "  color: green;\n",
       "  width: 10em;\n",
       "  background: linear-gradient(90deg, #BEEAE5 63.1%, transparent 63.1%);\n",
       "}\n",
       "#T_044c6_row23_col0, #T_044c6_row23_col1 {\n",
       "  background-color: green;\n",
       "  color: green;\n",
       "  width: 10em;\n",
       "  background: linear-gradient(90deg, #BEEAE5 67.0%, transparent 67.0%);\n",
       "}\n",
       "#T_044c6_row23_col2 {\n",
       "  background-color: green;\n",
       "  color: green;\n",
       "  width: 10em;\n",
       "  background: linear-gradient(90deg, #BEEAE5 20.2%, transparent 20.2%);\n",
       "}\n",
       "#T_044c6_row23_col3 {\n",
       "  background-color: green;\n",
       "  color: green;\n",
       "  width: 10em;\n",
       "  background: linear-gradient(90deg, #BEEAE5 44.7%, transparent 44.7%);\n",
       "}\n",
       "</style>\n",
       "<table id=\"T_044c6\">\n",
       "  <thead>\n",
       "    <tr>\n",
       "      <th class=\"blank level0\" >&nbsp;</th>\n",
       "      <th id=\"T_044c6_level0_col0\" class=\"col_heading level0 col0\" colspan=\"2\">tamax</th>\n",
       "      <th id=\"T_044c6_level0_col2\" class=\"col_heading level0 col2\" colspan=\"2\">uso_bici</th>\n",
       "    </tr>\n",
       "    <tr>\n",
       "      <th class=\"index_name level1\" >name</th>\n",
       "      <th id=\"T_044c6_level1_col0\" class=\"col_heading level1 col0\" >ALBORS</th>\n",
       "      <th id=\"T_044c6_level1_col1\" class=\"col_heading level1 col1\" >CAMPANAR</th>\n",
       "      <th id=\"T_044c6_level1_col2\" class=\"col_heading level1 col2\" >ALBORS</th>\n",
       "      <th id=\"T_044c6_level1_col3\" class=\"col_heading level1 col3\" >CAMPANAR</th>\n",
       "    </tr>\n",
       "    <tr>\n",
       "      <th class=\"index_name level0\" >fecha</th>\n",
       "      <th class=\"blank col0\" >&nbsp;</th>\n",
       "      <th class=\"blank col1\" >&nbsp;</th>\n",
       "      <th class=\"blank col2\" >&nbsp;</th>\n",
       "      <th class=\"blank col3\" >&nbsp;</th>\n",
       "    </tr>\n",
       "  </thead>\n",
       "  <tbody>\n",
       "    <tr>\n",
       "      <th id=\"T_044c6_level0_row0\" class=\"row_heading level0 row0\" >0</th>\n",
       "      <td id=\"T_044c6_row0_col0\" class=\"data row0 col0\" >11.664000</td>\n",
       "      <td id=\"T_044c6_row0_col1\" class=\"data row0 col1\" >11.664000</td>\n",
       "      <td id=\"T_044c6_row0_col2\" class=\"data row0 col2\" >5.893000</td>\n",
       "      <td id=\"T_044c6_row0_col3\" class=\"data row0 col3\" >4.857000</td>\n",
       "    </tr>\n",
       "    <tr>\n",
       "      <th id=\"T_044c6_level0_row1\" class=\"row_heading level0 row1\" >1</th>\n",
       "      <td id=\"T_044c6_row1_col0\" class=\"data row1 col0\" >11.364000</td>\n",
       "      <td id=\"T_044c6_row1_col1\" class=\"data row1 col1\" >11.364000</td>\n",
       "      <td id=\"T_044c6_row1_col2\" class=\"data row1 col2\" >3.250000</td>\n",
       "      <td id=\"T_044c6_row1_col3\" class=\"data row1 col3\" >1.857000</td>\n",
       "    </tr>\n",
       "    <tr>\n",
       "      <th id=\"T_044c6_level0_row2\" class=\"row_heading level0 row2\" >2</th>\n",
       "      <td id=\"T_044c6_row2_col0\" class=\"data row2 col0\" >11.139000</td>\n",
       "      <td id=\"T_044c6_row2_col1\" class=\"data row2 col1\" >11.139000</td>\n",
       "      <td id=\"T_044c6_row2_col2\" class=\"data row2 col2\" >1.929000</td>\n",
       "      <td id=\"T_044c6_row2_col3\" class=\"data row2 col3\" >1.036000</td>\n",
       "    </tr>\n",
       "    <tr>\n",
       "      <th id=\"T_044c6_level0_row3\" class=\"row_heading level0 row3\" >3</th>\n",
       "      <td id=\"T_044c6_row3_col0\" class=\"data row3 col0\" >10.946000</td>\n",
       "      <td id=\"T_044c6_row3_col1\" class=\"data row3 col1\" >10.946000</td>\n",
       "      <td id=\"T_044c6_row3_col2\" class=\"data row3 col2\" >2.071000</td>\n",
       "      <td id=\"T_044c6_row3_col3\" class=\"data row3 col3\" >0.571000</td>\n",
       "    </tr>\n",
       "    <tr>\n",
       "      <th id=\"T_044c6_level0_row4\" class=\"row_heading level0 row4\" >4</th>\n",
       "      <td id=\"T_044c6_row4_col0\" class=\"data row4 col0\" >10.768000</td>\n",
       "      <td id=\"T_044c6_row4_col1\" class=\"data row4 col1\" >10.768000</td>\n",
       "      <td id=\"T_044c6_row4_col2\" class=\"data row4 col2\" >1.000000</td>\n",
       "      <td id=\"T_044c6_row4_col3\" class=\"data row4 col3\" >0.464000</td>\n",
       "    </tr>\n",
       "    <tr>\n",
       "      <th id=\"T_044c6_level0_row5\" class=\"row_heading level0 row5\" >5</th>\n",
       "      <td id=\"T_044c6_row5_col0\" class=\"data row5 col0\" >10.636000</td>\n",
       "      <td id=\"T_044c6_row5_col1\" class=\"data row5 col1\" >10.636000</td>\n",
       "      <td id=\"T_044c6_row5_col2\" class=\"data row5 col2\" >1.214000</td>\n",
       "      <td id=\"T_044c6_row5_col3\" class=\"data row5 col3\" >1.500000</td>\n",
       "    </tr>\n",
       "    <tr>\n",
       "      <th id=\"T_044c6_level0_row6\" class=\"row_heading level0 row6\" >6</th>\n",
       "      <td id=\"T_044c6_row6_col0\" class=\"data row6 col0\" >10.548000</td>\n",
       "      <td id=\"T_044c6_row6_col1\" class=\"data row6 col1\" >10.548000</td>\n",
       "      <td id=\"T_044c6_row6_col2\" class=\"data row6 col2\" >2.552000</td>\n",
       "      <td id=\"T_044c6_row6_col3\" class=\"data row6 col3\" >1.241000</td>\n",
       "    </tr>\n",
       "    <tr>\n",
       "      <th id=\"T_044c6_level0_row7\" class=\"row_heading level0 row7\" >7</th>\n",
       "      <td id=\"T_044c6_row7_col0\" class=\"data row7 col0\" >10.897000</td>\n",
       "      <td id=\"T_044c6_row7_col1\" class=\"data row7 col1\" >10.897000</td>\n",
       "      <td id=\"T_044c6_row7_col2\" class=\"data row7 col2\" >11.897000</td>\n",
       "      <td id=\"T_044c6_row7_col3\" class=\"data row7 col3\" >7.793000</td>\n",
       "    </tr>\n",
       "    <tr>\n",
       "      <th id=\"T_044c6_level0_row8\" class=\"row_heading level0 row8\" >8</th>\n",
       "      <td id=\"T_044c6_row8_col0\" class=\"data row8 col0\" >12.443000</td>\n",
       "      <td id=\"T_044c6_row8_col1\" class=\"data row8 col1\" >12.443000</td>\n",
       "      <td id=\"T_044c6_row8_col2\" class=\"data row8 col2\" >27.286000</td>\n",
       "      <td id=\"T_044c6_row8_col3\" class=\"data row8 col3\" >9.321000</td>\n",
       "    </tr>\n",
       "    <tr>\n",
       "      <th id=\"T_044c6_level0_row9\" class=\"row_heading level0 row9\" >9</th>\n",
       "      <td id=\"T_044c6_row9_col0\" class=\"data row9 col0\" >14.224000</td>\n",
       "      <td id=\"T_044c6_row9_col1\" class=\"data row9 col1\" >14.224000</td>\n",
       "      <td id=\"T_044c6_row9_col2\" class=\"data row9 col2\" >15.655000</td>\n",
       "      <td id=\"T_044c6_row9_col3\" class=\"data row9 col3\" >9.448000</td>\n",
       "    </tr>\n",
       "    <tr>\n",
       "      <th id=\"T_044c6_level0_row10\" class=\"row_heading level0 row10\" >10</th>\n",
       "      <td id=\"T_044c6_row10_col0\" class=\"data row10 col0\" >16.034000</td>\n",
       "      <td id=\"T_044c6_row10_col1\" class=\"data row10 col1\" >16.034000</td>\n",
       "      <td id=\"T_044c6_row10_col2\" class=\"data row10 col2\" >10.034000</td>\n",
       "      <td id=\"T_044c6_row10_col3\" class=\"data row10 col3\" >9.103000</td>\n",
       "    </tr>\n",
       "    <tr>\n",
       "      <th id=\"T_044c6_level0_row11\" class=\"row_heading level0 row11\" >11</th>\n",
       "      <td id=\"T_044c6_row11_col0\" class=\"data row11 col0\" >17.321000</td>\n",
       "      <td id=\"T_044c6_row11_col1\" class=\"data row11 col1\" >17.321000</td>\n",
       "      <td id=\"T_044c6_row11_col2\" class=\"data row11 col2\" >10.393000</td>\n",
       "      <td id=\"T_044c6_row11_col3\" class=\"data row11 col3\" >9.500000</td>\n",
       "    </tr>\n",
       "    <tr>\n",
       "      <th id=\"T_044c6_level0_row12\" class=\"row_heading level0 row12\" >12</th>\n",
       "      <td id=\"T_044c6_row12_col0\" class=\"data row12 col0\" >17.919000</td>\n",
       "      <td id=\"T_044c6_row12_col1\" class=\"data row12 col1\" >17.919000</td>\n",
       "      <td id=\"T_044c6_row12_col2\" class=\"data row12 col2\" >11.370000</td>\n",
       "      <td id=\"T_044c6_row12_col3\" class=\"data row12 col3\" >12.296000</td>\n",
       "    </tr>\n",
       "    <tr>\n",
       "      <th id=\"T_044c6_level0_row13\" class=\"row_heading level0 row13\" >13</th>\n",
       "      <td id=\"T_044c6_row13_col0\" class=\"data row13 col0\" >17.992000</td>\n",
       "      <td id=\"T_044c6_row13_col1\" class=\"data row13 col1\" >17.992000</td>\n",
       "      <td id=\"T_044c6_row13_col2\" class=\"data row13 col2\" >9.231000</td>\n",
       "      <td id=\"T_044c6_row13_col3\" class=\"data row13 col3\" >11.692000</td>\n",
       "    </tr>\n",
       "    <tr>\n",
       "      <th id=\"T_044c6_level0_row14\" class=\"row_heading level0 row14\" >14</th>\n",
       "      <td id=\"T_044c6_row14_col0\" class=\"data row14 col0\" >17.661000</td>\n",
       "      <td id=\"T_044c6_row14_col1\" class=\"data row14 col1\" >17.661000</td>\n",
       "      <td id=\"T_044c6_row14_col2\" class=\"data row14 col2\" >11.679000</td>\n",
       "      <td id=\"T_044c6_row14_col3\" class=\"data row14 col3\" >13.143000</td>\n",
       "    </tr>\n",
       "    <tr>\n",
       "      <th id=\"T_044c6_level0_row15\" class=\"row_heading level0 row15\" >15</th>\n",
       "      <td id=\"T_044c6_row15_col0\" class=\"data row15 col0\" >16.836000</td>\n",
       "      <td id=\"T_044c6_row15_col1\" class=\"data row15 col1\" >16.836000</td>\n",
       "      <td id=\"T_044c6_row15_col2\" class=\"data row15 col2\" >10.750000</td>\n",
       "      <td id=\"T_044c6_row15_col3\" class=\"data row15 col3\" >14.607000</td>\n",
       "    </tr>\n",
       "    <tr>\n",
       "      <th id=\"T_044c6_level0_row16\" class=\"row_heading level0 row16\" >16</th>\n",
       "      <td id=\"T_044c6_row16_col0\" class=\"data row16 col0\" >15.864000</td>\n",
       "      <td id=\"T_044c6_row16_col1\" class=\"data row16 col1\" >15.864000</td>\n",
       "      <td id=\"T_044c6_row16_col2\" class=\"data row16 col2\" >10.571000</td>\n",
       "      <td id=\"T_044c6_row16_col3\" class=\"data row16 col3\" >11.643000</td>\n",
       "    </tr>\n",
       "    <tr>\n",
       "      <th id=\"T_044c6_level0_row17\" class=\"row_heading level0 row17\" >17</th>\n",
       "      <td id=\"T_044c6_row17_col0\" class=\"data row17 col0\" >15.182000</td>\n",
       "      <td id=\"T_044c6_row17_col1\" class=\"data row17 col1\" >15.182000</td>\n",
       "      <td id=\"T_044c6_row17_col2\" class=\"data row17 col2\" >11.036000</td>\n",
       "      <td id=\"T_044c6_row17_col3\" class=\"data row17 col3\" >14.536000</td>\n",
       "    </tr>\n",
       "    <tr>\n",
       "      <th id=\"T_044c6_level0_row18\" class=\"row_heading level0 row18\" >18</th>\n",
       "      <td id=\"T_044c6_row18_col0\" class=\"data row18 col0\" >14.457000</td>\n",
       "      <td id=\"T_044c6_row18_col1\" class=\"data row18 col1\" >14.457000</td>\n",
       "      <td id=\"T_044c6_row18_col2\" class=\"data row18 col2\" >11.714000</td>\n",
       "      <td id=\"T_044c6_row18_col3\" class=\"data row18 col3\" >12.000000</td>\n",
       "    </tr>\n",
       "    <tr>\n",
       "      <th id=\"T_044c6_level0_row19\" class=\"row_heading level0 row19\" >19</th>\n",
       "      <td id=\"T_044c6_row19_col0\" class=\"data row19 col0\" >13.786000</td>\n",
       "      <td id=\"T_044c6_row19_col1\" class=\"data row19 col1\" >13.786000</td>\n",
       "      <td id=\"T_044c6_row19_col2\" class=\"data row19 col2\" >10.607000</td>\n",
       "      <td id=\"T_044c6_row19_col3\" class=\"data row19 col3\" >11.714000</td>\n",
       "    </tr>\n",
       "    <tr>\n",
       "      <th id=\"T_044c6_level0_row20\" class=\"row_heading level0 row20\" >20</th>\n",
       "      <td id=\"T_044c6_row20_col0\" class=\"data row20 col0\" >13.286000</td>\n",
       "      <td id=\"T_044c6_row20_col1\" class=\"data row20 col1\" >13.286000</td>\n",
       "      <td id=\"T_044c6_row20_col2\" class=\"data row20 col2\" >9.321000</td>\n",
       "      <td id=\"T_044c6_row20_col3\" class=\"data row20 col3\" >12.429000</td>\n",
       "    </tr>\n",
       "    <tr>\n",
       "      <th id=\"T_044c6_level0_row21\" class=\"row_heading level0 row21\" >21</th>\n",
       "      <td id=\"T_044c6_row21_col0\" class=\"data row21 col0\" >12.854000</td>\n",
       "      <td id=\"T_044c6_row21_col1\" class=\"data row21 col1\" >12.854000</td>\n",
       "      <td id=\"T_044c6_row21_col2\" class=\"data row21 col2\" >6.464000</td>\n",
       "      <td id=\"T_044c6_row21_col3\" class=\"data row21 col3\" >10.929000</td>\n",
       "    </tr>\n",
       "    <tr>\n",
       "      <th id=\"T_044c6_level0_row22\" class=\"row_heading level0 row22\" >22</th>\n",
       "      <td id=\"T_044c6_row22_col0\" class=\"data row22 col0\" >12.429000</td>\n",
       "      <td id=\"T_044c6_row22_col1\" class=\"data row22 col1\" >12.429000</td>\n",
       "      <td id=\"T_044c6_row22_col2\" class=\"data row22 col2\" >5.679000</td>\n",
       "      <td id=\"T_044c6_row22_col3\" class=\"data row22 col3\" >9.214000</td>\n",
       "    </tr>\n",
       "    <tr>\n",
       "      <th id=\"T_044c6_level0_row23\" class=\"row_heading level0 row23\" >23</th>\n",
       "      <td id=\"T_044c6_row23_col0\" class=\"data row23 col0\" >12.046000</td>\n",
       "      <td id=\"T_044c6_row23_col1\" class=\"data row23 col1\" >12.046000</td>\n",
       "      <td id=\"T_044c6_row23_col2\" class=\"data row23 col2\" >5.500000</td>\n",
       "      <td id=\"T_044c6_row23_col3\" class=\"data row23 col3\" >6.536000</td>\n",
       "    </tr>\n",
       "  </tbody>\n",
       "</table>\n"
      ],
      "text/plain": [
       "<pandas.io.formats.style.Styler at 0x240dcfef4d0>"
      ]
     },
     "execution_count": 86,
     "metadata": {},
     "output_type": "execute_result"
    }
   ],
   "source": [
    "# Filtro para comprar algunos de los barrios\n",
    "lista_filtro = [\"CAMPANAR\", \"ALBORS\"]\n",
    "\n",
    "df_barrios_aemet.loc[df_barrios_aemet['name'].isin(lista_filtro), :]\\\n",
    "    .pivot_table(index=df_barrios_aemet.fecha.dt.hour, columns=\"name\", values=[\"uso_bici\", \"tamax\"], aggfunc=\"mean\")\\\n",
    "        .round(3).abs()\\\n",
    "            .style.set_table_styles([headers, index_style])\\\n",
    "                .set_properties(**{'background-color': 'green', 'color': 'green'})\\\n",
    "                    .bar(color='#BEEAE5') "
   ]
  }
 ],
 "metadata": {
  "kernelspec": {
   "display_name": ".venv",
   "language": "python",
   "name": "python3"
  },
  "language_info": {
   "codemirror_mode": {
    "name": "ipython",
    "version": 3
   },
   "file_extension": ".py",
   "mimetype": "text/x-python",
   "name": "python",
   "nbconvert_exporter": "python",
   "pygments_lexer": "ipython3",
   "version": "3.13.1"
  }
 },
 "nbformat": 4,
 "nbformat_minor": 2
}
