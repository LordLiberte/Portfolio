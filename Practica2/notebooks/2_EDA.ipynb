{
 "cells": [
  {
   "cell_type": "markdown",
   "metadata": {},
   "source": [
    "# Carga y Análisis de datos\n"
   ]
  },
  {
   "cell_type": "markdown",
   "metadata": {},
   "source": [
    "Para realizar esta práctica necesitaremos cargar varias librerias que nos permitirán realizar los objetivos de la práctica."
   ]
  },
  {
   "cell_type": "code",
   "execution_count": 65,
   "metadata": {},
   "outputs": [],
   "source": [
    "import pandas as pd # Librería para manejar datos\n",
    "import sqlite3 # Librería para manejar bases de datos SQLite\n",
    "import os   # Librería para manejar el sistema operativo\n",
    "import matplotlib.pyplot as plt # Librería para graficar"
   ]
  },
  {
   "cell_type": "markdown",
   "metadata": {},
   "source": [
    "## Descarga de uso de bicis"
   ]
  },
  {
   "cell_type": "markdown",
   "metadata": {},
   "source": [
    "Usaremos datos del portal abierto de valencia sobre las estaciones de bicicletas:\n",
    "\n",
    "https://valencia.opendatasoft.com/pages/home/\n",
    "\n",
    "https://valencia.opendatasoft.com/explore/dataset/valenbisi-disponibilitat-valenbisi-dsiponibilidad/table/?flg=es-es\n",
    "\n",
    "Estos datos se encuentran dentro de la carpeta *data/raw/usobici_raw.csv*. Lo primero que se nos pide realizar es analizar una muestra de datos en crudo para entender el problema al que nos enfrentamos, explorando y describiendo los datos sin aplicar transformaciones."
   ]
  },
  {
   "cell_type": "code",
   "execution_count": 66,
   "metadata": {},
   "outputs": [],
   "source": [
    "## Modificaremos la ruta de trabajo (USAR SOLO UNA VEZ)\n",
    "# os.chdir('./../') # Cambiar el directorio de trabajo al directorio padre\n",
    "# print(os.getcwd()) # Imprimir la ruta de trabajo actual"
   ]
  },
  {
   "cell_type": "code",
   "execution_count": 67,
   "metadata": {},
   "outputs": [
    {
     "name": "stdout",
     "output_type": "stream",
     "text": [
      "Archivo cargado\n"
     ]
    }
   ],
   "source": [
    "df_base = pd.read_csv('data/raw/usobici_raw.csv', sep=',') # Cargar el archivo CSV en un DataFrame de pandas\n",
    "print(\"Archivo cargado\")"
   ]
  },
  {
   "cell_type": "markdown",
   "metadata": {},
   "source": [
    "Una vez cargado el archivo, miraremos como se conforma tanto al principio como al final de este usando métodos de pandas."
   ]
  },
  {
   "cell_type": "code",
   "execution_count": 68,
   "metadata": {},
   "outputs": [
    {
     "data": {
      "application/vnd.microsoft.datawrangler.viewer.v0+json": {
       "columns": [
        {
         "name": "index",
         "rawType": "int64",
         "type": "integer"
        },
        {
         "name": "updated",
         "rawType": "object",
         "type": "string"
        },
        {
         "name": "address",
         "rawType": "object",
         "type": "string"
        },
        {
         "name": "number",
         "rawType": "int64",
         "type": "integer"
        },
        {
         "name": "available",
         "rawType": "int64",
         "type": "integer"
        },
        {
         "name": "lat",
         "rawType": "float64",
         "type": "float"
        },
        {
         "name": "lon",
         "rawType": "float64",
         "type": "float"
        },
        {
         "name": "total",
         "rawType": "int64",
         "type": "integer"
        },
        {
         "name": "open",
         "rawType": "object",
         "type": "string"
        },
        {
         "name": "free",
         "rawType": "int64",
         "type": "integer"
        }
       ],
       "conversionMethod": "pd.DataFrame",
       "ref": "c81c5bd4-c8ca-4161-a927-4c220849e292",
       "rows": [
        [
         "0",
         "2025-02-03 00:01:42.000000",
         "Alameda - Pintor Maella",
         "53",
         "23",
         "39.45676426141678",
         "-0.3481393040048007",
         "25",
         "T",
         "2"
        ],
        [
         "1",
         "2025-02-03 00:09:53.000000",
         "Alameda - Pintor Maella",
         "53",
         "25",
         "39.45676426141678",
         "-0.3481393040048007",
         "25",
         "T",
         "0"
        ],
        [
         "2",
         "2025-02-03 00:20:14.000000",
         "Alameda - Pintor Maella",
         "53",
         "23",
         "39.45676426141678",
         "-0.3481393040048007",
         "25",
         "T",
         "2"
        ],
        [
         "3",
         "2025-02-03 00:30:36.000000",
         "Alameda - Pintor Maella",
         "53",
         "23",
         "39.45676426141678",
         "-0.3481393040048007",
         "25",
         "T",
         "2"
        ],
        [
         "4",
         "2025-02-03 00:39:44.000000",
         "Alameda - Pintor Maella",
         "53",
         "23",
         "39.45676426141678",
         "-0.3481393040048007",
         "25",
         "T",
         "2"
        ]
       ],
       "shape": {
        "columns": 9,
        "rows": 5
       }
      },
      "text/html": [
       "<div>\n",
       "<style scoped>\n",
       "    .dataframe tbody tr th:only-of-type {\n",
       "        vertical-align: middle;\n",
       "    }\n",
       "\n",
       "    .dataframe tbody tr th {\n",
       "        vertical-align: top;\n",
       "    }\n",
       "\n",
       "    .dataframe thead th {\n",
       "        text-align: right;\n",
       "    }\n",
       "</style>\n",
       "<table border=\"1\" class=\"dataframe\">\n",
       "  <thead>\n",
       "    <tr style=\"text-align: right;\">\n",
       "      <th></th>\n",
       "      <th>updated</th>\n",
       "      <th>address</th>\n",
       "      <th>number</th>\n",
       "      <th>available</th>\n",
       "      <th>lat</th>\n",
       "      <th>lon</th>\n",
       "      <th>total</th>\n",
       "      <th>open</th>\n",
       "      <th>free</th>\n",
       "    </tr>\n",
       "  </thead>\n",
       "  <tbody>\n",
       "    <tr>\n",
       "      <th>0</th>\n",
       "      <td>2025-02-03 00:01:42.000000</td>\n",
       "      <td>Alameda - Pintor Maella</td>\n",
       "      <td>53</td>\n",
       "      <td>23</td>\n",
       "      <td>39.456764</td>\n",
       "      <td>-0.348139</td>\n",
       "      <td>25</td>\n",
       "      <td>T</td>\n",
       "      <td>2</td>\n",
       "    </tr>\n",
       "    <tr>\n",
       "      <th>1</th>\n",
       "      <td>2025-02-03 00:09:53.000000</td>\n",
       "      <td>Alameda - Pintor Maella</td>\n",
       "      <td>53</td>\n",
       "      <td>25</td>\n",
       "      <td>39.456764</td>\n",
       "      <td>-0.348139</td>\n",
       "      <td>25</td>\n",
       "      <td>T</td>\n",
       "      <td>0</td>\n",
       "    </tr>\n",
       "    <tr>\n",
       "      <th>2</th>\n",
       "      <td>2025-02-03 00:20:14.000000</td>\n",
       "      <td>Alameda - Pintor Maella</td>\n",
       "      <td>53</td>\n",
       "      <td>23</td>\n",
       "      <td>39.456764</td>\n",
       "      <td>-0.348139</td>\n",
       "      <td>25</td>\n",
       "      <td>T</td>\n",
       "      <td>2</td>\n",
       "    </tr>\n",
       "    <tr>\n",
       "      <th>3</th>\n",
       "      <td>2025-02-03 00:30:36.000000</td>\n",
       "      <td>Alameda - Pintor Maella</td>\n",
       "      <td>53</td>\n",
       "      <td>23</td>\n",
       "      <td>39.456764</td>\n",
       "      <td>-0.348139</td>\n",
       "      <td>25</td>\n",
       "      <td>T</td>\n",
       "      <td>2</td>\n",
       "    </tr>\n",
       "    <tr>\n",
       "      <th>4</th>\n",
       "      <td>2025-02-03 00:39:44.000000</td>\n",
       "      <td>Alameda - Pintor Maella</td>\n",
       "      <td>53</td>\n",
       "      <td>23</td>\n",
       "      <td>39.456764</td>\n",
       "      <td>-0.348139</td>\n",
       "      <td>25</td>\n",
       "      <td>T</td>\n",
       "      <td>2</td>\n",
       "    </tr>\n",
       "  </tbody>\n",
       "</table>\n",
       "</div>"
      ],
      "text/plain": [
       "                      updated                  address  number  available  \\\n",
       "0  2025-02-03 00:01:42.000000  Alameda - Pintor Maella      53         23   \n",
       "1  2025-02-03 00:09:53.000000  Alameda - Pintor Maella      53         25   \n",
       "2  2025-02-03 00:20:14.000000  Alameda - Pintor Maella      53         23   \n",
       "3  2025-02-03 00:30:36.000000  Alameda - Pintor Maella      53         23   \n",
       "4  2025-02-03 00:39:44.000000  Alameda - Pintor Maella      53         23   \n",
       "\n",
       "         lat       lon  total open  free  \n",
       "0  39.456764 -0.348139     25    T     2  \n",
       "1  39.456764 -0.348139     25    T     0  \n",
       "2  39.456764 -0.348139     25    T     2  \n",
       "3  39.456764 -0.348139     25    T     2  \n",
       "4  39.456764 -0.348139     25    T     2  "
      ]
     },
     "execution_count": 68,
     "metadata": {},
     "output_type": "execute_result"
    }
   ],
   "source": [
    "df_base.head() # Imprimir las primeras filas del DataFrame"
   ]
  },
  {
   "cell_type": "code",
   "execution_count": 69,
   "metadata": {},
   "outputs": [
    {
     "data": {
      "application/vnd.microsoft.datawrangler.viewer.v0+json": {
       "columns": [
        {
         "name": "index",
         "rawType": "int64",
         "type": "integer"
        },
        {
         "name": "updated",
         "rawType": "object",
         "type": "string"
        },
        {
         "name": "address",
         "rawType": "object",
         "type": "string"
        },
        {
         "name": "number",
         "rawType": "int64",
         "type": "integer"
        },
        {
         "name": "available",
         "rawType": "int64",
         "type": "integer"
        },
        {
         "name": "lat",
         "rawType": "float64",
         "type": "float"
        },
        {
         "name": "lon",
         "rawType": "float64",
         "type": "float"
        },
        {
         "name": "total",
         "rawType": "int64",
         "type": "integer"
        },
        {
         "name": "open",
         "rawType": "object",
         "type": "string"
        },
        {
         "name": "free",
         "rawType": "int64",
         "type": "integer"
        }
       ],
       "conversionMethod": "pd.DataFrame",
       "ref": "ced9cb1b-b904-4cd6-929d-cd1758329ec5",
       "rows": [
        [
         "4063",
         "2025-03-03 14:39:32.000000",
         "Alameda - Pintor Maella",
         "53",
         "24",
         "39.45676426141678",
         "-0.3481393040048007",
         "25",
         "T",
         "1"
        ],
        [
         "4064",
         "2025-03-03 14:49:38.000000",
         "Alameda - Pintor Maella",
         "53",
         "24",
         "39.45676426141678",
         "-0.3481393040048007",
         "25",
         "T",
         "1"
        ],
        [
         "4065",
         "2025-03-03 15:00:44.000000",
         "Alameda - Pintor Maella",
         "53",
         "24",
         "39.45676426141678",
         "-0.3481393040048007",
         "25",
         "T",
         "1"
        ],
        [
         "4066",
         "2025-03-03 15:09:50.000000",
         "Alameda - Pintor Maella",
         "53",
         "23",
         "39.45676426141678",
         "-0.3481393040048007",
         "25",
         "T",
         "2"
        ],
        [
         "4067",
         "2025-03-03 15:19:57.000000",
         "Alameda - Pintor Maella",
         "53",
         "23",
         "39.45676426141678",
         "-0.3481393040048007",
         "25",
         "T",
         "2"
        ]
       ],
       "shape": {
        "columns": 9,
        "rows": 5
       }
      },
      "text/html": [
       "<div>\n",
       "<style scoped>\n",
       "    .dataframe tbody tr th:only-of-type {\n",
       "        vertical-align: middle;\n",
       "    }\n",
       "\n",
       "    .dataframe tbody tr th {\n",
       "        vertical-align: top;\n",
       "    }\n",
       "\n",
       "    .dataframe thead th {\n",
       "        text-align: right;\n",
       "    }\n",
       "</style>\n",
       "<table border=\"1\" class=\"dataframe\">\n",
       "  <thead>\n",
       "    <tr style=\"text-align: right;\">\n",
       "      <th></th>\n",
       "      <th>updated</th>\n",
       "      <th>address</th>\n",
       "      <th>number</th>\n",
       "      <th>available</th>\n",
       "      <th>lat</th>\n",
       "      <th>lon</th>\n",
       "      <th>total</th>\n",
       "      <th>open</th>\n",
       "      <th>free</th>\n",
       "    </tr>\n",
       "  </thead>\n",
       "  <tbody>\n",
       "    <tr>\n",
       "      <th>4063</th>\n",
       "      <td>2025-03-03 14:39:32.000000</td>\n",
       "      <td>Alameda - Pintor Maella</td>\n",
       "      <td>53</td>\n",
       "      <td>24</td>\n",
       "      <td>39.456764</td>\n",
       "      <td>-0.348139</td>\n",
       "      <td>25</td>\n",
       "      <td>T</td>\n",
       "      <td>1</td>\n",
       "    </tr>\n",
       "    <tr>\n",
       "      <th>4064</th>\n",
       "      <td>2025-03-03 14:49:38.000000</td>\n",
       "      <td>Alameda - Pintor Maella</td>\n",
       "      <td>53</td>\n",
       "      <td>24</td>\n",
       "      <td>39.456764</td>\n",
       "      <td>-0.348139</td>\n",
       "      <td>25</td>\n",
       "      <td>T</td>\n",
       "      <td>1</td>\n",
       "    </tr>\n",
       "    <tr>\n",
       "      <th>4065</th>\n",
       "      <td>2025-03-03 15:00:44.000000</td>\n",
       "      <td>Alameda - Pintor Maella</td>\n",
       "      <td>53</td>\n",
       "      <td>24</td>\n",
       "      <td>39.456764</td>\n",
       "      <td>-0.348139</td>\n",
       "      <td>25</td>\n",
       "      <td>T</td>\n",
       "      <td>1</td>\n",
       "    </tr>\n",
       "    <tr>\n",
       "      <th>4066</th>\n",
       "      <td>2025-03-03 15:09:50.000000</td>\n",
       "      <td>Alameda - Pintor Maella</td>\n",
       "      <td>53</td>\n",
       "      <td>23</td>\n",
       "      <td>39.456764</td>\n",
       "      <td>-0.348139</td>\n",
       "      <td>25</td>\n",
       "      <td>T</td>\n",
       "      <td>2</td>\n",
       "    </tr>\n",
       "    <tr>\n",
       "      <th>4067</th>\n",
       "      <td>2025-03-03 15:19:57.000000</td>\n",
       "      <td>Alameda - Pintor Maella</td>\n",
       "      <td>53</td>\n",
       "      <td>23</td>\n",
       "      <td>39.456764</td>\n",
       "      <td>-0.348139</td>\n",
       "      <td>25</td>\n",
       "      <td>T</td>\n",
       "      <td>2</td>\n",
       "    </tr>\n",
       "  </tbody>\n",
       "</table>\n",
       "</div>"
      ],
      "text/plain": [
       "                         updated                  address  number  available  \\\n",
       "4063  2025-03-03 14:39:32.000000  Alameda - Pintor Maella      53         24   \n",
       "4064  2025-03-03 14:49:38.000000  Alameda - Pintor Maella      53         24   \n",
       "4065  2025-03-03 15:00:44.000000  Alameda - Pintor Maella      53         24   \n",
       "4066  2025-03-03 15:09:50.000000  Alameda - Pintor Maella      53         23   \n",
       "4067  2025-03-03 15:19:57.000000  Alameda - Pintor Maella      53         23   \n",
       "\n",
       "            lat       lon  total open  free  \n",
       "4063  39.456764 -0.348139     25    T     1  \n",
       "4064  39.456764 -0.348139     25    T     1  \n",
       "4065  39.456764 -0.348139     25    T     1  \n",
       "4066  39.456764 -0.348139     25    T     2  \n",
       "4067  39.456764 -0.348139     25    T     2  "
      ]
     },
     "execution_count": 69,
     "metadata": {},
     "output_type": "execute_result"
    }
   ],
   "source": [
    "df_base.tail()"
   ]
  },
  {
   "cell_type": "markdown",
   "metadata": {},
   "source": [
    "En este caso vemos que la muestra se basa en la estación de Alameda - Pintor Maella y son datos de este año (2025) en marzo. Para confirmar que solo se está visualizando esa estación, existen varios métodos como unique, pero también podemos usar la ordenación de datos y si al principio y final del dataframe está el mismo, significa que ocupa todo el DataFrame."
   ]
  },
  {
   "cell_type": "code",
   "execution_count": 70,
   "metadata": {},
   "outputs": [],
   "source": [
    "df_b_sort = df_base.sort_values(by=\"address\", ascending=True) # Ordenar el DataFrame por la columna \"address\" en orden ascendente"
   ]
  },
  {
   "cell_type": "markdown",
   "metadata": {},
   "source": [
    "Visualizaremos el principio y final de este:"
   ]
  },
  {
   "cell_type": "code",
   "execution_count": 71,
   "metadata": {},
   "outputs": [
    {
     "data": {
      "application/vnd.microsoft.datawrangler.viewer.v0+json": {
       "columns": [
        {
         "name": "index",
         "rawType": "int64",
         "type": "integer"
        },
        {
         "name": "updated",
         "rawType": "object",
         "type": "string"
        },
        {
         "name": "address",
         "rawType": "object",
         "type": "string"
        },
        {
         "name": "number",
         "rawType": "int64",
         "type": "integer"
        },
        {
         "name": "available",
         "rawType": "int64",
         "type": "integer"
        },
        {
         "name": "lat",
         "rawType": "float64",
         "type": "float"
        },
        {
         "name": "lon",
         "rawType": "float64",
         "type": "float"
        },
        {
         "name": "total",
         "rawType": "int64",
         "type": "integer"
        },
        {
         "name": "open",
         "rawType": "object",
         "type": "string"
        },
        {
         "name": "free",
         "rawType": "int64",
         "type": "integer"
        }
       ],
       "conversionMethod": "pd.DataFrame",
       "ref": "e36d1088-7bda-4876-a21d-cff098a045ee",
       "rows": [
        [
         "0",
         "2025-02-03 00:01:42.000000",
         "Alameda - Pintor Maella",
         "53",
         "23",
         "39.45676426141678",
         "-0.3481393040048007",
         "25",
         "T",
         "2"
        ],
        [
         "2704",
         "2025-02-22 03:29:43.000000",
         "Alameda - Pintor Maella",
         "53",
         "20",
         "39.45676426141678",
         "-0.3481393040048007",
         "25",
         "T",
         "5"
        ],
        [
         "2705",
         "2025-02-22 03:39:50.000000",
         "Alameda - Pintor Maella",
         "53",
         "20",
         "39.45676426141678",
         "-0.3481393040048007",
         "25",
         "T",
         "5"
        ],
        [
         "2706",
         "2025-02-22 03:49:57.000000",
         "Alameda - Pintor Maella",
         "53",
         "20",
         "39.45676426141678",
         "-0.3481393040048007",
         "25",
         "T",
         "5"
        ],
        [
         "2707",
         "2025-02-22 04:00:04.000000",
         "Alameda - Pintor Maella",
         "53",
         "21",
         "39.45676426141678",
         "-0.3481393040048007",
         "25",
         "T",
         "4"
        ]
       ],
       "shape": {
        "columns": 9,
        "rows": 5
       }
      },
      "text/html": [
       "<div>\n",
       "<style scoped>\n",
       "    .dataframe tbody tr th:only-of-type {\n",
       "        vertical-align: middle;\n",
       "    }\n",
       "\n",
       "    .dataframe tbody tr th {\n",
       "        vertical-align: top;\n",
       "    }\n",
       "\n",
       "    .dataframe thead th {\n",
       "        text-align: right;\n",
       "    }\n",
       "</style>\n",
       "<table border=\"1\" class=\"dataframe\">\n",
       "  <thead>\n",
       "    <tr style=\"text-align: right;\">\n",
       "      <th></th>\n",
       "      <th>updated</th>\n",
       "      <th>address</th>\n",
       "      <th>number</th>\n",
       "      <th>available</th>\n",
       "      <th>lat</th>\n",
       "      <th>lon</th>\n",
       "      <th>total</th>\n",
       "      <th>open</th>\n",
       "      <th>free</th>\n",
       "    </tr>\n",
       "  </thead>\n",
       "  <tbody>\n",
       "    <tr>\n",
       "      <th>0</th>\n",
       "      <td>2025-02-03 00:01:42.000000</td>\n",
       "      <td>Alameda - Pintor Maella</td>\n",
       "      <td>53</td>\n",
       "      <td>23</td>\n",
       "      <td>39.456764</td>\n",
       "      <td>-0.348139</td>\n",
       "      <td>25</td>\n",
       "      <td>T</td>\n",
       "      <td>2</td>\n",
       "    </tr>\n",
       "    <tr>\n",
       "      <th>2704</th>\n",
       "      <td>2025-02-22 03:29:43.000000</td>\n",
       "      <td>Alameda - Pintor Maella</td>\n",
       "      <td>53</td>\n",
       "      <td>20</td>\n",
       "      <td>39.456764</td>\n",
       "      <td>-0.348139</td>\n",
       "      <td>25</td>\n",
       "      <td>T</td>\n",
       "      <td>5</td>\n",
       "    </tr>\n",
       "    <tr>\n",
       "      <th>2705</th>\n",
       "      <td>2025-02-22 03:39:50.000000</td>\n",
       "      <td>Alameda - Pintor Maella</td>\n",
       "      <td>53</td>\n",
       "      <td>20</td>\n",
       "      <td>39.456764</td>\n",
       "      <td>-0.348139</td>\n",
       "      <td>25</td>\n",
       "      <td>T</td>\n",
       "      <td>5</td>\n",
       "    </tr>\n",
       "    <tr>\n",
       "      <th>2706</th>\n",
       "      <td>2025-02-22 03:49:57.000000</td>\n",
       "      <td>Alameda - Pintor Maella</td>\n",
       "      <td>53</td>\n",
       "      <td>20</td>\n",
       "      <td>39.456764</td>\n",
       "      <td>-0.348139</td>\n",
       "      <td>25</td>\n",
       "      <td>T</td>\n",
       "      <td>5</td>\n",
       "    </tr>\n",
       "    <tr>\n",
       "      <th>2707</th>\n",
       "      <td>2025-02-22 04:00:04.000000</td>\n",
       "      <td>Alameda - Pintor Maella</td>\n",
       "      <td>53</td>\n",
       "      <td>21</td>\n",
       "      <td>39.456764</td>\n",
       "      <td>-0.348139</td>\n",
       "      <td>25</td>\n",
       "      <td>T</td>\n",
       "      <td>4</td>\n",
       "    </tr>\n",
       "  </tbody>\n",
       "</table>\n",
       "</div>"
      ],
      "text/plain": [
       "                         updated                  address  number  available  \\\n",
       "0     2025-02-03 00:01:42.000000  Alameda - Pintor Maella      53         23   \n",
       "2704  2025-02-22 03:29:43.000000  Alameda - Pintor Maella      53         20   \n",
       "2705  2025-02-22 03:39:50.000000  Alameda - Pintor Maella      53         20   \n",
       "2706  2025-02-22 03:49:57.000000  Alameda - Pintor Maella      53         20   \n",
       "2707  2025-02-22 04:00:04.000000  Alameda - Pintor Maella      53         21   \n",
       "\n",
       "            lat       lon  total open  free  \n",
       "0     39.456764 -0.348139     25    T     2  \n",
       "2704  39.456764 -0.348139     25    T     5  \n",
       "2705  39.456764 -0.348139     25    T     5  \n",
       "2706  39.456764 -0.348139     25    T     5  \n",
       "2707  39.456764 -0.348139     25    T     4  "
      ]
     },
     "execution_count": 71,
     "metadata": {},
     "output_type": "execute_result"
    }
   ],
   "source": [
    "df_b_sort.head()"
   ]
  },
  {
   "cell_type": "code",
   "execution_count": 72,
   "metadata": {},
   "outputs": [
    {
     "data": {
      "application/vnd.microsoft.datawrangler.viewer.v0+json": {
       "columns": [
        {
         "name": "index",
         "rawType": "int64",
         "type": "integer"
        },
        {
         "name": "updated",
         "rawType": "object",
         "type": "string"
        },
        {
         "name": "address",
         "rawType": "object",
         "type": "string"
        },
        {
         "name": "number",
         "rawType": "int64",
         "type": "integer"
        },
        {
         "name": "available",
         "rawType": "int64",
         "type": "integer"
        },
        {
         "name": "lat",
         "rawType": "float64",
         "type": "float"
        },
        {
         "name": "lon",
         "rawType": "float64",
         "type": "float"
        },
        {
         "name": "total",
         "rawType": "int64",
         "type": "integer"
        },
        {
         "name": "open",
         "rawType": "object",
         "type": "string"
        },
        {
         "name": "free",
         "rawType": "int64",
         "type": "integer"
        }
       ],
       "conversionMethod": "pd.DataFrame",
       "ref": "e350ae36-4be8-4fa8-aa39-1e0a6c1643b6",
       "rows": [
        [
         "1361",
         "2025-02-12 13:30:00.000000",
         "Alameda - Pintor Maella",
         "53",
         "23",
         "39.45676426141678",
         "-0.3481393040048007",
         "25",
         "T",
         "2"
        ],
        [
         "1362",
         "2025-02-12 13:40:07.000000",
         "Alameda - Pintor Maella",
         "53",
         "24",
         "39.45676426141678",
         "-0.3481393040048007",
         "25",
         "T",
         "1"
        ],
        [
         "1363",
         "2025-02-12 13:49:12.000000",
         "Alameda - Pintor Maella",
         "53",
         "23",
         "39.45676426141678",
         "-0.3481393040048007",
         "25",
         "T",
         "2"
        ],
        [
         "1350",
         "2025-02-12 11:39:56.000000",
         "Alameda - Pintor Maella",
         "53",
         "17",
         "39.45676426141678",
         "-0.3481393040048007",
         "25",
         "T",
         "8"
        ],
        [
         "4067",
         "2025-03-03 15:19:57.000000",
         "Alameda - Pintor Maella",
         "53",
         "23",
         "39.45676426141678",
         "-0.3481393040048007",
         "25",
         "T",
         "2"
        ]
       ],
       "shape": {
        "columns": 9,
        "rows": 5
       }
      },
      "text/html": [
       "<div>\n",
       "<style scoped>\n",
       "    .dataframe tbody tr th:only-of-type {\n",
       "        vertical-align: middle;\n",
       "    }\n",
       "\n",
       "    .dataframe tbody tr th {\n",
       "        vertical-align: top;\n",
       "    }\n",
       "\n",
       "    .dataframe thead th {\n",
       "        text-align: right;\n",
       "    }\n",
       "</style>\n",
       "<table border=\"1\" class=\"dataframe\">\n",
       "  <thead>\n",
       "    <tr style=\"text-align: right;\">\n",
       "      <th></th>\n",
       "      <th>updated</th>\n",
       "      <th>address</th>\n",
       "      <th>number</th>\n",
       "      <th>available</th>\n",
       "      <th>lat</th>\n",
       "      <th>lon</th>\n",
       "      <th>total</th>\n",
       "      <th>open</th>\n",
       "      <th>free</th>\n",
       "    </tr>\n",
       "  </thead>\n",
       "  <tbody>\n",
       "    <tr>\n",
       "      <th>1361</th>\n",
       "      <td>2025-02-12 13:30:00.000000</td>\n",
       "      <td>Alameda - Pintor Maella</td>\n",
       "      <td>53</td>\n",
       "      <td>23</td>\n",
       "      <td>39.456764</td>\n",
       "      <td>-0.348139</td>\n",
       "      <td>25</td>\n",
       "      <td>T</td>\n",
       "      <td>2</td>\n",
       "    </tr>\n",
       "    <tr>\n",
       "      <th>1362</th>\n",
       "      <td>2025-02-12 13:40:07.000000</td>\n",
       "      <td>Alameda - Pintor Maella</td>\n",
       "      <td>53</td>\n",
       "      <td>24</td>\n",
       "      <td>39.456764</td>\n",
       "      <td>-0.348139</td>\n",
       "      <td>25</td>\n",
       "      <td>T</td>\n",
       "      <td>1</td>\n",
       "    </tr>\n",
       "    <tr>\n",
       "      <th>1363</th>\n",
       "      <td>2025-02-12 13:49:12.000000</td>\n",
       "      <td>Alameda - Pintor Maella</td>\n",
       "      <td>53</td>\n",
       "      <td>23</td>\n",
       "      <td>39.456764</td>\n",
       "      <td>-0.348139</td>\n",
       "      <td>25</td>\n",
       "      <td>T</td>\n",
       "      <td>2</td>\n",
       "    </tr>\n",
       "    <tr>\n",
       "      <th>1350</th>\n",
       "      <td>2025-02-12 11:39:56.000000</td>\n",
       "      <td>Alameda - Pintor Maella</td>\n",
       "      <td>53</td>\n",
       "      <td>17</td>\n",
       "      <td>39.456764</td>\n",
       "      <td>-0.348139</td>\n",
       "      <td>25</td>\n",
       "      <td>T</td>\n",
       "      <td>8</td>\n",
       "    </tr>\n",
       "    <tr>\n",
       "      <th>4067</th>\n",
       "      <td>2025-03-03 15:19:57.000000</td>\n",
       "      <td>Alameda - Pintor Maella</td>\n",
       "      <td>53</td>\n",
       "      <td>23</td>\n",
       "      <td>39.456764</td>\n",
       "      <td>-0.348139</td>\n",
       "      <td>25</td>\n",
       "      <td>T</td>\n",
       "      <td>2</td>\n",
       "    </tr>\n",
       "  </tbody>\n",
       "</table>\n",
       "</div>"
      ],
      "text/plain": [
       "                         updated                  address  number  available  \\\n",
       "1361  2025-02-12 13:30:00.000000  Alameda - Pintor Maella      53         23   \n",
       "1362  2025-02-12 13:40:07.000000  Alameda - Pintor Maella      53         24   \n",
       "1363  2025-02-12 13:49:12.000000  Alameda - Pintor Maella      53         23   \n",
       "1350  2025-02-12 11:39:56.000000  Alameda - Pintor Maella      53         17   \n",
       "4067  2025-03-03 15:19:57.000000  Alameda - Pintor Maella      53         23   \n",
       "\n",
       "            lat       lon  total open  free  \n",
       "1361  39.456764 -0.348139     25    T     2  \n",
       "1362  39.456764 -0.348139     25    T     1  \n",
       "1363  39.456764 -0.348139     25    T     2  \n",
       "1350  39.456764 -0.348139     25    T     8  \n",
       "4067  39.456764 -0.348139     25    T     2  "
      ]
     },
     "execution_count": 72,
     "metadata": {},
     "output_type": "execute_result"
    }
   ],
   "source": [
    "df_b_sort.tail()"
   ]
  },
  {
   "cell_type": "markdown",
   "metadata": {},
   "source": [
    "Describiremos los datos usando otro método de pandas que nos permite visualizar el número de valores por columna númerica, su media, desviación estandar, etc."
   ]
  },
  {
   "cell_type": "code",
   "execution_count": 73,
   "metadata": {},
   "outputs": [
    {
     "data": {
      "application/vnd.microsoft.datawrangler.viewer.v0+json": {
       "columns": [
        {
         "name": "index",
         "rawType": "object",
         "type": "string"
        },
        {
         "name": "number",
         "rawType": "float64",
         "type": "float"
        },
        {
         "name": "available",
         "rawType": "float64",
         "type": "float"
        },
        {
         "name": "lat",
         "rawType": "float64",
         "type": "float"
        },
        {
         "name": "lon",
         "rawType": "float64",
         "type": "float"
        },
        {
         "name": "total",
         "rawType": "float64",
         "type": "float"
        },
        {
         "name": "free",
         "rawType": "float64",
         "type": "float"
        }
       ],
       "conversionMethod": "pd.DataFrame",
       "ref": "fc948c2f-e5d0-4bc1-a718-a4ca2174f7af",
       "rows": [
        [
         "count",
         "4068.0",
         "4068.0",
         "4068.0",
         "4068.0",
         "4068.0",
         "4068.0"
        ],
        [
         "mean",
         "53.0",
         "17.118239921337267",
         "39.45676426141677",
         "-0.34813930400480075",
         "25.0",
         "7.855457227138643"
        ],
        [
         "std",
         "0.0",
         "7.428374924546444",
         "7.106300850425939e-15",
         "5.551797539395264e-17",
         "0.0",
         "7.442906347182716"
        ],
        [
         "min",
         "53.0",
         "0.0",
         "39.45676426141678",
         "-0.3481393040048007",
         "25.0",
         "0.0"
        ],
        [
         "25%",
         "53.0",
         "11.0",
         "39.45676426141678",
         "-0.3481393040048007",
         "25.0",
         "2.0"
        ],
        [
         "50%",
         "53.0",
         "20.0",
         "39.45676426141678",
         "-0.3481393040048007",
         "25.0",
         "5.0"
        ],
        [
         "75%",
         "53.0",
         "23.0",
         "39.45676426141678",
         "-0.3481393040048007",
         "25.0",
         "14.0"
        ],
        [
         "max",
         "53.0",
         "25.0",
         "39.45676426141678",
         "-0.3481393040048007",
         "25.0",
         "25.0"
        ]
       ],
       "shape": {
        "columns": 6,
        "rows": 8
       }
      },
      "text/html": [
       "<div>\n",
       "<style scoped>\n",
       "    .dataframe tbody tr th:only-of-type {\n",
       "        vertical-align: middle;\n",
       "    }\n",
       "\n",
       "    .dataframe tbody tr th {\n",
       "        vertical-align: top;\n",
       "    }\n",
       "\n",
       "    .dataframe thead th {\n",
       "        text-align: right;\n",
       "    }\n",
       "</style>\n",
       "<table border=\"1\" class=\"dataframe\">\n",
       "  <thead>\n",
       "    <tr style=\"text-align: right;\">\n",
       "      <th></th>\n",
       "      <th>number</th>\n",
       "      <th>available</th>\n",
       "      <th>lat</th>\n",
       "      <th>lon</th>\n",
       "      <th>total</th>\n",
       "      <th>free</th>\n",
       "    </tr>\n",
       "  </thead>\n",
       "  <tbody>\n",
       "    <tr>\n",
       "      <th>count</th>\n",
       "      <td>4068.0</td>\n",
       "      <td>4068.000000</td>\n",
       "      <td>4.068000e+03</td>\n",
       "      <td>4.068000e+03</td>\n",
       "      <td>4068.0</td>\n",
       "      <td>4068.000000</td>\n",
       "    </tr>\n",
       "    <tr>\n",
       "      <th>mean</th>\n",
       "      <td>53.0</td>\n",
       "      <td>17.118240</td>\n",
       "      <td>3.945676e+01</td>\n",
       "      <td>-3.481393e-01</td>\n",
       "      <td>25.0</td>\n",
       "      <td>7.855457</td>\n",
       "    </tr>\n",
       "    <tr>\n",
       "      <th>std</th>\n",
       "      <td>0.0</td>\n",
       "      <td>7.428375</td>\n",
       "      <td>7.106301e-15</td>\n",
       "      <td>5.551798e-17</td>\n",
       "      <td>0.0</td>\n",
       "      <td>7.442906</td>\n",
       "    </tr>\n",
       "    <tr>\n",
       "      <th>min</th>\n",
       "      <td>53.0</td>\n",
       "      <td>0.000000</td>\n",
       "      <td>3.945676e+01</td>\n",
       "      <td>-3.481393e-01</td>\n",
       "      <td>25.0</td>\n",
       "      <td>0.000000</td>\n",
       "    </tr>\n",
       "    <tr>\n",
       "      <th>25%</th>\n",
       "      <td>53.0</td>\n",
       "      <td>11.000000</td>\n",
       "      <td>3.945676e+01</td>\n",
       "      <td>-3.481393e-01</td>\n",
       "      <td>25.0</td>\n",
       "      <td>2.000000</td>\n",
       "    </tr>\n",
       "    <tr>\n",
       "      <th>50%</th>\n",
       "      <td>53.0</td>\n",
       "      <td>20.000000</td>\n",
       "      <td>3.945676e+01</td>\n",
       "      <td>-3.481393e-01</td>\n",
       "      <td>25.0</td>\n",
       "      <td>5.000000</td>\n",
       "    </tr>\n",
       "    <tr>\n",
       "      <th>75%</th>\n",
       "      <td>53.0</td>\n",
       "      <td>23.000000</td>\n",
       "      <td>3.945676e+01</td>\n",
       "      <td>-3.481393e-01</td>\n",
       "      <td>25.0</td>\n",
       "      <td>14.000000</td>\n",
       "    </tr>\n",
       "    <tr>\n",
       "      <th>max</th>\n",
       "      <td>53.0</td>\n",
       "      <td>25.000000</td>\n",
       "      <td>3.945676e+01</td>\n",
       "      <td>-3.481393e-01</td>\n",
       "      <td>25.0</td>\n",
       "      <td>25.000000</td>\n",
       "    </tr>\n",
       "  </tbody>\n",
       "</table>\n",
       "</div>"
      ],
      "text/plain": [
       "       number    available           lat           lon   total         free\n",
       "count  4068.0  4068.000000  4.068000e+03  4.068000e+03  4068.0  4068.000000\n",
       "mean     53.0    17.118240  3.945676e+01 -3.481393e-01    25.0     7.855457\n",
       "std       0.0     7.428375  7.106301e-15  5.551798e-17     0.0     7.442906\n",
       "min      53.0     0.000000  3.945676e+01 -3.481393e-01    25.0     0.000000\n",
       "25%      53.0    11.000000  3.945676e+01 -3.481393e-01    25.0     2.000000\n",
       "50%      53.0    20.000000  3.945676e+01 -3.481393e-01    25.0     5.000000\n",
       "75%      53.0    23.000000  3.945676e+01 -3.481393e-01    25.0    14.000000\n",
       "max      53.0    25.000000  3.945676e+01 -3.481393e-01    25.0    25.000000"
      ]
     },
     "execution_count": 73,
     "metadata": {},
     "output_type": "execute_result"
    }
   ],
   "source": [
    "df_base.describe() # Imprimir estadísticas descriptivas del DataFrame"
   ]
  },
  {
   "cell_type": "markdown",
   "metadata": {},
   "source": [
    "Gracias a esto vemos que, al menos, las columnas númericas no tienen datos nulos y que la longitud de estas es la misma (4068). Con el método dtypes podemos visualizar el tipo de dato que hay en cada columna, tal y como pandas los visualiza y procesa."
   ]
  },
  {
   "cell_type": "code",
   "execution_count": 74,
   "metadata": {},
   "outputs": [
    {
     "data": {
      "text/plain": [
       "updated       object\n",
       "address       object\n",
       "number         int64\n",
       "available      int64\n",
       "lat          float64\n",
       "lon          float64\n",
       "total          int64\n",
       "open          object\n",
       "free           int64\n",
       "dtype: object"
      ]
     },
     "execution_count": 74,
     "metadata": {},
     "output_type": "execute_result"
    }
   ],
   "source": [
    "df_base.dtypes # Imprimir los tipos de datos de cada columna"
   ]
  },
  {
   "cell_type": "markdown",
   "metadata": {},
   "source": [
    "Vemos que la columna updated, que son fechas, tienen un formato object que es como decir que son una cadena de texto, por lo que en caso de querer operar con estos, deberemos transformarlos a DateTime."
   ]
  },
  {
   "cell_type": "markdown",
   "metadata": {},
   "source": [
    "# Datos de estaciones para analizar"
   ]
  },
  {
   "cell_type": "markdown",
   "metadata": {},
   "source": [
    "Ahora en vez de usar solo una muestra, usaremos los datos completos. Para ello, accederemos a *data/interim/estaciones.csv*, de igual forma que hicimos antes. Además, queremos responder a la pregunta de como afecta la meterología en el uso de las bicicletas, por lo que traeremos datos de la AEMET (Agencia Española de Metereologia), que se encuentran en *data/external/aemet.csv*."
   ]
  },
  {
   "cell_type": "code",
   "execution_count": 75,
   "metadata": {},
   "outputs": [
    {
     "name": "stdout",
     "output_type": "stream",
     "text": [
      "Archivo estaciones cargado\n",
      "Archivo AEMET cargado\n"
     ]
    }
   ],
   "source": [
    "df_estations = pd.read_csv('./data/interim/estaciones.csv', sep=\",\") # Cargar el archivo CSV de estaciones en un DataFrame de pandas\n",
    "print(\"Archivo estaciones cargado\")\n",
    "\n",
    "df_aemet = pd.read_csv('./data/external/aemet.csv', sep=\",\") # Cargar el archivo CSV de AEMET en un DataFrame de pandas\n",
    "print(\"Archivo AEMET cargado\")"
   ]
  },
  {
   "cell_type": "markdown",
   "metadata": {},
   "source": [
    "Visualizaremos información básica sobre los datos de AEMET usando lo anteriormente visto."
   ]
  },
  {
   "cell_type": "code",
   "execution_count": 76,
   "metadata": {},
   "outputs": [
    {
     "data": {
      "application/vnd.microsoft.datawrangler.viewer.v0+json": {
       "columns": [
        {
         "name": "index",
         "rawType": "int64",
         "type": "integer"
        },
        {
         "name": "ubi",
         "rawType": "object",
         "type": "string"
        },
        {
         "name": "prec",
         "rawType": "float64",
         "type": "float"
        },
        {
         "name": "vmax",
         "rawType": "float64",
         "type": "float"
        },
        {
         "name": "vv",
         "rawType": "float64",
         "type": "float"
        },
        {
         "name": "hr",
         "rawType": "float64",
         "type": "float"
        },
        {
         "name": "ta",
         "rawType": "float64",
         "type": "float"
        },
        {
         "name": "tpr",
         "rawType": "float64",
         "type": "float"
        },
        {
         "name": "tamin",
         "rawType": "float64",
         "type": "float"
        },
        {
         "name": "tamax",
         "rawType": "float64",
         "type": "float"
        },
        {
         "name": "fecha",
         "rawType": "object",
         "type": "string"
        }
       ],
       "conversionMethod": "pd.DataFrame",
       "ref": "0ffd7d03-3d42-4bb6-ae8a-5fe135ed3514",
       "rows": [
        [
         "0",
         "VALENCIA DT",
         "0.0",
         "4.9",
         "2.0",
         "42.0",
         "13.0",
         "0.4",
         "11.4",
         "13.7",
         "2025-02-02 10:00:00+00:00"
        ],
        [
         "1",
         "VALENCIA DT",
         "0.0",
         "6.5",
         "2.2",
         "38.0",
         "14.3",
         "0.2",
         "12.8",
         "14.5",
         "2025-02-02 11:00:00+00:00"
        ],
        [
         "2",
         "VALENCIA DT",
         "0.0",
         "4.9",
         "1.4",
         "37.0",
         "14.7",
         "0.2",
         "13.8",
         "15.2",
         "2025-02-02 12:00:00+00:00"
        ],
        [
         "3",
         "VALENCIA DT",
         "0.0",
         "4.9",
         "1.1",
         "40.0",
         "14.6",
         "1.1",
         "14.2",
         "15.1",
         "2025-02-02 13:00:00+00:00"
        ],
        [
         "4",
         "VALENCIA DT",
         "0.0",
         "4.8",
         "1.9",
         "40.0",
         "13.7",
         "0.4",
         "13.5",
         "14.8",
         "2025-02-02 14:00:00+00:00"
        ]
       ],
       "shape": {
        "columns": 10,
        "rows": 5
       }
      },
      "text/html": [
       "<div>\n",
       "<style scoped>\n",
       "    .dataframe tbody tr th:only-of-type {\n",
       "        vertical-align: middle;\n",
       "    }\n",
       "\n",
       "    .dataframe tbody tr th {\n",
       "        vertical-align: top;\n",
       "    }\n",
       "\n",
       "    .dataframe thead th {\n",
       "        text-align: right;\n",
       "    }\n",
       "</style>\n",
       "<table border=\"1\" class=\"dataframe\">\n",
       "  <thead>\n",
       "    <tr style=\"text-align: right;\">\n",
       "      <th></th>\n",
       "      <th>ubi</th>\n",
       "      <th>prec</th>\n",
       "      <th>vmax</th>\n",
       "      <th>vv</th>\n",
       "      <th>hr</th>\n",
       "      <th>ta</th>\n",
       "      <th>tpr</th>\n",
       "      <th>tamin</th>\n",
       "      <th>tamax</th>\n",
       "      <th>fecha</th>\n",
       "    </tr>\n",
       "  </thead>\n",
       "  <tbody>\n",
       "    <tr>\n",
       "      <th>0</th>\n",
       "      <td>VALENCIA DT</td>\n",
       "      <td>0.0</td>\n",
       "      <td>4.9</td>\n",
       "      <td>2.0</td>\n",
       "      <td>42.0</td>\n",
       "      <td>13.0</td>\n",
       "      <td>0.4</td>\n",
       "      <td>11.4</td>\n",
       "      <td>13.7</td>\n",
       "      <td>2025-02-02 10:00:00+00:00</td>\n",
       "    </tr>\n",
       "    <tr>\n",
       "      <th>1</th>\n",
       "      <td>VALENCIA DT</td>\n",
       "      <td>0.0</td>\n",
       "      <td>6.5</td>\n",
       "      <td>2.2</td>\n",
       "      <td>38.0</td>\n",
       "      <td>14.3</td>\n",
       "      <td>0.2</td>\n",
       "      <td>12.8</td>\n",
       "      <td>14.5</td>\n",
       "      <td>2025-02-02 11:00:00+00:00</td>\n",
       "    </tr>\n",
       "    <tr>\n",
       "      <th>2</th>\n",
       "      <td>VALENCIA DT</td>\n",
       "      <td>0.0</td>\n",
       "      <td>4.9</td>\n",
       "      <td>1.4</td>\n",
       "      <td>37.0</td>\n",
       "      <td>14.7</td>\n",
       "      <td>0.2</td>\n",
       "      <td>13.8</td>\n",
       "      <td>15.2</td>\n",
       "      <td>2025-02-02 12:00:00+00:00</td>\n",
       "    </tr>\n",
       "    <tr>\n",
       "      <th>3</th>\n",
       "      <td>VALENCIA DT</td>\n",
       "      <td>0.0</td>\n",
       "      <td>4.9</td>\n",
       "      <td>1.1</td>\n",
       "      <td>40.0</td>\n",
       "      <td>14.6</td>\n",
       "      <td>1.1</td>\n",
       "      <td>14.2</td>\n",
       "      <td>15.1</td>\n",
       "      <td>2025-02-02 13:00:00+00:00</td>\n",
       "    </tr>\n",
       "    <tr>\n",
       "      <th>4</th>\n",
       "      <td>VALENCIA DT</td>\n",
       "      <td>0.0</td>\n",
       "      <td>4.8</td>\n",
       "      <td>1.9</td>\n",
       "      <td>40.0</td>\n",
       "      <td>13.7</td>\n",
       "      <td>0.4</td>\n",
       "      <td>13.5</td>\n",
       "      <td>14.8</td>\n",
       "      <td>2025-02-02 14:00:00+00:00</td>\n",
       "    </tr>\n",
       "  </tbody>\n",
       "</table>\n",
       "</div>"
      ],
      "text/plain": [
       "           ubi  prec  vmax   vv    hr    ta  tpr  tamin  tamax  \\\n",
       "0  VALENCIA DT   0.0   4.9  2.0  42.0  13.0  0.4   11.4   13.7   \n",
       "1  VALENCIA DT   0.0   6.5  2.2  38.0  14.3  0.2   12.8   14.5   \n",
       "2  VALENCIA DT   0.0   4.9  1.4  37.0  14.7  0.2   13.8   15.2   \n",
       "3  VALENCIA DT   0.0   4.9  1.1  40.0  14.6  1.1   14.2   15.1   \n",
       "4  VALENCIA DT   0.0   4.8  1.9  40.0  13.7  0.4   13.5   14.8   \n",
       "\n",
       "                       fecha  \n",
       "0  2025-02-02 10:00:00+00:00  \n",
       "1  2025-02-02 11:00:00+00:00  \n",
       "2  2025-02-02 12:00:00+00:00  \n",
       "3  2025-02-02 13:00:00+00:00  \n",
       "4  2025-02-02 14:00:00+00:00  "
      ]
     },
     "execution_count": 76,
     "metadata": {},
     "output_type": "execute_result"
    }
   ],
   "source": [
    "df_aemet.head()"
   ]
  },
  {
   "cell_type": "code",
   "execution_count": 77,
   "metadata": {},
   "outputs": [
    {
     "data": {
      "application/vnd.microsoft.datawrangler.viewer.v0+json": {
       "columns": [
        {
         "name": "index",
         "rawType": "object",
         "type": "string"
        },
        {
         "name": "prec",
         "rawType": "float64",
         "type": "float"
        },
        {
         "name": "vmax",
         "rawType": "float64",
         "type": "float"
        },
        {
         "name": "vv",
         "rawType": "float64",
         "type": "float"
        },
        {
         "name": "hr",
         "rawType": "float64",
         "type": "float"
        },
        {
         "name": "ta",
         "rawType": "float64",
         "type": "float"
        },
        {
         "name": "tpr",
         "rawType": "float64",
         "type": "float"
        },
        {
         "name": "tamin",
         "rawType": "float64",
         "type": "float"
        },
        {
         "name": "tamax",
         "rawType": "float64",
         "type": "float"
        }
       ],
       "conversionMethod": "pd.DataFrame",
       "ref": "fe359461-6220-4122-bb82-3f2ffbd7de82",
       "rows": [
        [
         "count",
         "615.0",
         "615.0",
         "615.0",
         "615.0",
         "615.0",
         "615.0",
         "615.0",
         "615.0"
        ],
        [
         "mean",
         "0.0334959349593496",
         "1.589756097560976",
         "0.5102439024390244",
         "62.49756097560976",
         "13.163739837398374",
         "5.6933333333333325",
         "12.686666666666667",
         "13.668780487804879"
        ],
        [
         "std",
         "0.6362425117659436",
         "2.1164877270423523",
         "0.7385890495146283",
         "14.682954860060656",
         "3.2352500163606424",
         "3.416415313441803",
         "3.1104873217770783",
         "3.358057203895571"
        ],
        [
         "min",
         "0.0",
         "0.0",
         "0.0",
         "26.0",
         "5.4",
         "-1.7",
         "5.3",
         "5.6"
        ],
        [
         "25%",
         "0.0",
         "0.0",
         "0.0",
         "52.0",
         "11.1",
         "2.9",
         "10.55",
         "11.6"
        ],
        [
         "50%",
         "0.0",
         "0.0",
         "0.0",
         "66.0",
         "13.3",
         "5.9",
         "12.9",
         "13.7"
        ],
        [
         "75%",
         "0.0",
         "3.1",
         "1.0",
         "75.0",
         "15.4",
         "8.850000000000001",
         "14.9",
         "15.9"
        ],
        [
         "max",
         "15.6",
         "19.6",
         "4.5",
         "81.0",
         "22.1",
         "11.3",
         "21.3",
         "22.7"
        ]
       ],
       "shape": {
        "columns": 8,
        "rows": 8
       }
      },
      "text/html": [
       "<div>\n",
       "<style scoped>\n",
       "    .dataframe tbody tr th:only-of-type {\n",
       "        vertical-align: middle;\n",
       "    }\n",
       "\n",
       "    .dataframe tbody tr th {\n",
       "        vertical-align: top;\n",
       "    }\n",
       "\n",
       "    .dataframe thead th {\n",
       "        text-align: right;\n",
       "    }\n",
       "</style>\n",
       "<table border=\"1\" class=\"dataframe\">\n",
       "  <thead>\n",
       "    <tr style=\"text-align: right;\">\n",
       "      <th></th>\n",
       "      <th>prec</th>\n",
       "      <th>vmax</th>\n",
       "      <th>vv</th>\n",
       "      <th>hr</th>\n",
       "      <th>ta</th>\n",
       "      <th>tpr</th>\n",
       "      <th>tamin</th>\n",
       "      <th>tamax</th>\n",
       "    </tr>\n",
       "  </thead>\n",
       "  <tbody>\n",
       "    <tr>\n",
       "      <th>count</th>\n",
       "      <td>615.000000</td>\n",
       "      <td>615.000000</td>\n",
       "      <td>615.000000</td>\n",
       "      <td>615.000000</td>\n",
       "      <td>615.00000</td>\n",
       "      <td>615.000000</td>\n",
       "      <td>615.000000</td>\n",
       "      <td>615.000000</td>\n",
       "    </tr>\n",
       "    <tr>\n",
       "      <th>mean</th>\n",
       "      <td>0.033496</td>\n",
       "      <td>1.589756</td>\n",
       "      <td>0.510244</td>\n",
       "      <td>62.497561</td>\n",
       "      <td>13.16374</td>\n",
       "      <td>5.693333</td>\n",
       "      <td>12.686667</td>\n",
       "      <td>13.668780</td>\n",
       "    </tr>\n",
       "    <tr>\n",
       "      <th>std</th>\n",
       "      <td>0.636243</td>\n",
       "      <td>2.116488</td>\n",
       "      <td>0.738589</td>\n",
       "      <td>14.682955</td>\n",
       "      <td>3.23525</td>\n",
       "      <td>3.416415</td>\n",
       "      <td>3.110487</td>\n",
       "      <td>3.358057</td>\n",
       "    </tr>\n",
       "    <tr>\n",
       "      <th>min</th>\n",
       "      <td>0.000000</td>\n",
       "      <td>0.000000</td>\n",
       "      <td>0.000000</td>\n",
       "      <td>26.000000</td>\n",
       "      <td>5.40000</td>\n",
       "      <td>-1.700000</td>\n",
       "      <td>5.300000</td>\n",
       "      <td>5.600000</td>\n",
       "    </tr>\n",
       "    <tr>\n",
       "      <th>25%</th>\n",
       "      <td>0.000000</td>\n",
       "      <td>0.000000</td>\n",
       "      <td>0.000000</td>\n",
       "      <td>52.000000</td>\n",
       "      <td>11.10000</td>\n",
       "      <td>2.900000</td>\n",
       "      <td>10.550000</td>\n",
       "      <td>11.600000</td>\n",
       "    </tr>\n",
       "    <tr>\n",
       "      <th>50%</th>\n",
       "      <td>0.000000</td>\n",
       "      <td>0.000000</td>\n",
       "      <td>0.000000</td>\n",
       "      <td>66.000000</td>\n",
       "      <td>13.30000</td>\n",
       "      <td>5.900000</td>\n",
       "      <td>12.900000</td>\n",
       "      <td>13.700000</td>\n",
       "    </tr>\n",
       "    <tr>\n",
       "      <th>75%</th>\n",
       "      <td>0.000000</td>\n",
       "      <td>3.100000</td>\n",
       "      <td>1.000000</td>\n",
       "      <td>75.000000</td>\n",
       "      <td>15.40000</td>\n",
       "      <td>8.850000</td>\n",
       "      <td>14.900000</td>\n",
       "      <td>15.900000</td>\n",
       "    </tr>\n",
       "    <tr>\n",
       "      <th>max</th>\n",
       "      <td>15.600000</td>\n",
       "      <td>19.600000</td>\n",
       "      <td>4.500000</td>\n",
       "      <td>81.000000</td>\n",
       "      <td>22.10000</td>\n",
       "      <td>11.300000</td>\n",
       "      <td>21.300000</td>\n",
       "      <td>22.700000</td>\n",
       "    </tr>\n",
       "  </tbody>\n",
       "</table>\n",
       "</div>"
      ],
      "text/plain": [
       "             prec        vmax          vv          hr         ta         tpr  \\\n",
       "count  615.000000  615.000000  615.000000  615.000000  615.00000  615.000000   \n",
       "mean     0.033496    1.589756    0.510244   62.497561   13.16374    5.693333   \n",
       "std      0.636243    2.116488    0.738589   14.682955    3.23525    3.416415   \n",
       "min      0.000000    0.000000    0.000000   26.000000    5.40000   -1.700000   \n",
       "25%      0.000000    0.000000    0.000000   52.000000   11.10000    2.900000   \n",
       "50%      0.000000    0.000000    0.000000   66.000000   13.30000    5.900000   \n",
       "75%      0.000000    3.100000    1.000000   75.000000   15.40000    8.850000   \n",
       "max     15.600000   19.600000    4.500000   81.000000   22.10000   11.300000   \n",
       "\n",
       "            tamin       tamax  \n",
       "count  615.000000  615.000000  \n",
       "mean    12.686667   13.668780  \n",
       "std      3.110487    3.358057  \n",
       "min      5.300000    5.600000  \n",
       "25%     10.550000   11.600000  \n",
       "50%     12.900000   13.700000  \n",
       "75%     14.900000   15.900000  \n",
       "max     21.300000   22.700000  "
      ]
     },
     "execution_count": 77,
     "metadata": {},
     "output_type": "execute_result"
    }
   ],
   "source": [
    "df_aemet.describe() # Imprimir estadísticas descriptivas del DataFrame de AEMET"
   ]
  },
  {
   "cell_type": "code",
   "execution_count": 78,
   "metadata": {},
   "outputs": [
    {
     "data": {
      "text/plain": [
       "ubi       object\n",
       "prec     float64\n",
       "vmax     float64\n",
       "vv       float64\n",
       "hr       float64\n",
       "ta       float64\n",
       "tpr      float64\n",
       "tamin    float64\n",
       "tamax    float64\n",
       "fecha     object\n",
       "dtype: object"
      ]
     },
     "execution_count": 78,
     "metadata": {},
     "output_type": "execute_result"
    }
   ],
   "source": [
    "df_aemet.dtypes # Imprimir los tipos de datos de cada columna del DataFrame de AEMET"
   ]
  },
  {
   "cell_type": "markdown",
   "metadata": {},
   "source": [
    "Puesto que sabemos que las fechas no están en el formato correcto, le modificaremos el tipo de dato para poder operar con ellas."
   ]
  },
  {
   "cell_type": "code",
   "execution_count": 79,
   "metadata": {},
   "outputs": [],
   "source": [
    "df_aemet[\"fecha\"] = pd.to_datetime(df_aemet[\"fecha\"]) # Convertir la columna \"fecha\" a tipo datetime"
   ]
  },
  {
   "cell_type": "markdown",
   "metadata": {},
   "source": [
    "# Integración de datos"
   ]
  },
  {
   "cell_type": "markdown",
   "metadata": {},
   "source": [
    "Cargaremos los datos a usar de AEMET ubicados en */data/interim/usoestameteo.csv*. "
   ]
  },
  {
   "cell_type": "code",
   "execution_count": 80,
   "metadata": {},
   "outputs": [],
   "source": [
    "df_aemet_usar = pd.read_csv(\"./data/interim/usoestameteo.csv\") # Cargar el archivo CSV de uso de estaciones meteorológicas en un DataFrame de pandas"
   ]
  },
  {
   "cell_type": "code",
   "execution_count": 81,
   "metadata": {},
   "outputs": [
    {
     "data": {
      "text/plain": [
       "((4711, 19),\n",
       " Index(['prec', 'vmax', 'vv', 'hr', 'ta', 'tpr', 'tamin', 'tamax', 'fecha',\n",
       "        'count_out', 'count_in', 'number', 'address', 'lat', 'lon', 'total',\n",
       "        'nombre', 'coddistrit', 'codbarrio'],\n",
       "       dtype='object'))"
      ]
     },
     "execution_count": 81,
     "metadata": {},
     "output_type": "execute_result"
    }
   ],
   "source": [
    "df_aemet_usar.shape, df_aemet_usar.columns"
   ]
  },
  {
   "cell_type": "code",
   "execution_count": 82,
   "metadata": {},
   "outputs": [
    {
     "name": "stdout",
     "output_type": "stream",
     "text": [
      "2025-02-03 00:00:00+00:00\n",
      "2025-03-03 10:00:00+00:00\n"
     ]
    }
   ],
   "source": [
    "df_aemet_usar[\"fecha\"] = pd.to_datetime(df_aemet_usar[\"fecha\"]) # Convertir la columna \"fecha\" a tipo datetime\n",
    "print(df_aemet_usar[\"fecha\"].min()) # Imprimir la fecha mínima del DataFrame de uso de estaciones meteorológicas\n",
    "print(df_aemet_usar[\"fecha\"].max()) # Imprimir la fecha máxima del DataFrame de uso de estaciones meteorológicas"
   ]
  },
  {
   "cell_type": "markdown",
   "metadata": {},
   "source": [
    "Ordenaremos el dataframe por fecha."
   ]
  },
  {
   "cell_type": "code",
   "execution_count": 83,
   "metadata": {},
   "outputs": [
    {
     "data": {
      "application/vnd.microsoft.datawrangler.viewer.v0+json": {
       "columns": [
        {
         "name": "index",
         "rawType": "int64",
         "type": "integer"
        },
        {
         "name": "prec",
         "rawType": "float64",
         "type": "float"
        },
        {
         "name": "vmax",
         "rawType": "float64",
         "type": "float"
        },
        {
         "name": "vv",
         "rawType": "float64",
         "type": "float"
        },
        {
         "name": "hr",
         "rawType": "float64",
         "type": "float"
        },
        {
         "name": "ta",
         "rawType": "float64",
         "type": "float"
        },
        {
         "name": "tpr",
         "rawType": "float64",
         "type": "float"
        },
        {
         "name": "tamin",
         "rawType": "float64",
         "type": "float"
        },
        {
         "name": "tamax",
         "rawType": "float64",
         "type": "float"
        },
        {
         "name": "fecha",
         "rawType": "datetime64[ns, UTC]",
         "type": "unknown"
        },
        {
         "name": "count_out",
         "rawType": "float64",
         "type": "float"
        },
        {
         "name": "count_in",
         "rawType": "float64",
         "type": "float"
        },
        {
         "name": "number",
         "rawType": "float64",
         "type": "float"
        },
        {
         "name": "address",
         "rawType": "object",
         "type": "string"
        },
        {
         "name": "lat",
         "rawType": "float64",
         "type": "float"
        },
        {
         "name": "lon",
         "rawType": "float64",
         "type": "float"
        },
        {
         "name": "total",
         "rawType": "float64",
         "type": "float"
        },
        {
         "name": "nombre",
         "rawType": "object",
         "type": "string"
        },
        {
         "name": "coddistrit",
         "rawType": "int64",
         "type": "integer"
        },
        {
         "name": "codbarrio",
         "rawType": "int64",
         "type": "integer"
        }
       ],
       "conversionMethod": "pd.DataFrame",
       "ref": "c3bcc096-ce37-4f05-8d3c-a5f605220b9b",
       "rows": [
        [
         "1345",
         "1.2",
         "9.7",
         "2.9",
         "81.0",
         "14.4",
         "11.2",
         "14.2",
         "14.4",
         "2025-03-03 10:00:00+00:00",
         "-1.0",
         "4.0",
         "33.0",
         "Germanías - Ruzafa",
         "39.46481830023885",
         "-0.3739903856231028",
         "20.0",
         "RUSSAFA",
         "2",
         "1"
        ],
        [
         "2018",
         "1.2",
         "9.7",
         "2.9",
         "81.0",
         "14.4",
         "11.2",
         "14.2",
         "14.4",
         "2025-03-03 10:00:00+00:00",
         "0.0",
         "0.0",
         "38.0",
         "Peris y Valero - Cabo Jubi",
         "39.45940204927687",
         "-0.3702493773693626",
         "15.0",
         "RUSSAFA",
         "2",
         "1"
        ],
        [
         "2691",
         "1.2",
         "9.7",
         "2.9",
         "81.0",
         "14.4",
         "11.2",
         "14.2",
         "14.4",
         "2025-03-03 10:00:00+00:00",
         "-1.0",
         "0.0",
         "39.0",
         "Peris y Valero - Cuba",
         "39.457854277261184",
         "-0.3739313916673185",
         "19.0",
         "RUSSAFA",
         "2",
         "1"
        ],
        [
         "3364",
         "1.2",
         "9.7",
         "2.9",
         "81.0",
         "14.4",
         "11.2",
         "14.2",
         "14.4",
         "2025-03-03 10:00:00+00:00",
         "-3.0",
         "7.0",
         "37.0",
         "Peris y Valero - Luis Santángel",
         "39.460937800028375",
         "-0.3664406250017559",
         "20.0",
         "RUSSAFA",
         "2",
         "1"
        ],
        [
         "4710",
         "1.2",
         "9.7",
         "2.9",
         "81.0",
         "14.4",
         "11.2",
         "14.2",
         "14.4",
         "2025-03-03 10:00:00+00:00",
         "-1.0",
         "2.0",
         "152.0",
         "Reina Doña María - Cádiz",
         "39.460925286769694",
         "-0.3727053849231208",
         "15.0",
         "RUSSAFA",
         "2",
         "1"
        ]
       ],
       "shape": {
        "columns": 19,
        "rows": 5
       }
      },
      "text/html": [
       "<div>\n",
       "<style scoped>\n",
       "    .dataframe tbody tr th:only-of-type {\n",
       "        vertical-align: middle;\n",
       "    }\n",
       "\n",
       "    .dataframe tbody tr th {\n",
       "        vertical-align: top;\n",
       "    }\n",
       "\n",
       "    .dataframe thead th {\n",
       "        text-align: right;\n",
       "    }\n",
       "</style>\n",
       "<table border=\"1\" class=\"dataframe\">\n",
       "  <thead>\n",
       "    <tr style=\"text-align: right;\">\n",
       "      <th></th>\n",
       "      <th>prec</th>\n",
       "      <th>vmax</th>\n",
       "      <th>vv</th>\n",
       "      <th>hr</th>\n",
       "      <th>ta</th>\n",
       "      <th>tpr</th>\n",
       "      <th>tamin</th>\n",
       "      <th>tamax</th>\n",
       "      <th>fecha</th>\n",
       "      <th>count_out</th>\n",
       "      <th>count_in</th>\n",
       "      <th>number</th>\n",
       "      <th>address</th>\n",
       "      <th>lat</th>\n",
       "      <th>lon</th>\n",
       "      <th>total</th>\n",
       "      <th>nombre</th>\n",
       "      <th>coddistrit</th>\n",
       "      <th>codbarrio</th>\n",
       "    </tr>\n",
       "  </thead>\n",
       "  <tbody>\n",
       "    <tr>\n",
       "      <th>1345</th>\n",
       "      <td>1.2</td>\n",
       "      <td>9.7</td>\n",
       "      <td>2.9</td>\n",
       "      <td>81.0</td>\n",
       "      <td>14.4</td>\n",
       "      <td>11.2</td>\n",
       "      <td>14.2</td>\n",
       "      <td>14.4</td>\n",
       "      <td>2025-03-03 10:00:00+00:00</td>\n",
       "      <td>-1.0</td>\n",
       "      <td>4.0</td>\n",
       "      <td>33.0</td>\n",
       "      <td>Germanías - Ruzafa</td>\n",
       "      <td>39.464818</td>\n",
       "      <td>-0.373990</td>\n",
       "      <td>20.0</td>\n",
       "      <td>RUSSAFA</td>\n",
       "      <td>2</td>\n",
       "      <td>1</td>\n",
       "    </tr>\n",
       "    <tr>\n",
       "      <th>2018</th>\n",
       "      <td>1.2</td>\n",
       "      <td>9.7</td>\n",
       "      <td>2.9</td>\n",
       "      <td>81.0</td>\n",
       "      <td>14.4</td>\n",
       "      <td>11.2</td>\n",
       "      <td>14.2</td>\n",
       "      <td>14.4</td>\n",
       "      <td>2025-03-03 10:00:00+00:00</td>\n",
       "      <td>0.0</td>\n",
       "      <td>0.0</td>\n",
       "      <td>38.0</td>\n",
       "      <td>Peris y Valero - Cabo Jubi</td>\n",
       "      <td>39.459402</td>\n",
       "      <td>-0.370249</td>\n",
       "      <td>15.0</td>\n",
       "      <td>RUSSAFA</td>\n",
       "      <td>2</td>\n",
       "      <td>1</td>\n",
       "    </tr>\n",
       "    <tr>\n",
       "      <th>2691</th>\n",
       "      <td>1.2</td>\n",
       "      <td>9.7</td>\n",
       "      <td>2.9</td>\n",
       "      <td>81.0</td>\n",
       "      <td>14.4</td>\n",
       "      <td>11.2</td>\n",
       "      <td>14.2</td>\n",
       "      <td>14.4</td>\n",
       "      <td>2025-03-03 10:00:00+00:00</td>\n",
       "      <td>-1.0</td>\n",
       "      <td>0.0</td>\n",
       "      <td>39.0</td>\n",
       "      <td>Peris y Valero - Cuba</td>\n",
       "      <td>39.457854</td>\n",
       "      <td>-0.373931</td>\n",
       "      <td>19.0</td>\n",
       "      <td>RUSSAFA</td>\n",
       "      <td>2</td>\n",
       "      <td>1</td>\n",
       "    </tr>\n",
       "    <tr>\n",
       "      <th>3364</th>\n",
       "      <td>1.2</td>\n",
       "      <td>9.7</td>\n",
       "      <td>2.9</td>\n",
       "      <td>81.0</td>\n",
       "      <td>14.4</td>\n",
       "      <td>11.2</td>\n",
       "      <td>14.2</td>\n",
       "      <td>14.4</td>\n",
       "      <td>2025-03-03 10:00:00+00:00</td>\n",
       "      <td>-3.0</td>\n",
       "      <td>7.0</td>\n",
       "      <td>37.0</td>\n",
       "      <td>Peris y Valero - Luis Santángel</td>\n",
       "      <td>39.460938</td>\n",
       "      <td>-0.366441</td>\n",
       "      <td>20.0</td>\n",
       "      <td>RUSSAFA</td>\n",
       "      <td>2</td>\n",
       "      <td>1</td>\n",
       "    </tr>\n",
       "    <tr>\n",
       "      <th>4710</th>\n",
       "      <td>1.2</td>\n",
       "      <td>9.7</td>\n",
       "      <td>2.9</td>\n",
       "      <td>81.0</td>\n",
       "      <td>14.4</td>\n",
       "      <td>11.2</td>\n",
       "      <td>14.2</td>\n",
       "      <td>14.4</td>\n",
       "      <td>2025-03-03 10:00:00+00:00</td>\n",
       "      <td>-1.0</td>\n",
       "      <td>2.0</td>\n",
       "      <td>152.0</td>\n",
       "      <td>Reina Doña María - Cádiz</td>\n",
       "      <td>39.460925</td>\n",
       "      <td>-0.372705</td>\n",
       "      <td>15.0</td>\n",
       "      <td>RUSSAFA</td>\n",
       "      <td>2</td>\n",
       "      <td>1</td>\n",
       "    </tr>\n",
       "  </tbody>\n",
       "</table>\n",
       "</div>"
      ],
      "text/plain": [
       "      prec  vmax   vv    hr    ta   tpr  tamin  tamax  \\\n",
       "1345   1.2   9.7  2.9  81.0  14.4  11.2   14.2   14.4   \n",
       "2018   1.2   9.7  2.9  81.0  14.4  11.2   14.2   14.4   \n",
       "2691   1.2   9.7  2.9  81.0  14.4  11.2   14.2   14.4   \n",
       "3364   1.2   9.7  2.9  81.0  14.4  11.2   14.2   14.4   \n",
       "4710   1.2   9.7  2.9  81.0  14.4  11.2   14.2   14.4   \n",
       "\n",
       "                         fecha  count_out  count_in  number  \\\n",
       "1345 2025-03-03 10:00:00+00:00       -1.0       4.0    33.0   \n",
       "2018 2025-03-03 10:00:00+00:00        0.0       0.0    38.0   \n",
       "2691 2025-03-03 10:00:00+00:00       -1.0       0.0    39.0   \n",
       "3364 2025-03-03 10:00:00+00:00       -3.0       7.0    37.0   \n",
       "4710 2025-03-03 10:00:00+00:00       -1.0       2.0   152.0   \n",
       "\n",
       "                              address        lat       lon  total   nombre  \\\n",
       "1345               Germanías - Ruzafa  39.464818 -0.373990   20.0  RUSSAFA   \n",
       "2018       Peris y Valero - Cabo Jubi  39.459402 -0.370249   15.0  RUSSAFA   \n",
       "2691            Peris y Valero - Cuba  39.457854 -0.373931   19.0  RUSSAFA   \n",
       "3364  Peris y Valero - Luis Santángel  39.460938 -0.366441   20.0  RUSSAFA   \n",
       "4710         Reina Doña María - Cádiz  39.460925 -0.372705   15.0  RUSSAFA   \n",
       "\n",
       "      coddistrit  codbarrio  \n",
       "1345           2          1  \n",
       "2018           2          1  \n",
       "2691           2          1  \n",
       "3364           2          1  \n",
       "4710           2          1  "
      ]
     },
     "execution_count": 83,
     "metadata": {},
     "output_type": "execute_result"
    }
   ],
   "source": [
    "df_aemet_usar.sort_values(by=\"fecha\", ascending=True, inplace=True) # Ordenar el DataFrame de uso de estaciones meteorológicas por la columna \"fecha\" en orden ascendente\n",
    "df_aemet_usar.tail() # Imprimir las últimas filas del DataFrame de uso de estaciones meteorológicas"
   ]
  },
  {
   "cell_type": "markdown",
   "metadata": {},
   "source": [
    "A continuación miraremos si hay valores nulos en cada columna y sumaremos la cantidad que hay."
   ]
  },
  {
   "cell_type": "code",
   "execution_count": 84,
   "metadata": {},
   "outputs": [
    {
     "data": {
      "text/plain": [
       "prec          0\n",
       "vmax          0\n",
       "vv            0\n",
       "hr            0\n",
       "ta            0\n",
       "tpr           0\n",
       "tamin         0\n",
       "tamax         0\n",
       "fecha         0\n",
       "count_out     0\n",
       "count_in      0\n",
       "number        0\n",
       "address       0\n",
       "lat           0\n",
       "lon           0\n",
       "total         0\n",
       "nombre        0\n",
       "coddistrit    0\n",
       "codbarrio     0\n",
       "dtype: int64"
      ]
     },
     "execution_count": 84,
     "metadata": {},
     "output_type": "execute_result"
    }
   ],
   "source": [
    "# Visualizar datos nulos por columnas\n",
    "df_aemet_usar.isna().sum()"
   ]
  },
  {
   "cell_type": "code",
   "execution_count": 85,
   "metadata": {},
   "outputs": [
    {
     "data": {
      "application/vnd.microsoft.datawrangler.viewer.v0+json": {
       "columns": [
        {
         "name": "index",
         "rawType": "int64",
         "type": "integer"
        },
        {
         "name": "fecha",
         "rawType": "datetime64[ns, UTC]",
         "type": "unknown"
        },
        {
         "name": "count_out",
         "rawType": "float64",
         "type": "float"
        },
        {
         "name": "nombre",
         "rawType": "object",
         "type": "string"
        }
       ],
       "conversionMethod": "pd.DataFrame",
       "ref": "4352a3c6-e1d2-41bf-823f-a2b026652ee4",
       "rows": [],
       "shape": {
        "columns": 3,
        "rows": 0
       }
      },
      "text/html": [
       "<div>\n",
       "<style scoped>\n",
       "    .dataframe tbody tr th:only-of-type {\n",
       "        vertical-align: middle;\n",
       "    }\n",
       "\n",
       "    .dataframe tbody tr th {\n",
       "        vertical-align: top;\n",
       "    }\n",
       "\n",
       "    .dataframe thead th {\n",
       "        text-align: right;\n",
       "    }\n",
       "</style>\n",
       "<table border=\"1\" class=\"dataframe\">\n",
       "  <thead>\n",
       "    <tr style=\"text-align: right;\">\n",
       "      <th></th>\n",
       "      <th>fecha</th>\n",
       "      <th>count_out</th>\n",
       "      <th>nombre</th>\n",
       "    </tr>\n",
       "  </thead>\n",
       "  <tbody>\n",
       "  </tbody>\n",
       "</table>\n",
       "</div>"
      ],
      "text/plain": [
       "Empty DataFrame\n",
       "Columns: [fecha, count_out, nombre]\n",
       "Index: []"
      ]
     },
     "execution_count": 85,
     "metadata": {},
     "output_type": "execute_result"
    }
   ],
   "source": [
    "df_aemet_usar.loc[df_aemet_usar['nombre'].isna(), ['fecha', 'count_out', 'nombre']]"
   ]
  },
  {
   "cell_type": "markdown",
   "metadata": {},
   "source": [
    "No tenemos valores nulos."
   ]
  },
  {
   "cell_type": "markdown",
   "metadata": {},
   "source": [
    "# Análisis Exploratorio de Datos (EDA)"
   ]
  },
  {
   "cell_type": "markdown",
   "metadata": {},
   "source": []
  }
 ],
 "metadata": {
  "kernelspec": {
   "display_name": ".venv",
   "language": "python",
   "name": "python3"
  },
  "language_info": {
   "codemirror_mode": {
    "name": "ipython",
    "version": 3
   },
   "file_extension": ".py",
   "mimetype": "text/x-python",
   "name": "python",
   "nbconvert_exporter": "python",
   "pygments_lexer": "ipython3",
   "version": "3.13.1"
  }
 },
 "nbformat": 4,
 "nbformat_minor": 2
}
