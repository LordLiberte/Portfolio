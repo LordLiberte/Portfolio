{
 "cells": [
  {
   "cell_type": "markdown",
   "id": "1341cbc4",
   "metadata": {},
   "source": [
    "## Aprendizaje No Supervisado"
   ]
  },
  {
   "cell_type": "markdown",
   "id": "be12307a",
   "metadata": {},
   "source": [
    "En esta sección vamos a analizar para nuestro barrio de estudio dos conjuntos de datos. Uno procesado y otro no procesado, para visualziar cual de los dos conjuntos es verdaderamente más útil para extraer conclusiones. En nuestro caso usaremos el método de KMeans."
   ]
  },
  {
   "cell_type": "markdown",
   "id": "ce767a37",
   "metadata": {},
   "source": [
    "Para ello importaremos las librerías necesarias y estableceremos la ruta de trabajo."
   ]
  },
  {
   "cell_type": "code",
   "execution_count": 1,
   "id": "1b755df0",
   "metadata": {},
   "outputs": [
    {
     "name": "stdout",
     "output_type": "stream",
     "text": [
      "c:\\Users\\ghost\\OneDrive\\PC_Casa\\Ciencia_Datos_IA\\2024-2025\\2n Cuatri\\Introducción a la Ciencia de Datos\\Actividades\\Portfolio\\Practica2\\notebooks\n",
      "c:\\Users\\ghost\\OneDrive\\PC_Casa\\Ciencia_Datos_IA\\2024-2025\\2n Cuatri\\Introducción a la Ciencia de Datos\\Actividades\\Portfolio\\Practica2\n"
     ]
    }
   ],
   "source": [
    "import pandas as pd\n",
    "import os\n",
    "from sklearn.cluster import KMeans\n",
    "from scipy.cluster.hierarchy import fcluster \n",
    "import numpy as np\n",
    "import matplotlib.pyplot as plt\n",
    "import seaborn as sns\n",
    "from sklearn.metrics import silhouette_score\n",
    "from scipy.cluster.hierarchy import dendrogram, linkage, fcluster\n",
    "from sklearn import preprocessing\n",
    "import numpy as np\n",
    "print(os.getcwd())\n",
    "os.chdir('./../')\n",
    "print(os.getcwd())"
   ]
  },
  {
   "cell_type": "markdown",
   "id": "fa39773d",
   "metadata": {},
   "source": [
    "Importaremos nuestros datos a una variable."
   ]
  },
  {
   "cell_type": "code",
   "execution_count": 2,
   "id": "f84f49e6",
   "metadata": {},
   "outputs": [
    {
     "data": {
      "application/vnd.microsoft.datawrangler.viewer.v0+json": {
       "columns": [
        {
         "name": "index",
         "rawType": "int64",
         "type": "integer"
        },
        {
         "name": "number",
         "rawType": "int64",
         "type": "integer"
        },
        {
         "name": "uso_bici",
         "rawType": "int64",
         "type": "integer"
        },
        {
         "name": "address",
         "rawType": "object",
         "type": "string"
        },
        {
         "name": "lat",
         "rawType": "float64",
         "type": "float"
        },
        {
         "name": "lon",
         "rawType": "float64",
         "type": "float"
        },
        {
         "name": "total",
         "rawType": "int64",
         "type": "integer"
        },
        {
         "name": "nombre",
         "rawType": "object",
         "type": "string"
        },
        {
         "name": "coddistrit",
         "rawType": "int64",
         "type": "integer"
        },
        {
         "name": "codbarrio",
         "rawType": "int64",
         "type": "integer"
        }
       ],
       "conversionMethod": "pd.DataFrame",
       "ref": "40e6907d-0d37-42a9-8977-100f9c958b9c",
       "rows": [
        [
         "268",
         "272",
         "673",
         "Vicente la Roda - Ingeniero Fausto Elio",
         "39.48062333339468",
         "-0.3321902311538516",
         "15",
         "LA MALVA-ROSA",
         "11",
         "3"
        ],
        [
         "269",
         "273",
         "340",
         "Moraira - Alta del Mar",
         "39.4503052325249",
         "-0.3332722584595297",
         "15",
         "NATZARET",
         "11",
         "5"
        ],
        [
         "270",
         "274",
         "216",
         "San Francisco de Paula - Castell de Pop",
         "39.44807022576504",
         "-0.3331882593063431",
         "15",
         "NATZARET",
         "11",
         "5"
        ],
        [
         "271",
         "275",
         "418",
         "Moreras - Rona de Nazaret",
         "39.45230524022502",
         "-0.3350652633218127",
         "20",
         "LA PUNTA",
         "10",
         "6"
        ],
        [
         "272",
         "276",
         "1029",
         "Veles e Vents",
         "39.46197526682713",
         "-0.3237652165584259",
         "20",
         "EL GRAU",
         "11",
         "1"
        ]
       ],
       "shape": {
        "columns": 9,
        "rows": 5
       }
      },
      "text/html": [
       "<div>\n",
       "<style scoped>\n",
       "    .dataframe tbody tr th:only-of-type {\n",
       "        vertical-align: middle;\n",
       "    }\n",
       "\n",
       "    .dataframe tbody tr th {\n",
       "        vertical-align: top;\n",
       "    }\n",
       "\n",
       "    .dataframe thead th {\n",
       "        text-align: right;\n",
       "    }\n",
       "</style>\n",
       "<table border=\"1\" class=\"dataframe\">\n",
       "  <thead>\n",
       "    <tr style=\"text-align: right;\">\n",
       "      <th></th>\n",
       "      <th>number</th>\n",
       "      <th>uso_bici</th>\n",
       "      <th>address</th>\n",
       "      <th>lat</th>\n",
       "      <th>lon</th>\n",
       "      <th>total</th>\n",
       "      <th>nombre</th>\n",
       "      <th>coddistrit</th>\n",
       "      <th>codbarrio</th>\n",
       "    </tr>\n",
       "  </thead>\n",
       "  <tbody>\n",
       "    <tr>\n",
       "      <th>268</th>\n",
       "      <td>272</td>\n",
       "      <td>673</td>\n",
       "      <td>Vicente la Roda - Ingeniero Fausto Elio</td>\n",
       "      <td>39.480623</td>\n",
       "      <td>-0.332190</td>\n",
       "      <td>15</td>\n",
       "      <td>LA MALVA-ROSA</td>\n",
       "      <td>11</td>\n",
       "      <td>3</td>\n",
       "    </tr>\n",
       "    <tr>\n",
       "      <th>269</th>\n",
       "      <td>273</td>\n",
       "      <td>340</td>\n",
       "      <td>Moraira - Alta del Mar</td>\n",
       "      <td>39.450305</td>\n",
       "      <td>-0.333272</td>\n",
       "      <td>15</td>\n",
       "      <td>NATZARET</td>\n",
       "      <td>11</td>\n",
       "      <td>5</td>\n",
       "    </tr>\n",
       "    <tr>\n",
       "      <th>270</th>\n",
       "      <td>274</td>\n",
       "      <td>216</td>\n",
       "      <td>San Francisco de Paula - Castell de Pop</td>\n",
       "      <td>39.448070</td>\n",
       "      <td>-0.333188</td>\n",
       "      <td>15</td>\n",
       "      <td>NATZARET</td>\n",
       "      <td>11</td>\n",
       "      <td>5</td>\n",
       "    </tr>\n",
       "    <tr>\n",
       "      <th>271</th>\n",
       "      <td>275</td>\n",
       "      <td>418</td>\n",
       "      <td>Moreras - Rona de Nazaret</td>\n",
       "      <td>39.452305</td>\n",
       "      <td>-0.335065</td>\n",
       "      <td>20</td>\n",
       "      <td>LA PUNTA</td>\n",
       "      <td>10</td>\n",
       "      <td>6</td>\n",
       "    </tr>\n",
       "    <tr>\n",
       "      <th>272</th>\n",
       "      <td>276</td>\n",
       "      <td>1029</td>\n",
       "      <td>Veles e Vents</td>\n",
       "      <td>39.461975</td>\n",
       "      <td>-0.323765</td>\n",
       "      <td>20</td>\n",
       "      <td>EL GRAU</td>\n",
       "      <td>11</td>\n",
       "      <td>1</td>\n",
       "    </tr>\n",
       "  </tbody>\n",
       "</table>\n",
       "</div>"
      ],
      "text/plain": [
       "     number  uso_bici                                  address        lat  \\\n",
       "268     272       673  Vicente la Roda - Ingeniero Fausto Elio  39.480623   \n",
       "269     273       340                   Moraira - Alta del Mar  39.450305   \n",
       "270     274       216  San Francisco de Paula - Castell de Pop  39.448070   \n",
       "271     275       418                Moreras - Rona de Nazaret  39.452305   \n",
       "272     276      1029                            Veles e Vents  39.461975   \n",
       "\n",
       "          lon  total         nombre  coddistrit  codbarrio  \n",
       "268 -0.332190     15  LA MALVA-ROSA          11          3  \n",
       "269 -0.333272     15       NATZARET          11          5  \n",
       "270 -0.333188     15       NATZARET          11          5  \n",
       "271 -0.335065     20       LA PUNTA          10          6  \n",
       "272 -0.323765     20        EL GRAU          11          1  "
      ]
     },
     "execution_count": 2,
     "metadata": {},
     "output_type": "execute_result"
    }
   ],
   "source": [
    "df = pd.read_csv(\"./data/interim/estaciones.csv\")\n",
    "df.tail()"
   ]
  },
  {
   "cell_type": "code",
   "execution_count": null,
   "id": "a8c1e830",
   "metadata": {},
   "outputs": [],
   "source": []
  }
 ],
 "metadata": {
  "kernelspec": {
   "display_name": ".venv",
   "language": "python",
   "name": "python3"
  },
  "language_info": {
   "codemirror_mode": {
    "name": "ipython",
    "version": 3
   },
   "file_extension": ".py",
   "mimetype": "text/x-python",
   "name": "python",
   "nbconvert_exporter": "python",
   "pygments_lexer": "ipython3",
   "version": "3.13.1"
  }
 },
 "nbformat": 4,
 "nbformat_minor": 5
}
