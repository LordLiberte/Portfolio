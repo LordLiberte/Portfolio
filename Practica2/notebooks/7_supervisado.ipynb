{
 "cells": [
  {
   "cell_type": "markdown",
   "id": "43c108de",
   "metadata": {},
   "source": [
    "# Aprendizaje Supervisado"
   ]
  },
  {
   "cell_type": "code",
   "execution_count": 1,
   "id": "ad7af776",
   "metadata": {},
   "outputs": [
    {
     "name": "stdout",
     "output_type": "stream",
     "text": [
      "c:\\Users\\ghost\\OneDrive\\PC_Casa\\Ciencia_Datos_IA\\2024-2025\\2n Cuatri\\Introducción a la Ciencia de Datos\\Actividades\\Portfolio\\Practica2\\notebooks\n",
      "c:\\Users\\ghost\\OneDrive\\PC_Casa\\Ciencia_Datos_IA\\2024-2025\\2n Cuatri\\Introducción a la Ciencia de Datos\\Actividades\\Portfolio\\Practica2\n"
     ]
    }
   ],
   "source": [
    "import pandas as pd\n",
    "import numpy as np\n",
    "import seaborn as sns\n",
    "import sqlite3\n",
    "import os\n",
    "import matplotlib.pyplot as plt\n",
    "from sklearn.tree import DecisionTreeRegressor, plot_tree\n",
    "from sklearn import linear_model\n",
    "from sklearn.model_selection import train_test_split\n",
    "from sklearn import metrics\n",
    "import statsmodels.api as sm\n",
    "import dtreeviz\n",
    "import matplotlib.font_manager\n",
    "import scipy as sp\n",
    "import warnings\n",
    "print(os.getcwd())\n",
    "os.chdir('./../')\n",
    "print(os.getcwd())"
   ]
  },
  {
   "cell_type": "code",
   "execution_count": 2,
   "id": "53ae4b0b",
   "metadata": {},
   "outputs": [],
   "source": [
    "# Configuraciones\n",
    "# ------------------------------------------------------\n",
    "pd.set_option('display.max_columns', None)\n",
    "pd.options.display.float_format = '{:.2f}'.format\n",
    "warnings.filterwarnings('ignore')\n",
    "\n",
    "plt.style.use(\"seaborn-v0_8-talk\")\n",
    "plt.rc(\"figure\", autolayout=True, figsize=(11, 5))\n",
    "plt.rc(\n",
    "    \"axes\",\n",
    "    labelweight=\"bold\",\n",
    "    labelsize=\"large\",\n",
    "    titleweight=\"bold\",\n",
    "    titlesize=14,\n",
    "    titlepad=10,\n",
    ")\n",
    "plot_params = dict(\n",
    "    markeredgecolor=\"0.25\",\n",
    "    markerfacecolor=\"0.25\",\n",
    "    legend=True,\n",
    ")"
   ]
  },
  {
   "cell_type": "code",
   "execution_count": 3,
   "id": "01159898",
   "metadata": {},
   "outputs": [],
   "source": [
    "def metricas_evaluacion(y_test, y_pred, printed=True):\n",
    "    if printed:\n",
    "        print('Mean Absolute Error:', metrics.mean_absolute_error(y_test,y_pred))\n",
    "        print('Mean Squared Error:', metrics.mean_squared_error(y_test, y_pred))\n",
    "        print('Root Mean Squared Error:', np.sqrt(metrics.mean_squared_error(y_test,y_pred)))\n",
    "        print('r2_score:', metrics.r2_score(y_test,y_pred))\n",
    "        print('MAPE:', metrics.mean_absolute_percentage_error(y_test,y_pred))\n",
    "        return None\n",
    "    else:\n",
    "        return metrics.mean_absolute_error(y_test,y_pred)"
   ]
  },
  {
   "cell_type": "code",
   "execution_count": 4,
   "id": "d9c8aab8",
   "metadata": {},
   "outputs": [],
   "source": [
    "def plot_train_test_predict(y_train, y_test, y_pred):\n",
    "    fig, ax = plt.subplots(1, 1, figsize=(7, 4))\n",
    "    y_train.plot(**plot_params, ax=ax, color='blue', alpha=0.5, label='Train')\n",
    "    y_test.plot(**plot_params, ax=ax, color='grey', alpha=0.5, label='Test')\n",
    "    y_pred = pd.Series(y_pred, index=y_test.index)\n",
    "    y_pred.plot(**plot_params, ax=ax, color='r', label='Predict')\n",
    "    mae = metricas_evaluacion(y_test, y_pred, printed=False)\n",
    "    fig.suptitle(f\"Predicción de uso de bicicletas, MAE {mae:.2f}\")\n",
    "    plt.legend(loc=0)\n",
    "    plt.xticks(rotation=70)\n",
    "    plt.show()"
   ]
  },
  {
   "cell_type": "code",
   "execution_count": 5,
   "id": "1b47458b",
   "metadata": {},
   "outputs": [
    {
     "data": {
      "application/vnd.microsoft.datawrangler.viewer.v0+json": {
       "columns": [
        {
         "name": "index",
         "rawType": "int64",
         "type": "integer"
        },
        {
         "name": "prec",
         "rawType": "float64",
         "type": "float"
        },
        {
         "name": "vmax",
         "rawType": "float64",
         "type": "float"
        },
        {
         "name": "vv",
         "rawType": "float64",
         "type": "float"
        },
        {
         "name": "hr",
         "rawType": "float64",
         "type": "float"
        },
        {
         "name": "ta",
         "rawType": "float64",
         "type": "float"
        },
        {
         "name": "tpr",
         "rawType": "float64",
         "type": "float"
        },
        {
         "name": "tamin",
         "rawType": "float64",
         "type": "float"
        },
        {
         "name": "tamax",
         "rawType": "float64",
         "type": "float"
        },
        {
         "name": "fecha",
         "rawType": "object",
         "type": "string"
        },
        {
         "name": "uso_bici",
         "rawType": "float64",
         "type": "float"
        },
        {
         "name": "name",
         "rawType": "object",
         "type": "string"
        },
        {
         "name": "hora",
         "rawType": "int64",
         "type": "integer"
        },
        {
         "name": "dia",
         "rawType": "int64",
         "type": "integer"
        },
        {
         "name": "mes",
         "rawType": "int64",
         "type": "integer"
        },
        {
         "name": "anio",
         "rawType": "int64",
         "type": "integer"
        },
        {
         "name": "dia_nombre",
         "rawType": "object",
         "type": "string"
        },
        {
         "name": "dia_semana",
         "rawType": "int64",
         "type": "integer"
        },
        {
         "name": "findesemana",
         "rawType": "int64",
         "type": "integer"
        }
       ],
       "conversionMethod": "pd.DataFrame",
       "ref": "9158508a-f75d-4ffc-81d1-1cd9c4c816a6",
       "rows": [
        [
         "668",
         "0.0",
         "8.6",
         "2.0",
         "81.0",
         "14.1",
         "10.9",
         "13.7",
         "14.1",
         "2025-03-03 06:00:00+00:00",
         "2.0",
         "CAMPANAR",
         "6",
         "3",
         "3",
         "2025",
         "Monday",
         "0",
         "0"
        ],
        [
         "669",
         "0.0",
         "9.2",
         "2.1",
         "81.0",
         "14.3",
         "11.1",
         "14.1",
         "14.4",
         "2025-03-03 07:00:00+00:00",
         "5.0",
         "CAMPANAR",
         "7",
         "3",
         "3",
         "2025",
         "Monday",
         "0",
         "0"
        ],
        [
         "670",
         "0.6",
         "9.3",
         "2.2",
         "81.0",
         "14.1",
         "10.9",
         "14.1",
         "14.4",
         "2025-03-03 08:00:00+00:00",
         "10.0",
         "CAMPANAR",
         "8",
         "3",
         "3",
         "2025",
         "Monday",
         "0",
         "0"
        ],
        [
         "671",
         "1.5",
         "8.0",
         "2.3",
         "81.0",
         "14.3",
         "11.1",
         "14.0",
         "14.4",
         "2025-03-03 09:00:00+00:00",
         "8.0",
         "CAMPANAR",
         "9",
         "3",
         "3",
         "2025",
         "Monday",
         "0",
         "0"
        ],
        [
         "672",
         "1.2",
         "9.7",
         "2.9",
         "81.0",
         "14.4",
         "11.2",
         "14.2",
         "14.4",
         "2025-03-03 10:00:00+00:00",
         "3.0",
         "CAMPANAR",
         "10",
         "3",
         "3",
         "2025",
         "Monday",
         "0",
         "0"
        ]
       ],
       "shape": {
        "columns": 18,
        "rows": 5
       }
      },
      "text/html": [
       "<div>\n",
       "<style scoped>\n",
       "    .dataframe tbody tr th:only-of-type {\n",
       "        vertical-align: middle;\n",
       "    }\n",
       "\n",
       "    .dataframe tbody tr th {\n",
       "        vertical-align: top;\n",
       "    }\n",
       "\n",
       "    .dataframe thead th {\n",
       "        text-align: right;\n",
       "    }\n",
       "</style>\n",
       "<table border=\"1\" class=\"dataframe\">\n",
       "  <thead>\n",
       "    <tr style=\"text-align: right;\">\n",
       "      <th></th>\n",
       "      <th>prec</th>\n",
       "      <th>vmax</th>\n",
       "      <th>vv</th>\n",
       "      <th>hr</th>\n",
       "      <th>ta</th>\n",
       "      <th>tpr</th>\n",
       "      <th>tamin</th>\n",
       "      <th>tamax</th>\n",
       "      <th>fecha</th>\n",
       "      <th>uso_bici</th>\n",
       "      <th>name</th>\n",
       "      <th>hora</th>\n",
       "      <th>dia</th>\n",
       "      <th>mes</th>\n",
       "      <th>anio</th>\n",
       "      <th>dia_nombre</th>\n",
       "      <th>dia_semana</th>\n",
       "      <th>findesemana</th>\n",
       "    </tr>\n",
       "  </thead>\n",
       "  <tbody>\n",
       "    <tr>\n",
       "      <th>668</th>\n",
       "      <td>0.00</td>\n",
       "      <td>8.60</td>\n",
       "      <td>2.00</td>\n",
       "      <td>81.00</td>\n",
       "      <td>14.10</td>\n",
       "      <td>10.90</td>\n",
       "      <td>13.70</td>\n",
       "      <td>14.10</td>\n",
       "      <td>2025-03-03 06:00:00+00:00</td>\n",
       "      <td>2.00</td>\n",
       "      <td>CAMPANAR</td>\n",
       "      <td>6</td>\n",
       "      <td>3</td>\n",
       "      <td>3</td>\n",
       "      <td>2025</td>\n",
       "      <td>Monday</td>\n",
       "      <td>0</td>\n",
       "      <td>0</td>\n",
       "    </tr>\n",
       "    <tr>\n",
       "      <th>669</th>\n",
       "      <td>0.00</td>\n",
       "      <td>9.20</td>\n",
       "      <td>2.10</td>\n",
       "      <td>81.00</td>\n",
       "      <td>14.30</td>\n",
       "      <td>11.10</td>\n",
       "      <td>14.10</td>\n",
       "      <td>14.40</td>\n",
       "      <td>2025-03-03 07:00:00+00:00</td>\n",
       "      <td>5.00</td>\n",
       "      <td>CAMPANAR</td>\n",
       "      <td>7</td>\n",
       "      <td>3</td>\n",
       "      <td>3</td>\n",
       "      <td>2025</td>\n",
       "      <td>Monday</td>\n",
       "      <td>0</td>\n",
       "      <td>0</td>\n",
       "    </tr>\n",
       "    <tr>\n",
       "      <th>670</th>\n",
       "      <td>0.60</td>\n",
       "      <td>9.30</td>\n",
       "      <td>2.20</td>\n",
       "      <td>81.00</td>\n",
       "      <td>14.10</td>\n",
       "      <td>10.90</td>\n",
       "      <td>14.10</td>\n",
       "      <td>14.40</td>\n",
       "      <td>2025-03-03 08:00:00+00:00</td>\n",
       "      <td>10.00</td>\n",
       "      <td>CAMPANAR</td>\n",
       "      <td>8</td>\n",
       "      <td>3</td>\n",
       "      <td>3</td>\n",
       "      <td>2025</td>\n",
       "      <td>Monday</td>\n",
       "      <td>0</td>\n",
       "      <td>0</td>\n",
       "    </tr>\n",
       "    <tr>\n",
       "      <th>671</th>\n",
       "      <td>1.50</td>\n",
       "      <td>8.00</td>\n",
       "      <td>2.30</td>\n",
       "      <td>81.00</td>\n",
       "      <td>14.30</td>\n",
       "      <td>11.10</td>\n",
       "      <td>14.00</td>\n",
       "      <td>14.40</td>\n",
       "      <td>2025-03-03 09:00:00+00:00</td>\n",
       "      <td>8.00</td>\n",
       "      <td>CAMPANAR</td>\n",
       "      <td>9</td>\n",
       "      <td>3</td>\n",
       "      <td>3</td>\n",
       "      <td>2025</td>\n",
       "      <td>Monday</td>\n",
       "      <td>0</td>\n",
       "      <td>0</td>\n",
       "    </tr>\n",
       "    <tr>\n",
       "      <th>672</th>\n",
       "      <td>1.20</td>\n",
       "      <td>9.70</td>\n",
       "      <td>2.90</td>\n",
       "      <td>81.00</td>\n",
       "      <td>14.40</td>\n",
       "      <td>11.20</td>\n",
       "      <td>14.20</td>\n",
       "      <td>14.40</td>\n",
       "      <td>2025-03-03 10:00:00+00:00</td>\n",
       "      <td>3.00</td>\n",
       "      <td>CAMPANAR</td>\n",
       "      <td>10</td>\n",
       "      <td>3</td>\n",
       "      <td>3</td>\n",
       "      <td>2025</td>\n",
       "      <td>Monday</td>\n",
       "      <td>0</td>\n",
       "      <td>0</td>\n",
       "    </tr>\n",
       "  </tbody>\n",
       "</table>\n",
       "</div>"
      ],
      "text/plain": [
       "     prec  vmax   vv    hr    ta   tpr  tamin  tamax  \\\n",
       "668  0.00  8.60 2.00 81.00 14.10 10.90  13.70  14.10   \n",
       "669  0.00  9.20 2.10 81.00 14.30 11.10  14.10  14.40   \n",
       "670  0.60  9.30 2.20 81.00 14.10 10.90  14.10  14.40   \n",
       "671  1.50  8.00 2.30 81.00 14.30 11.10  14.00  14.40   \n",
       "672  1.20  9.70 2.90 81.00 14.40 11.20  14.20  14.40   \n",
       "\n",
       "                         fecha  uso_bici      name  hora  dia  mes  anio  \\\n",
       "668  2025-03-03 06:00:00+00:00      2.00  CAMPANAR     6    3    3  2025   \n",
       "669  2025-03-03 07:00:00+00:00      5.00  CAMPANAR     7    3    3  2025   \n",
       "670  2025-03-03 08:00:00+00:00     10.00  CAMPANAR     8    3    3  2025   \n",
       "671  2025-03-03 09:00:00+00:00      8.00  CAMPANAR     9    3    3  2025   \n",
       "672  2025-03-03 10:00:00+00:00      3.00  CAMPANAR    10    3    3  2025   \n",
       "\n",
       "    dia_nombre  dia_semana  findesemana  \n",
       "668     Monday           0            0  \n",
       "669     Monday           0            0  \n",
       "670     Monday           0            0  \n",
       "671     Monday           0            0  \n",
       "672     Monday           0            0  "
      ]
     },
     "execution_count": 5,
     "metadata": {},
     "output_type": "execute_result"
    }
   ],
   "source": [
    "df = pd.read_csv('./data/processed/usobarriosmeteo.csv')\n",
    "df.tail()"
   ]
  },
  {
   "cell_type": "code",
   "execution_count": 6,
   "id": "bc02ea14",
   "metadata": {},
   "outputs": [
    {
     "data": {
      "application/vnd.microsoft.datawrangler.viewer.v0+json": {
       "columns": [
        {
         "name": "index",
         "rawType": "int64",
         "type": "integer"
        },
        {
         "name": "prec",
         "rawType": "float64",
         "type": "float"
        },
        {
         "name": "vmax",
         "rawType": "float64",
         "type": "float"
        },
        {
         "name": "vv",
         "rawType": "float64",
         "type": "float"
        },
        {
         "name": "hr",
         "rawType": "float64",
         "type": "float"
        },
        {
         "name": "ta",
         "rawType": "float64",
         "type": "float"
        },
        {
         "name": "tpr",
         "rawType": "float64",
         "type": "float"
        },
        {
         "name": "tamin",
         "rawType": "float64",
         "type": "float"
        },
        {
         "name": "tamax",
         "rawType": "float64",
         "type": "float"
        },
        {
         "name": "fecha",
         "rawType": "datetime64[ns, UTC]",
         "type": "unknown"
        },
        {
         "name": "uso_bici",
         "rawType": "float64",
         "type": "float"
        },
        {
         "name": "name",
         "rawType": "object",
         "type": "string"
        },
        {
         "name": "hora",
         "rawType": "int64",
         "type": "integer"
        },
        {
         "name": "dia",
         "rawType": "int64",
         "type": "integer"
        },
        {
         "name": "mes",
         "rawType": "int64",
         "type": "integer"
        },
        {
         "name": "anio",
         "rawType": "int64",
         "type": "integer"
        },
        {
         "name": "dia_nombre",
         "rawType": "object",
         "type": "string"
        },
        {
         "name": "dia_semana",
         "rawType": "int64",
         "type": "integer"
        },
        {
         "name": "findesemana",
         "rawType": "int64",
         "type": "integer"
        }
       ],
       "conversionMethod": "pd.DataFrame",
       "ref": "66337a95-5a68-4af1-9af0-8d06a90eb1cf",
       "rows": [
        [
         "668",
         "0.0",
         "8.6",
         "2.0",
         "81.0",
         "14.1",
         "10.9",
         "13.7",
         "14.1",
         "2025-03-03 06:00:00+00:00",
         "2.0",
         "CAMPANAR",
         "6",
         "3",
         "3",
         "2025",
         "Monday",
         "0",
         "0"
        ],
        [
         "669",
         "0.0",
         "9.2",
         "2.1",
         "81.0",
         "14.3",
         "11.1",
         "14.1",
         "14.4",
         "2025-03-03 07:00:00+00:00",
         "5.0",
         "CAMPANAR",
         "7",
         "3",
         "3",
         "2025",
         "Monday",
         "0",
         "0"
        ],
        [
         "670",
         "0.6",
         "9.3",
         "2.2",
         "81.0",
         "14.1",
         "10.9",
         "14.1",
         "14.4",
         "2025-03-03 08:00:00+00:00",
         "10.0",
         "CAMPANAR",
         "8",
         "3",
         "3",
         "2025",
         "Monday",
         "0",
         "0"
        ],
        [
         "671",
         "1.5",
         "8.0",
         "2.3",
         "81.0",
         "14.3",
         "11.1",
         "14.0",
         "14.4",
         "2025-03-03 09:00:00+00:00",
         "8.0",
         "CAMPANAR",
         "9",
         "3",
         "3",
         "2025",
         "Monday",
         "0",
         "0"
        ],
        [
         "672",
         "1.2",
         "9.7",
         "2.9",
         "81.0",
         "14.4",
         "11.2",
         "14.2",
         "14.4",
         "2025-03-03 10:00:00+00:00",
         "3.0",
         "CAMPANAR",
         "10",
         "3",
         "3",
         "2025",
         "Monday",
         "0",
         "0"
        ]
       ],
       "shape": {
        "columns": 18,
        "rows": 5
       }
      },
      "text/html": [
       "<div>\n",
       "<style scoped>\n",
       "    .dataframe tbody tr th:only-of-type {\n",
       "        vertical-align: middle;\n",
       "    }\n",
       "\n",
       "    .dataframe tbody tr th {\n",
       "        vertical-align: top;\n",
       "    }\n",
       "\n",
       "    .dataframe thead th {\n",
       "        text-align: right;\n",
       "    }\n",
       "</style>\n",
       "<table border=\"1\" class=\"dataframe\">\n",
       "  <thead>\n",
       "    <tr style=\"text-align: right;\">\n",
       "      <th></th>\n",
       "      <th>prec</th>\n",
       "      <th>vmax</th>\n",
       "      <th>vv</th>\n",
       "      <th>hr</th>\n",
       "      <th>ta</th>\n",
       "      <th>tpr</th>\n",
       "      <th>tamin</th>\n",
       "      <th>tamax</th>\n",
       "      <th>fecha</th>\n",
       "      <th>uso_bici</th>\n",
       "      <th>name</th>\n",
       "      <th>hora</th>\n",
       "      <th>dia</th>\n",
       "      <th>mes</th>\n",
       "      <th>anio</th>\n",
       "      <th>dia_nombre</th>\n",
       "      <th>dia_semana</th>\n",
       "      <th>findesemana</th>\n",
       "    </tr>\n",
       "  </thead>\n",
       "  <tbody>\n",
       "    <tr>\n",
       "      <th>668</th>\n",
       "      <td>0.00</td>\n",
       "      <td>8.60</td>\n",
       "      <td>2.00</td>\n",
       "      <td>81.00</td>\n",
       "      <td>14.10</td>\n",
       "      <td>10.90</td>\n",
       "      <td>13.70</td>\n",
       "      <td>14.10</td>\n",
       "      <td>2025-03-03 06:00:00+00:00</td>\n",
       "      <td>2.00</td>\n",
       "      <td>CAMPANAR</td>\n",
       "      <td>6</td>\n",
       "      <td>3</td>\n",
       "      <td>3</td>\n",
       "      <td>2025</td>\n",
       "      <td>Monday</td>\n",
       "      <td>0</td>\n",
       "      <td>0</td>\n",
       "    </tr>\n",
       "    <tr>\n",
       "      <th>669</th>\n",
       "      <td>0.00</td>\n",
       "      <td>9.20</td>\n",
       "      <td>2.10</td>\n",
       "      <td>81.00</td>\n",
       "      <td>14.30</td>\n",
       "      <td>11.10</td>\n",
       "      <td>14.10</td>\n",
       "      <td>14.40</td>\n",
       "      <td>2025-03-03 07:00:00+00:00</td>\n",
       "      <td>5.00</td>\n",
       "      <td>CAMPANAR</td>\n",
       "      <td>7</td>\n",
       "      <td>3</td>\n",
       "      <td>3</td>\n",
       "      <td>2025</td>\n",
       "      <td>Monday</td>\n",
       "      <td>0</td>\n",
       "      <td>0</td>\n",
       "    </tr>\n",
       "    <tr>\n",
       "      <th>670</th>\n",
       "      <td>0.60</td>\n",
       "      <td>9.30</td>\n",
       "      <td>2.20</td>\n",
       "      <td>81.00</td>\n",
       "      <td>14.10</td>\n",
       "      <td>10.90</td>\n",
       "      <td>14.10</td>\n",
       "      <td>14.40</td>\n",
       "      <td>2025-03-03 08:00:00+00:00</td>\n",
       "      <td>10.00</td>\n",
       "      <td>CAMPANAR</td>\n",
       "      <td>8</td>\n",
       "      <td>3</td>\n",
       "      <td>3</td>\n",
       "      <td>2025</td>\n",
       "      <td>Monday</td>\n",
       "      <td>0</td>\n",
       "      <td>0</td>\n",
       "    </tr>\n",
       "    <tr>\n",
       "      <th>671</th>\n",
       "      <td>1.50</td>\n",
       "      <td>8.00</td>\n",
       "      <td>2.30</td>\n",
       "      <td>81.00</td>\n",
       "      <td>14.30</td>\n",
       "      <td>11.10</td>\n",
       "      <td>14.00</td>\n",
       "      <td>14.40</td>\n",
       "      <td>2025-03-03 09:00:00+00:00</td>\n",
       "      <td>8.00</td>\n",
       "      <td>CAMPANAR</td>\n",
       "      <td>9</td>\n",
       "      <td>3</td>\n",
       "      <td>3</td>\n",
       "      <td>2025</td>\n",
       "      <td>Monday</td>\n",
       "      <td>0</td>\n",
       "      <td>0</td>\n",
       "    </tr>\n",
       "    <tr>\n",
       "      <th>672</th>\n",
       "      <td>1.20</td>\n",
       "      <td>9.70</td>\n",
       "      <td>2.90</td>\n",
       "      <td>81.00</td>\n",
       "      <td>14.40</td>\n",
       "      <td>11.20</td>\n",
       "      <td>14.20</td>\n",
       "      <td>14.40</td>\n",
       "      <td>2025-03-03 10:00:00+00:00</td>\n",
       "      <td>3.00</td>\n",
       "      <td>CAMPANAR</td>\n",
       "      <td>10</td>\n",
       "      <td>3</td>\n",
       "      <td>3</td>\n",
       "      <td>2025</td>\n",
       "      <td>Monday</td>\n",
       "      <td>0</td>\n",
       "      <td>0</td>\n",
       "    </tr>\n",
       "  </tbody>\n",
       "</table>\n",
       "</div>"
      ],
      "text/plain": [
       "     prec  vmax   vv    hr    ta   tpr  tamin  tamax  \\\n",
       "668  0.00  8.60 2.00 81.00 14.10 10.90  13.70  14.10   \n",
       "669  0.00  9.20 2.10 81.00 14.30 11.10  14.10  14.40   \n",
       "670  0.60  9.30 2.20 81.00 14.10 10.90  14.10  14.40   \n",
       "671  1.50  8.00 2.30 81.00 14.30 11.10  14.00  14.40   \n",
       "672  1.20  9.70 2.90 81.00 14.40 11.20  14.20  14.40   \n",
       "\n",
       "                        fecha  uso_bici      name  hora  dia  mes  anio  \\\n",
       "668 2025-03-03 06:00:00+00:00      2.00  CAMPANAR     6    3    3  2025   \n",
       "669 2025-03-03 07:00:00+00:00      5.00  CAMPANAR     7    3    3  2025   \n",
       "670 2025-03-03 08:00:00+00:00     10.00  CAMPANAR     8    3    3  2025   \n",
       "671 2025-03-03 09:00:00+00:00      8.00  CAMPANAR     9    3    3  2025   \n",
       "672 2025-03-03 10:00:00+00:00      3.00  CAMPANAR    10    3    3  2025   \n",
       "\n",
       "    dia_nombre  dia_semana  findesemana  \n",
       "668     Monday           0            0  \n",
       "669     Monday           0            0  \n",
       "670     Monday           0            0  \n",
       "671     Monday           0            0  \n",
       "672     Monday           0            0  "
      ]
     },
     "execution_count": 6,
     "metadata": {},
     "output_type": "execute_result"
    }
   ],
   "source": [
    "df['fecha'] = pd.to_datetime(df['fecha'])\n",
    "df.sort_values('fecha', inplace=True)\n",
    "df.tail()\n"
   ]
  },
  {
   "cell_type": "code",
   "execution_count": 7,
   "id": "4d8a837e",
   "metadata": {},
   "outputs": [
    {
     "data": {
      "text/plain": [
       "Index(['prec', 'vmax', 'vv', 'hr', 'ta', 'tpr', 'tamin', 'tamax', 'fecha',\n",
       "       'uso_bici', 'name', 'hora', 'dia', 'mes', 'anio', 'dia_nombre',\n",
       "       'dia_semana', 'findesemana'],\n",
       "      dtype='object')"
      ]
     },
     "execution_count": 7,
     "metadata": {},
     "output_type": "execute_result"
    }
   ],
   "source": [
    "df.columns"
   ]
  },
  {
   "cell_type": "code",
   "execution_count": 8,
   "id": "9b6cd26a",
   "metadata": {},
   "outputs": [
    {
     "data": {
      "text/plain": [
       "(673, 18)"
      ]
     },
     "execution_count": 8,
     "metadata": {},
     "output_type": "execute_result"
    }
   ],
   "source": [
    "df = df.loc[df['name']=='CAMPANAR'].copy()\n",
    "df.sort_values('fecha', inplace=True)\n",
    "df.shape"
   ]
  },
  {
   "cell_type": "code",
   "execution_count": 9,
   "id": "ab7e767e",
   "metadata": {},
   "outputs": [
    {
     "data": {
      "text/plain": [
       "((673, 2), (673,))"
      ]
     },
     "execution_count": 9,
     "metadata": {},
     "output_type": "execute_result"
    }
   ],
   "source": [
    "X = df.loc[:, ['hora', 'dia']]\n",
    "y = df['uso_bici']\n",
    "X.shape, y.shape"
   ]
  },
  {
   "cell_type": "code",
   "execution_count": 10,
   "id": "87824466",
   "metadata": {},
   "outputs": [],
   "source": [
    "res_split = train_test_split(X, y, random_state=22, shuffle=False)\n",
    "X_train, X_test, y_train, y_test = res_split"
   ]
  },
  {
   "cell_type": "code",
   "execution_count": null,
   "id": "096fe7a9",
   "metadata": {},
   "outputs": [],
   "source": []
  }
 ],
 "metadata": {
  "kernelspec": {
   "display_name": ".venv",
   "language": "python",
   "name": "python3"
  },
  "language_info": {
   "codemirror_mode": {
    "name": "ipython",
    "version": 3
   },
   "file_extension": ".py",
   "mimetype": "text/x-python",
   "name": "python",
   "nbconvert_exporter": "python",
   "pygments_lexer": "ipython3",
   "version": "3.13.1"
  }
 },
 "nbformat": 4,
 "nbformat_minor": 5
}
